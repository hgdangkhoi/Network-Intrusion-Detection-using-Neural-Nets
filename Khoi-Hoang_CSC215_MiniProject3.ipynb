{
 "cells": [
  {
   "cell_type": "markdown",
   "metadata": {},
   "source": [
    "# CSC 215 - MiniProject 3\n",
    "## Khoi Hoang"
   ]
  },
  {
   "cell_type": "code",
   "execution_count": 1,
   "metadata": {},
   "outputs": [],
   "source": [
    "import os\n",
    "import csv\n",
    "import json\n",
    "import numpy as np\n",
    "import pandas as pd\n",
    "import matplotlib.pyplot as plt\n",
    "import collections\n",
    "import sklearn.feature_extraction.text as sk_text\n",
    "import scipy as sp\n",
    "import math\n",
    "from scipy.stats import zscore\n",
    "from sklearn import preprocessing\n",
    "from sklearn.model_selection import train_test_split\n",
    "from sklearn import metrics\n",
    "from sklearn.metrics import roc_curve, auc\n",
    "from sklearn import svm, datasets\n",
    "from sklearn.metrics import confusion_matrix, classification_report\n",
    "from matplotlib.pyplot import figure, show\n",
    "from IPython.display import Markdown, display\n",
    "from sklearn import metrics\n",
    "\n",
    "%matplotlib inline"
   ]
  },
  {
   "cell_type": "code",
   "execution_count": 2,
   "metadata": {},
   "outputs": [],
   "source": [
    "# Encode text values to dummy variables(i.e. [1,0,0],[0,1,0],[0,0,1] for red,green,blue)\n",
    "def encode_text_dummy(df, name):\n",
    "    dummies = pd.get_dummies(df[name])\n",
    "    for x in dummies.columns:\n",
    "        dummy_name = \"{}-{}\".format(name, x)\n",
    "        df[dummy_name] = dummies[x]\n",
    "    df.drop(name, axis=1, inplace=True)\n",
    "\n",
    "# Encode text values to indexes(i.e. [1],[2],[3] for red,green,blue).\n",
    "def encode_text_index(df, name):\n",
    "    le = preprocessing.LabelEncoder()\n",
    "    df[name] = le.fit_transform(df[name])\n",
    "    return le.classes_\n",
    "\n",
    "# Encode a numeric column as zscores\n",
    "def encode_numeric_zscore(df, name, mean=None, sd=None):\n",
    "    if mean is None:\n",
    "        mean = df[name].mean()\n",
    "\n",
    "    if sd is None:\n",
    "        sd = df[name].std()\n",
    "\n",
    "    df[name] = (df[name] - mean) / sd\n",
    "    \n",
    "# Convert all missing values in the specified column to the median\n",
    "def missing_median(df, name):\n",
    "    med = df[name].median()\n",
    "    df[name] = df[name].fillna(med)    \n",
    "\n",
    "# Regression chart.\n",
    "def chart_regression(pred,y,sort=True):\n",
    "    t = pd.DataFrame({'pred' : pred, 'y' : y.flatten()})\n",
    "    if sort:\n",
    "        t.sort_values(by=['y'],inplace=True)\n",
    "    a = plt.plot(t['y'].tolist(),label='expected')\n",
    "    b = plt.plot(t['pred'].tolist(),label='prediction')\n",
    "    plt.ylabel('output')\n",
    "    plt.legend()\n",
    "    plt.show()    \n",
    "    \n",
    "# Convert a Pandas dataframe to the x,y inputs that TensorFlow needs\n",
    "def to_xy(df, target):\n",
    "    result = []\n",
    "    for x in df.columns:\n",
    "        if x != target:\n",
    "            result.append(x)\n",
    "    # find out the type of the target column. \n",
    "    target_type = df[target].dtypes\n",
    "    target_type = target_type[0] if isinstance(target_type, collections.Sequence) else target_type\n",
    "    # Encode to int for classification, float otherwise. TensorFlow likes 32 bits.\n",
    "    if target_type in (np.int64, np.int32):\n",
    "        # Classification\n",
    "        dummies = pd.get_dummies(df[target])\n",
    "        return df[result].values.astype(np.float32), dummies.values.astype(np.float32)\n",
    "    else:\n",
    "        # Regression\n",
    "        return df[result].values.astype(np.float32), df[target].values.astype(np.float32)\n",
    "\n",
    "# Plot a confusion matrix.\n",
    "# cm is the confusion matrix, names are the names of the classes.\n",
    "def plot_confusion_matrix(cm, names, title='Confusion matrix', cmap=plt.cm.Blues):\n",
    "    plt.imshow(cm, interpolation='nearest', cmap=cmap)\n",
    "    plt.title(title)\n",
    "    plt.colorbar()\n",
    "    tick_marks = np.arange(len(names))\n",
    "    plt.xticks(tick_marks, names, rotation=90)\n",
    "    plt.yticks(tick_marks, names)\n",
    "    plt.tight_layout()\n",
    "    plt.ylabel('True label')\n",
    "    plt.xlabel('Predicted label')\n",
    "    \n",
    "\n",
    "# Plot an ROC. pred - the predictions, y - the expected output.\n",
    "def plot_roc(pred,y):\n",
    "    fpr, tpr, thresholds = roc_curve(y, pred)\n",
    "    roc_auc = auc(fpr, tpr)\n",
    "\n",
    "    plt.figure()\n",
    "    plt.plot(fpr, tpr, label='ROC curve (area = %0.2f)' % roc_auc)\n",
    "    plt.plot([0, 1], [0, 1], 'k--')\n",
    "    plt.xlim([0.0, 1.0])\n",
    "    plt.ylim([0.0, 1.05])\n",
    "    plt.xlabel('False Positive Rate')\n",
    "    plt.ylabel('True Positive Rate')\n",
    "    plt.title('Receiver Operating Characteristic (ROC)')\n",
    "    plt.legend(loc=\"lower right\")\n",
    "    plt.show()\n",
    "    \n",
    "# Print markdown style\n",
    "def printmd(string):\n",
    "    display(Markdown(string))\n",
    "    \n",
    "# feature rank\n",
    "def perturbation_rank(model, x, y, names, regression):\n",
    "    errors = []\n",
    "\n",
    "    for i in range(x.shape[1]):\n",
    "        hold = np.array(x[:, i])\n",
    "        np.random.shuffle(x[:, i])\n",
    "        \n",
    "        if regression:\n",
    "            pred = model.predict(x)\n",
    "            error = metrics.mean_squared_error(y, pred)\n",
    "        else:\n",
    "            pred = model.predict_proba(x)\n",
    "            error = metrics.log_loss(y, pred)\n",
    "            \n",
    "        errors.append(error)\n",
    "        x[:, i] = hold\n",
    "        \n",
    "    max_error = np.max(errors)\n",
    "    importance = [e/max_error for e in errors]\n",
    "\n",
    "    data = {'name':names,'error':errors,'importance':importance}\n",
    "    result = pd.DataFrame(data, columns = ['name','error','importance'])\n",
    "    result.sort_values(by=['importance'], ascending=[0], inplace=True)\n",
    "    result.reset_index(inplace=True, drop=True)\n",
    "    return result"
   ]
  },
  {
   "cell_type": "markdown",
   "metadata": {},
   "source": [
    "## Data Proprocessing\n",
    "- Add columns labels to original data\n",
    "- Remove irrelevant columns (all values are the same)\n",
    "- Binary Classification - Encode good connection as 0, attack as 1"
   ]
  },
  {
   "cell_type": "code",
   "execution_count": 3,
   "metadata": {},
   "outputs": [],
   "source": [
    "df = pd.read_csv('network_intrusion_data.csv')\n",
    "df.columns = [\n",
    " 'duration',\n",
    " 'protocol_type',\n",
    " 'service',\n",
    " 'flag',\n",
    " 'src_bytes',\n",
    " 'dst_bytes',\n",
    " 'land',\n",
    " 'wrong_fragment',\n",
    " 'urgent',\n",
    " 'hot',\n",
    " 'num_failed_logins',\n",
    " 'logged_in',\n",
    " 'num_compromised',\n",
    " 'root_shell',\n",
    " 'su_attempted',\n",
    " 'num_root',\n",
    " 'num_file_creations',\n",
    " 'num_shells',\n",
    " 'num_access_files',\n",
    " 'num_outbound_cmds',\n",
    " 'is_host_login',\n",
    " 'is_guest_login',\n",
    " 'count',\n",
    " 'srv_count',\n",
    " 'serror_rate',\n",
    " 'srv_serror_rate',\n",
    " 'rerror_rate',\n",
    " 'srv_rerror_rate',\n",
    " 'same_srv_rate',\n",
    " 'diff_srv_rate',\n",
    " 'srv_diff_host_rate',\n",
    " 'dst_host_count',\n",
    " 'dst_host_srv_count',\n",
    " 'dst_host_same_srv_rate',\n",
    " 'dst_host_diff_srv_rate',\n",
    " 'dst_host_same_src_port_rate',\n",
    " 'dst_host_srv_diff_host_rate',\n",
    " 'dst_host_serror_rate',\n",
    " 'dst_host_srv_serror_rate',\n",
    " 'dst_host_rerror_rate',\n",
    " 'dst_host_srv_rerror_rate',\n",
    " 'outcome'\n",
    "]"
   ]
  },
  {
   "cell_type": "code",
   "execution_count": 4,
   "metadata": {},
   "outputs": [
    {
     "data": {
      "text/html": [
       "<div>\n",
       "<style scoped>\n",
       "    .dataframe tbody tr th:only-of-type {\n",
       "        vertical-align: middle;\n",
       "    }\n",
       "\n",
       "    .dataframe tbody tr th {\n",
       "        vertical-align: top;\n",
       "    }\n",
       "\n",
       "    .dataframe thead th {\n",
       "        text-align: right;\n",
       "    }\n",
       "</style>\n",
       "<table border=\"1\" class=\"dataframe\">\n",
       "  <thead>\n",
       "    <tr style=\"text-align: right;\">\n",
       "      <th></th>\n",
       "      <th>duration</th>\n",
       "      <th>protocol_type</th>\n",
       "      <th>service</th>\n",
       "      <th>flag</th>\n",
       "      <th>src_bytes</th>\n",
       "      <th>dst_bytes</th>\n",
       "      <th>land</th>\n",
       "      <th>wrong_fragment</th>\n",
       "      <th>urgent</th>\n",
       "      <th>hot</th>\n",
       "      <th>...</th>\n",
       "      <th>dst_host_srv_count</th>\n",
       "      <th>dst_host_same_srv_rate</th>\n",
       "      <th>dst_host_diff_srv_rate</th>\n",
       "      <th>dst_host_same_src_port_rate</th>\n",
       "      <th>dst_host_srv_diff_host_rate</th>\n",
       "      <th>dst_host_serror_rate</th>\n",
       "      <th>dst_host_srv_serror_rate</th>\n",
       "      <th>dst_host_rerror_rate</th>\n",
       "      <th>dst_host_srv_rerror_rate</th>\n",
       "      <th>outcome</th>\n",
       "    </tr>\n",
       "  </thead>\n",
       "  <tbody>\n",
       "    <tr>\n",
       "      <th>0</th>\n",
       "      <td>0</td>\n",
       "      <td>tcp</td>\n",
       "      <td>http</td>\n",
       "      <td>SF</td>\n",
       "      <td>239</td>\n",
       "      <td>486</td>\n",
       "      <td>0</td>\n",
       "      <td>0</td>\n",
       "      <td>0</td>\n",
       "      <td>0</td>\n",
       "      <td>...</td>\n",
       "      <td>19</td>\n",
       "      <td>1.0</td>\n",
       "      <td>0.0</td>\n",
       "      <td>0.05</td>\n",
       "      <td>0.0</td>\n",
       "      <td>0.0</td>\n",
       "      <td>0.0</td>\n",
       "      <td>0.0</td>\n",
       "      <td>0.0</td>\n",
       "      <td>normal.</td>\n",
       "    </tr>\n",
       "    <tr>\n",
       "      <th>1</th>\n",
       "      <td>0</td>\n",
       "      <td>tcp</td>\n",
       "      <td>http</td>\n",
       "      <td>SF</td>\n",
       "      <td>235</td>\n",
       "      <td>1337</td>\n",
       "      <td>0</td>\n",
       "      <td>0</td>\n",
       "      <td>0</td>\n",
       "      <td>0</td>\n",
       "      <td>...</td>\n",
       "      <td>29</td>\n",
       "      <td>1.0</td>\n",
       "      <td>0.0</td>\n",
       "      <td>0.03</td>\n",
       "      <td>0.0</td>\n",
       "      <td>0.0</td>\n",
       "      <td>0.0</td>\n",
       "      <td>0.0</td>\n",
       "      <td>0.0</td>\n",
       "      <td>normal.</td>\n",
       "    </tr>\n",
       "    <tr>\n",
       "      <th>2</th>\n",
       "      <td>0</td>\n",
       "      <td>tcp</td>\n",
       "      <td>http</td>\n",
       "      <td>SF</td>\n",
       "      <td>219</td>\n",
       "      <td>1337</td>\n",
       "      <td>0</td>\n",
       "      <td>0</td>\n",
       "      <td>0</td>\n",
       "      <td>0</td>\n",
       "      <td>...</td>\n",
       "      <td>39</td>\n",
       "      <td>1.0</td>\n",
       "      <td>0.0</td>\n",
       "      <td>0.03</td>\n",
       "      <td>0.0</td>\n",
       "      <td>0.0</td>\n",
       "      <td>0.0</td>\n",
       "      <td>0.0</td>\n",
       "      <td>0.0</td>\n",
       "      <td>normal.</td>\n",
       "    </tr>\n",
       "    <tr>\n",
       "      <th>3</th>\n",
       "      <td>0</td>\n",
       "      <td>tcp</td>\n",
       "      <td>http</td>\n",
       "      <td>SF</td>\n",
       "      <td>217</td>\n",
       "      <td>2032</td>\n",
       "      <td>0</td>\n",
       "      <td>0</td>\n",
       "      <td>0</td>\n",
       "      <td>0</td>\n",
       "      <td>...</td>\n",
       "      <td>49</td>\n",
       "      <td>1.0</td>\n",
       "      <td>0.0</td>\n",
       "      <td>0.02</td>\n",
       "      <td>0.0</td>\n",
       "      <td>0.0</td>\n",
       "      <td>0.0</td>\n",
       "      <td>0.0</td>\n",
       "      <td>0.0</td>\n",
       "      <td>normal.</td>\n",
       "    </tr>\n",
       "    <tr>\n",
       "      <th>4</th>\n",
       "      <td>0</td>\n",
       "      <td>tcp</td>\n",
       "      <td>http</td>\n",
       "      <td>SF</td>\n",
       "      <td>217</td>\n",
       "      <td>2032</td>\n",
       "      <td>0</td>\n",
       "      <td>0</td>\n",
       "      <td>0</td>\n",
       "      <td>0</td>\n",
       "      <td>...</td>\n",
       "      <td>59</td>\n",
       "      <td>1.0</td>\n",
       "      <td>0.0</td>\n",
       "      <td>0.02</td>\n",
       "      <td>0.0</td>\n",
       "      <td>0.0</td>\n",
       "      <td>0.0</td>\n",
       "      <td>0.0</td>\n",
       "      <td>0.0</td>\n",
       "      <td>normal.</td>\n",
       "    </tr>\n",
       "  </tbody>\n",
       "</table>\n",
       "<p>5 rows × 42 columns</p>\n",
       "</div>"
      ],
      "text/plain": [
       "   duration protocol_type service flag  src_bytes  dst_bytes  land  \\\n",
       "0         0           tcp    http   SF        239        486     0   \n",
       "1         0           tcp    http   SF        235       1337     0   \n",
       "2         0           tcp    http   SF        219       1337     0   \n",
       "3         0           tcp    http   SF        217       2032     0   \n",
       "4         0           tcp    http   SF        217       2032     0   \n",
       "\n",
       "   wrong_fragment  urgent  hot  ...  dst_host_srv_count  \\\n",
       "0               0       0    0  ...                  19   \n",
       "1               0       0    0  ...                  29   \n",
       "2               0       0    0  ...                  39   \n",
       "3               0       0    0  ...                  49   \n",
       "4               0       0    0  ...                  59   \n",
       "\n",
       "   dst_host_same_srv_rate  dst_host_diff_srv_rate  \\\n",
       "0                     1.0                     0.0   \n",
       "1                     1.0                     0.0   \n",
       "2                     1.0                     0.0   \n",
       "3                     1.0                     0.0   \n",
       "4                     1.0                     0.0   \n",
       "\n",
       "   dst_host_same_src_port_rate  dst_host_srv_diff_host_rate  \\\n",
       "0                         0.05                          0.0   \n",
       "1                         0.03                          0.0   \n",
       "2                         0.03                          0.0   \n",
       "3                         0.02                          0.0   \n",
       "4                         0.02                          0.0   \n",
       "\n",
       "   dst_host_serror_rate  dst_host_srv_serror_rate  dst_host_rerror_rate  \\\n",
       "0                   0.0                       0.0                   0.0   \n",
       "1                   0.0                       0.0                   0.0   \n",
       "2                   0.0                       0.0                   0.0   \n",
       "3                   0.0                       0.0                   0.0   \n",
       "4                   0.0                       0.0                   0.0   \n",
       "\n",
       "   dst_host_srv_rerror_rate  outcome  \n",
       "0                       0.0  normal.  \n",
       "1                       0.0  normal.  \n",
       "2                       0.0  normal.  \n",
       "3                       0.0  normal.  \n",
       "4                       0.0  normal.  \n",
       "\n",
       "[5 rows x 42 columns]"
      ]
     },
     "execution_count": 4,
     "metadata": {},
     "output_type": "execute_result"
    }
   ],
   "source": [
    "df.head()"
   ]
  },
  {
   "cell_type": "code",
   "execution_count": 5,
   "metadata": {},
   "outputs": [
    {
     "data": {
      "text/plain": [
       "(494020, 42)"
      ]
     },
     "execution_count": 5,
     "metadata": {},
     "output_type": "execute_result"
    }
   ],
   "source": [
    "df.shape"
   ]
  },
  {
   "cell_type": "code",
   "execution_count": 6,
   "metadata": {},
   "outputs": [],
   "source": [
    "# df = df.loc[:, (df != 0).any(axis=0)] #drop columns with all 0\n",
    "unique_val = df.apply(pd.Series.nunique)\n",
    "cols_to_drop = unique_val[unique_val==1].index\n",
    "df = df.drop(cols_to_drop, axis=1)"
   ]
  },
  {
   "cell_type": "code",
   "execution_count": 7,
   "metadata": {},
   "outputs": [
    {
     "data": {
      "text/plain": [
       "(494020, 40)"
      ]
     },
     "execution_count": 7,
     "metadata": {},
     "output_type": "execute_result"
    }
   ],
   "source": [
    "df.shape"
   ]
  },
  {
   "cell_type": "code",
   "execution_count": 8,
   "metadata": {},
   "outputs": [],
   "source": [
    "# binary encode the outcome, 0 is good/normal and 1 is an attack\n",
    "df['outcome'] = df['outcome'].apply(lambda x: '0' if x == 'normal.' else '1')"
   ]
  },
  {
   "cell_type": "code",
   "execution_count": 9,
   "metadata": {},
   "outputs": [
    {
     "data": {
      "text/plain": [
       "(array(['0', '1'], dtype=object), array([ 97277, 396743], dtype=int64))"
      ]
     },
     "execution_count": 9,
     "metadata": {},
     "output_type": "execute_result"
    }
   ],
   "source": [
    "np.unique(df['outcome'].values,return_counts=True)"
   ]
  },
  {
   "cell_type": "code",
   "execution_count": 10,
   "metadata": {},
   "outputs": [
    {
     "data": {
      "text/html": [
       "<div>\n",
       "<style scoped>\n",
       "    .dataframe tbody tr th:only-of-type {\n",
       "        vertical-align: middle;\n",
       "    }\n",
       "\n",
       "    .dataframe tbody tr th {\n",
       "        vertical-align: top;\n",
       "    }\n",
       "\n",
       "    .dataframe thead th {\n",
       "        text-align: right;\n",
       "    }\n",
       "</style>\n",
       "<table border=\"1\" class=\"dataframe\">\n",
       "  <thead>\n",
       "    <tr style=\"text-align: right;\">\n",
       "      <th></th>\n",
       "      <th>duration</th>\n",
       "      <th>protocol_type</th>\n",
       "      <th>service</th>\n",
       "      <th>flag</th>\n",
       "      <th>src_bytes</th>\n",
       "      <th>dst_bytes</th>\n",
       "      <th>land</th>\n",
       "      <th>wrong_fragment</th>\n",
       "      <th>urgent</th>\n",
       "      <th>hot</th>\n",
       "      <th>...</th>\n",
       "      <th>dst_host_srv_count</th>\n",
       "      <th>dst_host_same_srv_rate</th>\n",
       "      <th>dst_host_diff_srv_rate</th>\n",
       "      <th>dst_host_same_src_port_rate</th>\n",
       "      <th>dst_host_srv_diff_host_rate</th>\n",
       "      <th>dst_host_serror_rate</th>\n",
       "      <th>dst_host_srv_serror_rate</th>\n",
       "      <th>dst_host_rerror_rate</th>\n",
       "      <th>dst_host_srv_rerror_rate</th>\n",
       "      <th>outcome</th>\n",
       "    </tr>\n",
       "  </thead>\n",
       "  <tbody>\n",
       "    <tr>\n",
       "      <th>0</th>\n",
       "      <td>0</td>\n",
       "      <td>tcp</td>\n",
       "      <td>http</td>\n",
       "      <td>SF</td>\n",
       "      <td>239</td>\n",
       "      <td>486</td>\n",
       "      <td>0</td>\n",
       "      <td>0</td>\n",
       "      <td>0</td>\n",
       "      <td>0</td>\n",
       "      <td>...</td>\n",
       "      <td>19</td>\n",
       "      <td>1.0</td>\n",
       "      <td>0.0</td>\n",
       "      <td>0.05</td>\n",
       "      <td>0.0</td>\n",
       "      <td>0.0</td>\n",
       "      <td>0.0</td>\n",
       "      <td>0.0</td>\n",
       "      <td>0.0</td>\n",
       "      <td>0</td>\n",
       "    </tr>\n",
       "    <tr>\n",
       "      <th>1</th>\n",
       "      <td>0</td>\n",
       "      <td>tcp</td>\n",
       "      <td>http</td>\n",
       "      <td>SF</td>\n",
       "      <td>235</td>\n",
       "      <td>1337</td>\n",
       "      <td>0</td>\n",
       "      <td>0</td>\n",
       "      <td>0</td>\n",
       "      <td>0</td>\n",
       "      <td>...</td>\n",
       "      <td>29</td>\n",
       "      <td>1.0</td>\n",
       "      <td>0.0</td>\n",
       "      <td>0.03</td>\n",
       "      <td>0.0</td>\n",
       "      <td>0.0</td>\n",
       "      <td>0.0</td>\n",
       "      <td>0.0</td>\n",
       "      <td>0.0</td>\n",
       "      <td>0</td>\n",
       "    </tr>\n",
       "    <tr>\n",
       "      <th>2</th>\n",
       "      <td>0</td>\n",
       "      <td>tcp</td>\n",
       "      <td>http</td>\n",
       "      <td>SF</td>\n",
       "      <td>219</td>\n",
       "      <td>1337</td>\n",
       "      <td>0</td>\n",
       "      <td>0</td>\n",
       "      <td>0</td>\n",
       "      <td>0</td>\n",
       "      <td>...</td>\n",
       "      <td>39</td>\n",
       "      <td>1.0</td>\n",
       "      <td>0.0</td>\n",
       "      <td>0.03</td>\n",
       "      <td>0.0</td>\n",
       "      <td>0.0</td>\n",
       "      <td>0.0</td>\n",
       "      <td>0.0</td>\n",
       "      <td>0.0</td>\n",
       "      <td>0</td>\n",
       "    </tr>\n",
       "    <tr>\n",
       "      <th>3</th>\n",
       "      <td>0</td>\n",
       "      <td>tcp</td>\n",
       "      <td>http</td>\n",
       "      <td>SF</td>\n",
       "      <td>217</td>\n",
       "      <td>2032</td>\n",
       "      <td>0</td>\n",
       "      <td>0</td>\n",
       "      <td>0</td>\n",
       "      <td>0</td>\n",
       "      <td>...</td>\n",
       "      <td>49</td>\n",
       "      <td>1.0</td>\n",
       "      <td>0.0</td>\n",
       "      <td>0.02</td>\n",
       "      <td>0.0</td>\n",
       "      <td>0.0</td>\n",
       "      <td>0.0</td>\n",
       "      <td>0.0</td>\n",
       "      <td>0.0</td>\n",
       "      <td>0</td>\n",
       "    </tr>\n",
       "    <tr>\n",
       "      <th>4</th>\n",
       "      <td>0</td>\n",
       "      <td>tcp</td>\n",
       "      <td>http</td>\n",
       "      <td>SF</td>\n",
       "      <td>217</td>\n",
       "      <td>2032</td>\n",
       "      <td>0</td>\n",
       "      <td>0</td>\n",
       "      <td>0</td>\n",
       "      <td>0</td>\n",
       "      <td>...</td>\n",
       "      <td>59</td>\n",
       "      <td>1.0</td>\n",
       "      <td>0.0</td>\n",
       "      <td>0.02</td>\n",
       "      <td>0.0</td>\n",
       "      <td>0.0</td>\n",
       "      <td>0.0</td>\n",
       "      <td>0.0</td>\n",
       "      <td>0.0</td>\n",
       "      <td>0</td>\n",
       "    </tr>\n",
       "  </tbody>\n",
       "</table>\n",
       "<p>5 rows × 40 columns</p>\n",
       "</div>"
      ],
      "text/plain": [
       "   duration protocol_type service flag  src_bytes  dst_bytes  land  \\\n",
       "0         0           tcp    http   SF        239        486     0   \n",
       "1         0           tcp    http   SF        235       1337     0   \n",
       "2         0           tcp    http   SF        219       1337     0   \n",
       "3         0           tcp    http   SF        217       2032     0   \n",
       "4         0           tcp    http   SF        217       2032     0   \n",
       "\n",
       "   wrong_fragment  urgent  hot  ...  dst_host_srv_count  \\\n",
       "0               0       0    0  ...                  19   \n",
       "1               0       0    0  ...                  29   \n",
       "2               0       0    0  ...                  39   \n",
       "3               0       0    0  ...                  49   \n",
       "4               0       0    0  ...                  59   \n",
       "\n",
       "   dst_host_same_srv_rate  dst_host_diff_srv_rate  \\\n",
       "0                     1.0                     0.0   \n",
       "1                     1.0                     0.0   \n",
       "2                     1.0                     0.0   \n",
       "3                     1.0                     0.0   \n",
       "4                     1.0                     0.0   \n",
       "\n",
       "   dst_host_same_src_port_rate  dst_host_srv_diff_host_rate  \\\n",
       "0                         0.05                          0.0   \n",
       "1                         0.03                          0.0   \n",
       "2                         0.03                          0.0   \n",
       "3                         0.02                          0.0   \n",
       "4                         0.02                          0.0   \n",
       "\n",
       "   dst_host_serror_rate  dst_host_srv_serror_rate  dst_host_rerror_rate  \\\n",
       "0                   0.0                       0.0                   0.0   \n",
       "1                   0.0                       0.0                   0.0   \n",
       "2                   0.0                       0.0                   0.0   \n",
       "3                   0.0                       0.0                   0.0   \n",
       "4                   0.0                       0.0                   0.0   \n",
       "\n",
       "   dst_host_srv_rerror_rate  outcome  \n",
       "0                       0.0        0  \n",
       "1                       0.0        0  \n",
       "2                       0.0        0  \n",
       "3                       0.0        0  \n",
       "4                       0.0        0  \n",
       "\n",
       "[5 rows x 40 columns]"
      ]
     },
     "execution_count": 10,
     "metadata": {},
     "output_type": "execute_result"
    }
   ],
   "source": [
    "df.head()"
   ]
  },
  {
   "cell_type": "code",
   "execution_count": 11,
   "metadata": {},
   "outputs": [],
   "source": [
    "df.drop_duplicates(keep='first', inplace=True)"
   ]
  },
  {
   "cell_type": "code",
   "execution_count": 12,
   "metadata": {},
   "outputs": [
    {
     "data": {
      "text/plain": [
       "(145584, 40)"
      ]
     },
     "execution_count": 12,
     "metadata": {},
     "output_type": "execute_result"
    }
   ],
   "source": [
    "df.shape"
   ]
  },
  {
   "cell_type": "code",
   "execution_count": 13,
   "metadata": {},
   "outputs": [
    {
     "data": {
      "text/plain": [
       "(array(['0', '1'], dtype=object), array([87831, 57753], dtype=int64))"
      ]
     },
     "execution_count": 13,
     "metadata": {},
     "output_type": "execute_result"
    }
   ],
   "source": [
    "np.unique(df['outcome'].values,return_counts=True)\n",
    "#df.dtypes"
   ]
  },
  {
   "cell_type": "markdown",
   "metadata": {},
   "source": [
    "## Data normalization\n",
    "- Normalize numeric data (int64, float64 type)\n",
    "- Label encode symbolic data (object)\n",
    "\n",
    "Data is now ready to be plugged into sklearn models!"
   ]
  },
  {
   "cell_type": "code",
   "execution_count": 14,
   "metadata": {},
   "outputs": [
    {
     "name": "stderr",
     "output_type": "stream",
     "text": [
      "C:\\Users\\hgdan\\Anaconda3\\envs\\tf-gpu\\lib\\site-packages\\sklearn\\preprocessing\\data.py:625: DataConversionWarning: Data with input dtype int64, float64 were all converted to float64 by StandardScaler.\n",
      "  return self.partial_fit(X, y)\n",
      "C:\\Users\\hgdan\\Anaconda3\\envs\\tf-gpu\\lib\\site-packages\\sklearn\\base.py:462: DataConversionWarning: Data with input dtype int64, float64 were all converted to float64 by StandardScaler.\n",
      "  return self.fit(X, **fit_params).transform(X)\n"
     ]
    }
   ],
   "source": [
    "scaler = preprocessing.StandardScaler()\n",
    "\n",
    "cols_to_normalize = df.select_dtypes(include=['int64', 'float64']).columns\n",
    "numeric_features = scaler.fit_transform(df.select_dtypes(include=['float64','int64']))\n",
    "\n",
    "numeric_features = pd.DataFrame(numeric_features, columns=cols_to_normalize)"
   ]
  },
  {
   "cell_type": "code",
   "execution_count": 15,
   "metadata": {},
   "outputs": [
    {
     "data": {
      "text/plain": [
       "(145584, 36)"
      ]
     },
     "execution_count": 15,
     "metadata": {},
     "output_type": "execute_result"
    }
   ],
   "source": [
    "numeric_features.shape"
   ]
  },
  {
   "cell_type": "code",
   "execution_count": 16,
   "metadata": {},
   "outputs": [],
   "source": [
    "scaler = preprocessing.LabelEncoder()\n",
    "\n",
    "cols_to_encode = df.select_dtypes(include=['object']).columns\n",
    "label_features = df.select_dtypes(include=['object']).apply(scaler.fit_transform)\n",
    "\n",
    "label_features = pd.DataFrame(label_features, columns=cols_to_encode)"
   ]
  },
  {
   "cell_type": "code",
   "execution_count": 17,
   "metadata": {},
   "outputs": [
    {
     "data": {
      "text/html": [
       "<div>\n",
       "<style scoped>\n",
       "    .dataframe tbody tr th:only-of-type {\n",
       "        vertical-align: middle;\n",
       "    }\n",
       "\n",
       "    .dataframe tbody tr th {\n",
       "        vertical-align: top;\n",
       "    }\n",
       "\n",
       "    .dataframe thead th {\n",
       "        text-align: right;\n",
       "    }\n",
       "</style>\n",
       "<table border=\"1\" class=\"dataframe\">\n",
       "  <thead>\n",
       "    <tr style=\"text-align: right;\">\n",
       "      <th></th>\n",
       "      <th>protocol_type</th>\n",
       "      <th>service</th>\n",
       "      <th>flag</th>\n",
       "      <th>outcome</th>\n",
       "    </tr>\n",
       "  </thead>\n",
       "  <tbody>\n",
       "    <tr>\n",
       "      <th>0</th>\n",
       "      <td>1</td>\n",
       "      <td>22</td>\n",
       "      <td>9</td>\n",
       "      <td>0</td>\n",
       "    </tr>\n",
       "    <tr>\n",
       "      <th>1</th>\n",
       "      <td>1</td>\n",
       "      <td>22</td>\n",
       "      <td>9</td>\n",
       "      <td>0</td>\n",
       "    </tr>\n",
       "    <tr>\n",
       "      <th>2</th>\n",
       "      <td>1</td>\n",
       "      <td>22</td>\n",
       "      <td>9</td>\n",
       "      <td>0</td>\n",
       "    </tr>\n",
       "    <tr>\n",
       "      <th>3</th>\n",
       "      <td>1</td>\n",
       "      <td>22</td>\n",
       "      <td>9</td>\n",
       "      <td>0</td>\n",
       "    </tr>\n",
       "    <tr>\n",
       "      <th>4</th>\n",
       "      <td>1</td>\n",
       "      <td>22</td>\n",
       "      <td>9</td>\n",
       "      <td>0</td>\n",
       "    </tr>\n",
       "  </tbody>\n",
       "</table>\n",
       "</div>"
      ],
      "text/plain": [
       "   protocol_type  service  flag  outcome\n",
       "0              1       22     9        0\n",
       "1              1       22     9        0\n",
       "2              1       22     9        0\n",
       "3              1       22     9        0\n",
       "4              1       22     9        0"
      ]
     },
     "execution_count": 17,
     "metadata": {},
     "output_type": "execute_result"
    }
   ],
   "source": [
    "label_features.head()"
   ]
  },
  {
   "cell_type": "code",
   "execution_count": 18,
   "metadata": {},
   "outputs": [],
   "source": [
    "label_features.drop(columns=['outcome'], inplace=True)"
   ]
  },
  {
   "cell_type": "code",
   "execution_count": 19,
   "metadata": {},
   "outputs": [
    {
     "data": {
      "text/plain": [
       "(145584, 3)"
      ]
     },
     "execution_count": 19,
     "metadata": {},
     "output_type": "execute_result"
    }
   ],
   "source": [
    "label_features.shape"
   ]
  },
  {
   "cell_type": "code",
   "execution_count": 20,
   "metadata": {},
   "outputs": [
    {
     "data": {
      "text/plain": [
       "(145584, 39)"
      ]
     },
     "execution_count": 20,
     "metadata": {},
     "output_type": "execute_result"
    }
   ],
   "source": [
    "numeric_features.reset_index(drop=True, inplace=True)\n",
    "label_features.reset_index(drop=True, inplace=True)\n",
    "input_data = pd.concat([numeric_features, label_features], axis=1)\n",
    "input_data.shape"
   ]
  },
  {
   "cell_type": "code",
   "execution_count": 21,
   "metadata": {},
   "outputs": [
    {
     "data": {
      "text/plain": [
       "(145584,)"
      ]
     },
     "execution_count": 21,
     "metadata": {},
     "output_type": "execute_result"
    }
   ],
   "source": [
    "output_data = df['outcome']\n",
    "output_data.shape"
   ]
  },
  {
   "cell_type": "markdown",
   "metadata": {},
   "source": [
    "# Sklearn models"
   ]
  },
  {
   "cell_type": "code",
   "execution_count": 22,
   "metadata": {},
   "outputs": [],
   "source": [
    "# split into train/test set\n",
    "x_train, x_test, y_train, y_test = train_test_split(input_data, output_data, test_size=0.25, random_state=43)"
   ]
  },
  {
   "cell_type": "code",
   "execution_count": 23,
   "metadata": {},
   "outputs": [
    {
     "data": {
      "text/plain": [
       "GaussianNB(priors=None, var_smoothing=1e-09)"
      ]
     },
     "execution_count": 23,
     "metadata": {},
     "output_type": "execute_result"
    }
   ],
   "source": [
    "from sklearn.linear_model import LogisticRegression\n",
    "from sklearn.svm import LinearSVC\n",
    "from sklearn.neighbors import KNeighborsClassifier\n",
    "from sklearn.naive_bayes import GaussianNB\n",
    "\n",
    "# Initiate and train all the models\n",
    "logreg = LogisticRegression(solver='liblinear')\n",
    "logreg.fit(x_train, y_train)\n",
    "\n",
    "svc = LinearSVC(dual=False)\n",
    "svc.fit(x_train, y_train)\n",
    "\n",
    "knn = KNeighborsClassifier(n_neighbors=10)\n",
    "knn.fit(x_train, y_train)\n",
    "\n",
    "gnb = GaussianNB()\n",
    "gnb.fit(x_train, y_train)"
   ]
  },
  {
   "cell_type": "code",
   "execution_count": 24,
   "metadata": {},
   "outputs": [
    {
     "data": {
      "text/markdown": [
       "-----------------**Logistic Regression Report**---------------"
      ],
      "text/plain": [
       "<IPython.core.display.Markdown object>"
      ]
     },
     "metadata": {},
     "output_type": "display_data"
    },
    {
     "name": "stdout",
     "output_type": "stream",
     "text": [
      "F1 score: 0.9879291734906172\n",
      "Confusion matrix: \n",
      " [[21785   157]\n",
      " [  282 14172]]\n",
      "Plotting confusion matrix\n"
     ]
    },
    {
     "data": {
      "image/png": "[encoded data removed]",
      "text/plain": [
       "<Figure size 432x288 with 2 Axes>"
      ]
     },
     "metadata": {
      "needs_background": "light"
     },
     "output_type": "display_data"
    },
    {
     "name": "stdout",
     "output_type": "stream",
     "text": [
      "              precision    recall  f1-score   support\n",
      "\n",
      "           0       0.99      0.99      0.99     21942\n",
      "           1       0.99      0.98      0.98     14454\n",
      "\n",
      "   micro avg       0.99      0.99      0.99     36396\n",
      "   macro avg       0.99      0.99      0.99     36396\n",
      "weighted avg       0.99      0.99      0.99     36396\n",
      "\n"
     ]
    },
    {
     "data": {
      "image/png": "[encoded data removed]",
      "text/plain": [
       "<Figure size 432x288 with 1 Axes>"
      ]
     },
     "metadata": {
      "needs_background": "light"
     },
     "output_type": "display_data"
    }
   ],
   "source": [
    "y_pred_Logistic = logreg.predict(x_test)\n",
    "logistic_f1 = metrics.f1_score(y_test, y_pred_Logistic, average= \"weighted\")\n",
    "logistic_cm = confusion_matrix(y_test, y_pred_Logistic)\n",
    "printmd(\"-----------------**Logistic Regression Report**---------------\")\n",
    "print(\"F1 score: {}\".format(logistic_f1))\n",
    "print(\"Confusion matrix: \\n\", logistic_cm)\n",
    "print('Plotting confusion matrix')\n",
    "\n",
    "plt.figure()\n",
    "plot_confusion_matrix(logistic_cm, ['Normal', 'Attack'])\n",
    "plt.show()\n",
    "\n",
    "print(classification_report(y_test, y_pred_Logistic))\n",
    "\n",
    "plot_roc(y_pred_Logistic.astype(np.int), y_test.astype(np.int))"
   ]
  },
  {
   "cell_type": "code",
   "execution_count": 25,
   "metadata": {},
   "outputs": [
    {
     "data": {
      "text/plain": [
       "array([1, 0, 0, ..., 0, 1, 0])"
      ]
     },
     "execution_count": 25,
     "metadata": {},
     "output_type": "execute_result"
    }
   ],
   "source": [
    "y_pred_Logistic.astype(np.int)"
   ]
  },
  {
   "cell_type": "code",
   "execution_count": 26,
   "metadata": {},
   "outputs": [
    {
     "data": {
      "text/markdown": [
       "-----------------**SVM Report**---------------"
      ],
      "text/plain": [
       "<IPython.core.display.Markdown object>"
      ]
     },
     "metadata": {},
     "output_type": "display_data"
    },
    {
     "name": "stdout",
     "output_type": "stream",
     "text": [
      "F1 score: 0.9845662371075575\n",
      "Confusion matrix: \n",
      " [[21768   174]\n",
      " [  387 14067]]\n",
      "Plotting confusion matrix\n"
     ]
    },
    {
     "data": {
      "image/png": "[encoded data removed]",
      "text/plain": [
       "<Figure size 432x288 with 2 Axes>"
      ]
     },
     "metadata": {
      "needs_background": "light"
     },
     "output_type": "display_data"
    },
    {
     "name": "stdout",
     "output_type": "stream",
     "text": [
      "              precision    recall  f1-score   support\n",
      "\n",
      "           0       0.98      0.99      0.99     21942\n",
      "           1       0.99      0.97      0.98     14454\n",
      "\n",
      "   micro avg       0.98      0.98      0.98     36396\n",
      "   macro avg       0.99      0.98      0.98     36396\n",
      "weighted avg       0.98      0.98      0.98     36396\n",
      "\n"
     ]
    },
    {
     "data": {
      "image/png": "[encoded data removed]",
      "text/plain": [
       "<Figure size 432x288 with 1 Axes>"
      ]
     },
     "metadata": {
      "needs_background": "light"
     },
     "output_type": "display_data"
    }
   ],
   "source": [
    "y_pred_svc = svc.predict(x_test)\n",
    "svc_f1 = metrics.f1_score(y_test, y_pred_svc, average= \"weighted\")\n",
    "svc_cm = confusion_matrix(y_test, y_pred_svc)\n",
    "printmd(\"-----------------**SVM Report**---------------\")\n",
    "print(\"F1 score: {}\".format(svc_f1))\n",
    "print(\"Confusion matrix: \\n\", svc_cm)\n",
    "print('Plotting confusion matrix')\n",
    "\n",
    "plt.figure()\n",
    "plot_confusion_matrix(svc_cm, ['Normal', 'Attack'])\n",
    "plt.show()\n",
    "\n",
    "print(classification_report(y_test, y_pred_svc))\n",
    "\n",
    "plot_roc(y_pred_svc.astype(np.int), y_test.astype(np.int))"
   ]
  },
  {
   "cell_type": "code",
   "execution_count": 27,
   "metadata": {},
   "outputs": [
    {
     "data": {
      "text/markdown": [
       "-----------------**KNN Report**---------------"
      ],
      "text/plain": [
       "<IPython.core.display.Markdown object>"
      ]
     },
     "metadata": {},
     "output_type": "display_data"
    },
    {
     "name": "stdout",
     "output_type": "stream",
     "text": [
      "F1 score: 0.9976089597579206\n",
      "Confusion matrix: \n",
      " [[21922    20]\n",
      " [   67 14387]]\n",
      "Plotting confusion matrix\n"
     ]
    },
    {
     "data": {
      "image/png": "[encoded data removed]",
      "text/plain": [
       "<Figure size 432x288 with 2 Axes>"
      ]
     },
     "metadata": {
      "needs_background": "light"
     },
     "output_type": "display_data"
    },
    {
     "name": "stdout",
     "output_type": "stream",
     "text": [
      "              precision    recall  f1-score   support\n",
      "\n",
      "           0       1.00      1.00      1.00     21942\n",
      "           1       1.00      1.00      1.00     14454\n",
      "\n",
      "   micro avg       1.00      1.00      1.00     36396\n",
      "   macro avg       1.00      1.00      1.00     36396\n",
      "weighted avg       1.00      1.00      1.00     36396\n",
      "\n"
     ]
    },
    {
     "data": {
      "image/png": "[encoded data removed]",
      "text/plain": [
       "<Figure size 432x288 with 1 Axes>"
      ]
     },
     "metadata": {
      "needs_background": "light"
     },
     "output_type": "display_data"
    }
   ],
   "source": [
    "y_pred_knn = knn.predict(x_test)\n",
    "knn_f1 = metrics.f1_score(y_test, y_pred_knn, average= \"weighted\")\n",
    "knn_cm = confusion_matrix(y_test, y_pred_knn)\n",
    "printmd(\"-----------------**KNN Report**---------------\")\n",
    "print(\"F1 score: {}\".format(knn_f1))\n",
    "print(\"Confusion matrix: \\n\", knn_cm)\n",
    "print('Plotting confusion matrix')\n",
    "\n",
    "plt.figure()\n",
    "plot_confusion_matrix(knn_cm, ['Normal', 'Attack'])\n",
    "plt.show()\n",
    "\n",
    "print(classification_report(y_test, y_pred_knn))\n",
    "\n",
    "plot_roc(y_pred_knn.astype(np.int), y_test.astype(np.int))"
   ]
  },
  {
   "cell_type": "code",
   "execution_count": 28,
   "metadata": {},
   "outputs": [
    {
     "data": {
      "text/markdown": [
       "-----------------**Gaussian Naive Bayes Report**---------------"
      ],
      "text/plain": [
       "<IPython.core.display.Markdown object>"
      ]
     },
     "metadata": {},
     "output_type": "display_data"
    },
    {
     "name": "stdout",
     "output_type": "stream",
     "text": [
      "F1 score: 0.9745197538076749\n",
      "Confusion matrix: \n",
      " [[21685   257]\n",
      " [  668 13786]]\n",
      "Plotting confusion matrix\n"
     ]
    },
    {
     "data": {
      "image/png": "[encoded data removed]",
      "text/plain": [
       "<Figure size 432x288 with 2 Axes>"
      ]
     },
     "metadata": {
      "needs_background": "light"
     },
     "output_type": "display_data"
    },
    {
     "name": "stdout",
     "output_type": "stream",
     "text": [
      "              precision    recall  f1-score   support\n",
      "\n",
      "           0       0.97      0.99      0.98     21942\n",
      "           1       0.98      0.95      0.97     14454\n",
      "\n",
      "   micro avg       0.97      0.97      0.97     36396\n",
      "   macro avg       0.98      0.97      0.97     36396\n",
      "weighted avg       0.97      0.97      0.97     36396\n",
      "\n"
     ]
    },
    {
     "data": {
      "image/png": "[encoded data removed]",
      "text/plain": [
       "<Figure size 432x288 with 1 Axes>"
      ]
     },
     "metadata": {
      "needs_background": "light"
     },
     "output_type": "display_data"
    }
   ],
   "source": [
    "y_pred_gnb = gnb.predict(x_test)\n",
    "gnb_f1 = metrics.f1_score(y_test, y_pred_gnb, average= \"weighted\")\n",
    "gnb_cm = confusion_matrix(y_test, y_pred_gnb)\n",
    "printmd(\"-----------------**Gaussian Naive Bayes Report**---------------\")\n",
    "print(\"F1 score: {}\".format(gnb_f1))\n",
    "print(\"Confusion matrix: \\n\", gnb_cm)\n",
    "print('Plotting confusion matrix')\n",
    "\n",
    "plt.figure()\n",
    "plot_confusion_matrix(gnb_cm, ['Normal', 'Attack'])\n",
    "plt.show()\n",
    "\n",
    "print(classification_report(y_test, y_pred_gnb))\n",
    "\n",
    "plot_roc(y_pred_gnb.astype(np.int), y_test.astype(np.int))"
   ]
  },
  {
   "cell_type": "markdown",
   "metadata": {},
   "source": [
    "# Fully Connected Neural Network model\n",
    "\n",
    "Output need to be one hot encode before applying the model"
   ]
  },
  {
   "cell_type": "code",
   "execution_count": 29,
   "metadata": {},
   "outputs": [
    {
     "data": {
      "text/plain": [
       "array([0, 0, 0, ..., 0, 0, 0])"
      ]
     },
     "execution_count": 29,
     "metadata": {},
     "output_type": "execute_result"
    }
   ],
   "source": [
    "scaler = preprocessing.LabelEncoder()\n",
    "output_tf = scaler.fit_transform(df['outcome'])\n",
    "output_tf"
   ]
  },
  {
   "cell_type": "code",
   "execution_count": 30,
   "metadata": {},
   "outputs": [
    {
     "data": {
      "text/plain": [
       "(145584,)"
      ]
     },
     "execution_count": 30,
     "metadata": {},
     "output_type": "execute_result"
    }
   ],
   "source": [
    "output_tf.shape"
   ]
  },
  {
   "cell_type": "code",
   "execution_count": 31,
   "metadata": {},
   "outputs": [
    {
     "data": {
      "text/plain": [
       "(145584, 40)"
      ]
     },
     "execution_count": 31,
     "metadata": {},
     "output_type": "execute_result"
    }
   ],
   "source": [
    "tf_data = input_data.copy()\n",
    "tf_data['outcome'] = output_tf\n",
    "tf_data.shape"
   ]
  },
  {
   "cell_type": "code",
   "execution_count": 32,
   "metadata": {},
   "outputs": [],
   "source": [
    "x, y = to_xy(tf_data, 'outcome')"
   ]
  },
  {
   "cell_type": "code",
   "execution_count": 33,
   "metadata": {},
   "outputs": [],
   "source": [
    "x_train_tf, x_test_tf, y_train_tf, y_test_tf = train_test_split(x, y, test_size=0.25, random_state=43)"
   ]
  },
  {
   "cell_type": "code",
   "execution_count": 34,
   "metadata": {},
   "outputs": [
    {
     "name": "stderr",
     "output_type": "stream",
     "text": [
      "Using TensorFlow backend.\n"
     ]
    }
   ],
   "source": [
    "from keras.models import Sequential\n",
    "from keras.layers import Dense, Dropout, Flatten\n",
    "from keras.layers import Conv2D, MaxPooling2D\n",
    "from keras.callbacks import EarlyStopping\n",
    "from keras.callbacks import ModelCheckpoint\n",
    "from keras import optimizers\n",
    "from tensorflow import keras"
   ]
  },
  {
   "cell_type": "code",
   "execution_count": 35,
   "metadata": {},
   "outputs": [
    {
     "data": {
      "text/markdown": [
       "**Activation** = relu  **Optimizer** = adam "
      ],
      "text/plain": [
       "<IPython.core.display.Markdown object>"
      ]
     },
     "metadata": {},
     "output_type": "display_data"
    },
    {
     "name": "stdout",
     "output_type": "stream",
     "text": [
      "Train on 109188 samples, validate on 36396 samples\n",
      "Epoch 1/1000\n",
      "109188/109188 [==============================] - 5s 41us/step - loss: 0.1700 - acc: 0.9390 - val_loss: 0.0471 - val_acc: 0.9855\n",
      "Epoch 2/1000\n",
      "109188/109188 [==============================] - 1s 8us/step - loss: 0.0445 - acc: 0.9854 - val_loss: 0.0214 - val_acc: 0.9939\n",
      "Epoch 3/1000\n",
      "109188/109188 [==============================] - 1s 8us/step - loss: 0.0261 - acc: 0.9920 - val_loss: 0.0165 - val_acc: 0.9957\n",
      "Epoch 4/1000\n",
      "109188/109188 [==============================] - 1s 8us/step - loss: 0.0207 - acc: 0.9941 - val_loss: 0.0140 - val_acc: 0.9958\n",
      "Epoch 5/1000\n",
      "109188/109188 [==============================] - 1s 8us/step - loss: 0.0178 - acc: 0.9949 - val_loss: 0.0126 - val_acc: 0.9964\n",
      "Epoch 6/1000\n",
      "109188/109188 [==============================] - 1s 8us/step - loss: 0.0157 - acc: 0.9954 - val_loss: 0.0122 - val_acc: 0.9968\n",
      "Epoch 7/1000\n",
      "109188/109188 [==============================] - 1s 9us/step - loss: 0.0143 - acc: 0.9960 - val_loss: 0.0129 - val_acc: 0.9965\n",
      "Epoch 8/1000\n",
      "109188/109188 [==============================] - 1s 8us/step - loss: 0.0133 - acc: 0.9963 - val_loss: 0.0119 - val_acc: 0.9970\n",
      "Epoch 9/1000\n",
      "109188/109188 [==============================] - 1s 8us/step - loss: 0.0128 - acc: 0.9966 - val_loss: 0.0099 - val_acc: 0.9972\n",
      "Epoch 10/1000\n",
      "109188/109188 [==============================] - 1s 8us/step - loss: 0.0115 - acc: 0.9970 - val_loss: 0.0103 - val_acc: 0.9971\n",
      "Epoch 11/1000\n",
      "109188/109188 [==============================] - 1s 8us/step - loss: 0.0115 - acc: 0.9969 - val_loss: 0.0102 - val_acc: 0.9974\n",
      "Epoch 12/1000\n",
      "109188/109188 [==============================] - 1s 9us/step - loss: 0.0106 - acc: 0.9969 - val_loss: 0.0096 - val_acc: 0.9972\n",
      "Epoch 13/1000\n",
      "109188/109188 [==============================] - 1s 9us/step - loss: 0.0102 - acc: 0.9972 - val_loss: 0.0093 - val_acc: 0.9975\n",
      "Epoch 14/1000\n",
      "109188/109188 [==============================] - 1s 9us/step - loss: 0.0096 - acc: 0.9974 - val_loss: 0.0095 - val_acc: 0.9974\n",
      "Epoch 00014: early stopping\n"
     ]
    },
    {
     "data": {
      "text/markdown": [
       "**Activation** = relu  **Optimizer** = sgd "
      ],
      "text/plain": [
       "<IPython.core.display.Markdown object>"
      ]
     },
     "metadata": {},
     "output_type": "display_data"
    },
    {
     "name": "stdout",
     "output_type": "stream",
     "text": [
      "Train on 109188 samples, validate on 36396 samples\n",
      "Epoch 1/1000\n",
      "109188/109188 [==============================] - 1s 11us/step - loss: 0.2910 - acc: 0.8901 - val_loss: 0.1167 - val_acc: 0.9667\n",
      "Epoch 2/1000\n",
      "109188/109188 [==============================] - 1s 8us/step - loss: 0.1379 - acc: 0.9620 - val_loss: 0.0952 - val_acc: 0.9726\n",
      "Epoch 3/1000\n",
      "109188/109188 [==============================] - 1s 7us/step - loss: 0.1096 - acc: 0.9710 - val_loss: 0.0804 - val_acc: 0.9763\n",
      "Epoch 4/1000\n",
      "109188/109188 [==============================] - 1s 7us/step - loss: 0.0964 - acc: 0.9745 - val_loss: 0.0742 - val_acc: 0.9788\n",
      "Epoch 5/1000\n",
      "109188/109188 [==============================] - 1s 7us/step - loss: 0.0886 - acc: 0.9762 - val_loss: 0.0674 - val_acc: 0.9796\n",
      "Epoch 6/1000\n",
      "109188/109188 [==============================] - 1s 7us/step - loss: 0.0832 - acc: 0.9776 - val_loss: 0.0617 - val_acc: 0.9809\n",
      "Epoch 7/1000\n",
      "109188/109188 [==============================] - 1s 8us/step - loss: 0.0765 - acc: 0.9789 - val_loss: 0.0631 - val_acc: 0.9810\n",
      "Epoch 8/1000\n",
      "109188/109188 [==============================] - 1s 9us/step - loss: 0.0732 - acc: 0.9797 - val_loss: 0.0589 - val_acc: 0.9819\n",
      "Epoch 9/1000\n",
      "109188/109188 [==============================] - 1s 9us/step - loss: 0.0702 - acc: 0.9803 - val_loss: 0.0535 - val_acc: 0.9829\n",
      "Epoch 10/1000\n",
      "109188/109188 [==============================] - 1s 8us/step - loss: 0.0666 - acc: 0.9810 - val_loss: 0.0510 - val_acc: 0.9835\n",
      "Epoch 11/1000\n",
      "109188/109188 [==============================] - 1s 8us/step - loss: 0.0643 - acc: 0.9814 - val_loss: 0.0511 - val_acc: 0.9835\n",
      "Epoch 12/1000\n",
      "109188/109188 [==============================] - 1s 8us/step - loss: 0.0609 - acc: 0.9822 - val_loss: 0.0459 - val_acc: 0.9851\n",
      "Epoch 13/1000\n",
      "109188/109188 [==============================] - 1s 9us/step - loss: 0.0593 - acc: 0.9823 - val_loss: 0.0431 - val_acc: 0.9861\n",
      "Epoch 14/1000\n",
      "109188/109188 [==============================] - 1s 8us/step - loss: 0.0568 - acc: 0.9828 - val_loss: 0.0425 - val_acc: 0.9856\n",
      "Epoch 15/1000\n",
      "109188/109188 [==============================] - 1s 7us/step - loss: 0.0539 - acc: 0.9832 - val_loss: 0.0419 - val_acc: 0.9858\n",
      "Epoch 16/1000\n",
      "109188/109188 [==============================] - 1s 7us/step - loss: 0.0529 - acc: 0.9836 - val_loss: 0.0385 - val_acc: 0.9861\n",
      "Epoch 17/1000\n",
      "109188/109188 [==============================] - 1s 8us/step - loss: 0.0503 - acc: 0.9841 - val_loss: 0.0348 - val_acc: 0.9865\n",
      "Epoch 18/1000\n",
      "109188/109188 [==============================] - 1s 7us/step - loss: 0.0476 - acc: 0.9842 - val_loss: 0.0327 - val_acc: 0.9869\n",
      "Epoch 19/1000\n",
      "109188/109188 [==============================] - 1s 8us/step - loss: 0.0450 - acc: 0.9849 - val_loss: 0.0315 - val_acc: 0.9870\n",
      "Epoch 20/1000\n",
      "109188/109188 [==============================] - 1s 8us/step - loss: 0.0437 - acc: 0.9854 - val_loss: 0.0312 - val_acc: 0.9870\n",
      "Epoch 21/1000\n",
      "109188/109188 [==============================] - 1s 7us/step - loss: 0.0430 - acc: 0.9856 - val_loss: 0.0289 - val_acc: 0.9875\n",
      "Epoch 22/1000\n",
      "109188/109188 [==============================] - 1s 8us/step - loss: 0.0403 - acc: 0.9864 - val_loss: 0.0265 - val_acc: 0.9896\n",
      "Epoch 23/1000\n",
      "109188/109188 [==============================] - 1s 7us/step - loss: 0.0392 - acc: 0.9867 - val_loss: 0.0268 - val_acc: 0.9889\n",
      "Epoch 24/1000\n",
      "109188/109188 [==============================] - 1s 7us/step - loss: 0.0386 - acc: 0.9869 - val_loss: 0.0243 - val_acc: 0.9913\n",
      "Epoch 25/1000\n",
      "109188/109188 [==============================] - 1s 7us/step - loss: 0.0374 - acc: 0.9874 - val_loss: 0.0230 - val_acc: 0.9925\n",
      "Epoch 26/1000\n",
      "109188/109188 [==============================] - 1s 8us/step - loss: 0.0361 - acc: 0.9879 - val_loss: 0.0228 - val_acc: 0.9925\n",
      "Epoch 27/1000\n",
      "109188/109188 [==============================] - 1s 7us/step - loss: 0.0337 - acc: 0.9890 - val_loss: 0.0226 - val_acc: 0.9927\n",
      "Epoch 28/1000\n",
      "109188/109188 [==============================] - 1s 7us/step - loss: 0.0340 - acc: 0.9891 - val_loss: 0.0247 - val_acc: 0.9910\n",
      "Epoch 29/1000\n",
      "109188/109188 [==============================] - 1s 7us/step - loss: 0.0330 - acc: 0.9895 - val_loss: 0.0207 - val_acc: 0.9942\n",
      "Epoch 30/1000\n",
      "109188/109188 [==============================] - 1s 7us/step - loss: 0.0326 - acc: 0.9898 - val_loss: 0.0203 - val_acc: 0.9945\n",
      "Epoch 31/1000\n",
      "109188/109188 [==============================] - 1s 7us/step - loss: 0.0308 - acc: 0.9908 - val_loss: 0.0198 - val_acc: 0.9945\n",
      "Epoch 32/1000\n",
      "109188/109188 [==============================] - 1s 7us/step - loss: 0.0300 - acc: 0.9911 - val_loss: 0.0194 - val_acc: 0.9950\n",
      "Epoch 33/1000\n",
      "109188/109188 [==============================] - 1s 8us/step - loss: 0.0289 - acc: 0.9914 - val_loss: 0.0193 - val_acc: 0.9949\n",
      "Epoch 34/1000\n",
      "109188/109188 [==============================] - 1s 7us/step - loss: 0.0283 - acc: 0.9913 - val_loss: 0.0186 - val_acc: 0.9951\n",
      "Epoch 35/1000\n",
      "109188/109188 [==============================] - 1s 8us/step - loss: 0.0284 - acc: 0.9920 - val_loss: 0.0180 - val_acc: 0.9953\n",
      "Epoch 36/1000\n",
      "109188/109188 [==============================] - ETA: 0s - loss: 0.0273 - acc: 0.991 - 1s 7us/step - loss: 0.0273 - acc: 0.9920 - val_loss: 0.0196 - val_acc: 0.9949\n",
      "Epoch 37/1000\n",
      "109188/109188 [==============================] - 1s 7us/step - loss: 0.0272 - acc: 0.9922 - val_loss: 0.0177 - val_acc: 0.9952\n",
      "Epoch 38/1000\n",
      "109188/109188 [==============================] - 1s 7us/step - loss: 0.0262 - acc: 0.9922 - val_loss: 0.0174 - val_acc: 0.9952\n",
      "Epoch 39/1000\n",
      "109188/109188 [==============================] - 1s 8us/step - loss: 0.0254 - acc: 0.9929 - val_loss: 0.0173 - val_acc: 0.9954\n",
      "Epoch 40/1000\n",
      "109188/109188 [==============================] - 1s 8us/step - loss: 0.0253 - acc: 0.9929 - val_loss: 0.0169 - val_acc: 0.9955\n",
      "Epoch 41/1000\n",
      "109188/109188 [==============================] - 1s 7us/step - loss: 0.0270 - acc: 0.9922 - val_loss: 0.0168 - val_acc: 0.9955\n",
      "Epoch 42/1000\n",
      "109188/109188 [==============================] - 1s 7us/step - loss: 0.0254 - acc: 0.9929 - val_loss: 0.0171 - val_acc: 0.9954\n",
      "Epoch 43/1000\n",
      "109188/109188 [==============================] - 1s 7us/step - loss: 0.0237 - acc: 0.9935 - val_loss: 0.0167 - val_acc: 0.9954\n",
      "Epoch 44/1000\n",
      "109188/109188 [==============================] - 1s 7us/step - loss: 0.0249 - acc: 0.9930 - val_loss: 0.0161 - val_acc: 0.9955\n",
      "Epoch 45/1000\n",
      "109188/109188 [==============================] - 1s 7us/step - loss: 0.0229 - acc: 0.9932 - val_loss: 0.0171 - val_acc: 0.9952\n",
      "Epoch 00045: early stopping\n"
     ]
    },
    {
     "data": {
      "text/markdown": [
       "**Activation** = tanh  **Optimizer** = adam "
      ],
      "text/plain": [
       "<IPython.core.display.Markdown object>"
      ]
     },
     "metadata": {},
     "output_type": "display_data"
    },
    {
     "name": "stdout",
     "output_type": "stream",
     "text": [
      "Train on 109188 samples, validate on 36396 samples\n",
      "Epoch 1/1000\n",
      "109188/109188 [==============================] - 1s 13us/step - loss: 0.1113 - acc: 0.9615 - val_loss: 0.0327 - val_acc: 0.9877\n",
      "Epoch 2/1000\n",
      "109188/109188 [==============================] - 1s 9us/step - loss: 0.0268 - acc: 0.9915 - val_loss: 0.0177 - val_acc: 0.9954\n",
      "Epoch 3/1000\n",
      "109188/109188 [==============================] - 1s 9us/step - loss: 0.0211 - acc: 0.9936 - val_loss: 0.0147 - val_acc: 0.9959\n",
      "Epoch 4/1000\n",
      "109188/109188 [==============================] - 1s 9us/step - loss: 0.0180 - acc: 0.9947 - val_loss: 0.0155 - val_acc: 0.9957\n",
      "Epoch 5/1000\n",
      "109188/109188 [==============================] - 1s 8us/step - loss: 0.0160 - acc: 0.9954 - val_loss: 0.0130 - val_acc: 0.9962\n",
      "Epoch 6/1000\n",
      "109188/109188 [==============================] - 1s 8us/step - loss: 0.0151 - acc: 0.9957 - val_loss: 0.0124 - val_acc: 0.9965\n",
      "Epoch 7/1000\n",
      "109188/109188 [==============================] - 1s 8us/step - loss: 0.0135 - acc: 0.9960 - val_loss: 0.0122 - val_acc: 0.9965\n",
      "Epoch 8/1000\n",
      "109188/109188 [==============================] - 1s 8us/step - loss: 0.0134 - acc: 0.9961 - val_loss: 0.0116 - val_acc: 0.9966\n",
      "Epoch 9/1000\n",
      "109188/109188 [==============================] - 1s 9us/step - loss: 0.0121 - acc: 0.9967 - val_loss: 0.0105 - val_acc: 0.9971\n",
      "Epoch 10/1000\n",
      "109188/109188 [==============================] - 1s 8us/step - loss: 0.0118 - acc: 0.9965 - val_loss: 0.0111 - val_acc: 0.9967\n",
      "Epoch 11/1000\n",
      "109188/109188 [==============================] - 1s 8us/step - loss: 0.0112 - acc: 0.9968 - val_loss: 0.0113 - val_acc: 0.9966\n",
      "Epoch 12/1000\n",
      "109188/109188 [==============================] - 1s 8us/step - loss: 0.0112 - acc: 0.9968 - val_loss: 0.0102 - val_acc: 0.9971\n",
      "Epoch 13/1000\n",
      "109188/109188 [==============================] - 1s 8us/step - loss: 0.0109 - acc: 0.9969 - val_loss: 0.0100 - val_acc: 0.9971\n",
      "Epoch 14/1000\n",
      "109188/109188 [==============================] - 1s 8us/step - loss: 0.0100 - acc: 0.9972 - val_loss: 0.0093 - val_acc: 0.9975\n",
      "Epoch 15/1000\n",
      "109188/109188 [==============================] - 1s 8us/step - loss: 0.0100 - acc: 0.9973 - val_loss: 0.0094 - val_acc: 0.9973\n",
      "Epoch 16/1000\n",
      "109188/109188 [==============================] - 1s 9us/step - loss: 0.0099 - acc: 0.9971 - val_loss: 0.0091 - val_acc: 0.9973\n",
      "Epoch 17/1000\n",
      "109188/109188 [==============================] - 1s 11us/step - loss: 0.0091 - acc: 0.9975 - val_loss: 0.0086 - val_acc: 0.9975\n",
      "Epoch 18/1000\n",
      "109188/109188 [==============================] - 1s 10us/step - loss: 0.0092 - acc: 0.9973 - val_loss: 0.0085 - val_acc: 0.9976\n",
      "Epoch 19/1000\n",
      "109188/109188 [==============================] - 1s 9us/step - loss: 0.0086 - acc: 0.9975 - val_loss: 0.0086 - val_acc: 0.9976\n",
      "Epoch 00019: early stopping\n"
     ]
    },
    {
     "data": {
      "text/markdown": [
       "**Activation** = tanh  **Optimizer** = sgd "
      ],
      "text/plain": [
       "<IPython.core.display.Markdown object>"
      ]
     },
     "metadata": {},
     "output_type": "display_data"
    },
    {
     "name": "stdout",
     "output_type": "stream",
     "text": [
      "Train on 109188 samples, validate on 36396 samples\n",
      "Epoch 1/1000\n",
      "109188/109188 [==============================] - 1s 12us/step - loss: 0.2191 - acc: 0.9294 - val_loss: 0.1076 - val_acc: 0.9741\n",
      "Epoch 2/1000\n",
      "109188/109188 [==============================] - 1s 8us/step - loss: 0.1169 - acc: 0.9688 - val_loss: 0.0951 - val_acc: 0.9764\n",
      "Epoch 3/1000\n",
      "109188/109188 [==============================] - 1s 7us/step - loss: 0.1012 - acc: 0.9730 - val_loss: 0.0868 - val_acc: 0.9782\n",
      "Epoch 4/1000\n",
      "109188/109188 [==============================] - 1s 8us/step - loss: 0.0900 - acc: 0.9757 - val_loss: 0.0806 - val_acc: 0.9801\n",
      "Epoch 5/1000\n",
      "109188/109188 [==============================] - 1s 8us/step - loss: 0.0832 - acc: 0.9774 - val_loss: 0.0733 - val_acc: 0.9818\n",
      "Epoch 6/1000\n",
      "109188/109188 [==============================] - 1s 8us/step - loss: 0.0777 - acc: 0.9790 - val_loss: 0.0734 - val_acc: 0.9821\n",
      "Epoch 7/1000\n",
      "109188/109188 [==============================] - 1s 8us/step - loss: 0.0756 - acc: 0.9796 - val_loss: 0.0685 - val_acc: 0.9826\n",
      "Epoch 8/1000\n",
      "109188/109188 [==============================] - 1s 8us/step - loss: 0.0718 - acc: 0.9803 - val_loss: 0.0672 - val_acc: 0.9828\n",
      "Epoch 9/1000\n",
      "109188/109188 [==============================] - 1s 9us/step - loss: 0.0700 - acc: 0.9810 - val_loss: 0.0656 - val_acc: 0.9832\n",
      "Epoch 10/1000\n",
      "109188/109188 [==============================] - 1s 8us/step - loss: 0.0678 - acc: 0.9813 - val_loss: 0.0637 - val_acc: 0.9837\n",
      "Epoch 11/1000\n",
      "109188/109188 [==============================] - 1s 9us/step - loss: 0.0669 - acc: 0.9818 - val_loss: 0.0629 - val_acc: 0.9836\n",
      "Epoch 12/1000\n",
      "109188/109188 [==============================] - 1s 9us/step - loss: 0.0659 - acc: 0.9816 - val_loss: 0.0606 - val_acc: 0.9842\n",
      "Epoch 13/1000\n",
      "109188/109188 [==============================] - 1s 9us/step - loss: 0.0635 - acc: 0.9822 - val_loss: 0.0608 - val_acc: 0.9843\n",
      "Epoch 14/1000\n",
      "109188/109188 [==============================] - 1s 8us/step - loss: 0.0623 - acc: 0.9826 - val_loss: 0.0549 - val_acc: 0.9859\n",
      "Epoch 15/1000\n",
      "109188/109188 [==============================] - 1s 8us/step - loss: 0.0612 - acc: 0.9827 - val_loss: 0.0564 - val_acc: 0.9847\n",
      "Epoch 16/1000\n",
      "109188/109188 [==============================] - 1s 8us/step - loss: 0.0595 - acc: 0.9830 - val_loss: 0.0488 - val_acc: 0.9861\n",
      "Epoch 17/1000\n",
      "109188/109188 [==============================] - 1s 8us/step - loss: 0.0584 - acc: 0.9828 - val_loss: 0.0509 - val_acc: 0.9861\n",
      "Epoch 18/1000\n",
      "109188/109188 [==============================] - 1s 7us/step - loss: 0.0569 - acc: 0.9831 - val_loss: 0.0500 - val_acc: 0.9860\n",
      "Epoch 19/1000\n",
      "109188/109188 [==============================] - 1s 8us/step - loss: 0.0552 - acc: 0.9833 - val_loss: 0.0435 - val_acc: 0.9864\n",
      "Epoch 20/1000\n",
      "109188/109188 [==============================] - 1s 8us/step - loss: 0.0538 - acc: 0.9837 - val_loss: 0.0454 - val_acc: 0.9864\n",
      "Epoch 21/1000\n",
      "109188/109188 [==============================] - 1s 8us/step - loss: 0.0525 - acc: 0.9837 - val_loss: 0.0460 - val_acc: 0.9862\n",
      "Epoch 22/1000\n",
      "109188/109188 [==============================] - 1s 8us/step - loss: 0.0502 - acc: 0.9838 - val_loss: 0.0364 - val_acc: 0.9866\n",
      "Epoch 23/1000\n",
      "109188/109188 [==============================] - 1s 8us/step - loss: 0.0495 - acc: 0.9840 - val_loss: 0.0409 - val_acc: 0.9864\n",
      "Epoch 24/1000\n",
      "109188/109188 [==============================] - 1s 8us/step - loss: 0.0473 - acc: 0.9845 - val_loss: 0.0318 - val_acc: 0.9866\n",
      "Epoch 25/1000\n",
      "109188/109188 [==============================] - 1s 8us/step - loss: 0.0468 - acc: 0.9842 - val_loss: 0.0385 - val_acc: 0.9863\n",
      "Epoch 26/1000\n",
      "109188/109188 [==============================] - 1s 8us/step - loss: 0.0444 - acc: 0.9847 - val_loss: 0.0328 - val_acc: 0.9869\n",
      "Epoch 27/1000\n",
      "109188/109188 [==============================] - 1s 9us/step - loss: 0.0426 - acc: 0.9854 - val_loss: 0.0294 - val_acc: 0.9876\n",
      "Epoch 28/1000\n",
      "109188/109188 [==============================] - 1s 9us/step - loss: 0.0417 - acc: 0.9854 - val_loss: 0.0308 - val_acc: 0.9875\n",
      "Epoch 29/1000\n",
      "109188/109188 [==============================] - 1s 8us/step - loss: 0.0409 - acc: 0.9859 - val_loss: 0.0291 - val_acc: 0.9877\n",
      "Epoch 30/1000\n",
      "109188/109188 [==============================] - 1s 7us/step - loss: 0.0394 - acc: 0.9861 - val_loss: 0.0271 - val_acc: 0.9890\n",
      "Epoch 31/1000\n",
      "109188/109188 [==============================] - 1s 7us/step - loss: 0.0387 - acc: 0.9866 - val_loss: 0.0246 - val_acc: 0.9918\n",
      "Epoch 32/1000\n",
      "109188/109188 [==============================] - 1s 8us/step - loss: 0.0377 - acc: 0.9868 - val_loss: 0.0292 - val_acc: 0.9884\n",
      "Epoch 33/1000\n",
      "109188/109188 [==============================] - 1s 8us/step - loss: 0.0372 - acc: 0.9871 - val_loss: 0.0247 - val_acc: 0.9919\n",
      "Epoch 34/1000\n",
      "109188/109188 [==============================] - 1s 8us/step - loss: 0.0360 - acc: 0.9873 - val_loss: 0.0272 - val_acc: 0.9901\n",
      "Epoch 35/1000\n",
      "109188/109188 [==============================] - 1s 8us/step - loss: 0.0350 - acc: 0.9876 - val_loss: 0.0214 - val_acc: 0.9940\n",
      "Epoch 36/1000\n",
      "109188/109188 [==============================] - 1s 8us/step - loss: 0.0342 - acc: 0.9880 - val_loss: 0.0244 - val_acc: 0.9923\n",
      "Epoch 37/1000\n",
      "109188/109188 [==============================] - 1s 8us/step - loss: 0.0341 - acc: 0.9881 - val_loss: 0.0247 - val_acc: 0.9925\n",
      "Epoch 38/1000\n",
      "109188/109188 [==============================] - 1s 7us/step - loss: 0.0332 - acc: 0.9883 - val_loss: 0.0236 - val_acc: 0.9932\n",
      "Epoch 39/1000\n",
      "109188/109188 [==============================] - 1s 7us/step - loss: 0.0330 - acc: 0.9884 - val_loss: 0.0207 - val_acc: 0.9942\n",
      "Epoch 40/1000\n",
      "109188/109188 [==============================] - 1s 8us/step - loss: 0.0319 - acc: 0.9890 - val_loss: 0.0296 - val_acc: 0.9908\n",
      "Epoch 00040: early stopping\n",
      "Training finished...Loading the best model\n",
      "\n"
     ]
    }
   ],
   "source": [
    "checkpointer = ModelCheckpoint(filepath=\".\\classification.hdf5\", verbose=0, save_best_only=True) # save best model\n",
    "activation_func = ['relu', 'tanh']\n",
    "optimizer_func = ['adam', 'sgd']\n",
    "\n",
    "for i in range(2):\n",
    "    for j in range(2):\n",
    "        printmd(\"**Activation** = {}  **Optimizer** = {} \".format(activation_func[i], optimizer_func[j]))\n",
    "        #Build network\n",
    "        model = Sequential()\n",
    "\n",
    "        model.add(Dense(128, input_dim=x_train_tf.shape[1], activation=activation_func[i])) # Hidden 1     #  why input_dim=x.shape[1]?  \n",
    "        model.add(Dropout(0.27))\n",
    "        model.add(Dense(64, activation=activation_func[i])) # Hidden 2\n",
    "        model.add(Dropout(0.27))\n",
    "        model.add(Dense(32, activation=activation_func[i])) # Hidden 4\n",
    "        model.add(Dense(y_train_tf.shape[1], activation='softmax')) # Output\n",
    "\n",
    "        model.compile(loss='categorical_crossentropy', optimizer=optimizer_func[j], metrics=['accuracy'])\n",
    "\n",
    "        monitor = EarlyStopping(monitor='val_loss', min_delta=1e-3, patience=5, verbose=1, mode='auto')\n",
    "\n",
    "        model.fit(x_train_tf,y_train_tf, validation_data=(x_test_tf,y_test_tf), callbacks=[monitor,checkpointer],verbose=1,epochs=1000, batch_size=512, shuffle=True)    # Verbosity mode. 0 = silent, 1 = progress bar, 2 = one line per epoch.\n",
    "    \n",
    "    \n",
    "print('Training finished...Loading the best model')  \n",
    "print()\n",
    "model.load_weights('.\\classification.hdf5') # load weights from best model"
   ]
  },
  {
   "cell_type": "code",
   "execution_count": 36,
   "metadata": {},
   "outputs": [
    {
     "name": "stdout",
     "output_type": "stream",
     "text": [
      "_________________________________________________________________\n",
      "Layer (type)                 Output Shape              Param #   \n",
      "=================================================================\n",
      "dense_13 (Dense)             (None, 128)               5120      \n",
      "_________________________________________________________________\n",
      "dropout_7 (Dropout)          (None, 128)               0         \n",
      "_________________________________________________________________\n",
      "dense_14 (Dense)             (None, 64)                8256      \n",
      "_________________________________________________________________\n",
      "dropout_8 (Dropout)          (None, 64)                0         \n",
      "_________________________________________________________________\n",
      "dense_15 (Dense)             (None, 32)                2080      \n",
      "_________________________________________________________________\n",
      "dense_16 (Dense)             (None, 2)                 66        \n",
      "=================================================================\n",
      "Total params: 15,522\n",
      "Trainable params: 15,522\n",
      "Non-trainable params: 0\n",
      "_________________________________________________________________\n"
     ]
    }
   ],
   "source": [
    "model.summary()"
   ]
  },
  {
   "cell_type": "code",
   "execution_count": 37,
   "metadata": {},
   "outputs": [
    {
     "data": {
      "text/markdown": [
       "-----------------**Fully-Connected Neural Network Report**---------------"
      ],
      "text/plain": [
       "<IPython.core.display.Markdown object>"
      ]
     },
     "metadata": {},
     "output_type": "display_data"
    },
    {
     "name": "stdout",
     "output_type": "stream",
     "text": [
      "F1 score: 0.9975545173133619\n",
      "Confusion matrix: \n",
      " [[21903    39]\n",
      " [   50 14404]]\n",
      "Plotting confusion matrix\n"
     ]
    },
    {
     "data": {
      "image/png": "[encoded data removed]",
      "text/plain": [
       "<Figure size 432x288 with 2 Axes>"
      ]
     },
     "metadata": {
      "needs_background": "light"
     },
     "output_type": "display_data"
    },
    {
     "name": "stdout",
     "output_type": "stream",
     "text": [
      "              precision    recall  f1-score   support\n",
      "\n",
      "           0       1.00      1.00      1.00     21942\n",
      "           1       1.00      1.00      1.00     14454\n",
      "\n",
      "   micro avg       1.00      1.00      1.00     36396\n",
      "   macro avg       1.00      1.00      1.00     36396\n",
      "weighted avg       1.00      1.00      1.00     36396\n",
      "\n"
     ]
    },
    {
     "data": {
      "image/png": "[encoded data removed]",
      "text/plain": [
       "<Figure size 432x288 with 1 Axes>"
      ]
     },
     "metadata": {
      "needs_background": "light"
     },
     "output_type": "display_data"
    }
   ],
   "source": [
    "nn_pred = model.predict(x_test_tf)\n",
    "nn_pred = np.argmax(nn_pred,axis=1)\n",
    "y_true = np.argmax(y_test_tf,axis=1)\n",
    "\n",
    "nn_f1 = metrics.f1_score(y_true, nn_pred, average= \"weighted\")\n",
    "nn_cm = confusion_matrix(y_true, nn_pred)\n",
    "printmd(\"-----------------**Fully-Connected Neural Network Report**---------------\")\n",
    "print(\"F1 score: {}\".format(nn_f1))\n",
    "print(\"Confusion matrix: \\n\", nn_cm)\n",
    "print('Plotting confusion matrix')\n",
    "\n",
    "plt.figure()\n",
    "plot_confusion_matrix(nn_cm, ['Normal', 'Attack'])\n",
    "plt.show()\n",
    "\n",
    "print(classification_report(y_true, nn_pred))\n",
    "\n",
    "nn_pred = model.predict(x_test_tf)\n",
    "nn_pred = nn_pred[:,1] # Only positive class (1)\n",
    "plot_roc(nn_pred,y_true)"
   ]
  },
  {
   "cell_type": "markdown",
   "metadata": {},
   "source": [
    "# CNN model"
   ]
  },
  {
   "cell_type": "code",
   "execution_count": 38,
   "metadata": {},
   "outputs": [],
   "source": [
    "x_train_tf, x_test_tf, y_train_tf, y_test_tf = train_test_split(x, y, test_size=0.25, random_state=43)"
   ]
  },
  {
   "cell_type": "code",
   "execution_count": 39,
   "metadata": {},
   "outputs": [],
   "source": [
    "# reshape the input into 4D array\n",
    "x_train_tf = x_train_tf.reshape(x_train_tf.shape[0], 1, x_train_tf.shape[1], 1)\n",
    "x_test_tf = x_test_tf.reshape(x_test_tf.shape[0], 1, x_test_tf.shape[1], 1)"
   ]
  },
  {
   "cell_type": "code",
   "execution_count": 40,
   "metadata": {},
   "outputs": [
    {
     "name": "stdout",
     "output_type": "stream",
     "text": [
      "(109188, 1, 39, 1)\n",
      "(36396, 1, 39, 1)\n"
     ]
    }
   ],
   "source": [
    "print(x_train_tf.shape)\n",
    "print(x_test_tf.shape)"
   ]
  },
  {
   "cell_type": "code",
   "execution_count": 41,
   "metadata": {},
   "outputs": [
    {
     "data": {
      "text/plain": [
       "((109188, 2), (36396, 2))"
      ]
     },
     "execution_count": 41,
     "metadata": {},
     "output_type": "execute_result"
    }
   ],
   "source": [
    "y_train_tf.shape, y_test_tf.shape"
   ]
  },
  {
   "cell_type": "code",
   "execution_count": 42,
   "metadata": {},
   "outputs": [
    {
     "data": {
      "text/plain": [
       "dtype('float32')"
      ]
     },
     "execution_count": 42,
     "metadata": {},
     "output_type": "execute_result"
    }
   ],
   "source": [
    "y_test_tf.dtype"
   ]
  },
  {
   "cell_type": "code",
   "execution_count": 43,
   "metadata": {},
   "outputs": [
    {
     "data": {
      "text/markdown": [
       "**Activation** = relu  **Optimizer** = adam "
      ],
      "text/plain": [
       "<IPython.core.display.Markdown object>"
      ]
     },
     "metadata": {},
     "output_type": "display_data"
    },
    {
     "name": "stdout",
     "output_type": "stream",
     "text": [
      "Train on 109188 samples, validate on 36396 samples\n",
      "Epoch 1/100\n",
      "109188/109188 [==============================] - 3s 28us/step - loss: 0.0690 - acc: 0.9765 - val_loss: 0.0213 - val_acc: 0.9940\n",
      "Epoch 2/100\n",
      "109188/109188 [==============================] - 1s 12us/step - loss: 0.0226 - acc: 0.9940 - val_loss: 0.0176 - val_acc: 0.9952\n",
      "Epoch 3/100\n",
      "109188/109188 [==============================] - 1s 13us/step - loss: 0.0188 - acc: 0.9948 - val_loss: 0.0133 - val_acc: 0.9963\n",
      "Epoch 4/100\n",
      "109188/109188 [==============================] - 1s 13us/step - loss: 0.0164 - acc: 0.9954 - val_loss: 0.0130 - val_acc: 0.9963\n",
      "Epoch 5/100\n",
      "109188/109188 [==============================] - 1s 12us/step - loss: 0.0156 - acc: 0.9958 - val_loss: 0.0128 - val_acc: 0.9968\n",
      "Epoch 6/100\n",
      "109188/109188 [==============================] - 1s 12us/step - loss: 0.0140 - acc: 0.9960 - val_loss: 0.0138 - val_acc: 0.9962\n",
      "Epoch 7/100\n",
      "109188/109188 [==============================] - 1s 12us/step - loss: 0.0127 - acc: 0.9964 - val_loss: 0.0101 - val_acc: 0.9966\n",
      "Epoch 8/100\n",
      "109188/109188 [==============================] - 1s 12us/step - loss: 0.0118 - acc: 0.9966 - val_loss: 0.0096 - val_acc: 0.9971\n",
      "Epoch 9/100\n",
      "109188/109188 [==============================] - 1s 12us/step - loss: 0.0113 - acc: 0.9970 - val_loss: 0.0088 - val_acc: 0.9972\n",
      "Epoch 10/100\n",
      "109188/109188 [==============================] - 1s 12us/step - loss: 0.0105 - acc: 0.9969 - val_loss: 0.0088 - val_acc: 0.9974\n",
      "Epoch 11/100\n",
      "109188/109188 [==============================] - 1s 12us/step - loss: 0.0102 - acc: 0.9971 - val_loss: 0.0084 - val_acc: 0.9972\n",
      "Epoch 12/100\n",
      "109188/109188 [==============================] - 1s 13us/step - loss: 0.0097 - acc: 0.9972 - val_loss: 0.0076 - val_acc: 0.9976\n",
      "Epoch 13/100\n",
      "109188/109188 [==============================] - 1s 13us/step - loss: 0.0093 - acc: 0.9973 - val_loss: 0.0084 - val_acc: 0.9973\n",
      "Epoch 14/100\n",
      "109188/109188 [==============================] - 1s 12us/step - loss: 0.0091 - acc: 0.9974 - val_loss: 0.0076 - val_acc: 0.9977\n",
      "Epoch 15/100\n",
      "109188/109188 [==============================] - 1s 12us/step - loss: 0.0088 - acc: 0.9973 - val_loss: 0.0074 - val_acc: 0.9976\n",
      "Epoch 16/100\n",
      "109188/109188 [==============================] - 1s 12us/step - loss: 0.0086 - acc: 0.9975 - val_loss: 0.0075 - val_acc: 0.9975\n",
      "Epoch 17/100\n",
      "109188/109188 [==============================] - 1s 12us/step - loss: 0.0086 - acc: 0.9974 - val_loss: 0.0077 - val_acc: 0.9974\n",
      "Epoch 00017: early stopping\n"
     ]
    },
    {
     "data": {
      "text/markdown": [
       "**Activation** = relu  **Optimizer** = sgd "
      ],
      "text/plain": [
       "<IPython.core.display.Markdown object>"
      ]
     },
     "metadata": {},
     "output_type": "display_data"
    },
    {
     "name": "stdout",
     "output_type": "stream",
     "text": [
      "Train on 109188 samples, validate on 36396 samples\n",
      "Epoch 1/100\n",
      "109188/109188 [==============================] - 2s 15us/step - loss: 0.3497 - acc: 0.8830 - val_loss: 0.1243 - val_acc: 0.9709\n",
      "Epoch 2/100\n",
      "109188/109188 [==============================] - 1s 11us/step - loss: 0.1333 - acc: 0.9641 - val_loss: 0.0888 - val_acc: 0.9774\n",
      "Epoch 3/100\n",
      "109188/109188 [==============================] - 1s 11us/step - loss: 0.1047 - acc: 0.9713 - val_loss: 0.0775 - val_acc: 0.9799\n",
      "Epoch 4/100\n",
      "109188/109188 [==============================] - 1s 11us/step - loss: 0.0922 - acc: 0.9754 - val_loss: 0.0708 - val_acc: 0.9810\n",
      "Epoch 5/100\n",
      "109188/109188 [==============================] - 1s 12us/step - loss: 0.0846 - acc: 0.9770 - val_loss: 0.0665 - val_acc: 0.9816\n",
      "Epoch 6/100\n",
      "109188/109188 [==============================] - 1s 12us/step - loss: 0.0787 - acc: 0.9785 - val_loss: 0.0635 - val_acc: 0.9821\n",
      "Epoch 7/100\n",
      "109188/109188 [==============================] - 1s 12us/step - loss: 0.0747 - acc: 0.9792 - val_loss: 0.0606 - val_acc: 0.9825\n",
      "Epoch 8/100\n",
      "109188/109188 [==============================] - 1s 11us/step - loss: 0.0715 - acc: 0.9801 - val_loss: 0.0583 - val_acc: 0.9829\n",
      "Epoch 9/100\n",
      "109188/109188 [==============================] - 1s 11us/step - loss: 0.0681 - acc: 0.9808 - val_loss: 0.0553 - val_acc: 0.9835\n",
      "Epoch 10/100\n",
      "109188/109188 [==============================] - 1s 11us/step - loss: 0.0657 - acc: 0.9813 - val_loss: 0.0530 - val_acc: 0.9837\n",
      "Epoch 11/100\n",
      "109188/109188 [==============================] - 1s 11us/step - loss: 0.0631 - acc: 0.9816 - val_loss: 0.0511 - val_acc: 0.9841\n",
      "Epoch 12/100\n",
      "109188/109188 [==============================] - 1s 12us/step - loss: 0.0610 - acc: 0.9819 - val_loss: 0.0491 - val_acc: 0.9844\n",
      "Epoch 13/100\n",
      "109188/109188 [==============================] - 1s 12us/step - loss: 0.0582 - acc: 0.9827 - val_loss: 0.0467 - val_acc: 0.9847\n",
      "Epoch 14/100\n",
      "109188/109188 [==============================] - 1s 12us/step - loss: 0.0559 - acc: 0.9829 - val_loss: 0.0447 - val_acc: 0.9851\n",
      "Epoch 15/100\n",
      "109188/109188 [==============================] - 1s 12us/step - loss: 0.0546 - acc: 0.9827 - val_loss: 0.0421 - val_acc: 0.9858\n",
      "Epoch 16/100\n",
      "109188/109188 [==============================] - 1s 11us/step - loss: 0.0521 - acc: 0.9831 - val_loss: 0.0399 - val_acc: 0.9862\n",
      "Epoch 17/100\n",
      "109188/109188 [==============================] - 1s 11us/step - loss: 0.0511 - acc: 0.9836 - val_loss: 0.0380 - val_acc: 0.9865\n",
      "Epoch 18/100\n",
      "109188/109188 [==============================] - 1s 12us/step - loss: 0.0487 - acc: 0.9841 - val_loss: 0.0363 - val_acc: 0.9869\n",
      "Epoch 19/100\n",
      "109188/109188 [==============================] - 1s 12us/step - loss: 0.0459 - acc: 0.9841 - val_loss: 0.0345 - val_acc: 0.9872\n",
      "Epoch 20/100\n",
      "109188/109188 [==============================] - 1s 12us/step - loss: 0.0454 - acc: 0.9847 - val_loss: 0.0334 - val_acc: 0.9873\n",
      "Epoch 21/100\n",
      "109188/109188 [==============================] - 1s 12us/step - loss: 0.0442 - acc: 0.9846 - val_loss: 0.0316 - val_acc: 0.9875\n",
      "Epoch 22/100\n",
      "109188/109188 [==============================] - 1s 12us/step - loss: 0.0428 - acc: 0.9850 - val_loss: 0.0300 - val_acc: 0.9880\n",
      "Epoch 23/100\n",
      "109188/109188 [==============================] - 1s 12us/step - loss: 0.0421 - acc: 0.9853 - val_loss: 0.0291 - val_acc: 0.9901\n",
      "Epoch 24/100\n",
      "109188/109188 [==============================] - 1s 12us/step - loss: 0.0403 - acc: 0.9862 - val_loss: 0.0281 - val_acc: 0.9911\n",
      "Epoch 25/100\n",
      "109188/109188 [==============================] - 1s 12us/step - loss: 0.0391 - acc: 0.9871 - val_loss: 0.0271 - val_acc: 0.9915\n",
      "Epoch 26/100\n",
      "109188/109188 [==============================] - 1s 12us/step - loss: 0.0390 - acc: 0.9867 - val_loss: 0.0265 - val_acc: 0.9918\n",
      "Epoch 27/100\n",
      "109188/109188 [==============================] - 1s 12us/step - loss: 0.0374 - acc: 0.9873 - val_loss: 0.0255 - val_acc: 0.9928\n",
      "Epoch 28/100\n",
      "109188/109188 [==============================] - 1s 12us/step - loss: 0.0371 - acc: 0.9877 - val_loss: 0.0250 - val_acc: 0.9929\n",
      "Epoch 29/100\n",
      "109188/109188 [==============================] - 1s 12us/step - loss: 0.0354 - acc: 0.9878 - val_loss: 0.0244 - val_acc: 0.9932\n",
      "Epoch 30/100\n",
      "109188/109188 [==============================] - 1s 11us/step - loss: 0.0352 - acc: 0.9886 - val_loss: 0.0242 - val_acc: 0.9934\n",
      "Epoch 31/100\n",
      "109188/109188 [==============================] - 1s 11us/step - loss: 0.0344 - acc: 0.9887 - val_loss: 0.0235 - val_acc: 0.9937\n",
      "Epoch 32/100\n",
      "109188/109188 [==============================] - 1s 13us/step - loss: 0.0334 - acc: 0.9892 - val_loss: 0.0227 - val_acc: 0.9941\n",
      "Epoch 33/100\n",
      "109188/109188 [==============================] - 1s 12us/step - loss: 0.0333 - acc: 0.9896 - val_loss: 0.0221 - val_acc: 0.9947\n",
      "Epoch 34/100\n",
      "109188/109188 [==============================] - 1s 12us/step - loss: 0.0331 - acc: 0.9898 - val_loss: 0.0219 - val_acc: 0.9946\n",
      "Epoch 35/100\n",
      "109188/109188 [==============================] - 1s 12us/step - loss: 0.0324 - acc: 0.9898 - val_loss: 0.0216 - val_acc: 0.9948\n",
      "Epoch 36/100\n",
      "109188/109188 [==============================] - 1s 11us/step - loss: 0.0314 - acc: 0.9904 - val_loss: 0.0213 - val_acc: 0.9947\n",
      "Epoch 37/100\n",
      "109188/109188 [==============================] - 1s 12us/step - loss: 0.0311 - acc: 0.9906 - val_loss: 0.0214 - val_acc: 0.9947\n",
      "Epoch 38/100\n",
      "109188/109188 [==============================] - 1s 12us/step - loss: 0.0314 - acc: 0.9907 - val_loss: 0.0212 - val_acc: 0.9948\n",
      "Epoch 00038: early stopping\n"
     ]
    },
    {
     "data": {
      "text/markdown": [
       "**Activation** = tanh  **Optimizer** = adam "
      ],
      "text/plain": [
       "<IPython.core.display.Markdown object>"
      ]
     },
     "metadata": {},
     "output_type": "display_data"
    },
    {
     "name": "stdout",
     "output_type": "stream",
     "text": [
      "Train on 109188 samples, validate on 36396 samples\n",
      "Epoch 1/100\n",
      "109188/109188 [==============================] - 2s 17us/step - loss: 0.0513 - acc: 0.9834 - val_loss: 0.0196 - val_acc: 0.9941\n",
      "Epoch 2/100\n",
      "109188/109188 [==============================] - 1s 12us/step - loss: 0.0223 - acc: 0.9929 - val_loss: 0.0163 - val_acc: 0.9951\n",
      "Epoch 3/100\n",
      "109188/109188 [==============================] - 1s 12us/step - loss: 0.0201 - acc: 0.9940 - val_loss: 0.0160 - val_acc: 0.9950\n",
      "Epoch 4/100\n",
      "109188/109188 [==============================] - 1s 12us/step - loss: 0.0176 - acc: 0.9944 - val_loss: 0.0150 - val_acc: 0.9952\n",
      "Epoch 5/100\n",
      "109188/109188 [==============================] - 1s 12us/step - loss: 0.0161 - acc: 0.9949 - val_loss: 0.0140 - val_acc: 0.9960\n",
      "Epoch 6/100\n",
      "109188/109188 [==============================] - 1s 12us/step - loss: 0.0149 - acc: 0.9955 - val_loss: 0.0118 - val_acc: 0.9962\n",
      "Epoch 7/100\n",
      "109188/109188 [==============================] - 1s 12us/step - loss: 0.0146 - acc: 0.9957 - val_loss: 0.0124 - val_acc: 0.9962\n",
      "Epoch 8/100\n",
      "109188/109188 [==============================] - 1s 12us/step - loss: 0.0140 - acc: 0.9959 - val_loss: 0.0104 - val_acc: 0.9966\n",
      "Epoch 9/100\n",
      "109188/109188 [==============================] - 1s 12us/step - loss: 0.0126 - acc: 0.9961 - val_loss: 0.0101 - val_acc: 0.9967\n",
      "Epoch 10/100\n",
      "109188/109188 [==============================] - 1s 12us/step - loss: 0.0120 - acc: 0.9963 - val_loss: 0.0106 - val_acc: 0.9970\n",
      "Epoch 11/100\n",
      "109188/109188 [==============================] - 1s 12us/step - loss: 0.0116 - acc: 0.9965 - val_loss: 0.0106 - val_acc: 0.9967\n",
      "Epoch 12/100\n",
      "109188/109188 [==============================] - 1s 12us/step - loss: 0.0112 - acc: 0.9968 - val_loss: 0.0097 - val_acc: 0.9970\n",
      "Epoch 13/100\n",
      "109188/109188 [==============================] - 1s 12us/step - loss: 0.0108 - acc: 0.9967 - val_loss: 0.0091 - val_acc: 0.9973\n",
      "Epoch 14/100\n",
      "109188/109188 [==============================] - 1s 13us/step - loss: 0.0103 - acc: 0.9970 - val_loss: 0.0087 - val_acc: 0.9972\n",
      "Epoch 15/100\n",
      "109188/109188 [==============================] - 1s 12us/step - loss: 0.0100 - acc: 0.9969 - val_loss: 0.0092 - val_acc: 0.9972\n",
      "Epoch 16/100\n",
      "109188/109188 [==============================] - 1s 12us/step - loss: 0.0100 - acc: 0.9971 - val_loss: 0.0087 - val_acc: 0.9973\n",
      "Epoch 17/100\n",
      "109188/109188 [==============================] - 1s 12us/step - loss: 0.0097 - acc: 0.9972 - val_loss: 0.0085 - val_acc: 0.9974\n",
      "Epoch 18/100\n",
      "109188/109188 [==============================] - 1s 12us/step - loss: 0.0091 - acc: 0.9972 - val_loss: 0.0087 - val_acc: 0.9972\n",
      "Epoch 00018: early stopping\n"
     ]
    },
    {
     "data": {
      "text/markdown": [
       "**Activation** = tanh  **Optimizer** = sgd "
      ],
      "text/plain": [
       "<IPython.core.display.Markdown object>"
      ]
     },
     "metadata": {},
     "output_type": "display_data"
    },
    {
     "name": "stdout",
     "output_type": "stream",
     "text": [
      "Train on 109188 samples, validate on 36396 samples\n",
      "Epoch 1/100\n",
      "109188/109188 [==============================] - 2s 16us/step - loss: 0.1559 - acc: 0.9624 - val_loss: 0.1020 - val_acc: 0.9722\n",
      "Epoch 2/100\n",
      "109188/109188 [==============================] - 1s 11us/step - loss: 0.0996 - acc: 0.9715 - val_loss: 0.0898 - val_acc: 0.9741\n",
      "Epoch 3/100\n",
      "109188/109188 [==============================] - 1s 11us/step - loss: 0.0904 - acc: 0.9740 - val_loss: 0.0832 - val_acc: 0.9754\n",
      "Epoch 4/100\n",
      "109188/109188 [==============================] - 1s 11us/step - loss: 0.0838 - acc: 0.9757 - val_loss: 0.0783 - val_acc: 0.9763\n",
      "Epoch 5/100\n",
      "109188/109188 [==============================] - 1s 11us/step - loss: 0.0797 - acc: 0.9764 - val_loss: 0.0736 - val_acc: 0.9778\n",
      "Epoch 6/100\n",
      "109188/109188 [==============================] - 1s 11us/step - loss: 0.0744 - acc: 0.9770 - val_loss: 0.0694 - val_acc: 0.9785\n",
      "Epoch 7/100\n",
      "109188/109188 [==============================] - 1s 11us/step - loss: 0.0706 - acc: 0.9784 - val_loss: 0.0655 - val_acc: 0.9791\n",
      "Epoch 8/100\n",
      "109188/109188 [==============================] - 1s 11us/step - loss: 0.0674 - acc: 0.9785 - val_loss: 0.0617 - val_acc: 0.9795\n",
      "Epoch 9/100\n",
      "109188/109188 [==============================] - 1s 11us/step - loss: 0.0635 - acc: 0.9795 - val_loss: 0.0583 - val_acc: 0.9799\n",
      "Epoch 10/100\n",
      "109188/109188 [==============================] - 1s 11us/step - loss: 0.0606 - acc: 0.9801 - val_loss: 0.0548 - val_acc: 0.9807\n",
      "Epoch 11/100\n",
      "109188/109188 [==============================] - 1s 12us/step - loss: 0.0576 - acc: 0.9806 - val_loss: 0.0513 - val_acc: 0.9819\n",
      "Epoch 12/100\n",
      "109188/109188 [==============================] - 1s 11us/step - loss: 0.0547 - acc: 0.9812 - val_loss: 0.0483 - val_acc: 0.9821\n",
      "Epoch 13/100\n",
      "109188/109188 [==============================] - 1s 11us/step - loss: 0.0519 - acc: 0.9820 - val_loss: 0.0453 - val_acc: 0.9827\n",
      "Epoch 14/100\n",
      "109188/109188 [==============================] - 1s 12us/step - loss: 0.0493 - acc: 0.9820 - val_loss: 0.0426 - val_acc: 0.9830\n",
      "Epoch 15/100\n",
      "109188/109188 [==============================] - 1s 11us/step - loss: 0.0471 - acc: 0.9831 - val_loss: 0.0400 - val_acc: 0.9841\n",
      "Epoch 16/100\n",
      "109188/109188 [==============================] - 1s 11us/step - loss: 0.0452 - acc: 0.9834 - val_loss: 0.0376 - val_acc: 0.9852\n",
      "Epoch 17/100\n",
      "109188/109188 [==============================] - 1s 12us/step - loss: 0.0430 - acc: 0.9841 - val_loss: 0.0355 - val_acc: 0.9866\n",
      "Epoch 18/100\n",
      "109188/109188 [==============================] - 1s 12us/step - loss: 0.0410 - acc: 0.9848 - val_loss: 0.0337 - val_acc: 0.9874\n",
      "Epoch 19/100\n",
      "109188/109188 [==============================] - 1s 12us/step - loss: 0.0395 - acc: 0.9856 - val_loss: 0.0320 - val_acc: 0.9888\n",
      "Epoch 20/100\n",
      "109188/109188 [==============================] - 1s 12us/step - loss: 0.0379 - acc: 0.9862 - val_loss: 0.0306 - val_acc: 0.9898\n",
      "Epoch 21/100\n",
      "109188/109188 [==============================] - 1s 13us/step - loss: 0.0366 - acc: 0.9873 - val_loss: 0.0293 - val_acc: 0.9906\n",
      "Epoch 22/100\n",
      "109188/109188 [==============================] - 1s 12us/step - loss: 0.0357 - acc: 0.9875 - val_loss: 0.0281 - val_acc: 0.9915\n",
      "Epoch 23/100\n",
      "109188/109188 [==============================] - 1s 11us/step - loss: 0.0349 - acc: 0.9878 - val_loss: 0.0272 - val_acc: 0.9919\n",
      "Epoch 24/100\n",
      "109188/109188 [==============================] - 1s 12us/step - loss: 0.0342 - acc: 0.9881 - val_loss: 0.0266 - val_acc: 0.9924\n",
      "Epoch 25/100\n",
      "109188/109188 [==============================] - 1s 12us/step - loss: 0.0329 - acc: 0.9890 - val_loss: 0.0258 - val_acc: 0.9928\n",
      "Epoch 26/100\n",
      "109188/109188 [==============================] - 1s 12us/step - loss: 0.0320 - acc: 0.9891 - val_loss: 0.0249 - val_acc: 0.9931\n",
      "Epoch 27/100\n",
      "109188/109188 [==============================] - 1s 12us/step - loss: 0.0316 - acc: 0.9895 - val_loss: 0.0245 - val_acc: 0.9932\n",
      "Epoch 28/100\n",
      "109188/109188 [==============================] - 1s 13us/step - loss: 0.0313 - acc: 0.9896 - val_loss: 0.0242 - val_acc: 0.9932\n",
      "Epoch 29/100\n",
      "109188/109188 [==============================] - 1s 12us/step - loss: 0.0310 - acc: 0.9897 - val_loss: 0.0236 - val_acc: 0.9934\n",
      "Epoch 30/100\n",
      "109188/109188 [==============================] - 1s 12us/step - loss: 0.0303 - acc: 0.9898 - val_loss: 0.0232 - val_acc: 0.9935\n",
      "Epoch 31/100\n",
      "109188/109188 [==============================] - 1s 12us/step - loss: 0.0295 - acc: 0.9903 - val_loss: 0.0228 - val_acc: 0.9936\n",
      "Epoch 32/100\n",
      "109188/109188 [==============================] - 1s 12us/step - loss: 0.0289 - acc: 0.9903 - val_loss: 0.0225 - val_acc: 0.9936\n",
      "Epoch 33/100\n",
      "109188/109188 [==============================] - 1s 11us/step - loss: 0.0293 - acc: 0.9903 - val_loss: 0.0225 - val_acc: 0.9937\n",
      "Epoch 34/100\n",
      "109188/109188 [==============================] - 1s 11us/step - loss: 0.0289 - acc: 0.9906 - val_loss: 0.0218 - val_acc: 0.9937\n",
      "Epoch 35/100\n",
      "109188/109188 [==============================] - 1s 11us/step - loss: 0.0284 - acc: 0.9907 - val_loss: 0.0216 - val_acc: 0.9938\n",
      "Epoch 36/100\n",
      "109188/109188 [==============================] - 1s 11us/step - loss: 0.0283 - acc: 0.9905 - val_loss: 0.0213 - val_acc: 0.9940\n",
      "Epoch 37/100\n",
      "109188/109188 [==============================] - 1s 11us/step - loss: 0.0282 - acc: 0.9907 - val_loss: 0.0213 - val_acc: 0.9939\n",
      "Epoch 38/100\n",
      "109188/109188 [==============================] - 1s 12us/step - loss: 0.0280 - acc: 0.9908 - val_loss: 0.0211 - val_acc: 0.9938\n",
      "Epoch 39/100\n",
      "109188/109188 [==============================] - 1s 11us/step - loss: 0.0271 - acc: 0.9913 - val_loss: 0.0209 - val_acc: 0.9939\n",
      "Epoch 40/100\n",
      "109188/109188 [==============================] - 1s 11us/step - loss: 0.0272 - acc: 0.9910 - val_loss: 0.0207 - val_acc: 0.9940\n",
      "Epoch 41/100\n",
      "109188/109188 [==============================] - 1s 11us/step - loss: 0.0272 - acc: 0.9912 - val_loss: 0.0205 - val_acc: 0.9939\n",
      "Epoch 00041: early stopping\n",
      "Training finished...Loading the best model\n",
      "\n"
     ]
    }
   ],
   "source": [
    "checkpointer = ModelCheckpoint(filepath=\".\\cnn.hdf5\", verbose=0, save_best_only=True) # save best model\n",
    "input_shape = (1, x_train_tf.shape[2], 1)\n",
    "activation_func = ['relu', 'tanh']\n",
    "optimizer_func = ['adam', 'sgd']\n",
    "\n",
    "for i in range(2):\n",
    "    for j in range(2):\n",
    "        #Build network\n",
    "        printmd(\"**Activation** = {}  **Optimizer** = {} \".format(activation_func[i], optimizer_func[j]))\n",
    "        model = Sequential()\n",
    "\n",
    "        model.add(Conv2D(32, kernel_size=(1, 3), strides=(1, 1), padding='valid',\n",
    "                     activation=activation_func[i],\n",
    "                     input_shape=input_shape))\n",
    "        model.add(Conv2D(64, (1, 3), activation=activation_func[i]))\n",
    "        model.add(MaxPooling2D(pool_size=(1, 2), strides=None))\n",
    "        model.add(Dropout(0.25)) \n",
    "        model.add(Flatten())\n",
    "        model.add(Dense(128, activation=activation_func[i]))\n",
    "        model.add(Dropout(0.5))\n",
    "        model.add(Dense(y_train_tf.shape[1], activation='softmax'))\n",
    "\n",
    "        model.compile(loss=\"categorical_crossentropy\", optimizer=optimizer_func[j], metrics=['accuracy'])\n",
    "\n",
    "        monitor = EarlyStopping(monitor='val_loss', min_delta=1e-3, patience=5, verbose=1, mode='auto')\n",
    "\n",
    "        model.fit(x_train_tf,y_train_tf, validation_data=(x_test_tf,y_test_tf), callbacks=[monitor,checkpointer],verbose=1,epochs=100, batch_size=512, shuffle=True)    # Verbosity mode. 0 = silent, 1 = progress bar, 2 = one line per epoch.\n",
    "    \n",
    "    \n",
    "print('Training finished...Loading the best model')  \n",
    "print()\n",
    "model.load_weights('.\\cnn.hdf5') # load weights from best model"
   ]
  },
  {
   "cell_type": "code",
   "execution_count": 44,
   "metadata": {},
   "outputs": [
    {
     "name": "stdout",
     "output_type": "stream",
     "text": [
      "_________________________________________________________________\n",
      "Layer (type)                 Output Shape              Param #   \n",
      "=================================================================\n",
      "conv2d_7 (Conv2D)            (None, 1, 37, 32)         128       \n",
      "_________________________________________________________________\n",
      "conv2d_8 (Conv2D)            (None, 1, 35, 64)         6208      \n",
      "_________________________________________________________________\n",
      "max_pooling2d_4 (MaxPooling2 (None, 1, 17, 64)         0         \n",
      "_________________________________________________________________\n",
      "dropout_15 (Dropout)         (None, 1, 17, 64)         0         \n",
      "_________________________________________________________________\n",
      "flatten_4 (Flatten)          (None, 1088)              0         \n",
      "_________________________________________________________________\n",
      "dense_23 (Dense)             (None, 128)               139392    \n",
      "_________________________________________________________________\n",
      "dropout_16 (Dropout)         (None, 128)               0         \n",
      "_________________________________________________________________\n",
      "dense_24 (Dense)             (None, 2)                 258       \n",
      "=================================================================\n",
      "Total params: 145,986\n",
      "Trainable params: 145,986\n",
      "Non-trainable params: 0\n",
      "_________________________________________________________________\n"
     ]
    }
   ],
   "source": [
    "model.summary()"
   ]
  },
  {
   "cell_type": "code",
   "execution_count": 45,
   "metadata": {},
   "outputs": [
    {
     "data": {
      "text/markdown": [
       "-----------------**Convolutional Neural Network Report**---------------"
      ],
      "text/plain": [
       "<IPython.core.display.Markdown object>"
      ]
     },
     "metadata": {},
     "output_type": "display_data"
    },
    {
     "name": "stdout",
     "output_type": "stream",
     "text": [
      "F1 score: 0.9798265532041928\n",
      "Confusion matrix: \n",
      " [[21917    25]\n",
      " [  706 13748]]\n",
      "Plotting confusion matrix\n"
     ]
    },
    {
     "data": {
      "image/png": "[encoded data removed]",
      "text/plain": [
       "<Figure size 432x288 with 2 Axes>"
      ]
     },
     "metadata": {
      "needs_background": "light"
     },
     "output_type": "display_data"
    },
    {
     "name": "stdout",
     "output_type": "stream",
     "text": [
      "              precision    recall  f1-score   support\n",
      "\n",
      "           0       0.97      1.00      0.98     21942\n",
      "           1       1.00      0.95      0.97     14454\n",
      "\n",
      "   micro avg       0.98      0.98      0.98     36396\n",
      "   macro avg       0.98      0.98      0.98     36396\n",
      "weighted avg       0.98      0.98      0.98     36396\n",
      "\n"
     ]
    },
    {
     "data": {
      "image/png": "[encoded data removed]",
      "text/plain": [
       "<Figure size 432x288 with 1 Axes>"
      ]
     },
     "metadata": {
      "needs_background": "light"
     },
     "output_type": "display_data"
    }
   ],
   "source": [
    "cnn_pred = model.predict(x_test_tf)\n",
    "cnn_pred = np.argmax(cnn_pred,axis=1)\n",
    "y_true = np.argmax(y_test_tf,axis=1)\n",
    "\n",
    "cnn_f1 = metrics.f1_score(y_true, cnn_pred, average= \"weighted\")\n",
    "cnn_cm = confusion_matrix(y_true, cnn_pred)\n",
    "printmd(\"-----------------**Convolutional Neural Network Report**---------------\")\n",
    "print(\"F1 score: {}\".format(cnn_f1))\n",
    "print(\"Confusion matrix: \\n\", cnn_cm)\n",
    "print('Plotting confusion matrix')\n",
    "\n",
    "plt.figure()\n",
    "plot_confusion_matrix(cnn_cm, ['Normal', 'Attack'])\n",
    "plt.show()\n",
    "\n",
    "print(classification_report(y_true, cnn_pred))\n",
    "\n",
    "cnn_pred = model.predict(x_test_tf)\n",
    "cnn_pred = cnn_pred[:,1] # Only positive class (1)\n",
    "plot_roc(cnn_pred,y_true)"
   ]
  },
  {
   "cell_type": "code",
   "execution_count": 46,
   "metadata": {},
   "outputs": [
    {
     "data": {
      "image/png": "[encoded data removed]",
      "text/plain": [
       "<Figure size 432x288 with 1 Axes>"
      ]
     },
     "metadata": {
      "needs_background": "light"
     },
     "output_type": "display_data"
    }
   ],
   "source": [
    "labels = ('CNN', 'NN', 'SVM', 'Log Regression', 'KNN', 'GNB')\n",
    "y_pos = np.arange(len(labels))\n",
    "measurement = [cnn_f1, nn_f1, svc_f1, logistic_f1, knn_f1, gnb_f1]\n",
    "\n",
    "plt.bar(y_pos, measurement, align='center', alpha=0.5)\n",
    "plt.xticks(y_pos, labels)\n",
    "plt.ylabel('F1')\n",
    "plt.title('F1 Comparision between Classification models')\n",
    "\n",
    "plt.show()"
   ]
  },
  {
   "cell_type": "markdown",
   "metadata": {},
   "source": [
    "# Multi-class classification\n",
    "\n",
    "We redefine the problem as a multi-class classification problem. We have 23 different outcomes for the output, 22 are classified as attack, and 1 is Normal connection\n",
    "\n",
    "The data preprocessing is the same as binary classification problem above, however, the output will have 23 labels instead of binary. We want to see how our previous models perform in this multi-class classification problem."
   ]
  },
  {
   "cell_type": "code",
   "execution_count": 47,
   "metadata": {},
   "outputs": [],
   "source": [
    "df = pd.read_csv('network_intrusion_data.csv')\n",
    "df.columns = [\n",
    " 'duration',\n",
    " 'protocol_type',\n",
    " 'service',\n",
    " 'flag',\n",
    " 'src_bytes',\n",
    " 'dst_bytes',\n",
    " 'land',\n",
    " 'wrong_fragment',\n",
    " 'urgent',\n",
    " 'hot',\n",
    " 'num_failed_logins',\n",
    " 'logged_in',\n",
    " 'num_compromised',\n",
    " 'root_shell',\n",
    " 'su_attempted',\n",
    " 'num_root',\n",
    " 'num_file_creations',\n",
    " 'num_shells',\n",
    " 'num_access_files',\n",
    " 'num_outbound_cmds',\n",
    " 'is_host_login',\n",
    " 'is_guest_login',\n",
    " 'count',\n",
    " 'srv_count',\n",
    " 'serror_rate',\n",
    " 'srv_serror_rate',\n",
    " 'rerror_rate',\n",
    " 'srv_rerror_rate',\n",
    " 'same_srv_rate',\n",
    " 'diff_srv_rate',\n",
    " 'srv_diff_host_rate',\n",
    " 'dst_host_count',\n",
    " 'dst_host_srv_count',\n",
    " 'dst_host_same_srv_rate',\n",
    " 'dst_host_diff_srv_rate',\n",
    " 'dst_host_same_src_port_rate',\n",
    " 'dst_host_srv_diff_host_rate',\n",
    " 'dst_host_serror_rate',\n",
    " 'dst_host_srv_serror_rate',\n",
    " 'dst_host_rerror_rate',\n",
    " 'dst_host_srv_rerror_rate',\n",
    " 'outcome'\n",
    "]"
   ]
  },
  {
   "cell_type": "code",
   "execution_count": 48,
   "metadata": {},
   "outputs": [
    {
     "data": {
      "text/html": [
       "<div>\n",
       "<style scoped>\n",
       "    .dataframe tbody tr th:only-of-type {\n",
       "        vertical-align: middle;\n",
       "    }\n",
       "\n",
       "    .dataframe tbody tr th {\n",
       "        vertical-align: top;\n",
       "    }\n",
       "\n",
       "    .dataframe thead th {\n",
       "        text-align: right;\n",
       "    }\n",
       "</style>\n",
       "<table border=\"1\" class=\"dataframe\">\n",
       "  <thead>\n",
       "    <tr style=\"text-align: right;\">\n",
       "      <th></th>\n",
       "      <th>duration</th>\n",
       "      <th>protocol_type</th>\n",
       "      <th>service</th>\n",
       "      <th>flag</th>\n",
       "      <th>src_bytes</th>\n",
       "      <th>dst_bytes</th>\n",
       "      <th>land</th>\n",
       "      <th>wrong_fragment</th>\n",
       "      <th>urgent</th>\n",
       "      <th>hot</th>\n",
       "      <th>...</th>\n",
       "      <th>dst_host_srv_count</th>\n",
       "      <th>dst_host_same_srv_rate</th>\n",
       "      <th>dst_host_diff_srv_rate</th>\n",
       "      <th>dst_host_same_src_port_rate</th>\n",
       "      <th>dst_host_srv_diff_host_rate</th>\n",
       "      <th>dst_host_serror_rate</th>\n",
       "      <th>dst_host_srv_serror_rate</th>\n",
       "      <th>dst_host_rerror_rate</th>\n",
       "      <th>dst_host_srv_rerror_rate</th>\n",
       "      <th>outcome</th>\n",
       "    </tr>\n",
       "  </thead>\n",
       "  <tbody>\n",
       "    <tr>\n",
       "      <th>0</th>\n",
       "      <td>0</td>\n",
       "      <td>tcp</td>\n",
       "      <td>http</td>\n",
       "      <td>SF</td>\n",
       "      <td>239</td>\n",
       "      <td>486</td>\n",
       "      <td>0</td>\n",
       "      <td>0</td>\n",
       "      <td>0</td>\n",
       "      <td>0</td>\n",
       "      <td>...</td>\n",
       "      <td>19</td>\n",
       "      <td>1.0</td>\n",
       "      <td>0.0</td>\n",
       "      <td>0.05</td>\n",
       "      <td>0.0</td>\n",
       "      <td>0.0</td>\n",
       "      <td>0.0</td>\n",
       "      <td>0.0</td>\n",
       "      <td>0.0</td>\n",
       "      <td>normal.</td>\n",
       "    </tr>\n",
       "    <tr>\n",
       "      <th>1</th>\n",
       "      <td>0</td>\n",
       "      <td>tcp</td>\n",
       "      <td>http</td>\n",
       "      <td>SF</td>\n",
       "      <td>235</td>\n",
       "      <td>1337</td>\n",
       "      <td>0</td>\n",
       "      <td>0</td>\n",
       "      <td>0</td>\n",
       "      <td>0</td>\n",
       "      <td>...</td>\n",
       "      <td>29</td>\n",
       "      <td>1.0</td>\n",
       "      <td>0.0</td>\n",
       "      <td>0.03</td>\n",
       "      <td>0.0</td>\n",
       "      <td>0.0</td>\n",
       "      <td>0.0</td>\n",
       "      <td>0.0</td>\n",
       "      <td>0.0</td>\n",
       "      <td>normal.</td>\n",
       "    </tr>\n",
       "    <tr>\n",
       "      <th>2</th>\n",
       "      <td>0</td>\n",
       "      <td>tcp</td>\n",
       "      <td>http</td>\n",
       "      <td>SF</td>\n",
       "      <td>219</td>\n",
       "      <td>1337</td>\n",
       "      <td>0</td>\n",
       "      <td>0</td>\n",
       "      <td>0</td>\n",
       "      <td>0</td>\n",
       "      <td>...</td>\n",
       "      <td>39</td>\n",
       "      <td>1.0</td>\n",
       "      <td>0.0</td>\n",
       "      <td>0.03</td>\n",
       "      <td>0.0</td>\n",
       "      <td>0.0</td>\n",
       "      <td>0.0</td>\n",
       "      <td>0.0</td>\n",
       "      <td>0.0</td>\n",
       "      <td>normal.</td>\n",
       "    </tr>\n",
       "    <tr>\n",
       "      <th>3</th>\n",
       "      <td>0</td>\n",
       "      <td>tcp</td>\n",
       "      <td>http</td>\n",
       "      <td>SF</td>\n",
       "      <td>217</td>\n",
       "      <td>2032</td>\n",
       "      <td>0</td>\n",
       "      <td>0</td>\n",
       "      <td>0</td>\n",
       "      <td>0</td>\n",
       "      <td>...</td>\n",
       "      <td>49</td>\n",
       "      <td>1.0</td>\n",
       "      <td>0.0</td>\n",
       "      <td>0.02</td>\n",
       "      <td>0.0</td>\n",
       "      <td>0.0</td>\n",
       "      <td>0.0</td>\n",
       "      <td>0.0</td>\n",
       "      <td>0.0</td>\n",
       "      <td>normal.</td>\n",
       "    </tr>\n",
       "    <tr>\n",
       "      <th>4</th>\n",
       "      <td>0</td>\n",
       "      <td>tcp</td>\n",
       "      <td>http</td>\n",
       "      <td>SF</td>\n",
       "      <td>217</td>\n",
       "      <td>2032</td>\n",
       "      <td>0</td>\n",
       "      <td>0</td>\n",
       "      <td>0</td>\n",
       "      <td>0</td>\n",
       "      <td>...</td>\n",
       "      <td>59</td>\n",
       "      <td>1.0</td>\n",
       "      <td>0.0</td>\n",
       "      <td>0.02</td>\n",
       "      <td>0.0</td>\n",
       "      <td>0.0</td>\n",
       "      <td>0.0</td>\n",
       "      <td>0.0</td>\n",
       "      <td>0.0</td>\n",
       "      <td>normal.</td>\n",
       "    </tr>\n",
       "  </tbody>\n",
       "</table>\n",
       "<p>5 rows × 42 columns</p>\n",
       "</div>"
      ],
      "text/plain": [
       "   duration protocol_type service flag  src_bytes  dst_bytes  land  \\\n",
       "0         0           tcp    http   SF        239        486     0   \n",
       "1         0           tcp    http   SF        235       1337     0   \n",
       "2         0           tcp    http   SF        219       1337     0   \n",
       "3         0           tcp    http   SF        217       2032     0   \n",
       "4         0           tcp    http   SF        217       2032     0   \n",
       "\n",
       "   wrong_fragment  urgent  hot  ...  dst_host_srv_count  \\\n",
       "0               0       0    0  ...                  19   \n",
       "1               0       0    0  ...                  29   \n",
       "2               0       0    0  ...                  39   \n",
       "3               0       0    0  ...                  49   \n",
       "4               0       0    0  ...                  59   \n",
       "\n",
       "   dst_host_same_srv_rate  dst_host_diff_srv_rate  \\\n",
       "0                     1.0                     0.0   \n",
       "1                     1.0                     0.0   \n",
       "2                     1.0                     0.0   \n",
       "3                     1.0                     0.0   \n",
       "4                     1.0                     0.0   \n",
       "\n",
       "   dst_host_same_src_port_rate  dst_host_srv_diff_host_rate  \\\n",
       "0                         0.05                          0.0   \n",
       "1                         0.03                          0.0   \n",
       "2                         0.03                          0.0   \n",
       "3                         0.02                          0.0   \n",
       "4                         0.02                          0.0   \n",
       "\n",
       "   dst_host_serror_rate  dst_host_srv_serror_rate  dst_host_rerror_rate  \\\n",
       "0                   0.0                       0.0                   0.0   \n",
       "1                   0.0                       0.0                   0.0   \n",
       "2                   0.0                       0.0                   0.0   \n",
       "3                   0.0                       0.0                   0.0   \n",
       "4                   0.0                       0.0                   0.0   \n",
       "\n",
       "   dst_host_srv_rerror_rate  outcome  \n",
       "0                       0.0  normal.  \n",
       "1                       0.0  normal.  \n",
       "2                       0.0  normal.  \n",
       "3                       0.0  normal.  \n",
       "4                       0.0  normal.  \n",
       "\n",
       "[5 rows x 42 columns]"
      ]
     },
     "execution_count": 48,
     "metadata": {},
     "output_type": "execute_result"
    }
   ],
   "source": [
    "df.head()"
   ]
  },
  {
   "cell_type": "code",
   "execution_count": 49,
   "metadata": {},
   "outputs": [
    {
     "data": {
      "text/plain": [
       "(494020, 42)"
      ]
     },
     "execution_count": 49,
     "metadata": {},
     "output_type": "execute_result"
    }
   ],
   "source": [
    "df.shape"
   ]
  },
  {
   "cell_type": "code",
   "execution_count": 50,
   "metadata": {},
   "outputs": [],
   "source": [
    "# df = df.loc[:, (df != 0).any(axis=0)] #drop columns with all 0\n",
    "unique_val = df.apply(pd.Series.nunique)\n",
    "cols_to_drop = unique_val[unique_val==1].index\n",
    "df = df.drop(cols_to_drop, axis=1)"
   ]
  },
  {
   "cell_type": "code",
   "execution_count": 51,
   "metadata": {},
   "outputs": [
    {
     "data": {
      "text/plain": [
       "(494020, 40)"
      ]
     },
     "execution_count": 51,
     "metadata": {},
     "output_type": "execute_result"
    }
   ],
   "source": [
    "df.shape"
   ]
  },
  {
   "cell_type": "code",
   "execution_count": 52,
   "metadata": {},
   "outputs": [],
   "source": [
    "df.drop_duplicates(keep='first', inplace=True)"
   ]
  },
  {
   "cell_type": "code",
   "execution_count": 53,
   "metadata": {},
   "outputs": [
    {
     "data": {
      "text/plain": [
       "(145585, 40)"
      ]
     },
     "execution_count": 53,
     "metadata": {},
     "output_type": "execute_result"
    }
   ],
   "source": [
    "df.shape"
   ]
  },
  {
   "cell_type": "code",
   "execution_count": 54,
   "metadata": {},
   "outputs": [],
   "source": [
    "connection_type, count = np.unique(df['outcome'].values,return_counts=True)"
   ]
  },
  {
   "cell_type": "code",
   "execution_count": 55,
   "metadata": {},
   "outputs": [
    {
     "data": {
      "image/png": "[encoded data removed]",
      "text/plain": [
       "<Figure size 432x288 with 1 Axes>"
      ]
     },
     "metadata": {
      "needs_background": "light"
     },
     "output_type": "display_data"
    }
   ],
   "source": [
    "x_pos = np.arange(len(connection_type))\n",
    "measurement = count\n",
    "\n",
    "plt.barh(x_pos, measurement, align='center', alpha=0.5)\n",
    "plt.ylabel('Connections')\n",
    "plt.xlabel('Frequency')\n",
    "plt.title('Frequency between different types of connections')\n",
    "plt.yticks(x_pos, connection_type)\n",
    "\n",
    "plt.show()"
   ]
  },
  {
   "cell_type": "code",
   "execution_count": 56,
   "metadata": {},
   "outputs": [
    {
     "name": "stderr",
     "output_type": "stream",
     "text": [
      "C:\\Users\\hgdan\\Anaconda3\\envs\\tf-gpu\\lib\\site-packages\\sklearn\\preprocessing\\data.py:625: DataConversionWarning: Data with input dtype int64, float64 were all converted to float64 by StandardScaler.\n",
      "  return self.partial_fit(X, y)\n",
      "C:\\Users\\hgdan\\Anaconda3\\envs\\tf-gpu\\lib\\site-packages\\sklearn\\base.py:462: DataConversionWarning: Data with input dtype int64, float64 were all converted to float64 by StandardScaler.\n",
      "  return self.fit(X, **fit_params).transform(X)\n"
     ]
    }
   ],
   "source": [
    "#from sklearn.preprocessing import StandardScaler\n",
    "\n",
    "scaler = preprocessing.StandardScaler()\n",
    "\n",
    "cols_to_normalize = df.select_dtypes(include=['int64', 'float64']).columns\n",
    "numeric_features = scaler.fit_transform(df.select_dtypes(include=['float64','int64']))\n",
    "\n",
    "numeric_features = pd.DataFrame(numeric_features, columns=cols_to_normalize)"
   ]
  },
  {
   "cell_type": "code",
   "execution_count": 57,
   "metadata": {},
   "outputs": [
    {
     "data": {
      "text/plain": [
       "(145585, 36)"
      ]
     },
     "execution_count": 57,
     "metadata": {},
     "output_type": "execute_result"
    }
   ],
   "source": [
    "numeric_features.shape"
   ]
  },
  {
   "cell_type": "code",
   "execution_count": 58,
   "metadata": {},
   "outputs": [],
   "source": [
    "scaler = preprocessing.LabelEncoder()\n",
    "\n",
    "cols_to_encode = df.select_dtypes(include=['object']).columns\n",
    "label_features = df.select_dtypes(include=['object']).apply(scaler.fit_transform)\n",
    "\n",
    "label_features = pd.DataFrame(label_features, columns=cols_to_encode)"
   ]
  },
  {
   "cell_type": "code",
   "execution_count": 59,
   "metadata": {},
   "outputs": [
    {
     "data": {
      "text/html": [
       "<div>\n",
       "<style scoped>\n",
       "    .dataframe tbody tr th:only-of-type {\n",
       "        vertical-align: middle;\n",
       "    }\n",
       "\n",
       "    .dataframe tbody tr th {\n",
       "        vertical-align: top;\n",
       "    }\n",
       "\n",
       "    .dataframe thead th {\n",
       "        text-align: right;\n",
       "    }\n",
       "</style>\n",
       "<table border=\"1\" class=\"dataframe\">\n",
       "  <thead>\n",
       "    <tr style=\"text-align: right;\">\n",
       "      <th></th>\n",
       "      <th>protocol_type</th>\n",
       "      <th>service</th>\n",
       "      <th>flag</th>\n",
       "      <th>outcome</th>\n",
       "    </tr>\n",
       "  </thead>\n",
       "  <tbody>\n",
       "    <tr>\n",
       "      <th>0</th>\n",
       "      <td>1</td>\n",
       "      <td>22</td>\n",
       "      <td>9</td>\n",
       "      <td>11</td>\n",
       "    </tr>\n",
       "    <tr>\n",
       "      <th>1</th>\n",
       "      <td>1</td>\n",
       "      <td>22</td>\n",
       "      <td>9</td>\n",
       "      <td>11</td>\n",
       "    </tr>\n",
       "    <tr>\n",
       "      <th>2</th>\n",
       "      <td>1</td>\n",
       "      <td>22</td>\n",
       "      <td>9</td>\n",
       "      <td>11</td>\n",
       "    </tr>\n",
       "    <tr>\n",
       "      <th>3</th>\n",
       "      <td>1</td>\n",
       "      <td>22</td>\n",
       "      <td>9</td>\n",
       "      <td>11</td>\n",
       "    </tr>\n",
       "    <tr>\n",
       "      <th>4</th>\n",
       "      <td>1</td>\n",
       "      <td>22</td>\n",
       "      <td>9</td>\n",
       "      <td>11</td>\n",
       "    </tr>\n",
       "  </tbody>\n",
       "</table>\n",
       "</div>"
      ],
      "text/plain": [
       "   protocol_type  service  flag  outcome\n",
       "0              1       22     9       11\n",
       "1              1       22     9       11\n",
       "2              1       22     9       11\n",
       "3              1       22     9       11\n",
       "4              1       22     9       11"
      ]
     },
     "execution_count": 59,
     "metadata": {},
     "output_type": "execute_result"
    }
   ],
   "source": [
    "label_features.head()"
   ]
  },
  {
   "cell_type": "code",
   "execution_count": 60,
   "metadata": {},
   "outputs": [],
   "source": [
    "label_features.drop(columns=['outcome'], inplace=True)"
   ]
  },
  {
   "cell_type": "code",
   "execution_count": 61,
   "metadata": {},
   "outputs": [
    {
     "data": {
      "text/plain": [
       "(145585, 3)"
      ]
     },
     "execution_count": 61,
     "metadata": {},
     "output_type": "execute_result"
    }
   ],
   "source": [
    "label_features.shape"
   ]
  },
  {
   "cell_type": "code",
   "execution_count": 62,
   "metadata": {},
   "outputs": [
    {
     "data": {
      "text/plain": [
       "(145585, 39)"
      ]
     },
     "execution_count": 62,
     "metadata": {},
     "output_type": "execute_result"
    }
   ],
   "source": [
    "numeric_features.reset_index(drop=True, inplace=True)\n",
    "label_features.reset_index(drop=True, inplace=True)\n",
    "input_data = pd.concat([numeric_features, label_features], axis=1)\n",
    "input_data.shape"
   ]
  },
  {
   "cell_type": "code",
   "execution_count": 63,
   "metadata": {},
   "outputs": [
    {
     "data": {
      "text/plain": [
       "(145585,)"
      ]
     },
     "execution_count": 63,
     "metadata": {},
     "output_type": "execute_result"
    }
   ],
   "source": [
    "scaler = preprocessing.LabelEncoder()\n",
    "\n",
    "output_data = scaler.fit_transform(df['outcome'])\n",
    "output_data.shape"
   ]
  },
  {
   "cell_type": "code",
   "execution_count": 64,
   "metadata": {},
   "outputs": [
    {
     "data": {
      "text/plain": [
       "(array([ 0,  1,  2,  3,  4,  5,  6,  7,  8,  9, 10, 11, 12, 13, 14, 15, 16,\n",
       "        17, 18, 19, 20, 21, 22]),\n",
       " array([  968,    30,     8,    53,    12,   651,    19,     9,     7,\n",
       "        51820,   158, 87831,     3,     4,   206,   416,    10,   906,\n",
       "          641,     2,   918,   893,    20], dtype=int64))"
      ]
     },
     "execution_count": 64,
     "metadata": {},
     "output_type": "execute_result"
    }
   ],
   "source": [
    "np.unique(output_data,return_counts=True)"
   ]
  },
  {
   "cell_type": "code",
   "execution_count": 65,
   "metadata": {},
   "outputs": [
    {
     "data": {
      "text/plain": [
       "array(['back.', 'buffer_overflow.', 'ftp_write.', 'guess_passwd.',\n",
       "       'imap.', 'ipsweep.', 'land.', 'loadmodule.', 'multihop.',\n",
       "       'neptune.', 'nmap.', 'normal.', 'perl.', 'phf.', 'pod.',\n",
       "       'portsweep.', 'rootkit.', 'satan.', 'smurf.', 'spy.', 'teardrop.',\n",
       "       'warezclient.', 'warezmaster.'], dtype=object)"
      ]
     },
     "execution_count": 65,
     "metadata": {},
     "output_type": "execute_result"
    }
   ],
   "source": [
    "original_outcome = scaler.inverse_transform(output_data)\n",
    "original_outcome = np.unique(original_outcome)\n",
    "original_outcome"
   ]
  },
  {
   "cell_type": "markdown",
   "metadata": {},
   "source": [
    "# Sklearn models for Multi-class classification"
   ]
  },
  {
   "cell_type": "code",
   "execution_count": 66,
   "metadata": {},
   "outputs": [],
   "source": [
    "x_train, x_test, y_train, y_test = train_test_split(input_data, output_data, test_size=0.25, random_state=43)"
   ]
  },
  {
   "cell_type": "code",
   "execution_count": 67,
   "metadata": {},
   "outputs": [
    {
     "name": "stderr",
     "output_type": "stream",
     "text": [
      "C:\\Users\\hgdan\\Anaconda3\\envs\\tf-gpu\\lib\\site-packages\\sklearn\\linear_model\\logistic.py:758: ConvergenceWarning: lbfgs failed to converge. Increase the number of iterations.\n",
      "  \"of iterations.\", ConvergenceWarning)\n",
      "C:\\Users\\hgdan\\Anaconda3\\envs\\tf-gpu\\lib\\site-packages\\sklearn\\svm\\base.py:931: ConvergenceWarning: Liblinear failed to converge, increase the number of iterations.\n",
      "  \"the number of iterations.\", ConvergenceWarning)\n"
     ]
    },
    {
     "data": {
      "text/plain": [
       "GaussianNB(priors=None, var_smoothing=1e-09)"
      ]
     },
     "execution_count": 67,
     "metadata": {},
     "output_type": "execute_result"
    }
   ],
   "source": [
    "# Initiate and train all the models\n",
    "logreg = LogisticRegression(solver='lbfgs', multi_class='multinomial')\n",
    "logreg.fit(x_train, y_train)\n",
    "\n",
    "svc = LinearSVC(dual=False)\n",
    "svc.fit(x_train, y_train)\n",
    "\n",
    "knn = KNeighborsClassifier(n_neighbors=10)\n",
    "knn.fit(x_train, y_train)\n",
    "\n",
    "gnb = GaussianNB()\n",
    "gnb.fit(x_train, y_train)"
   ]
  },
  {
   "cell_type": "code",
   "execution_count": 68,
   "metadata": {},
   "outputs": [
    {
     "name": "stderr",
     "output_type": "stream",
     "text": [
      "C:\\Users\\hgdan\\Anaconda3\\envs\\tf-gpu\\lib\\site-packages\\sklearn\\metrics\\classification.py:1143: UndefinedMetricWarning: F-score is ill-defined and being set to 0.0 in labels with no predicted samples.\n",
      "  'precision', 'predicted', average, warn_for)\n"
     ]
    },
    {
     "data": {
      "text/markdown": [
       "-----------------**Logistic Regression Report**---------------"
      ],
      "text/plain": [
       "<IPython.core.display.Markdown object>"
      ]
     },
     "metadata": {},
     "output_type": "display_data"
    },
    {
     "name": "stdout",
     "output_type": "stream",
     "text": [
      "F1 score: 0.9932021282992053\n",
      "Confusion matrix: \n",
      " [[  254     0     0     0     0     0     0     0     0     0     0    14\n",
      "      0     0     0     0     0     0     0     0     0     0     0]\n",
      " [    0     5     0     0     0     0     0     0     0     0     0     1\n",
      "      0     0     0     0     0     0     0     0     0     2     0]\n",
      " [    0     0     0     0     0     0     0     0     0     0     0     1\n",
      "      0     0     0     0     0     0     0     0     0     0     0]\n",
      " [    0     0     0     7     0     0     0     0     0     0     0     0\n",
      "      0     0     0     0     0     0     0     0     0     0     0]\n",
      " [    0     0     0     0     0     0     0     0     0     0     2     1\n",
      "      0     0     0     0     0     0     0     0     0     0     0]\n",
      " [    0     0     0     0     0   130     0     0     0     0     2    16\n",
      "      0     0     0     0     0     0     0     0     0     0     0]\n",
      " [    0     0     0     0     0     0     5     0     0     0     0     1\n",
      "      0     0     0     0     0     0     0     0     0     0     0]\n",
      " [    0     0     0     0     0     0     0     0     0     0     0     2\n",
      "      0     0     0     0     0     0     0     0     0     0     0]\n",
      " [    0     0     0     0     0     0     0     0     0     0     0     2\n",
      "      0     0     0     0     0     0     0     0     0     0     0]\n",
      " [    0     0     0     1     0     0     0     0     0 13014     1     1\n",
      "      0     0     0     0     0     0     0     0     0     0     0]\n",
      " [    0     0     0     0     0    19     0     0     0     0     8    18\n",
      "      0     0     0     0     0     0     0     0     0     0     0]\n",
      " [    5     1     0     0     0     6     0     0     0     3     0 21793\n",
      "      0     2     0     3     0    12     6     0     0    30     1]\n",
      " [    0     0     0     0     0     0     0     0     0     0     0     0\n",
      "      1     0     0     0     0     0     0     0     0     0     0]\n",
      " [    0     0     0     0     0     0     0     0     0     0     0     0\n",
      "      0     2     0     0     0     0     0     0     0     0     0]\n",
      " [    0     0     0     0     0     0     0     0     0     0     0     2\n",
      "      0     0    54     0     0     0     0     0     0     0     0]\n",
      " [    0     0     0     0     0     0     0     0     0     9     0     9\n",
      "      0     0     0    97     0     0     0     0     0     3     0]\n",
      " [    0     1     0     0     0     0     0     0     0     0     0     2\n",
      "      0     0     0     0     0     0     0     0     0     0     0]\n",
      " [    0     0     0     0     0     0     0     0     0     0     0    22\n",
      "      0     0     0     4     0   204     0     0     0     0     0]\n",
      " [    0     0     0     0     0     0     0     0     0     0     0     3\n",
      "      0     0     0     0     0     0   152     0     0     0     0]\n",
      " [    0     0     0     0     0     0     0     0     0     0     0     1\n",
      "      0     0     0     0     0     0     0     0     0     0     0]\n",
      " [    0     0     0     0     0     0     0     0     0     0     0     0\n",
      "      0     0     0     0     0     1     0     0   239     0     0]\n",
      " [    0     0     0     0     0     0     0     0     0     0     0    18\n",
      "      0     0     0     1     0     0     0     0     0   197     0]\n",
      " [    0     0     0     0     0     0     0     0     0     0     0     1\n",
      "      0     0     0     0     0     0     0     0     0     0     5]]\n",
      "Plotting confusion matrix\n"
     ]
    },
    {
     "data": {
      "image/png": "[encoded data removed]",
      "text/plain": [
       "<Figure size 432x288 with 2 Axes>"
      ]
     },
     "metadata": {
      "needs_background": "light"
     },
     "output_type": "display_data"
    },
    {
     "name": "stdout",
     "output_type": "stream",
     "text": [
      "                  precision    recall  f1-score   support\n",
      "\n",
      "           back.       0.98      0.95      0.96       268\n",
      "buffer_overflow.       0.71      0.62      0.67         8\n",
      "      ftp_write.       0.00      0.00      0.00         1\n",
      "   guess_passwd.       0.88      1.00      0.93         7\n",
      "           imap.       0.00      0.00      0.00         3\n",
      "        ipsweep.       0.84      0.88      0.86       148\n",
      "           land.       1.00      0.83      0.91         6\n",
      "     loadmodule.       0.00      0.00      0.00         2\n",
      "       multihop.       0.00      0.00      0.00         2\n",
      "        neptune.       1.00      1.00      1.00     13017\n",
      "           nmap.       0.62      0.18      0.28        45\n",
      "         normal.       0.99      1.00      1.00     21862\n",
      "           perl.       1.00      1.00      1.00         1\n",
      "            phf.       0.50      1.00      0.67         2\n",
      "            pod.       1.00      0.96      0.98        56\n",
      "      portsweep.       0.92      0.82      0.87       118\n",
      "        rootkit.       0.00      0.00      0.00         3\n",
      "          satan.       0.94      0.89      0.91       230\n",
      "          smurf.       0.96      0.98      0.97       155\n",
      "            spy.       0.00      0.00      0.00         1\n",
      "       teardrop.       1.00      1.00      1.00       240\n",
      "    warezclient.       0.85      0.91      0.88       216\n",
      "    warezmaster.       0.83      0.83      0.83         6\n",
      "\n",
      "       micro avg       0.99      0.99      0.99     36397\n",
      "       macro avg       0.65      0.65      0.64     36397\n",
      "    weighted avg       0.99      0.99      0.99     36397\n",
      "\n"
     ]
    },
    {
     "name": "stderr",
     "output_type": "stream",
     "text": [
      "C:\\Users\\hgdan\\Anaconda3\\envs\\tf-gpu\\lib\\site-packages\\sklearn\\metrics\\classification.py:1143: UndefinedMetricWarning: Precision and F-score are ill-defined and being set to 0.0 in labels with no predicted samples.\n",
      "  'precision', 'predicted', average, warn_for)\n"
     ]
    }
   ],
   "source": [
    "y_pred_Logistic = logreg.predict(x_test)\n",
    "logistic_f1 = metrics.f1_score(y_test, y_pred_Logistic, average= \"weighted\")\n",
    "logistic_cm = confusion_matrix(y_test, y_pred_Logistic)\n",
    "printmd(\"-----------------**Logistic Regression Report**---------------\")\n",
    "print(\"F1 score: {}\".format(logistic_f1))\n",
    "print(\"Confusion matrix: \\n\", str(logistic_cm))\n",
    "print('Plotting confusion matrix')\n",
    "\n",
    "plt.figure()\n",
    "plot_confusion_matrix(logistic_cm, original_outcome)\n",
    "plt.show()\n",
    "\n",
    "print(classification_report(y_test, y_pred_Logistic, target_names=original_outcome))"
   ]
  },
  {
   "cell_type": "code",
   "execution_count": 69,
   "metadata": {},
   "outputs": [
    {
     "name": "stderr",
     "output_type": "stream",
     "text": [
      "C:\\Users\\hgdan\\Anaconda3\\envs\\tf-gpu\\lib\\site-packages\\sklearn\\metrics\\classification.py:1143: UndefinedMetricWarning: F-score is ill-defined and being set to 0.0 in labels with no predicted samples.\n",
      "  'precision', 'predicted', average, warn_for)\n"
     ]
    },
    {
     "data": {
      "text/markdown": [
       "-----------------**SVM Report**---------------"
      ],
      "text/plain": [
       "<IPython.core.display.Markdown object>"
      ]
     },
     "metadata": {},
     "output_type": "display_data"
    },
    {
     "name": "stdout",
     "output_type": "stream",
     "text": [
      "F1 score: 0.9947093296224214\n",
      "Confusion matrix: \n",
      " [[  254     0     0     0     0     0     0     0     0     0     0    14\n",
      "      0     0     0     0     0     0     0     0     0     0     0]\n",
      " [    0     5     0     0     0     0     0     1     0     0     0     0\n",
      "      0     0     0     0     0     0     0     0     0     2     0]\n",
      " [    0     0     0     0     0     0     0     0     0     0     0     1\n",
      "      0     0     0     0     0     0     0     0     0     0     0]\n",
      " [    0     0     0     7     0     0     0     0     0     0     0     0\n",
      "      0     0     0     0     0     0     0     0     0     0     0]\n",
      " [    0     0     0     0     2     0     0     0     0     0     0     1\n",
      "      0     0     0     0     0     0     0     0     0     0     0]\n",
      " [    0     0     0     0     0   141     0     0     0     0     2     5\n",
      "      0     0     0     0     0     0     0     0     0     0     0]\n",
      " [    0     0     0     1     0     0     4     0     0     0     0     1\n",
      "      0     0     0     0     0     0     0     0     0     0     0]\n",
      " [    0     0     0     0     0     0     0     0     0     0     0     1\n",
      "      1     0     0     0     0     0     0     0     0     0     0]\n",
      " [    0     0     0     0     0     0     0     0     0     0     0     2\n",
      "      0     0     0     0     0     0     0     0     0     0     0]\n",
      " [    0     0     0     0     0     0     0     1     0 13014     0     2\n",
      "      0     0     0     0     0     0     0     0     0     0     0]\n",
      " [    0     0     0     0     0     4     0     0     0     0    19    22\n",
      "      0     0     0     0     0     0     0     0     0     0     0]\n",
      " [    0     1     1     1     2     3     0     0     0     1     2 21824\n",
      "      1     0     0     2     2     0     5     0     0    17     0]\n",
      " [    0     0     0     0     0     0     0     0     0     0     0     0\n",
      "      1     0     0     0     0     0     0     0     0     0     0]\n",
      " [    0     0     0     0     0     0     0     0     0     0     0     0\n",
      "      0     2     0     0     0     0     0     0     0     0     0]\n",
      " [    0     0     0     0     0     0     0     0     0     0     2     0\n",
      "      0     0    54     0     0     0     0     0     0     0     0]\n",
      " [    0     0     0     0     0     0     0     0     0     0     0    13\n",
      "      0     0     0   104     0     0     0     0     0     1     0]\n",
      " [    0     0     0     0     0     0     0     0     0     0     0     3\n",
      "      0     0     0     0     0     0     0     0     0     0     0]\n",
      " [    0     0     0     0     0     1     0     0     0     0     0    43\n",
      "      0     0     0     1     1   184     0     0     0     0     0]\n",
      " [    0     0     0     0     0     0     0     0     0     0     0     1\n",
      "      0     0     0     0     0     0   154     0     0     0     0]\n",
      " [    0     0     0     0     0     0     0     0     0     0     0     1\n",
      "      0     0     0     0     0     0     0     0     0     0     0]\n",
      " [    0     0     0     0     0     0     0     0     0     0     0     0\n",
      "      0     0     0     0     0     0     0     0   240     0     0]\n",
      " [    0     0     0     0     0     0     0     0     0     0     0    16\n",
      "      0     0     0     1     0     0     0     0     0   199     0]\n",
      " [    0     0     0     0     0     0     0     0     0     0     0     1\n",
      "      0     0     0     0     0     0     0     0     0     0     5]]\n",
      "Plotting confusion matrix\n"
     ]
    },
    {
     "data": {
      "image/png": "[encoded data removed]",
      "text/plain": [
       "<Figure size 432x288 with 2 Axes>"
      ]
     },
     "metadata": {
      "needs_background": "light"
     },
     "output_type": "display_data"
    },
    {
     "name": "stdout",
     "output_type": "stream",
     "text": [
      "                  precision    recall  f1-score   support\n",
      "\n",
      "           back.       1.00      0.95      0.97       268\n",
      "buffer_overflow.       0.83      0.62      0.71         8\n",
      "      ftp_write.       0.00      0.00      0.00         1\n",
      "   guess_passwd.       0.78      1.00      0.88         7\n",
      "           imap.       0.50      0.67      0.57         3\n",
      "        ipsweep.       0.95      0.95      0.95       148\n",
      "           land.       1.00      0.67      0.80         6\n",
      "     loadmodule.       0.00      0.00      0.00         2\n",
      "       multihop.       0.00      0.00      0.00         2\n",
      "        neptune.       1.00      1.00      1.00     13017\n",
      "           nmap.       0.76      0.42      0.54        45\n",
      "         normal.       0.99      1.00      1.00     21862\n",
      "           perl.       0.33      1.00      0.50         1\n",
      "            phf.       1.00      1.00      1.00         2\n",
      "            pod.       1.00      0.96      0.98        56\n",
      "      portsweep.       0.96      0.88      0.92       118\n",
      "        rootkit.       0.00      0.00      0.00         3\n",
      "          satan.       1.00      0.80      0.89       230\n",
      "          smurf.       0.97      0.99      0.98       155\n",
      "            spy.       0.00      0.00      0.00         1\n",
      "       teardrop.       1.00      1.00      1.00       240\n",
      "    warezclient.       0.91      0.92      0.91       216\n",
      "    warezmaster.       1.00      0.83      0.91         6\n",
      "\n",
      "       micro avg       0.99      0.99      0.99     36397\n",
      "       macro avg       0.70      0.68      0.67     36397\n",
      "    weighted avg       0.99      0.99      0.99     36397\n",
      "\n"
     ]
    },
    {
     "name": "stderr",
     "output_type": "stream",
     "text": [
      "C:\\Users\\hgdan\\Anaconda3\\envs\\tf-gpu\\lib\\site-packages\\sklearn\\metrics\\classification.py:1143: UndefinedMetricWarning: Precision and F-score are ill-defined and being set to 0.0 in labels with no predicted samples.\n",
      "  'precision', 'predicted', average, warn_for)\n"
     ]
    }
   ],
   "source": [
    "y_pred_svc = svc.predict(x_test)\n",
    "svc_f1 = metrics.f1_score(y_test, y_pred_svc, average= \"weighted\")\n",
    "svc_cm = confusion_matrix(y_test, y_pred_svc)\n",
    "printmd(\"-----------------**SVM Report**---------------\")\n",
    "print(\"F1 score: {}\".format(svc_f1))\n",
    "print(\"Confusion matrix: \\n\", svc_cm)\n",
    "print('Plotting confusion matrix')\n",
    "\n",
    "plt.figure()\n",
    "plot_confusion_matrix(svc_cm, original_outcome)\n",
    "plt.show()\n",
    "\n",
    "print(classification_report(y_test, y_pred_svc, target_names=original_outcome))\n",
    "\n",
    "#plot_roc(y_pred_svc.astype(np.int), y_test.astype(np.int))"
   ]
  },
  {
   "cell_type": "code",
   "execution_count": 70,
   "metadata": {},
   "outputs": [
    {
     "name": "stderr",
     "output_type": "stream",
     "text": [
      "C:\\Users\\hgdan\\Anaconda3\\envs\\tf-gpu\\lib\\site-packages\\sklearn\\metrics\\classification.py:1143: UndefinedMetricWarning: F-score is ill-defined and being set to 0.0 in labels with no predicted samples.\n",
      "  'precision', 'predicted', average, warn_for)\n"
     ]
    },
    {
     "data": {
      "text/markdown": [
       "-----------------**KNN Report**---------------"
      ],
      "text/plain": [
       "<IPython.core.display.Markdown object>"
      ]
     },
     "metadata": {},
     "output_type": "display_data"
    },
    {
     "name": "stdout",
     "output_type": "stream",
     "text": [
      "F1 score: 0.9972511159694193\n",
      "Confusion matrix: \n",
      " [[  266     0     0     0     0     0     0     0     0     0     0     2\n",
      "      0     0     0     0     0     0     0     0     0     0     0]\n",
      " [    0     6     0     0     0     0     0     0     0     0     0     0\n",
      "      0     0     0     0     0     0     0     0     0     2     0]\n",
      " [    0     0     0     0     0     0     0     0     0     0     0     1\n",
      "      0     0     0     0     0     0     0     0     0     0     0]\n",
      " [    0     0     0     7     0     0     0     0     0     0     0     0\n",
      "      0     0     0     0     0     0     0     0     0     0     0]\n",
      " [    0     0     0     0     2     0     0     0     0     0     0     1\n",
      "      0     0     0     0     0     0     0     0     0     0     0]\n",
      " [    0     0     0     0     0   143     0     0     0     0     0     5\n",
      "      0     0     0     0     0     0     0     0     0     0     0]\n",
      " [    0     0     0     0     0     0     6     0     0     0     0     0\n",
      "      0     0     0     0     0     0     0     0     0     0     0]\n",
      " [    0     0     0     0     0     0     0     0     0     0     0     2\n",
      "      0     0     0     0     0     0     0     0     0     0     0]\n",
      " [    0     0     0     0     0     0     0     0     0     0     0     2\n",
      "      0     0     0     0     0     0     0     0     0     0     0]\n",
      " [    0     0     0     0     0     0     0     0     0 13016     0     1\n",
      "      0     0     0     0     0     0     0     0     0     0     0]\n",
      " [    0     0     0     0     0     2     0     0     0     0    36     7\n",
      "      0     0     0     0     0     0     0     0     0     0     0]\n",
      " [    2     1     0     1     0     5     0     0     0     4     0 21842\n",
      "      0     0     0     0     0     0     2     0     0     5     0]\n",
      " [    0     1     0     0     0     0     0     0     0     0     0     0\n",
      "      0     0     0     0     0     0     0     0     0     0     0]\n",
      " [    0     0     0     0     0     0     0     0     0     0     0     2\n",
      "      0     0     0     0     0     0     0     0     0     0     0]\n",
      " [    0     0     0     0     0     0     0     0     0     0     0     2\n",
      "      0     0    54     0     0     0     0     0     0     0     0]\n",
      " [    1     0     0     0     0     0     0     0     0     5     0     7\n",
      "      0     0     0   104     0     1     0     0     0     0     0]\n",
      " [    0     1     0     0     0     0     0     0     0     0     0     2\n",
      "      0     0     0     0     0     0     0     0     0     0     0]\n",
      " [    0     0     0     0     0     0     0     0     0     1     0     9\n",
      "      0     0     0     1     0   219     0     0     0     0     0]\n",
      " [    0     0     0     0     0     0     0     0     0     0     0     1\n",
      "      0     0     0     0     0     0   154     0     0     0     0]\n",
      " [    0     0     0     0     0     0     0     0     0     0     0     1\n",
      "      0     0     0     0     0     0     0     0     0     0     0]\n",
      " [    0     0     0     0     0     0     0     0     0     0     0     0\n",
      "      0     0     0     0     0     1     0     0   239     0     0]\n",
      " [    0     0     0     0     0     0     0     0     0     0     0    11\n",
      "      0     0     0     0     0     0     0     0     0   205     0]\n",
      " [    0     0     0     0     0     0     0     0     0     0     0     1\n",
      "      0     0     0     0     0     0     0     0     0     0     5]]\n",
      "Plotting confusion matrix\n"
     ]
    },
    {
     "data": {
      "image/png": "[encoded data removed]",
      "text/plain": [
       "<Figure size 432x288 with 2 Axes>"
      ]
     },
     "metadata": {
      "needs_background": "light"
     },
     "output_type": "display_data"
    },
    {
     "name": "stdout",
     "output_type": "stream",
     "text": [
      "                  precision    recall  f1-score   support\n",
      "\n",
      "           back.       0.99      0.99      0.99       268\n",
      "buffer_overflow.       0.67      0.75      0.71         8\n",
      "      ftp_write.       0.00      0.00      0.00         1\n",
      "   guess_passwd.       0.88      1.00      0.93         7\n",
      "           imap.       1.00      0.67      0.80         3\n",
      "        ipsweep.       0.95      0.97      0.96       148\n",
      "           land.       1.00      1.00      1.00         6\n",
      "     loadmodule.       0.00      0.00      0.00         2\n",
      "       multihop.       0.00      0.00      0.00         2\n",
      "        neptune.       1.00      1.00      1.00     13017\n",
      "           nmap.       1.00      0.80      0.89        45\n",
      "         normal.       1.00      1.00      1.00     21862\n",
      "           perl.       0.00      0.00      0.00         1\n",
      "            phf.       0.00      0.00      0.00         2\n",
      "            pod.       1.00      0.96      0.98        56\n",
      "      portsweep.       0.99      0.88      0.93       118\n",
      "        rootkit.       0.00      0.00      0.00         3\n",
      "          satan.       0.99      0.95      0.97       230\n",
      "          smurf.       0.99      0.99      0.99       155\n",
      "            spy.       0.00      0.00      0.00         1\n",
      "       teardrop.       1.00      1.00      1.00       240\n",
      "    warezclient.       0.97      0.95      0.96       216\n",
      "    warezmaster.       1.00      0.83      0.91         6\n",
      "\n",
      "       micro avg       1.00      1.00      1.00     36397\n",
      "       macro avg       0.67      0.64      0.65     36397\n",
      "    weighted avg       1.00      1.00      1.00     36397\n",
      "\n"
     ]
    },
    {
     "name": "stderr",
     "output_type": "stream",
     "text": [
      "C:\\Users\\hgdan\\Anaconda3\\envs\\tf-gpu\\lib\\site-packages\\sklearn\\metrics\\classification.py:1143: UndefinedMetricWarning: Precision and F-score are ill-defined and being set to 0.0 in labels with no predicted samples.\n",
      "  'precision', 'predicted', average, warn_for)\n"
     ]
    }
   ],
   "source": [
    "y_pred_knn = knn.predict(x_test)\n",
    "knn_f1 = metrics.f1_score(y_test, y_pred_knn, average= \"weighted\")\n",
    "knn_cm = confusion_matrix(y_test, y_pred_knn)\n",
    "printmd(\"-----------------**KNN Report**---------------\")\n",
    "print(\"F1 score: {}\".format(knn_f1))\n",
    "print(\"Confusion matrix: \\n\", knn_cm)\n",
    "print('Plotting confusion matrix')\n",
    "\n",
    "plt.figure()\n",
    "plot_confusion_matrix(knn_cm, original_outcome)\n",
    "plt.show()\n",
    "\n",
    "print(classification_report(y_test, y_pred_knn, target_names=original_outcome))\n",
    "\n",
    "#plot_roc(y_pred_knn.astype(np.int), y_test.astype(np.int))"
   ]
  },
  {
   "cell_type": "code",
   "execution_count": 71,
   "metadata": {},
   "outputs": [
    {
     "name": "stderr",
     "output_type": "stream",
     "text": [
      "C:\\Users\\hgdan\\Anaconda3\\envs\\tf-gpu\\lib\\site-packages\\sklearn\\metrics\\classification.py:1143: UndefinedMetricWarning: F-score is ill-defined and being set to 0.0 in labels with no predicted samples.\n",
      "  'precision', 'predicted', average, warn_for)\n"
     ]
    },
    {
     "data": {
      "text/markdown": [
       "-----------------**Gaussian Naive Bayes Report**---------------"
      ],
      "text/plain": [
       "<IPython.core.display.Markdown object>"
      ]
     },
     "metadata": {},
     "output_type": "display_data"
    },
    {
     "name": "stdout",
     "output_type": "stream",
     "text": [
      "F1 score: 0.7638043035187312\n",
      "Confusion matrix: \n",
      " [[  268     0     0     0     0     0     0     0     0     0     0     0\n",
      "      0     0     0     0     0     0     0     0     0     0     0]\n",
      " [    0     5     0     0     0     0     0     0     0     0     0     1\n",
      "      0     0     0     0     0     0     0     0     0     0     2]\n",
      " [    0     0     1     0     0     0     0     0     0     0     0     0\n",
      "      0     0     0     0     0     0     0     0     0     0     0]\n",
      " [    0     0     0     7     0     0     0     0     0     0     0     0\n",
      "      0     0     0     0     0     0     0     0     0     0     0]\n",
      " [    0     0     0     0     2     0     0     0     0     0     0     1\n",
      "      0     0     0     0     0     0     0     0     0     0     0]\n",
      " [    0     0     0     0     0   148     0     0     0     0     0     0\n",
      "      0     0     0     0     0     0     0     0     0     0     0]\n",
      " [    0     0     0     0     0     0     5     0     0     0     0     1\n",
      "      0     0     0     0     0     0     0     0     0     0     0]\n",
      " [    0     0     0     0     0     0     0     1     0     0     0     1\n",
      "      0     0     0     0     0     0     0     0     0     0     0]\n",
      " [    0     0     0     0     0     0     0     0     0     0     0     0\n",
      "      0     0     0     0     0     0     0     0     0     0     2]\n",
      " [    0     0     0     0     0     0     0     0     0 12958    17     1\n",
      "      0     0     0     2     0    39     0     0     0     0     0]\n",
      " [    0     0     0     0     0    28     0     0     0     0    16     0\n",
      "      0     0     0     0     0     0     1     0     0     0     0]\n",
      " [ 2589   815   319     0     0  1352     0    30    19     1  1495 10367\n",
      "      0     0     0    60  1137   222    37     0     0  3352    67]\n",
      " [    0     0     0     0     0     0     0     0     1     0     0     0\n",
      "      0     0     0     0     0     0     0     0     0     0     0]\n",
      " [    0     0     0     0     0     0     0     0     0     0     0     1\n",
      "      0     1     0     0     0     0     0     0     0     0     0]\n",
      " [    0     0     0     0     0     2     0     0     0     0     0     0\n",
      "      0     0    54     0     0     0     0     0     0     0     0]\n",
      " [    0     0     0     0     0     2     0     0     0     0     0     2\n",
      "      0     0     0   103     0    11     0     0     0     0     0]\n",
      " [    0     0     0     0     0     0     0     0     0     0     0     1\n",
      "      0     0     0     0     2     0     0     0     0     0     0]\n",
      " [    0     0     0     0     0     1     0     0     0     0     5     0\n",
      "      0     0     0    12     0   209     0     0     3     0     0]\n",
      " [    0     0     0     0     0     0     0     0     0     0     0     0\n",
      "      0     0     0     0     0     0   155     0     0     0     0]\n",
      " [    0     0     0     0     0     0     0     0     0     0     0     1\n",
      "      0     0     0     0     0     0     0     0     0     0     0]\n",
      " [    0     0     0     0     0     0     0     0     0     0     0     0\n",
      "      0     0     0     0     0     0     0     0   240     0     0]\n",
      " [    0    46    25     0     0     0     0     0     0     0     0     0\n",
      "      0     0     0     0    15     0     0     0     0   122     8]\n",
      " [    0     0     0     0     0     0     0     0     0     0     0     1\n",
      "      0     0     0     0     0     0     0     0     0     0     5]]\n",
      "Plotting confusion matrix\n"
     ]
    },
    {
     "data": {
      "image/png": "[encoded data removed]",
      "text/plain": [
       "<Figure size 432x288 with 2 Axes>"
      ]
     },
     "metadata": {
      "needs_background": "light"
     },
     "output_type": "display_data"
    },
    {
     "name": "stdout",
     "output_type": "stream",
     "text": [
      "                  precision    recall  f1-score   support\n",
      "\n",
      "           back.       0.09      1.00      0.17       268\n",
      "buffer_overflow.       0.01      0.62      0.01         8\n",
      "      ftp_write.       0.00      1.00      0.01         1\n",
      "   guess_passwd.       1.00      1.00      1.00         7\n",
      "           imap.       1.00      0.67      0.80         3\n",
      "        ipsweep.       0.10      1.00      0.18       148\n",
      "           land.       1.00      0.83      0.91         6\n",
      "     loadmodule.       0.03      0.50      0.06         2\n",
      "       multihop.       0.00      0.00      0.00         2\n",
      "        neptune.       1.00      1.00      1.00     13017\n",
      "           nmap.       0.01      0.36      0.02        45\n",
      "         normal.       1.00      0.47      0.64     21862\n",
      "           perl.       0.00      0.00      0.00         1\n",
      "            phf.       1.00      0.50      0.67         2\n",
      "            pod.       1.00      0.96      0.98        56\n",
      "      portsweep.       0.58      0.87      0.70       118\n",
      "        rootkit.       0.00      0.67      0.00         3\n",
      "          satan.       0.43      0.91      0.59       230\n",
      "          smurf.       0.80      1.00      0.89       155\n",
      "            spy.       0.00      0.00      0.00         1\n",
      "       teardrop.       0.99      1.00      0.99       240\n",
      "    warezclient.       0.04      0.56      0.07       216\n",
      "    warezmaster.       0.06      0.83      0.11         6\n",
      "\n",
      "       micro avg       0.68      0.68      0.68     36397\n",
      "       macro avg       0.44      0.69      0.43     36397\n",
      "    weighted avg       0.98      0.68      0.76     36397\n",
      "\n"
     ]
    },
    {
     "name": "stderr",
     "output_type": "stream",
     "text": [
      "C:\\Users\\hgdan\\Anaconda3\\envs\\tf-gpu\\lib\\site-packages\\sklearn\\metrics\\classification.py:1143: UndefinedMetricWarning: Precision and F-score are ill-defined and being set to 0.0 in labels with no predicted samples.\n",
      "  'precision', 'predicted', average, warn_for)\n"
     ]
    }
   ],
   "source": [
    "y_pred_gnb = gnb.predict(x_test)\n",
    "gnb_f1 = metrics.f1_score(y_test, y_pred_gnb, average= \"weighted\")\n",
    "gnb_cm = confusion_matrix(y_test, y_pred_gnb)\n",
    "printmd(\"-----------------**Gaussian Naive Bayes Report**---------------\")\n",
    "print(\"F1 score: {}\".format(gnb_f1))\n",
    "print(\"Confusion matrix: \\n\", gnb_cm)\n",
    "print('Plotting confusion matrix')\n",
    "\n",
    "plt.figure()\n",
    "plot_confusion_matrix(gnb_cm, original_outcome)\n",
    "plt.show()\n",
    "\n",
    "print(classification_report(y_test, y_pred_gnb, target_names=original_outcome))\n",
    "\n",
    "#plot_roc(y_pred_gnb.astype(np.int), y_test.astype(np.int))"
   ]
  },
  {
   "cell_type": "markdown",
   "metadata": {},
   "source": [
    "# Multi-class Classification Neural Network"
   ]
  },
  {
   "cell_type": "code",
   "execution_count": 72,
   "metadata": {},
   "outputs": [
    {
     "data": {
      "text/plain": [
       "array([11, 11, 11, ..., 11, 11, 11])"
      ]
     },
     "execution_count": 72,
     "metadata": {},
     "output_type": "execute_result"
    }
   ],
   "source": [
    "scaler = preprocessing.LabelEncoder()\n",
    "output_tf = scaler.fit_transform(df['outcome'])\n",
    "output_tf"
   ]
  },
  {
   "cell_type": "code",
   "execution_count": 73,
   "metadata": {},
   "outputs": [
    {
     "data": {
      "text/plain": [
       "(145585,)"
      ]
     },
     "execution_count": 73,
     "metadata": {},
     "output_type": "execute_result"
    }
   ],
   "source": [
    "output_tf.shape"
   ]
  },
  {
   "cell_type": "code",
   "execution_count": 74,
   "metadata": {},
   "outputs": [
    {
     "data": {
      "text/plain": [
       "(145585, 40)"
      ]
     },
     "execution_count": 74,
     "metadata": {},
     "output_type": "execute_result"
    }
   ],
   "source": [
    "tf_data = input_data.copy()\n",
    "tf_data['outcome'] = output_tf\n",
    "tf_data.shape"
   ]
  },
  {
   "cell_type": "code",
   "execution_count": 75,
   "metadata": {},
   "outputs": [],
   "source": [
    "x, y = to_xy(tf_data, 'outcome')"
   ]
  },
  {
   "cell_type": "code",
   "execution_count": 76,
   "metadata": {},
   "outputs": [],
   "source": [
    "x_train_tf, x_test_tf, y_train_tf, y_test_tf = train_test_split(x, y, test_size=0.25, random_state=43)"
   ]
  },
  {
   "cell_type": "code",
   "execution_count": 77,
   "metadata": {},
   "outputs": [
    {
     "name": "stdout",
     "output_type": "stream",
     "text": [
      "(109188, 39) (109188, 23)\n"
     ]
    }
   ],
   "source": [
    "print(x_train_tf.shape, y_train_tf.shape)"
   ]
  },
  {
   "cell_type": "code",
   "execution_count": 78,
   "metadata": {},
   "outputs": [
    {
     "data": {
      "text/markdown": [
       "**Activation** = relu  **Optimizer** = adam "
      ],
      "text/plain": [
       "<IPython.core.display.Markdown object>"
      ]
     },
     "metadata": {},
     "output_type": "display_data"
    },
    {
     "name": "stdout",
     "output_type": "stream",
     "text": [
      "Train on 109188 samples, validate on 36397 samples\n",
      "Epoch 1/1000\n",
      "109188/109188 [==============================] - 2s 15us/step - loss: 0.5222 - acc: 0.8774 - val_loss: 0.0971 - val_acc: 0.9784\n",
      "Epoch 2/1000\n",
      "109188/109188 [==============================] - 1s 9us/step - loss: 0.1022 - acc: 0.9769 - val_loss: 0.0517 - val_acc: 0.9840\n",
      "Epoch 3/1000\n",
      "109188/109188 [==============================] - 1s 9us/step - loss: 0.0630 - acc: 0.9832 - val_loss: 0.0303 - val_acc: 0.9927\n",
      "Epoch 4/1000\n",
      "109188/109188 [==============================] - 1s 9us/step - loss: 0.0457 - acc: 0.9886 - val_loss: 0.0253 - val_acc: 0.9935\n",
      "Epoch 5/1000\n",
      "109188/109188 [==============================] - 1s 9us/step - loss: 0.0372 - acc: 0.9909 - val_loss: 0.0226 - val_acc: 0.9940\n",
      "Epoch 6/1000\n",
      "109188/109188 [==============================] - 1s 9us/step - loss: 0.0324 - acc: 0.9919 - val_loss: 0.0193 - val_acc: 0.9948\n",
      "Epoch 7/1000\n",
      "109188/109188 [==============================] - 1s 9us/step - loss: 0.0285 - acc: 0.9931 - val_loss: 0.0177 - val_acc: 0.9954\n",
      "Epoch 8/1000\n",
      "109188/109188 [==============================] - 1s 9us/step - loss: 0.0258 - acc: 0.9938 - val_loss: 0.0166 - val_acc: 0.9961\n",
      "Epoch 9/1000\n",
      "109188/109188 [==============================] - 1s 9us/step - loss: 0.0240 - acc: 0.9940 - val_loss: 0.0159 - val_acc: 0.9966\n",
      "Epoch 10/1000\n",
      "109188/109188 [==============================] - 1s 9us/step - loss: 0.0227 - acc: 0.9948 - val_loss: 0.0150 - val_acc: 0.9967\n",
      "Epoch 11/1000\n",
      "109188/109188 [==============================] - 1s 9us/step - loss: 0.0214 - acc: 0.9949 - val_loss: 0.0141 - val_acc: 0.9971\n",
      "Epoch 12/1000\n",
      "109188/109188 [==============================] - 1s 9us/step - loss: 0.0192 - acc: 0.9954 - val_loss: 0.0145 - val_acc: 0.9967\n",
      "Epoch 13/1000\n",
      "109188/109188 [==============================] - 1s 9us/step - loss: 0.0191 - acc: 0.9955 - val_loss: 0.0131 - val_acc: 0.9971\n",
      "Epoch 14/1000\n",
      "109188/109188 [==============================] - 1s 9us/step - loss: 0.0173 - acc: 0.9960 - val_loss: 0.0131 - val_acc: 0.9972\n",
      "Epoch 15/1000\n",
      "109188/109188 [==============================] - 1s 9us/step - loss: 0.0173 - acc: 0.9961 - val_loss: 0.0134 - val_acc: 0.9973\n",
      "Epoch 16/1000\n",
      "109188/109188 [==============================] - 1s 9us/step - loss: 0.0160 - acc: 0.9963 - val_loss: 0.0130 - val_acc: 0.9971\n",
      "Epoch 17/1000\n",
      "109188/109188 [==============================] - 1s 9us/step - loss: 0.0159 - acc: 0.9963 - val_loss: 0.0134 - val_acc: 0.9969\n",
      "Epoch 18/1000\n",
      "109188/109188 [==============================] - 1s 9us/step - loss: 0.0161 - acc: 0.9964 - val_loss: 0.0122 - val_acc: 0.9971\n",
      "Epoch 00018: early stopping\n"
     ]
    },
    {
     "data": {
      "text/markdown": [
       "**Activation** = relu  **Optimizer** = sgd "
      ],
      "text/plain": [
       "<IPython.core.display.Markdown object>"
      ]
     },
     "metadata": {},
     "output_type": "display_data"
    },
    {
     "name": "stdout",
     "output_type": "stream",
     "text": [
      "Train on 109188 samples, validate on 36397 samples\n",
      "Epoch 1/1000\n",
      "109188/109188 [==============================] - 1s 13us/step - loss: 0.6251 - acc: 0.8556 - val_loss: 0.3127 - val_acc: 0.9549\n",
      "Epoch 2/1000\n",
      "109188/109188 [==============================] - 1s 8us/step - loss: 0.3368 - acc: 0.9461 - val_loss: 0.2294 - val_acc: 0.9576\n",
      "Epoch 3/1000\n",
      "109188/109188 [==============================] - 1s 8us/step - loss: 0.2626 - acc: 0.9544 - val_loss: 0.1888 - val_acc: 0.9609\n",
      "Epoch 4/1000\n",
      "109188/109188 [==============================] - 1s 8us/step - loss: 0.2233 - acc: 0.9591 - val_loss: 0.1647 - val_acc: 0.9675\n",
      "Epoch 5/1000\n",
      "109188/109188 [==============================] - 1s 8us/step - loss: 0.1972 - acc: 0.9624 - val_loss: 0.1470 - val_acc: 0.9682\n",
      "Epoch 6/1000\n",
      "109188/109188 [==============================] - 1s 8us/step - loss: 0.1796 - acc: 0.9652 - val_loss: 0.1366 - val_acc: 0.9725\n",
      "Epoch 7/1000\n",
      "109188/109188 [==============================] - 1s 8us/step - loss: 0.1674 - acc: 0.9676 - val_loss: 0.1299 - val_acc: 0.9735\n",
      "Epoch 8/1000\n",
      "109188/109188 [==============================] - 1s 8us/step - loss: 0.1575 - acc: 0.9691 - val_loss: 0.1238 - val_acc: 0.9736\n",
      "Epoch 9/1000\n",
      "109188/109188 [==============================] - 1s 8us/step - loss: 0.1491 - acc: 0.9705 - val_loss: 0.1173 - val_acc: 0.9736\n",
      "Epoch 10/1000\n",
      "109188/109188 [==============================] - 1s 8us/step - loss: 0.1439 - acc: 0.9711 - val_loss: 0.1153 - val_acc: 0.9744\n",
      "Epoch 11/1000\n",
      "109188/109188 [==============================] - 1s 8us/step - loss: 0.1390 - acc: 0.9716 - val_loss: 0.1105 - val_acc: 0.9747\n",
      "Epoch 12/1000\n",
      "109188/109188 [==============================] - 1s 8us/step - loss: 0.1340 - acc: 0.9722 - val_loss: 0.1071 - val_acc: 0.9763\n",
      "Epoch 13/1000\n",
      "109188/109188 [==============================] - 1s 8us/step - loss: 0.1286 - acc: 0.9733 - val_loss: 0.1053 - val_acc: 0.9765\n",
      "Epoch 14/1000\n",
      "109188/109188 [==============================] - 1s 8us/step - loss: 0.1254 - acc: 0.9733 - val_loss: 0.1017 - val_acc: 0.9773\n",
      "Epoch 15/1000\n",
      "109188/109188 [==============================] - 1s 8us/step - loss: 0.1225 - acc: 0.9739 - val_loss: 0.0993 - val_acc: 0.9777\n",
      "Epoch 16/1000\n",
      "109188/109188 [==============================] - 1s 8us/step - loss: 0.1208 - acc: 0.9741 - val_loss: 0.0967 - val_acc: 0.9778\n",
      "Epoch 17/1000\n",
      "109188/109188 [==============================] - 1s 8us/step - loss: 0.1171 - acc: 0.9746 - val_loss: 0.0949 - val_acc: 0.9779\n",
      "Epoch 18/1000\n",
      "109188/109188 [==============================] - 1s 8us/step - loss: 0.1134 - acc: 0.9752 - val_loss: 0.0926 - val_acc: 0.9788\n",
      "Epoch 19/1000\n",
      "109188/109188 [==============================] - 1s 8us/step - loss: 0.1110 - acc: 0.9756 - val_loss: 0.0918 - val_acc: 0.9783\n",
      "Epoch 20/1000\n",
      "109188/109188 [==============================] - 1s 8us/step - loss: 0.1104 - acc: 0.9759 - val_loss: 0.0901 - val_acc: 0.9786\n",
      "Epoch 21/1000\n",
      "109188/109188 [==============================] - 1s 8us/step - loss: 0.1067 - acc: 0.9762 - val_loss: 0.0873 - val_acc: 0.9790\n",
      "Epoch 22/1000\n",
      "109188/109188 [==============================] - 1s 8us/step - loss: 0.1051 - acc: 0.9766 - val_loss: 0.0860 - val_acc: 0.9796\n",
      "Epoch 23/1000\n",
      "109188/109188 [==============================] - 1s 8us/step - loss: 0.1029 - acc: 0.9768 - val_loss: 0.0841 - val_acc: 0.9799\n",
      "Epoch 24/1000\n",
      "109188/109188 [==============================] - 1s 8us/step - loss: 0.1021 - acc: 0.9766 - val_loss: 0.0838 - val_acc: 0.9799\n",
      "Epoch 25/1000\n",
      "109188/109188 [==============================] - 1s 8us/step - loss: 0.0989 - acc: 0.9774 - val_loss: 0.0821 - val_acc: 0.9802\n",
      "Epoch 26/1000\n",
      "109188/109188 [==============================] - 1s 8us/step - loss: 0.0982 - acc: 0.9778 - val_loss: 0.0816 - val_acc: 0.9799\n",
      "Epoch 27/1000\n",
      "109188/109188 [==============================] - 1s 8us/step - loss: 0.0961 - acc: 0.9776 - val_loss: 0.0782 - val_acc: 0.9807\n",
      "Epoch 28/1000\n",
      "109188/109188 [==============================] - 1s 9us/step - loss: 0.0946 - acc: 0.9780 - val_loss: 0.0779 - val_acc: 0.9806\n",
      "Epoch 29/1000\n",
      "109188/109188 [==============================] - 1s 9us/step - loss: 0.0940 - acc: 0.9781 - val_loss: 0.0752 - val_acc: 0.9809\n",
      "Epoch 30/1000\n",
      "109188/109188 [==============================] - 1s 8us/step - loss: 0.0931 - acc: 0.9782 - val_loss: 0.0760 - val_acc: 0.9807\n",
      "Epoch 31/1000\n",
      "109188/109188 [==============================] - 1s 8us/step - loss: 0.0902 - acc: 0.9786 - val_loss: 0.0729 - val_acc: 0.9813\n",
      "Epoch 32/1000\n",
      "109188/109188 [==============================] - 1s 8us/step - loss: 0.0881 - acc: 0.9787 - val_loss: 0.0722 - val_acc: 0.9808\n",
      "Epoch 33/1000\n",
      "109188/109188 [==============================] - 1s 8us/step - loss: 0.0879 - acc: 0.9788 - val_loss: 0.0699 - val_acc: 0.9810\n",
      "Epoch 34/1000\n",
      "109188/109188 [==============================] - 1s 8us/step - loss: 0.0863 - acc: 0.9790 - val_loss: 0.0692 - val_acc: 0.9813\n",
      "Epoch 35/1000\n",
      "109188/109188 [==============================] - 1s 8us/step - loss: 0.0841 - acc: 0.9792 - val_loss: 0.0685 - val_acc: 0.9815\n",
      "Epoch 36/1000\n",
      "109188/109188 [==============================] - 1s 8us/step - loss: 0.0837 - acc: 0.9791 - val_loss: 0.0677 - val_acc: 0.9812\n",
      "Epoch 37/1000\n",
      "109188/109188 [==============================] - 1s 8us/step - loss: 0.0814 - acc: 0.9792 - val_loss: 0.0679 - val_acc: 0.9814\n",
      "Epoch 38/1000\n",
      "109188/109188 [==============================] - 1s 8us/step - loss: 0.0802 - acc: 0.9795 - val_loss: 0.0656 - val_acc: 0.9815\n",
      "Epoch 39/1000\n",
      "109188/109188 [==============================] - 1s 8us/step - loss: 0.0786 - acc: 0.9797 - val_loss: 0.0621 - val_acc: 0.9821\n",
      "Epoch 40/1000\n",
      "109188/109188 [==============================] - 1s 8us/step - loss: 0.0780 - acc: 0.9795 - val_loss: 0.0617 - val_acc: 0.9819\n",
      "Epoch 41/1000\n",
      "109188/109188 [==============================] - 1s 8us/step - loss: 0.0766 - acc: 0.9799 - val_loss: 0.0590 - val_acc: 0.9824\n",
      "Epoch 42/1000\n",
      "109188/109188 [==============================] - 1s 8us/step - loss: 0.0752 - acc: 0.9803 - val_loss: 0.0595 - val_acc: 0.9825\n",
      "Epoch 43/1000\n",
      "109188/109188 [==============================] - 1s 8us/step - loss: 0.0731 - acc: 0.9802 - val_loss: 0.0593 - val_acc: 0.9826\n",
      "Epoch 44/1000\n",
      "109188/109188 [==============================] - 1s 8us/step - loss: 0.0730 - acc: 0.9806 - val_loss: 0.0573 - val_acc: 0.9830\n",
      "Epoch 45/1000\n",
      "109188/109188 [==============================] - 1s 8us/step - loss: 0.0726 - acc: 0.9804 - val_loss: 0.0560 - val_acc: 0.9829\n",
      "Epoch 46/1000\n",
      "109188/109188 [==============================] - 1s 8us/step - loss: 0.0703 - acc: 0.9812 - val_loss: 0.0533 - val_acc: 0.9833\n",
      "Epoch 47/1000\n",
      "109188/109188 [==============================] - 1s 9us/step - loss: 0.0699 - acc: 0.9811 - val_loss: 0.0533 - val_acc: 0.9832\n",
      "Epoch 48/1000\n",
      "109188/109188 [==============================] - 1s 11us/step - loss: 0.0673 - acc: 0.9821 - val_loss: 0.0532 - val_acc: 0.9833\n",
      "Epoch 49/1000\n",
      "109188/109188 [==============================] - 1s 8us/step - loss: 0.0668 - acc: 0.9819 - val_loss: 0.0506 - val_acc: 0.9856\n",
      "Epoch 50/1000\n",
      "109188/109188 [==============================] - 1s 8us/step - loss: 0.0669 - acc: 0.9824 - val_loss: 0.0503 - val_acc: 0.9851\n",
      "Epoch 51/1000\n",
      "109188/109188 [==============================] - 1s 8us/step - loss: 0.0658 - acc: 0.9826 - val_loss: 0.0487 - val_acc: 0.9891\n",
      "Epoch 52/1000\n",
      "109188/109188 [==============================] - 1s 8us/step - loss: 0.0644 - acc: 0.9831 - val_loss: 0.0494 - val_acc: 0.9864\n",
      "Epoch 53/1000\n",
      "109188/109188 [==============================] - 1s 8us/step - loss: 0.0631 - acc: 0.9833 - val_loss: 0.0499 - val_acc: 0.9856\n",
      "Epoch 54/1000\n",
      "109188/109188 [==============================] - 1s 8us/step - loss: 0.0618 - acc: 0.9838 - val_loss: 0.0468 - val_acc: 0.9898\n",
      "Epoch 55/1000\n",
      "109188/109188 [==============================] - 1s 8us/step - loss: 0.0618 - acc: 0.9841 - val_loss: 0.0453 - val_acc: 0.9903\n",
      "Epoch 56/1000\n",
      "109188/109188 [==============================] - 1s 10us/step - loss: 0.0610 - acc: 0.9845 - val_loss: 0.0452 - val_acc: 0.9895\n",
      "Epoch 57/1000\n",
      "109188/109188 [==============================] - 1s 8us/step - loss: 0.0594 - acc: 0.9847 - val_loss: 0.0446 - val_acc: 0.9898\n",
      "Epoch 58/1000\n",
      "109188/109188 [==============================] - 1s 8us/step - loss: 0.0600 - acc: 0.9849 - val_loss: 0.0443 - val_acc: 0.9899\n"
     ]
    },
    {
     "name": "stdout",
     "output_type": "stream",
     "text": [
      "Epoch 59/1000\n",
      "109188/109188 [==============================] - 1s 8us/step - loss: 0.0589 - acc: 0.9855 - val_loss: 0.0422 - val_acc: 0.9908\n",
      "Epoch 60/1000\n",
      "109188/109188 [==============================] - 1s 8us/step - loss: 0.0592 - acc: 0.9854 - val_loss: 0.0429 - val_acc: 0.9907\n",
      "Epoch 61/1000\n",
      "109188/109188 [==============================] - 1s 8us/step - loss: 0.0571 - acc: 0.9859 - val_loss: 0.0426 - val_acc: 0.9906\n",
      "Epoch 62/1000\n",
      "109188/109188 [==============================] - 1s 8us/step - loss: 0.0574 - acc: 0.9856 - val_loss: 0.0425 - val_acc: 0.9906\n",
      "Epoch 63/1000\n",
      "109188/109188 [==============================] - 1s 10us/step - loss: 0.0564 - acc: 0.9862 - val_loss: 0.0403 - val_acc: 0.9909\n",
      "Epoch 64/1000\n",
      "109188/109188 [==============================] - 1s 10us/step - loss: 0.0558 - acc: 0.9864 - val_loss: 0.0395 - val_acc: 0.9912\n",
      "Epoch 65/1000\n",
      "109188/109188 [==============================] - 1s 11us/step - loss: 0.0554 - acc: 0.9867 - val_loss: 0.0397 - val_acc: 0.9909\n",
      "Epoch 66/1000\n",
      "109188/109188 [==============================] - 1s 9us/step - loss: 0.0539 - acc: 0.9869 - val_loss: 0.0382 - val_acc: 0.9913\n",
      "Epoch 67/1000\n",
      "109188/109188 [==============================] - 1s 8us/step - loss: 0.0535 - acc: 0.9873 - val_loss: 0.0379 - val_acc: 0.9912\n",
      "Epoch 68/1000\n",
      "109188/109188 [==============================] - 1s 8us/step - loss: 0.0522 - acc: 0.9876 - val_loss: 0.0383 - val_acc: 0.9912\n",
      "Epoch 69/1000\n",
      "109188/109188 [==============================] - 1s 8us/step - loss: 0.0523 - acc: 0.9879 - val_loss: 0.0372 - val_acc: 0.9913\n",
      "Epoch 70/1000\n",
      "109188/109188 [==============================] - 1s 8us/step - loss: 0.0532 - acc: 0.9873 - val_loss: 0.0384 - val_acc: 0.9911\n",
      "Epoch 71/1000\n",
      "109188/109188 [==============================] - 1s 8us/step - loss: 0.0511 - acc: 0.9879 - val_loss: 0.0367 - val_acc: 0.9913\n",
      "Epoch 72/1000\n",
      "109188/109188 [==============================] - 1s 8us/step - loss: 0.0512 - acc: 0.9879 - val_loss: 0.0369 - val_acc: 0.9915\n",
      "Epoch 73/1000\n",
      "109188/109188 [==============================] - 1s 8us/step - loss: 0.0506 - acc: 0.9882 - val_loss: 0.0373 - val_acc: 0.9913\n",
      "Epoch 74/1000\n",
      "109188/109188 [==============================] - 1s 8us/step - loss: 0.0508 - acc: 0.9882 - val_loss: 0.0368 - val_acc: 0.9913\n",
      "Epoch 75/1000\n",
      "109188/109188 [==============================] - 1s 8us/step - loss: 0.0495 - acc: 0.9882 - val_loss: 0.0351 - val_acc: 0.9917\n",
      "Epoch 76/1000\n",
      "109188/109188 [==============================] - 1s 8us/step - loss: 0.0494 - acc: 0.9886 - val_loss: 0.0350 - val_acc: 0.9917\n",
      "Epoch 77/1000\n",
      "109188/109188 [==============================] - 1s 9us/step - loss: 0.0483 - acc: 0.9887 - val_loss: 0.0359 - val_acc: 0.9918\n",
      "Epoch 78/1000\n",
      "109188/109188 [==============================] - 1s 11us/step - loss: 0.0478 - acc: 0.9887 - val_loss: 0.0355 - val_acc: 0.9918\n",
      "Epoch 79/1000\n",
      "109188/109188 [==============================] - 1s 8us/step - loss: 0.0477 - acc: 0.9889 - val_loss: 0.0340 - val_acc: 0.9919\n",
      "Epoch 80/1000\n",
      "109188/109188 [==============================] - 1s 8us/step - loss: 0.0473 - acc: 0.9888 - val_loss: 0.0333 - val_acc: 0.9924\n",
      "Epoch 81/1000\n",
      "109188/109188 [==============================] - 1s 8us/step - loss: 0.0472 - acc: 0.9887 - val_loss: 0.0341 - val_acc: 0.9920\n",
      "Epoch 82/1000\n",
      "109188/109188 [==============================] - 1s 8us/step - loss: 0.0472 - acc: 0.9891 - val_loss: 0.0336 - val_acc: 0.9921\n",
      "Epoch 83/1000\n",
      "109188/109188 [==============================] - 1s 8us/step - loss: 0.0468 - acc: 0.9891 - val_loss: 0.0335 - val_acc: 0.9921\n",
      "Epoch 84/1000\n",
      "109188/109188 [==============================] - 1s 8us/step - loss: 0.0456 - acc: 0.9893 - val_loss: 0.0339 - val_acc: 0.9920\n",
      "Epoch 00084: early stopping\n"
     ]
    },
    {
     "data": {
      "text/markdown": [
       "**Activation** = tanh  **Optimizer** = adam "
      ],
      "text/plain": [
       "<IPython.core.display.Markdown object>"
      ]
     },
     "metadata": {},
     "output_type": "display_data"
    },
    {
     "name": "stdout",
     "output_type": "stream",
     "text": [
      "Train on 109188 samples, validate on 36397 samples\n",
      "Epoch 1/1000\n",
      "109188/109188 [==============================] - 2s 16us/step - loss: 0.4357 - acc: 0.9121 - val_loss: 0.1342 - val_acc: 0.9777\n",
      "Epoch 2/1000\n",
      "109188/109188 [==============================] - 1s 9us/step - loss: 0.1072 - acc: 0.9789 - val_loss: 0.0694 - val_acc: 0.9832\n",
      "Epoch 3/1000\n",
      "109188/109188 [==============================] - 1s 9us/step - loss: 0.0567 - acc: 0.9869 - val_loss: 0.0337 - val_acc: 0.9931\n",
      "Epoch 4/1000\n",
      "109188/109188 [==============================] - 1s 9us/step - loss: 0.0373 - acc: 0.9925 - val_loss: 0.0257 - val_acc: 0.9948\n",
      "Epoch 5/1000\n",
      "109188/109188 [==============================] - 1s 10us/step - loss: 0.0299 - acc: 0.9937 - val_loss: 0.0224 - val_acc: 0.9956\n",
      "Epoch 6/1000\n",
      "109188/109188 [==============================] - 1s 9us/step - loss: 0.0258 - acc: 0.9947 - val_loss: 0.0207 - val_acc: 0.9961\n",
      "Epoch 7/1000\n",
      "109188/109188 [==============================] - 1s 10us/step - loss: 0.0229 - acc: 0.9950 - val_loss: 0.0177 - val_acc: 0.9966\n",
      "Epoch 8/1000\n",
      "109188/109188 [==============================] - 1s 10us/step - loss: 0.0205 - acc: 0.9956 - val_loss: 0.0166 - val_acc: 0.9965\n",
      "Epoch 9/1000\n",
      "109188/109188 [==============================] - 1s 9us/step - loss: 0.0194 - acc: 0.9956 - val_loss: 0.0156 - val_acc: 0.9968\n",
      "Epoch 10/1000\n",
      "109188/109188 [==============================] - 1s 9us/step - loss: 0.0183 - acc: 0.9960 - val_loss: 0.0147 - val_acc: 0.9970\n",
      "Epoch 11/1000\n",
      "109188/109188 [==============================] - 1s 9us/step - loss: 0.0174 - acc: 0.9960 - val_loss: 0.0154 - val_acc: 0.9968\n",
      "Epoch 12/1000\n",
      "109188/109188 [==============================] - 1s 9us/step - loss: 0.0164 - acc: 0.9963 - val_loss: 0.0137 - val_acc: 0.9969\n",
      "Epoch 13/1000\n",
      "109188/109188 [==============================] - 1s 9us/step - loss: 0.0155 - acc: 0.9967 - val_loss: 0.0137 - val_acc: 0.9971\n",
      "Epoch 14/1000\n",
      "109188/109188 [==============================] - 1s 9us/step - loss: 0.0151 - acc: 0.9966 - val_loss: 0.0131 - val_acc: 0.9970\n",
      "Epoch 15/1000\n",
      "109188/109188 [==============================] - 1s 9us/step - loss: 0.0149 - acc: 0.9967 - val_loss: 0.0129 - val_acc: 0.9972\n",
      "Epoch 16/1000\n",
      "109188/109188 [==============================] - 1s 9us/step - loss: 0.0137 - acc: 0.9969 - val_loss: 0.0133 - val_acc: 0.9969\n",
      "Epoch 17/1000\n",
      "109188/109188 [==============================] - 1s 9us/step - loss: 0.0134 - acc: 0.9969 - val_loss: 0.0117 - val_acc: 0.9975\n",
      "Epoch 18/1000\n",
      "109188/109188 [==============================] - 1s 9us/step - loss: 0.0130 - acc: 0.9969 - val_loss: 0.0119 - val_acc: 0.9974\n",
      "Epoch 19/1000\n",
      "109188/109188 [==============================] - 1s 10us/step - loss: 0.0128 - acc: 0.9970 - val_loss: 0.0123 - val_acc: 0.9968\n",
      "Epoch 20/1000\n",
      "109188/109188 [==============================] - 1s 9us/step - loss: 0.0127 - acc: 0.9970 - val_loss: 0.0118 - val_acc: 0.9973\n",
      "Epoch 21/1000\n",
      "109188/109188 [==============================] - 1s 9us/step - loss: 0.0128 - acc: 0.9970 - val_loss: 0.0106 - val_acc: 0.9976\n",
      "Epoch 22/1000\n",
      "109188/109188 [==============================] - 1s 9us/step - loss: 0.0122 - acc: 0.9971 - val_loss: 0.0114 - val_acc: 0.9974\n",
      "Epoch 23/1000\n",
      "109188/109188 [==============================] - 1s 10us/step - loss: 0.0121 - acc: 0.9970 - val_loss: 0.0110 - val_acc: 0.9978\n",
      "Epoch 24/1000\n",
      "109188/109188 [==============================] - 1s 12us/step - loss: 0.0118 - acc: 0.9971 - val_loss: 0.0112 - val_acc: 0.9976\n",
      "Epoch 25/1000\n",
      "109188/109188 [==============================] - 1s 9us/step - loss: 0.0115 - acc: 0.9973 - val_loss: 0.0111 - val_acc: 0.9977\n",
      "Epoch 26/1000\n",
      "109188/109188 [==============================] - 1s 9us/step - loss: 0.0116 - acc: 0.9972 - val_loss: 0.0103 - val_acc: 0.9976\n",
      "Epoch 00026: early stopping\n"
     ]
    },
    {
     "data": {
      "text/markdown": [
       "**Activation** = tanh  **Optimizer** = sgd "
      ],
      "text/plain": [
       "<IPython.core.display.Markdown object>"
      ]
     },
     "metadata": {},
     "output_type": "display_data"
    },
    {
     "name": "stdout",
     "output_type": "stream",
     "text": [
      "Train on 109188 samples, validate on 36397 samples\n",
      "Epoch 1/1000\n",
      "109188/109188 [==============================] - 2s 14us/step - loss: 0.7789 - acc: 0.8396 - val_loss: 0.3128 - val_acc: 0.9509\n",
      "Epoch 2/1000\n",
      "109188/109188 [==============================] - 1s 8us/step - loss: 0.3118 - acc: 0.9520 - val_loss: 0.2619 - val_acc: 0.9560\n",
      "Epoch 3/1000\n",
      "109188/109188 [==============================] - 1s 8us/step - loss: 0.2573 - acc: 0.9568 - val_loss: 0.2279 - val_acc: 0.9571\n",
      "Epoch 4/1000\n",
      "109188/109188 [==============================] - 1s 8us/step - loss: 0.2291 - acc: 0.9583 - val_loss: 0.2058 - val_acc: 0.9577\n",
      "Epoch 5/1000\n",
      "109188/109188 [==============================] - 1s 8us/step - loss: 0.2092 - acc: 0.9599 - val_loss: 0.1876 - val_acc: 0.9599\n",
      "Epoch 6/1000\n",
      "109188/109188 [==============================] - 1s 8us/step - loss: 0.1943 - acc: 0.9619 - val_loss: 0.1739 - val_acc: 0.9634\n",
      "Epoch 7/1000\n",
      "109188/109188 [==============================] - 1s 8us/step - loss: 0.1826 - acc: 0.9644 - val_loss: 0.1641 - val_acc: 0.9683\n",
      "Epoch 8/1000\n",
      "109188/109188 [==============================] - 1s 8us/step - loss: 0.1720 - acc: 0.9669 - val_loss: 0.1551 - val_acc: 0.9727\n",
      "Epoch 9/1000\n",
      "109188/109188 [==============================] - 1s 8us/step - loss: 0.1650 - acc: 0.9689 - val_loss: 0.1479 - val_acc: 0.9759\n",
      "Epoch 10/1000\n",
      "109188/109188 [==============================] - 1s 8us/step - loss: 0.1572 - acc: 0.9709 - val_loss: 0.1432 - val_acc: 0.9765\n",
      "Epoch 11/1000\n",
      "109188/109188 [==============================] - 1s 8us/step - loss: 0.1513 - acc: 0.9720 - val_loss: 0.1375 - val_acc: 0.9769\n",
      "Epoch 12/1000\n",
      "109188/109188 [==============================] - 1s 8us/step - loss: 0.1470 - acc: 0.9733 - val_loss: 0.1329 - val_acc: 0.9769\n",
      "Epoch 13/1000\n",
      "109188/109188 [==============================] - 1s 8us/step - loss: 0.1418 - acc: 0.9744 - val_loss: 0.1281 - val_acc: 0.9771\n",
      "Epoch 14/1000\n",
      "109188/109188 [==============================] - 1s 8us/step - loss: 0.1386 - acc: 0.9747 - val_loss: 0.1248 - val_acc: 0.9774\n",
      "Epoch 15/1000\n",
      "109188/109188 [==============================] - 1s 8us/step - loss: 0.1339 - acc: 0.9754 - val_loss: 0.1223 - val_acc: 0.9774\n",
      "Epoch 16/1000\n",
      "109188/109188 [==============================] - 1s 8us/step - loss: 0.1305 - acc: 0.9761 - val_loss: 0.1192 - val_acc: 0.9776\n",
      "Epoch 17/1000\n",
      "109188/109188 [==============================] - 1s 8us/step - loss: 0.1274 - acc: 0.9760 - val_loss: 0.1178 - val_acc: 0.9777\n",
      "Epoch 18/1000\n",
      "109188/109188 [==============================] - 1s 8us/step - loss: 0.1247 - acc: 0.9769 - val_loss: 0.1126 - val_acc: 0.9779\n",
      "Epoch 19/1000\n",
      "109188/109188 [==============================] - 1s 8us/step - loss: 0.1217 - acc: 0.9769 - val_loss: 0.1112 - val_acc: 0.9778\n",
      "Epoch 20/1000\n",
      "109188/109188 [==============================] - 1s 8us/step - loss: 0.1192 - acc: 0.9771 - val_loss: 0.1091 - val_acc: 0.9780\n",
      "Epoch 21/1000\n",
      "109188/109188 [==============================] - 1s 8us/step - loss: 0.1167 - acc: 0.9774 - val_loss: 0.1073 - val_acc: 0.9782\n",
      "Epoch 22/1000\n",
      "109188/109188 [==============================] - 1s 8us/step - loss: 0.1156 - acc: 0.9776 - val_loss: 0.1059 - val_acc: 0.9782\n",
      "Epoch 23/1000\n",
      "109188/109188 [==============================] - 1s 8us/step - loss: 0.1133 - acc: 0.9778 - val_loss: 0.1054 - val_acc: 0.9782\n",
      "Epoch 24/1000\n",
      "109188/109188 [==============================] - 1s 8us/step - loss: 0.1110 - acc: 0.9782 - val_loss: 0.1058 - val_acc: 0.9782\n",
      "Epoch 25/1000\n",
      "109188/109188 [==============================] - 1s 9us/step - loss: 0.1093 - acc: 0.9782 - val_loss: 0.1027 - val_acc: 0.9785\n",
      "Epoch 26/1000\n",
      "109188/109188 [==============================] - 1s 8us/step - loss: 0.1091 - acc: 0.9782 - val_loss: 0.1004 - val_acc: 0.9789\n",
      "Epoch 27/1000\n",
      "109188/109188 [==============================] - 1s 8us/step - loss: 0.1072 - acc: 0.9782 - val_loss: 0.0987 - val_acc: 0.9792\n",
      "Epoch 28/1000\n",
      "109188/109188 [==============================] - 1s 8us/step - loss: 0.1060 - acc: 0.9785 - val_loss: 0.0993 - val_acc: 0.9791\n",
      "Epoch 29/1000\n",
      "109188/109188 [==============================] - 1s 9us/step - loss: 0.1046 - acc: 0.9787 - val_loss: 0.0985 - val_acc: 0.9792\n",
      "Epoch 30/1000\n",
      "109188/109188 [==============================] - 1s 8us/step - loss: 0.1036 - acc: 0.9788 - val_loss: 0.0974 - val_acc: 0.9793\n",
      "Epoch 31/1000\n",
      "109188/109188 [==============================] - 1s 9us/step - loss: 0.1026 - acc: 0.9789 - val_loss: 0.0961 - val_acc: 0.9795\n",
      "Epoch 32/1000\n",
      "109188/109188 [==============================] - 1s 8us/step - loss: 0.1019 - acc: 0.9790 - val_loss: 0.0951 - val_acc: 0.9798\n",
      "Epoch 33/1000\n",
      "109188/109188 [==============================] - 1s 8us/step - loss: 0.1003 - acc: 0.9793 - val_loss: 0.0931 - val_acc: 0.9803\n",
      "Epoch 34/1000\n",
      "109188/109188 [==============================] - 1s 9us/step - loss: 0.0986 - acc: 0.9795 - val_loss: 0.0942 - val_acc: 0.9797\n",
      "Epoch 35/1000\n",
      "109188/109188 [==============================] - 1s 9us/step - loss: 0.0981 - acc: 0.9794 - val_loss: 0.0913 - val_acc: 0.9806\n",
      "Epoch 36/1000\n",
      "109188/109188 [==============================] - 1s 9us/step - loss: 0.0975 - acc: 0.9798 - val_loss: 0.0920 - val_acc: 0.9801\n",
      "Epoch 37/1000\n",
      "109188/109188 [==============================] - 1s 10us/step - loss: 0.0968 - acc: 0.9798 - val_loss: 0.0906 - val_acc: 0.9807\n",
      "Epoch 38/1000\n",
      "109188/109188 [==============================] - 1s 11us/step - loss: 0.0963 - acc: 0.9796 - val_loss: 0.0907 - val_acc: 0.9805\n",
      "Epoch 39/1000\n",
      "109188/109188 [==============================] - 1s 9us/step - loss: 0.0955 - acc: 0.9799 - val_loss: 0.0888 - val_acc: 0.9812\n",
      "Epoch 40/1000\n",
      "109188/109188 [==============================] - 1s 11us/step - loss: 0.0941 - acc: 0.9800 - val_loss: 0.0885 - val_acc: 0.9813\n",
      "Epoch 41/1000\n",
      "109188/109188 [==============================] - 1s 9us/step - loss: 0.0937 - acc: 0.9799 - val_loss: 0.0878 - val_acc: 0.9815\n",
      "Epoch 42/1000\n",
      "109188/109188 [==============================] - 1s 9us/step - loss: 0.0929 - acc: 0.9801 - val_loss: 0.0879 - val_acc: 0.9813\n",
      "Epoch 43/1000\n",
      "109188/109188 [==============================] - 1s 9us/step - loss: 0.0926 - acc: 0.9803 - val_loss: 0.0861 - val_acc: 0.9819\n",
      "Epoch 44/1000\n",
      "109188/109188 [==============================] - 1s 8us/step - loss: 0.0911 - acc: 0.9808 - val_loss: 0.0870 - val_acc: 0.9816\n",
      "Epoch 45/1000\n",
      "109188/109188 [==============================] - 1s 8us/step - loss: 0.0910 - acc: 0.9804 - val_loss: 0.0855 - val_acc: 0.9821\n",
      "Epoch 46/1000\n",
      "109188/109188 [==============================] - 1s 8us/step - loss: 0.0902 - acc: 0.9806 - val_loss: 0.0853 - val_acc: 0.9820\n",
      "Epoch 47/1000\n",
      "109188/109188 [==============================] - 1s 8us/step - loss: 0.0893 - acc: 0.9807 - val_loss: 0.0846 - val_acc: 0.9823\n",
      "Epoch 48/1000\n",
      "109188/109188 [==============================] - 1s 8us/step - loss: 0.0892 - acc: 0.9808 - val_loss: 0.0841 - val_acc: 0.9824\n",
      "Epoch 49/1000\n",
      "109188/109188 [==============================] - 1s 8us/step - loss: 0.0882 - acc: 0.9811 - val_loss: 0.0838 - val_acc: 0.9823\n",
      "Epoch 50/1000\n",
      "109188/109188 [==============================] - 1s 8us/step - loss: 0.0876 - acc: 0.9810 - val_loss: 0.0820 - val_acc: 0.9825\n",
      "Epoch 51/1000\n",
      "109188/109188 [==============================] - 1s 8us/step - loss: 0.0865 - acc: 0.9813 - val_loss: 0.0825 - val_acc: 0.9824\n",
      "Epoch 52/1000\n",
      "109188/109188 [==============================] - 1s 8us/step - loss: 0.0866 - acc: 0.9809 - val_loss: 0.0833 - val_acc: 0.9820\n",
      "Epoch 53/1000\n",
      "109188/109188 [==============================] - 1s 8us/step - loss: 0.0858 - acc: 0.9814 - val_loss: 0.0813 - val_acc: 0.9827\n",
      "Epoch 54/1000\n",
      "109188/109188 [==============================] - 1s 8us/step - loss: 0.0849 - acc: 0.9816 - val_loss: 0.0800 - val_acc: 0.9829\n",
      "Epoch 55/1000\n",
      "109188/109188 [==============================] - 1s 9us/step - loss: 0.0849 - acc: 0.9812 - val_loss: 0.0792 - val_acc: 0.9826\n",
      "Epoch 56/1000\n",
      "109188/109188 [==============================] - 1s 8us/step - loss: 0.0840 - acc: 0.9818 - val_loss: 0.0777 - val_acc: 0.9829\n",
      "Epoch 57/1000\n",
      "109188/109188 [==============================] - 1s 8us/step - loss: 0.0842 - acc: 0.9816 - val_loss: 0.0795 - val_acc: 0.9826\n",
      "Epoch 58/1000\n",
      "109188/109188 [==============================] - 1s 8us/step - loss: 0.0831 - acc: 0.9815 - val_loss: 0.0783 - val_acc: 0.9827\n"
     ]
    },
    {
     "name": "stdout",
     "output_type": "stream",
     "text": [
      "Epoch 59/1000\n",
      "109188/109188 [==============================] - 1s 9us/step - loss: 0.0827 - acc: 0.9815 - val_loss: 0.0779 - val_acc: 0.9829\n",
      "Epoch 60/1000\n",
      "109188/109188 [==============================] - 1s 10us/step - loss: 0.0820 - acc: 0.9819 - val_loss: 0.0777 - val_acc: 0.9827\n",
      "Epoch 61/1000\n",
      "109188/109188 [==============================] - 1s 11us/step - loss: 0.0809 - acc: 0.9819 - val_loss: 0.0761 - val_acc: 0.9830\n",
      "Epoch 62/1000\n",
      "109188/109188 [==============================] - 1s 10us/step - loss: 0.0806 - acc: 0.9820 - val_loss: 0.0751 - val_acc: 0.9830\n",
      "Epoch 63/1000\n",
      "109188/109188 [==============================] - 1s 8us/step - loss: 0.0804 - acc: 0.9819 - val_loss: 0.0741 - val_acc: 0.9830\n",
      "Epoch 64/1000\n",
      "109188/109188 [==============================] - 1s 8us/step - loss: 0.0791 - acc: 0.9824 - val_loss: 0.0731 - val_acc: 0.9831\n",
      "Epoch 65/1000\n",
      "109188/109188 [==============================] - 1s 8us/step - loss: 0.0779 - acc: 0.9825 - val_loss: 0.0741 - val_acc: 0.9830\n",
      "Epoch 66/1000\n",
      "109188/109188 [==============================] - 1s 8us/step - loss: 0.0777 - acc: 0.9822 - val_loss: 0.0730 - val_acc: 0.9830\n",
      "Epoch 67/1000\n",
      "109188/109188 [==============================] - 1s 8us/step - loss: 0.0778 - acc: 0.9824 - val_loss: 0.0708 - val_acc: 0.9832\n",
      "Epoch 68/1000\n",
      "109188/109188 [==============================] - 1s 8us/step - loss: 0.0771 - acc: 0.9821 - val_loss: 0.0714 - val_acc: 0.9831\n",
      "Epoch 69/1000\n",
      "109188/109188 [==============================] - 1s 8us/step - loss: 0.0768 - acc: 0.9822 - val_loss: 0.0689 - val_acc: 0.9834\n",
      "Epoch 70/1000\n",
      "109188/109188 [==============================] - 1s 8us/step - loss: 0.0757 - acc: 0.9825 - val_loss: 0.0692 - val_acc: 0.9832\n",
      "Epoch 71/1000\n",
      "109188/109188 [==============================] - 1s 8us/step - loss: 0.0754 - acc: 0.9825 - val_loss: 0.0675 - val_acc: 0.9833\n",
      "Epoch 72/1000\n",
      "109188/109188 [==============================] - 1s 8us/step - loss: 0.0741 - acc: 0.9826 - val_loss: 0.0674 - val_acc: 0.9833\n",
      "Epoch 73/1000\n",
      "109188/109188 [==============================] - 1s 8us/step - loss: 0.0742 - acc: 0.9824 - val_loss: 0.0670 - val_acc: 0.9833\n",
      "Epoch 74/1000\n",
      "109188/109188 [==============================] - 1s 8us/step - loss: 0.0731 - acc: 0.9827 - val_loss: 0.0643 - val_acc: 0.9836\n",
      "Epoch 75/1000\n",
      "109188/109188 [==============================] - 1s 8us/step - loss: 0.0723 - acc: 0.9825 - val_loss: 0.0650 - val_acc: 0.9833\n",
      "Epoch 76/1000\n",
      "109188/109188 [==============================] - 1s 8us/step - loss: 0.0722 - acc: 0.9825 - val_loss: 0.0652 - val_acc: 0.9832\n",
      "Epoch 77/1000\n",
      "109188/109188 [==============================] - 1s 8us/step - loss: 0.0708 - acc: 0.9830 - val_loss: 0.0629 - val_acc: 0.9833\n",
      "Epoch 78/1000\n",
      "109188/109188 [==============================] - 1s 8us/step - loss: 0.0700 - acc: 0.9829 - val_loss: 0.0611 - val_acc: 0.9835\n",
      "Epoch 79/1000\n",
      "109188/109188 [==============================] - 1s 8us/step - loss: 0.0692 - acc: 0.9830 - val_loss: 0.0603 - val_acc: 0.9837\n",
      "Epoch 80/1000\n",
      "109188/109188 [==============================] - 1s 8us/step - loss: 0.0685 - acc: 0.9830 - val_loss: 0.0622 - val_acc: 0.9833\n",
      "Epoch 81/1000\n",
      "109188/109188 [==============================] - 1s 8us/step - loss: 0.0674 - acc: 0.9829 - val_loss: 0.0607 - val_acc: 0.9833\n",
      "Epoch 82/1000\n",
      "109188/109188 [==============================] - 1s 8us/step - loss: 0.0668 - acc: 0.9830 - val_loss: 0.0573 - val_acc: 0.9837\n",
      "Epoch 83/1000\n",
      "109188/109188 [==============================] - 1s 8us/step - loss: 0.0658 - acc: 0.9831 - val_loss: 0.0571 - val_acc: 0.9837\n",
      "Epoch 84/1000\n",
      "109188/109188 [==============================] - 1s 8us/step - loss: 0.0649 - acc: 0.9833 - val_loss: 0.0543 - val_acc: 0.9841\n",
      "Epoch 85/1000\n",
      "109188/109188 [==============================] - 1s 8us/step - loss: 0.0641 - acc: 0.9832 - val_loss: 0.0541 - val_acc: 0.9837\n",
      "Epoch 86/1000\n",
      "109188/109188 [==============================] - 1s 8us/step - loss: 0.0635 - acc: 0.9833 - val_loss: 0.0518 - val_acc: 0.9843\n",
      "Epoch 87/1000\n",
      "109188/109188 [==============================] - 1s 8us/step - loss: 0.0625 - acc: 0.9832 - val_loss: 0.0521 - val_acc: 0.9840\n",
      "Epoch 88/1000\n",
      "109188/109188 [==============================] - 1s 8us/step - loss: 0.0618 - acc: 0.9833 - val_loss: 0.0514 - val_acc: 0.9838\n",
      "Epoch 89/1000\n",
      "109188/109188 [==============================] - 1s 8us/step - loss: 0.0609 - acc: 0.9837 - val_loss: 0.0500 - val_acc: 0.9840\n",
      "Epoch 90/1000\n",
      "109188/109188 [==============================] - 1s 8us/step - loss: 0.0598 - acc: 0.9836 - val_loss: 0.0480 - val_acc: 0.9841\n",
      "Epoch 91/1000\n",
      "109188/109188 [==============================] - 1s 8us/step - loss: 0.0581 - acc: 0.9840 - val_loss: 0.0487 - val_acc: 0.9839\n",
      "Epoch 92/1000\n",
      "109188/109188 [==============================] - 1s 8us/step - loss: 0.0578 - acc: 0.9841 - val_loss: 0.0461 - val_acc: 0.9851\n",
      "Epoch 93/1000\n",
      "109188/109188 [==============================] - 1s 8us/step - loss: 0.0574 - acc: 0.9843 - val_loss: 0.0455 - val_acc: 0.9866\n",
      "Epoch 94/1000\n",
      "109188/109188 [==============================] - 1s 8us/step - loss: 0.0557 - acc: 0.9847 - val_loss: 0.0433 - val_acc: 0.9884\n",
      "Epoch 95/1000\n",
      "109188/109188 [==============================] - 1s 8us/step - loss: 0.0555 - acc: 0.9852 - val_loss: 0.0439 - val_acc: 0.9871\n",
      "Epoch 96/1000\n",
      "109188/109188 [==============================] - 1s 8us/step - loss: 0.0544 - acc: 0.9857 - val_loss: 0.0422 - val_acc: 0.9887\n",
      "Epoch 97/1000\n",
      "109188/109188 [==============================] - 1s 9us/step - loss: 0.0541 - acc: 0.9855 - val_loss: 0.0432 - val_acc: 0.9881\n",
      "Epoch 98/1000\n",
      "109188/109188 [==============================] - 1s 9us/step - loss: 0.0529 - acc: 0.9859 - val_loss: 0.0412 - val_acc: 0.9892\n",
      "Epoch 99/1000\n",
      "109188/109188 [==============================] - 1s 10us/step - loss: 0.0521 - acc: 0.9864 - val_loss: 0.0420 - val_acc: 0.9889\n",
      "Epoch 100/1000\n",
      "109188/109188 [==============================] - 1s 11us/step - loss: 0.0517 - acc: 0.9865 - val_loss: 0.0417 - val_acc: 0.9888\n",
      "Epoch 101/1000\n",
      "109188/109188 [==============================] - 1s 12us/step - loss: 0.0511 - acc: 0.9865 - val_loss: 0.0386 - val_acc: 0.9905\n",
      "Epoch 102/1000\n",
      "109188/109188 [==============================] - 1s 8us/step - loss: 0.0500 - acc: 0.9868 - val_loss: 0.0388 - val_acc: 0.9912\n",
      "Epoch 103/1000\n",
      "109188/109188 [==============================] - 1s 8us/step - loss: 0.0501 - acc: 0.9874 - val_loss: 0.0377 - val_acc: 0.9915\n",
      "Epoch 104/1000\n",
      "109188/109188 [==============================] - 1s 8us/step - loss: 0.0489 - acc: 0.9872 - val_loss: 0.0380 - val_acc: 0.9914\n",
      "Epoch 105/1000\n",
      "109188/109188 [==============================] - 1s 8us/step - loss: 0.0490 - acc: 0.9876 - val_loss: 0.0382 - val_acc: 0.9908\n",
      "Epoch 106/1000\n",
      "109188/109188 [==============================] - 1s 8us/step - loss: 0.0479 - acc: 0.9877 - val_loss: 0.0378 - val_acc: 0.9914\n",
      "Epoch 00106: early stopping\n",
      "Training finished...Loading the best model\n",
      "\n"
     ]
    }
   ],
   "source": [
    "checkpointer = ModelCheckpoint(filepath=\".\\multi.hdf5\", verbose=0, save_best_only=True) # save best model\n",
    "activation_func = ['relu', 'tanh']\n",
    "optimizer_func = ['adam', 'sgd']\n",
    "\n",
    "for i in range(2):\n",
    "    for j in range(2):\n",
    "        printmd(\"**Activation** = {}  **Optimizer** = {} \".format(activation_func[i], optimizer_func[j]))\n",
    "        #Build network\n",
    "        model = Sequential()\n",
    "\n",
    "        model.add(Dense(128, input_dim=x_train_tf.shape[1], activation=activation_func[i])) # Hidden 1     #  why input_dim=x.shape[1]?  \n",
    "        model.add(Dropout(0.27))\n",
    "        model.add(Dense(64, activation=activation_func[i])) # Hidden 2\n",
    "        model.add(Dropout(0.27))\n",
    "        model.add(Dense(32, activation=activation_func[i])) # Hidden 4\n",
    "        model.add(Dense(y_train_tf.shape[1], activation='softmax')) # Output\n",
    "\n",
    "        model.compile(loss='categorical_crossentropy', optimizer=optimizer_func[j], metrics=['accuracy'])\n",
    "\n",
    "        monitor = EarlyStopping(monitor='val_loss', min_delta=1e-3, patience=5, verbose=1, mode='auto')\n",
    "\n",
    "        model.fit(x_train_tf,y_train_tf, validation_data=(x_test_tf,y_test_tf), callbacks=[monitor,checkpointer],verbose=1,epochs=1000, batch_size=512, shuffle=True)    # Verbosity mode. 0 = silent, 1 = progress bar, 2 = one line per epoch.\n",
    "    \n",
    "    \n",
    "print('Training finished...Loading the best model')  \n",
    "print()\n",
    "model.load_weights('.\\multi.hdf5') # load weights from best model"
   ]
  },
  {
   "cell_type": "code",
   "execution_count": 79,
   "metadata": {},
   "outputs": [
    {
     "name": "stdout",
     "output_type": "stream",
     "text": [
      "_________________________________________________________________\n",
      "Layer (type)                 Output Shape              Param #   \n",
      "=================================================================\n",
      "dense_37 (Dense)             (None, 128)               5120      \n",
      "_________________________________________________________________\n",
      "dropout_23 (Dropout)         (None, 128)               0         \n",
      "_________________________________________________________________\n",
      "dense_38 (Dense)             (None, 64)                8256      \n",
      "_________________________________________________________________\n",
      "dropout_24 (Dropout)         (None, 64)                0         \n",
      "_________________________________________________________________\n",
      "dense_39 (Dense)             (None, 32)                2080      \n",
      "_________________________________________________________________\n",
      "dense_40 (Dense)             (None, 23)                759       \n",
      "=================================================================\n",
      "Total params: 16,215\n",
      "Trainable params: 16,215\n",
      "Non-trainable params: 0\n",
      "_________________________________________________________________\n"
     ]
    }
   ],
   "source": [
    "model.summary()"
   ]
  },
  {
   "cell_type": "code",
   "execution_count": 80,
   "metadata": {},
   "outputs": [
    {
     "data": {
      "text/markdown": [
       "-----------------**Fully-Connected Neural Network Report**---------------"
      ],
      "text/plain": [
       "<IPython.core.display.Markdown object>"
      ]
     },
     "metadata": {},
     "output_type": "display_data"
    },
    {
     "name": "stdout",
     "output_type": "stream",
     "text": [
      "F1 score: 0.9975348289960824\n",
      "Confusion matrix: \n",
      " [[  267     0     0     0     0     0     0     0     0     0     0     1\n",
      "      0     0     0     0     0     0     0     0     0     0     0]\n",
      " [    0     6     0     0     0     0     0     0     0     0     0     0\n",
      "      0     0     0     0     0     0     0     0     0     2     0]\n",
      " [    0     0     0     0     0     0     0     0     1     0     0     0\n",
      "      0     0     0     0     0     0     0     0     0     0     0]\n",
      " [    0     0     0     7     0     0     0     0     0     0     0     0\n",
      "      0     0     0     0     0     0     0     0     0     0     0]\n",
      " [    0     0     0     0     2     0     0     0     0     0     0     1\n",
      "      0     0     0     0     0     0     0     0     0     0     0]\n",
      " [    0     0     0     0     0   144     0     0     0     0     2     2\n",
      "      0     0     0     0     0     0     0     0     0     0     0]\n",
      " [    0     0     0     0     0     0     6     0     0     0     0     0\n",
      "      0     0     0     0     0     0     0     0     0     0     0]\n",
      " [    0     0     0     0     0     0     0     0     1     0     0     1\n",
      "      0     0     0     0     0     0     0     0     0     0     0]\n",
      " [    0     0     0     0     0     0     0     0     0     0     0     2\n",
      "      0     0     0     0     0     0     0     0     0     0     0]\n",
      " [    0     0     0     0     0     0     0     0     0 13016     0     1\n",
      "      0     0     0     0     0     0     0     0     0     0     0]\n",
      " [    0     0     0     0     0     3     0     0     0     0    32    10\n",
      "      0     0     0     0     0     0     0     0     0     0     0]\n",
      " [    2     1     0     0     0     7     0     0     0     1     1 21832\n",
      "      0     0     0     1     0     1     0     0     0    16     0]\n",
      " [    0     0     0     0     0     0     0     0     0     0     0     0\n",
      "      1     0     0     0     0     0     0     0     0     0     0]\n",
      " [    0     0     0     0     0     0     0     0     0     0     0     0\n",
      "      0     2     0     0     0     0     0     0     0     0     0]\n",
      " [    0     0     0     0     0     0     0     0     0     0     2     0\n",
      "      0     0    54     0     0     0     0     0     0     0     0]\n",
      " [    0     0     0     0     0     0     0     0     0     0     0     4\n",
      "      0     0     0   114     0     0     0     0     0     0     0]\n",
      " [    0     1     0     0     0     0     0     0     0     0     0     2\n",
      "      0     0     0     0     0     0     0     0     0     0     0]\n",
      " [    0     0     0     0     0     0     0     0     0     0     0     3\n",
      "      0     0     0     0     0   227     0     0     0     0     0]\n",
      " [    0     0     0     0     0     0     0     0     0     0     0     4\n",
      "      0     0     0     0     0     0   151     0     0     0     0]\n",
      " [    0     0     0     0     0     0     0     0     0     0     0     1\n",
      "      0     0     0     0     0     0     0     0     0     0     0]\n",
      " [    0     0     0     0     0     0     0     0     0     0     0     0\n",
      "      0     0     0     0     0     0     0     0   240     0     0]\n",
      " [    0     0     0     0     0     0     0     0     0     0     0    11\n",
      "      0     0     0     0     0     0     0     0     0   205     0]\n",
      " [    0     0     0     0     0     0     0     0     1     0     0     0\n",
      "      0     0     0     0     0     0     0     0     0     0     5]]\n",
      "Plotting confusion matrix\n"
     ]
    },
    {
     "data": {
      "image/png": "[encoded data removed]",
      "text/plain": [
       "<Figure size 432x288 with 2 Axes>"
      ]
     },
     "metadata": {
      "needs_background": "light"
     },
     "output_type": "display_data"
    },
    {
     "name": "stdout",
     "output_type": "stream",
     "text": [
      "                  precision    recall  f1-score   support\n",
      "\n",
      "           back.       0.99      1.00      0.99       268\n",
      "buffer_overflow.       0.75      0.75      0.75         8\n",
      "      ftp_write.       0.00      0.00      0.00         1\n",
      "   guess_passwd.       1.00      1.00      1.00         7\n",
      "           imap.       1.00      0.67      0.80         3\n",
      "        ipsweep.       0.94      0.97      0.95       148\n",
      "           land.       1.00      1.00      1.00         6\n",
      "     loadmodule.       0.00      0.00      0.00         2\n",
      "       multihop.       0.00      0.00      0.00         2\n",
      "        neptune.       1.00      1.00      1.00     13017\n",
      "           nmap.       0.86      0.71      0.78        45\n",
      "         normal.       1.00      1.00      1.00     21862\n",
      "           perl.       1.00      1.00      1.00         1\n",
      "            phf.       1.00      1.00      1.00         2\n",
      "            pod.       1.00      0.96      0.98        56\n",
      "      portsweep.       0.99      0.97      0.98       118\n",
      "        rootkit.       0.00      0.00      0.00         3\n",
      "          satan.       1.00      0.99      0.99       230\n",
      "          smurf.       1.00      0.97      0.99       155\n",
      "            spy.       0.00      0.00      0.00         1\n",
      "       teardrop.       1.00      1.00      1.00       240\n",
      "    warezclient.       0.92      0.95      0.93       216\n",
      "    warezmaster.       1.00      0.83      0.91         6\n",
      "\n",
      "       micro avg       1.00      1.00      1.00     36397\n",
      "       macro avg       0.76      0.73      0.74     36397\n",
      "    weighted avg       1.00      1.00      1.00     36397\n",
      "\n"
     ]
    }
   ],
   "source": [
    "nn_pred = model.predict(x_test_tf)\n",
    "nn_pred = np.argmax(nn_pred,axis=1)\n",
    "y_true = np.argmax(y_test_tf,axis=1)\n",
    "\n",
    "nn_f1 = metrics.f1_score(y_true, nn_pred, average= \"weighted\")\n",
    "nn_cm = confusion_matrix(y_true, nn_pred)\n",
    "printmd(\"-----------------**Fully-Connected Neural Network Report**---------------\")\n",
    "print(\"F1 score: {}\".format(nn_f1))\n",
    "print(\"Confusion matrix: \\n\", nn_cm)\n",
    "print('Plotting confusion matrix')\n",
    "\n",
    "plt.figure()\n",
    "plot_confusion_matrix(nn_cm, original_outcome)\n",
    "plt.show()\n",
    "\n",
    "print(classification_report(y_true, nn_pred, target_names=original_outcome))\n"
   ]
  },
  {
   "cell_type": "markdown",
   "metadata": {},
   "source": [
    "# Multi-class Classification CNN"
   ]
  },
  {
   "cell_type": "code",
   "execution_count": 81,
   "metadata": {},
   "outputs": [],
   "source": [
    "x_train_tf, x_test_tf, y_train_tf, y_test_tf = train_test_split(x, y, test_size=0.25, random_state=43)"
   ]
  },
  {
   "cell_type": "code",
   "execution_count": 82,
   "metadata": {},
   "outputs": [],
   "source": [
    "# reshape the input into 4D array\n",
    "x_train_tf = x_train_tf.reshape(x_train_tf.shape[0], 1, x_train_tf.shape[1], 1)\n",
    "x_test_tf = x_test_tf.reshape(x_test_tf.shape[0], 1, x_test_tf.shape[1], 1)"
   ]
  },
  {
   "cell_type": "code",
   "execution_count": 83,
   "metadata": {},
   "outputs": [
    {
     "name": "stdout",
     "output_type": "stream",
     "text": [
      "(109188, 1, 39, 1)\n",
      "(36397, 1, 39, 1)\n"
     ]
    }
   ],
   "source": [
    "print(x_train_tf.shape)\n",
    "print(x_test_tf.shape)"
   ]
  },
  {
   "cell_type": "code",
   "execution_count": 84,
   "metadata": {},
   "outputs": [
    {
     "data": {
      "text/plain": [
       "((109188, 23), (36397, 23))"
      ]
     },
     "execution_count": 84,
     "metadata": {},
     "output_type": "execute_result"
    }
   ],
   "source": [
    "y_train_tf.shape, y_test_tf.shape"
   ]
  },
  {
   "cell_type": "code",
   "execution_count": 85,
   "metadata": {},
   "outputs": [
    {
     "data": {
      "text/plain": [
       "dtype('float32')"
      ]
     },
     "execution_count": 85,
     "metadata": {},
     "output_type": "execute_result"
    }
   ],
   "source": [
    "y_test_tf.dtype"
   ]
  },
  {
   "cell_type": "code",
   "execution_count": 86,
   "metadata": {},
   "outputs": [
    {
     "data": {
      "text/markdown": [
       "**Activation** = relu  **Optimizer** = adam "
      ],
      "text/plain": [
       "<IPython.core.display.Markdown object>"
      ]
     },
     "metadata": {},
     "output_type": "display_data"
    },
    {
     "name": "stdout",
     "output_type": "stream",
     "text": [
      "Train on 109188 samples, validate on 36397 samples\n",
      "Epoch 1/100\n",
      "109188/109188 [==============================] - 2s 20us/step - loss: 0.2170 - acc: 0.9548 - val_loss: 0.0404 - val_acc: 0.9918\n",
      "Epoch 2/100\n",
      "109188/109188 [==============================] - 1s 13us/step - loss: 0.0446 - acc: 0.9903 - val_loss: 0.0307 - val_acc: 0.9941\n",
      "Epoch 3/100\n",
      "109188/109188 [==============================] - 1s 13us/step - loss: 0.0356 - acc: 0.9926 - val_loss: 0.0293 - val_acc: 0.9947\n",
      "Epoch 4/100\n",
      "109188/109188 [==============================] - 2s 15us/step - loss: 0.0312 - acc: 0.9937 - val_loss: 0.0257 - val_acc: 0.9960\n",
      "Epoch 5/100\n",
      "109188/109188 [==============================] - 2s 15us/step - loss: 0.0288 - acc: 0.9942 - val_loss: 0.0221 - val_acc: 0.9966\n",
      "Epoch 6/100\n",
      "109188/109188 [==============================] - 2s 14us/step - loss: 0.0274 - acc: 0.9946 - val_loss: 0.0222 - val_acc: 0.9960\n",
      "Epoch 7/100\n",
      "109188/109188 [==============================] - 1s 13us/step - loss: 0.0251 - acc: 0.9949 - val_loss: 0.0202 - val_acc: 0.9967\n",
      "Epoch 8/100\n",
      "109188/109188 [==============================] - 1s 13us/step - loss: 0.0244 - acc: 0.9952 - val_loss: 0.0206 - val_acc: 0.9967\n",
      "Epoch 9/100\n",
      "109188/109188 [==============================] - 1s 13us/step - loss: 0.0224 - acc: 0.9954 - val_loss: 0.0198 - val_acc: 0.9965\n",
      "Epoch 10/100\n",
      "109188/109188 [==============================] - 1s 13us/step - loss: 0.0216 - acc: 0.9958 - val_loss: 0.0173 - val_acc: 0.9971\n",
      "Epoch 11/100\n",
      "109188/109188 [==============================] - 1s 13us/step - loss: 0.0206 - acc: 0.9958 - val_loss: 0.0180 - val_acc: 0.9966\n",
      "Epoch 12/100\n",
      "109188/109188 [==============================] - 1s 13us/step - loss: 0.0190 - acc: 0.9960 - val_loss: 0.0177 - val_acc: 0.9969\n",
      "Epoch 13/100\n",
      "109188/109188 [==============================] - 1s 13us/step - loss: 0.0189 - acc: 0.9961 - val_loss: 0.0159 - val_acc: 0.9966\n",
      "Epoch 14/100\n",
      "109188/109188 [==============================] - 1s 13us/step - loss: 0.0171 - acc: 0.9964 - val_loss: 0.0146 - val_acc: 0.9972\n",
      "Epoch 15/100\n",
      "109188/109188 [==============================] - 1s 13us/step - loss: 0.0176 - acc: 0.9963 - val_loss: 0.0147 - val_acc: 0.9973\n",
      "Epoch 16/100\n",
      "109188/109188 [==============================] - 1s 13us/step - loss: 0.0169 - acc: 0.9963 - val_loss: 0.0155 - val_acc: 0.9970\n",
      "Epoch 17/100\n",
      "109188/109188 [==============================] - 1s 13us/step - loss: 0.0165 - acc: 0.9963 - val_loss: 0.0131 - val_acc: 0.9972\n",
      "Epoch 18/100\n",
      "109188/109188 [==============================] - 1s 13us/step - loss: 0.0157 - acc: 0.9963 - val_loss: 0.0130 - val_acc: 0.9970\n",
      "Epoch 19/100\n",
      "109188/109188 [==============================] - 1s 13us/step - loss: 0.0152 - acc: 0.9967 - val_loss: 0.0127 - val_acc: 0.9976\n",
      "Epoch 20/100\n",
      "109188/109188 [==============================] - 1s 13us/step - loss: 0.0150 - acc: 0.9966 - val_loss: 0.0135 - val_acc: 0.9974\n",
      "Epoch 21/100\n",
      "109188/109188 [==============================] - 1s 13us/step - loss: 0.0149 - acc: 0.9966 - val_loss: 0.0123 - val_acc: 0.9972\n",
      "Epoch 22/100\n",
      "109188/109188 [==============================] - 1s 13us/step - loss: 0.0151 - acc: 0.9967 - val_loss: 0.0127 - val_acc: 0.9975\n",
      "Epoch 00022: early stopping\n"
     ]
    },
    {
     "data": {
      "text/markdown": [
       "**Activation** = relu  **Optimizer** = sgd "
      ],
      "text/plain": [
       "<IPython.core.display.Markdown object>"
      ]
     },
     "metadata": {},
     "output_type": "display_data"
    },
    {
     "name": "stdout",
     "output_type": "stream",
     "text": [
      "Train on 109188 samples, validate on 36397 samples\n",
      "Epoch 1/100\n",
      "109188/109188 [==============================] - 2s 19us/step - loss: 0.7689 - acc: 0.8114 - val_loss: 0.3120 - val_acc: 0.9567\n",
      "Epoch 2/100\n",
      "109188/109188 [==============================] - 1s 12us/step - loss: 0.3108 - acc: 0.9502 - val_loss: 0.1792 - val_acc: 0.9671\n",
      "Epoch 3/100\n",
      "109188/109188 [==============================] - 1s 12us/step - loss: 0.2129 - acc: 0.9640 - val_loss: 0.1423 - val_acc: 0.9756\n",
      "Epoch 4/100\n",
      "109188/109188 [==============================] - 1s 12us/step - loss: 0.1763 - acc: 0.9693 - val_loss: 0.1253 - val_acc: 0.9766\n",
      "Epoch 5/100\n",
      "109188/109188 [==============================] - 1s 13us/step - loss: 0.1567 - acc: 0.9717 - val_loss: 0.1155 - val_acc: 0.9767\n",
      "Epoch 6/100\n",
      "109188/109188 [==============================] - 1s 12us/step - loss: 0.1425 - acc: 0.9734 - val_loss: 0.1068 - val_acc: 0.9771\n",
      "Epoch 7/100\n",
      "109188/109188 [==============================] - 1s 12us/step - loss: 0.1326 - acc: 0.9739 - val_loss: 0.1007 - val_acc: 0.9771\n",
      "Epoch 8/100\n",
      "109188/109188 [==============================] - 1s 12us/step - loss: 0.1243 - acc: 0.9747 - val_loss: 0.0959 - val_acc: 0.9773\n",
      "Epoch 9/100\n",
      "109188/109188 [==============================] - 1s 12us/step - loss: 0.1154 - acc: 0.9756 - val_loss: 0.0905 - val_acc: 0.9773\n",
      "Epoch 10/100\n",
      "109188/109188 [==============================] - 1s 12us/step - loss: 0.1131 - acc: 0.9757 - val_loss: 0.0859 - val_acc: 0.9775\n",
      "Epoch 11/100\n",
      "109188/109188 [==============================] - 1s 12us/step - loss: 0.1077 - acc: 0.9761 - val_loss: 0.0822 - val_acc: 0.9776\n",
      "Epoch 12/100\n",
      "109188/109188 [==============================] - 1s 12us/step - loss: 0.1050 - acc: 0.9763 - val_loss: 0.0779 - val_acc: 0.9778\n",
      "Epoch 13/100\n",
      "109188/109188 [==============================] - 1s 13us/step - loss: 0.1001 - acc: 0.9767 - val_loss: 0.0748 - val_acc: 0.9781\n",
      "Epoch 14/100\n",
      "109188/109188 [==============================] - 1s 12us/step - loss: 0.0967 - acc: 0.9772 - val_loss: 0.0712 - val_acc: 0.9793\n",
      "Epoch 15/100\n",
      "109188/109188 [==============================] - 1s 12us/step - loss: 0.0938 - acc: 0.9775 - val_loss: 0.0676 - val_acc: 0.9802\n",
      "Epoch 16/100\n",
      "109188/109188 [==============================] - 1s 12us/step - loss: 0.0904 - acc: 0.9778 - val_loss: 0.0655 - val_acc: 0.9802\n",
      "Epoch 17/100\n",
      "109188/109188 [==============================] - 1s 13us/step - loss: 0.0871 - acc: 0.9782 - val_loss: 0.0624 - val_acc: 0.9805\n",
      "Epoch 18/100\n",
      "109188/109188 [==============================] - 1s 14us/step - loss: 0.0846 - acc: 0.9786 - val_loss: 0.0601 - val_acc: 0.9809\n",
      "Epoch 19/100\n",
      "109188/109188 [==============================] - 1s 12us/step - loss: 0.0812 - acc: 0.9790 - val_loss: 0.0569 - val_acc: 0.9814\n",
      "Epoch 20/100\n",
      "109188/109188 [==============================] - 1s 13us/step - loss: 0.0794 - acc: 0.9795 - val_loss: 0.0560 - val_acc: 0.9811\n",
      "Epoch 21/100\n",
      "109188/109188 [==============================] - 1s 12us/step - loss: 0.0783 - acc: 0.9799 - val_loss: 0.0536 - val_acc: 0.9818\n",
      "Epoch 22/100\n",
      "109188/109188 [==============================] - 1s 12us/step - loss: 0.0747 - acc: 0.9800 - val_loss: 0.0517 - val_acc: 0.9824\n",
      "Epoch 23/100\n",
      "109188/109188 [==============================] - 1s 12us/step - loss: 0.0731 - acc: 0.9808 - val_loss: 0.0497 - val_acc: 0.9830\n",
      "Epoch 24/100\n",
      "109188/109188 [==============================] - 1s 12us/step - loss: 0.0711 - acc: 0.9817 - val_loss: 0.0481 - val_acc: 0.9845\n",
      "Epoch 25/100\n",
      "109188/109188 [==============================] - 1s 13us/step - loss: 0.0687 - acc: 0.9819 - val_loss: 0.0467 - val_acc: 0.9861\n",
      "Epoch 26/100\n",
      "109188/109188 [==============================] - 1s 13us/step - loss: 0.0668 - acc: 0.9823 - val_loss: 0.0455 - val_acc: 0.9871\n",
      "Epoch 27/100\n",
      "109188/109188 [==============================] - 1s 13us/step - loss: 0.0652 - acc: 0.9832 - val_loss: 0.0448 - val_acc: 0.9879\n",
      "Epoch 28/100\n",
      "109188/109188 [==============================] - 1s 12us/step - loss: 0.0645 - acc: 0.9833 - val_loss: 0.0437 - val_acc: 0.9890\n",
      "Epoch 29/100\n",
      "109188/109188 [==============================] - 1s 13us/step - loss: 0.0637 - acc: 0.9838 - val_loss: 0.0425 - val_acc: 0.9895\n",
      "Epoch 30/100\n",
      "109188/109188 [==============================] - 1s 13us/step - loss: 0.0613 - acc: 0.9844 - val_loss: 0.0415 - val_acc: 0.9899\n",
      "Epoch 31/100\n",
      "109188/109188 [==============================] - 1s 12us/step - loss: 0.0609 - acc: 0.9846 - val_loss: 0.0409 - val_acc: 0.9906\n",
      "Epoch 32/100\n",
      "109188/109188 [==============================] - 1s 12us/step - loss: 0.0601 - acc: 0.9851 - val_loss: 0.0398 - val_acc: 0.9909\n",
      "Epoch 33/100\n",
      "109188/109188 [==============================] - 1s 12us/step - loss: 0.0589 - acc: 0.9853 - val_loss: 0.0392 - val_acc: 0.9909\n",
      "Epoch 34/100\n",
      "109188/109188 [==============================] - 1s 12us/step - loss: 0.0577 - acc: 0.9858 - val_loss: 0.0384 - val_acc: 0.9911\n",
      "Epoch 35/100\n",
      "109188/109188 [==============================] - 1s 12us/step - loss: 0.0573 - acc: 0.9859 - val_loss: 0.0380 - val_acc: 0.9910\n",
      "Epoch 36/100\n",
      "109188/109188 [==============================] - 1s 12us/step - loss: 0.0574 - acc: 0.9860 - val_loss: 0.0374 - val_acc: 0.9910\n",
      "Epoch 37/100\n",
      "109188/109188 [==============================] - 1s 12us/step - loss: 0.0550 - acc: 0.9864 - val_loss: 0.0370 - val_acc: 0.9910\n",
      "Epoch 38/100\n",
      "109188/109188 [==============================] - 1s 13us/step - loss: 0.0541 - acc: 0.9869 - val_loss: 0.0358 - val_acc: 0.9912\n",
      "Epoch 39/100\n",
      "109188/109188 [==============================] - 1s 12us/step - loss: 0.0543 - acc: 0.9867 - val_loss: 0.0351 - val_acc: 0.9913\n",
      "Epoch 40/100\n",
      "109188/109188 [==============================] - 1s 13us/step - loss: 0.0522 - acc: 0.9871 - val_loss: 0.0347 - val_acc: 0.9912\n",
      "Epoch 41/100\n",
      "109188/109188 [==============================] - 1s 12us/step - loss: 0.0522 - acc: 0.9875 - val_loss: 0.0331 - val_acc: 0.9915\n",
      "Epoch 42/100\n",
      "109188/109188 [==============================] - 1s 12us/step - loss: 0.0509 - acc: 0.9874 - val_loss: 0.0327 - val_acc: 0.9914\n",
      "Epoch 43/100\n",
      "109188/109188 [==============================] - 1s 12us/step - loss: 0.0506 - acc: 0.9878 - val_loss: 0.0323 - val_acc: 0.9916\n",
      "Epoch 44/100\n",
      "109188/109188 [==============================] - 1s 12us/step - loss: 0.0502 - acc: 0.9879 - val_loss: 0.0318 - val_acc: 0.9916\n",
      "Epoch 45/100\n",
      "109188/109188 [==============================] - 1s 12us/step - loss: 0.0497 - acc: 0.9877 - val_loss: 0.0316 - val_acc: 0.9917\n",
      "Epoch 46/100\n",
      "109188/109188 [==============================] - 1s 13us/step - loss: 0.0488 - acc: 0.9883 - val_loss: 0.0310 - val_acc: 0.9918\n",
      "Epoch 47/100\n",
      "109188/109188 [==============================] - 1s 13us/step - loss: 0.0475 - acc: 0.9883 - val_loss: 0.0311 - val_acc: 0.9919\n",
      "Epoch 48/100\n",
      "109188/109188 [==============================] - 1s 12us/step - loss: 0.0483 - acc: 0.9883 - val_loss: 0.0309 - val_acc: 0.9920\n",
      "Epoch 49/100\n",
      "109188/109188 [==============================] - 1s 12us/step - loss: 0.0468 - acc: 0.9886 - val_loss: 0.0304 - val_acc: 0.9921\n",
      "Epoch 50/100\n",
      "109188/109188 [==============================] - 1s 12us/step - loss: 0.0473 - acc: 0.9885 - val_loss: 0.0301 - val_acc: 0.9921\n",
      "Epoch 51/100\n",
      "109188/109188 [==============================] - 1s 12us/step - loss: 0.0468 - acc: 0.9888 - val_loss: 0.0300 - val_acc: 0.9925\n",
      "Epoch 52/100\n",
      "109188/109188 [==============================] - 1s 13us/step - loss: 0.0457 - acc: 0.9889 - val_loss: 0.0295 - val_acc: 0.9925\n",
      "Epoch 53/100\n",
      "109188/109188 [==============================] - 1s 12us/step - loss: 0.0446 - acc: 0.9893 - val_loss: 0.0291 - val_acc: 0.9926\n",
      "Epoch 54/100\n",
      "109188/109188 [==============================] - 1s 12us/step - loss: 0.0455 - acc: 0.9892 - val_loss: 0.0293 - val_acc: 0.9927\n",
      "Epoch 55/100\n",
      "109188/109188 [==============================] - 1s 12us/step - loss: 0.0445 - acc: 0.9896 - val_loss: 0.0290 - val_acc: 0.9927\n",
      "Epoch 56/100\n",
      "109188/109188 [==============================] - 1s 12us/step - loss: 0.0452 - acc: 0.9889 - val_loss: 0.0291 - val_acc: 0.9928\n",
      "Epoch 57/100\n",
      "109188/109188 [==============================] - 1s 12us/step - loss: 0.0440 - acc: 0.9891 - val_loss: 0.0286 - val_acc: 0.9927\n",
      "Epoch 58/100\n",
      "109188/109188 [==============================] - 1s 12us/step - loss: 0.0427 - acc: 0.9896 - val_loss: 0.0283 - val_acc: 0.9929\n"
     ]
    },
    {
     "name": "stdout",
     "output_type": "stream",
     "text": [
      "Epoch 00058: early stopping\n"
     ]
    },
    {
     "data": {
      "text/markdown": [
       "**Activation** = tanh  **Optimizer** = adam "
      ],
      "text/plain": [
       "<IPython.core.display.Markdown object>"
      ]
     },
     "metadata": {},
     "output_type": "display_data"
    },
    {
     "name": "stdout",
     "output_type": "stream",
     "text": [
      "Train on 109188 samples, validate on 36397 samples\n",
      "Epoch 1/100\n",
      "109188/109188 [==============================] - 3s 24us/step - loss: 0.1319 - acc: 0.9735 - val_loss: 0.0304 - val_acc: 0.9922\n",
      "Epoch 2/100\n",
      "109188/109188 [==============================] - 2s 15us/step - loss: 0.0339 - acc: 0.9909 - val_loss: 0.0225 - val_acc: 0.9941\n",
      "Epoch 3/100\n",
      "109188/109188 [==============================] - 2s 14us/step - loss: 0.0248 - acc: 0.9936 - val_loss: 0.0174 - val_acc: 0.9959\n",
      "Epoch 4/100\n",
      "109188/109188 [==============================] - 1s 14us/step - loss: 0.0217 - acc: 0.9943 - val_loss: 0.0171 - val_acc: 0.9955\n",
      "Epoch 5/100\n",
      "109188/109188 [==============================] - 1s 13us/step - loss: 0.0193 - acc: 0.9949 - val_loss: 0.0146 - val_acc: 0.9966\n",
      "Epoch 6/100\n",
      "109188/109188 [==============================] - 1s 13us/step - loss: 0.0172 - acc: 0.9958 - val_loss: 0.0137 - val_acc: 0.9967\n",
      "Epoch 7/100\n",
      "109188/109188 [==============================] - 1s 13us/step - loss: 0.0163 - acc: 0.9958 - val_loss: 0.0126 - val_acc: 0.9970\n",
      "Epoch 8/100\n",
      "109188/109188 [==============================] - 1s 13us/step - loss: 0.0158 - acc: 0.9959 - val_loss: 0.0129 - val_acc: 0.9968\n",
      "Epoch 9/100\n",
      "109188/109188 [==============================] - 1s 13us/step - loss: 0.0148 - acc: 0.9964 - val_loss: 0.0131 - val_acc: 0.9968\n",
      "Epoch 10/100\n",
      "109188/109188 [==============================] - 1s 13us/step - loss: 0.0156 - acc: 0.9960 - val_loss: 0.0126 - val_acc: 0.9972\n",
      "Epoch 11/100\n",
      "109188/109188 [==============================] - 1s 13us/step - loss: 0.0138 - acc: 0.9966 - val_loss: 0.0112 - val_acc: 0.9973\n",
      "Epoch 12/100\n",
      "109188/109188 [==============================] - 1s 13us/step - loss: 0.0129 - acc: 0.9965 - val_loss: 0.0107 - val_acc: 0.9975\n",
      "Epoch 13/100\n",
      "109188/109188 [==============================] - 1s 13us/step - loss: 0.0129 - acc: 0.9966 - val_loss: 0.0112 - val_acc: 0.9973\n",
      "Epoch 14/100\n",
      "109188/109188 [==============================] - 1s 13us/step - loss: 0.0122 - acc: 0.9970 - val_loss: 0.0117 - val_acc: 0.9972\n",
      "Epoch 15/100\n",
      "109188/109188 [==============================] - 2s 14us/step - loss: 0.0120 - acc: 0.9969 - val_loss: 0.0103 - val_acc: 0.9975\n",
      "Epoch 16/100\n",
      "109188/109188 [==============================] - 2s 16us/step - loss: 0.0116 - acc: 0.9972 - val_loss: 0.0106 - val_acc: 0.9975\n",
      "Epoch 00016: early stopping\n"
     ]
    },
    {
     "data": {
      "text/markdown": [
       "**Activation** = tanh  **Optimizer** = sgd "
      ],
      "text/plain": [
       "<IPython.core.display.Markdown object>"
      ]
     },
     "metadata": {},
     "output_type": "display_data"
    },
    {
     "name": "stdout",
     "output_type": "stream",
     "text": [
      "Train on 109188 samples, validate on 36397 samples\n",
      "Epoch 1/100\n",
      "109188/109188 [==============================] - 2s 21us/step - loss: 0.4349 - acc: 0.9366 - val_loss: 0.2213 - val_acc: 0.9579\n",
      "Epoch 2/100\n",
      "109188/109188 [==============================] - 1s 12us/step - loss: 0.2125 - acc: 0.9604 - val_loss: 0.1713 - val_acc: 0.9661\n",
      "Epoch 3/100\n",
      "109188/109188 [==============================] - 1s 13us/step - loss: 0.1722 - acc: 0.9663 - val_loss: 0.1426 - val_acc: 0.9697\n",
      "Epoch 4/100\n",
      "109188/109188 [==============================] - 1s 13us/step - loss: 0.1489 - acc: 0.9701 - val_loss: 0.1253 - val_acc: 0.9722\n",
      "Epoch 5/100\n",
      "109188/109188 [==============================] - 1s 12us/step - loss: 0.1323 - acc: 0.9718 - val_loss: 0.1113 - val_acc: 0.9736\n",
      "Epoch 6/100\n",
      "109188/109188 [==============================] - 1s 12us/step - loss: 0.1194 - acc: 0.9734 - val_loss: 0.1005 - val_acc: 0.9749\n",
      "Epoch 7/100\n",
      "109188/109188 [==============================] - 1s 12us/step - loss: 0.1104 - acc: 0.9741 - val_loss: 0.0924 - val_acc: 0.9749\n",
      "Epoch 8/100\n",
      "109188/109188 [==============================] - 1s 12us/step - loss: 0.1024 - acc: 0.9748 - val_loss: 0.0852 - val_acc: 0.9751\n",
      "Epoch 9/100\n",
      "109188/109188 [==============================] - 1s 12us/step - loss: 0.0949 - acc: 0.9752 - val_loss: 0.0789 - val_acc: 0.9754\n",
      "Epoch 10/100\n",
      "109188/109188 [==============================] - 1s 12us/step - loss: 0.0887 - acc: 0.9764 - val_loss: 0.0739 - val_acc: 0.9755\n",
      "Epoch 11/100\n",
      "109188/109188 [==============================] - 1s 12us/step - loss: 0.0842 - acc: 0.9766 - val_loss: 0.0691 - val_acc: 0.9759\n",
      "Epoch 12/100\n",
      "109188/109188 [==============================] - 1s 12us/step - loss: 0.0796 - acc: 0.9782 - val_loss: 0.0646 - val_acc: 0.9774\n",
      "Epoch 13/100\n",
      "109188/109188 [==============================] - 1s 12us/step - loss: 0.0760 - acc: 0.9793 - val_loss: 0.0616 - val_acc: 0.9791\n",
      "Epoch 14/100\n",
      "109188/109188 [==============================] - 1s 12us/step - loss: 0.0729 - acc: 0.9800 - val_loss: 0.0587 - val_acc: 0.9819\n",
      "Epoch 15/100\n",
      "109188/109188 [==============================] - 1s 13us/step - loss: 0.0697 - acc: 0.9813 - val_loss: 0.0560 - val_acc: 0.9837\n",
      "Epoch 16/100\n",
      "109188/109188 [==============================] - 1s 12us/step - loss: 0.0678 - acc: 0.9817 - val_loss: 0.0534 - val_acc: 0.9859\n",
      "Epoch 17/100\n",
      "109188/109188 [==============================] - 1s 13us/step - loss: 0.0652 - acc: 0.9824 - val_loss: 0.0518 - val_acc: 0.9862\n",
      "Epoch 18/100\n",
      "109188/109188 [==============================] - 1s 13us/step - loss: 0.0647 - acc: 0.9829 - val_loss: 0.0502 - val_acc: 0.9864\n",
      "Epoch 19/100\n",
      "109188/109188 [==============================] - 2s 15us/step - loss: 0.0617 - acc: 0.9839 - val_loss: 0.0486 - val_acc: 0.9869\n",
      "Epoch 20/100\n",
      "109188/109188 [==============================] - 1s 13us/step - loss: 0.0596 - acc: 0.9840 - val_loss: 0.0473 - val_acc: 0.9873\n",
      "Epoch 21/100\n",
      "109188/109188 [==============================] - 1s 13us/step - loss: 0.0587 - acc: 0.9846 - val_loss: 0.0460 - val_acc: 0.9878\n",
      "Epoch 22/100\n",
      "109188/109188 [==============================] - 1s 13us/step - loss: 0.0575 - acc: 0.9846 - val_loss: 0.0447 - val_acc: 0.9880\n",
      "Epoch 23/100\n",
      "109188/109188 [==============================] - 1s 12us/step - loss: 0.0562 - acc: 0.9853 - val_loss: 0.0436 - val_acc: 0.9883\n",
      "Epoch 24/100\n",
      "109188/109188 [==============================] - 1s 13us/step - loss: 0.0545 - acc: 0.9855 - val_loss: 0.0427 - val_acc: 0.9887\n",
      "Epoch 25/100\n",
      "109188/109188 [==============================] - 2s 15us/step - loss: 0.0532 - acc: 0.9857 - val_loss: 0.0418 - val_acc: 0.9889\n",
      "Epoch 26/100\n",
      "109188/109188 [==============================] - 2s 15us/step - loss: 0.0524 - acc: 0.9862 - val_loss: 0.0410 - val_acc: 0.9889\n",
      "Epoch 27/100\n",
      "109188/109188 [==============================] - 2s 15us/step - loss: 0.0521 - acc: 0.9863 - val_loss: 0.0403 - val_acc: 0.9890\n",
      "Epoch 28/100\n",
      "109188/109188 [==============================] - 1s 13us/step - loss: 0.0511 - acc: 0.9864 - val_loss: 0.0394 - val_acc: 0.9892\n",
      "Epoch 29/100\n",
      "109188/109188 [==============================] - 1s 13us/step - loss: 0.0493 - acc: 0.9872 - val_loss: 0.0388 - val_acc: 0.9894\n",
      "Epoch 30/100\n",
      "109188/109188 [==============================] - 1s 13us/step - loss: 0.0483 - acc: 0.9871 - val_loss: 0.0382 - val_acc: 0.9896\n",
      "Epoch 31/100\n",
      "109188/109188 [==============================] - 1s 14us/step - loss: 0.0479 - acc: 0.9873 - val_loss: 0.0377 - val_acc: 0.9897\n",
      "Epoch 32/100\n",
      "109188/109188 [==============================] - 1s 13us/step - loss: 0.0468 - acc: 0.9875 - val_loss: 0.0370 - val_acc: 0.9899\n",
      "Epoch 33/100\n",
      "109188/109188 [==============================] - 1s 13us/step - loss: 0.0477 - acc: 0.9874 - val_loss: 0.0365 - val_acc: 0.9900\n",
      "Epoch 34/100\n",
      "109188/109188 [==============================] - 1s 13us/step - loss: 0.0463 - acc: 0.9877 - val_loss: 0.0359 - val_acc: 0.9902\n",
      "Epoch 35/100\n",
      "109188/109188 [==============================] - 1s 13us/step - loss: 0.0451 - acc: 0.9880 - val_loss: 0.0355 - val_acc: 0.9902\n",
      "Epoch 36/100\n",
      "109188/109188 [==============================] - 1s 13us/step - loss: 0.0443 - acc: 0.9882 - val_loss: 0.0349 - val_acc: 0.9904\n",
      "Epoch 37/100\n",
      "109188/109188 [==============================] - 1s 13us/step - loss: 0.0438 - acc: 0.9883 - val_loss: 0.0346 - val_acc: 0.9904\n",
      "Epoch 38/100\n",
      "109188/109188 [==============================] - 1s 13us/step - loss: 0.0437 - acc: 0.9885 - val_loss: 0.0341 - val_acc: 0.9906\n",
      "Epoch 39/100\n",
      "109188/109188 [==============================] - 1s 12us/step - loss: 0.0431 - acc: 0.9882 - val_loss: 0.0337 - val_acc: 0.9907\n",
      "Epoch 40/100\n",
      "109188/109188 [==============================] - 1s 14us/step - loss: 0.0417 - acc: 0.9888 - val_loss: 0.0335 - val_acc: 0.9908\n",
      "Epoch 41/100\n",
      "109188/109188 [==============================] - 2s 14us/step - loss: 0.0431 - acc: 0.9884 - val_loss: 0.0329 - val_acc: 0.9909\n",
      "Epoch 42/100\n",
      "109188/109188 [==============================] - 2s 14us/step - loss: 0.0418 - acc: 0.9888 - val_loss: 0.0326 - val_acc: 0.9909\n",
      "Epoch 43/100\n",
      "109188/109188 [==============================] - 1s 13us/step - loss: 0.0417 - acc: 0.9891 - val_loss: 0.0322 - val_acc: 0.9910\n",
      "Epoch 44/100\n",
      "109188/109188 [==============================] - 1s 13us/step - loss: 0.0414 - acc: 0.9892 - val_loss: 0.0320 - val_acc: 0.9910\n",
      "Epoch 45/100\n",
      "109188/109188 [==============================] - 1s 13us/step - loss: 0.0407 - acc: 0.9893 - val_loss: 0.0317 - val_acc: 0.9911\n",
      "Epoch 46/100\n",
      "109188/109188 [==============================] - 1s 13us/step - loss: 0.0401 - acc: 0.9892 - val_loss: 0.0314 - val_acc: 0.9913\n",
      "Epoch 47/100\n",
      "109188/109188 [==============================] - 1s 12us/step - loss: 0.0390 - acc: 0.9895 - val_loss: 0.0310 - val_acc: 0.9915\n",
      "Epoch 48/100\n",
      "109188/109188 [==============================] - 1s 12us/step - loss: 0.0398 - acc: 0.9895 - val_loss: 0.0307 - val_acc: 0.9918\n",
      "Epoch 49/100\n",
      "109188/109188 [==============================] - 1s 13us/step - loss: 0.0387 - acc: 0.9897 - val_loss: 0.0305 - val_acc: 0.9918\n",
      "Epoch 50/100\n",
      "109188/109188 [==============================] - 1s 12us/step - loss: 0.0384 - acc: 0.9899 - val_loss: 0.0303 - val_acc: 0.9919\n",
      "Epoch 51/100\n",
      "109188/109188 [==============================] - 1s 12us/step - loss: 0.0391 - acc: 0.9896 - val_loss: 0.0301 - val_acc: 0.9921\n",
      "Epoch 52/100\n",
      "109188/109188 [==============================] - 1s 12us/step - loss: 0.0383 - acc: 0.9899 - val_loss: 0.0296 - val_acc: 0.9922\n",
      "Epoch 53/100\n",
      "109188/109188 [==============================] - 1s 12us/step - loss: 0.0375 - acc: 0.9900 - val_loss: 0.0293 - val_acc: 0.9922\n",
      "Epoch 54/100\n",
      "109188/109188 [==============================] - 1s 13us/step - loss: 0.0370 - acc: 0.9902 - val_loss: 0.0291 - val_acc: 0.9924\n",
      "Epoch 55/100\n",
      "109188/109188 [==============================] - 1s 12us/step - loss: 0.0372 - acc: 0.9899 - val_loss: 0.0289 - val_acc: 0.9925\n",
      "Epoch 56/100\n",
      "109188/109188 [==============================] - 1s 12us/step - loss: 0.0370 - acc: 0.9902 - val_loss: 0.0288 - val_acc: 0.9925\n",
      "Epoch 57/100\n",
      "109188/109188 [==============================] - 1s 12us/step - loss: 0.0367 - acc: 0.9902 - val_loss: 0.0286 - val_acc: 0.9925\n",
      "Epoch 58/100\n",
      "109188/109188 [==============================] - 1s 12us/step - loss: 0.0364 - acc: 0.9901 - val_loss: 0.0283 - val_acc: 0.9926\n"
     ]
    },
    {
     "name": "stdout",
     "output_type": "stream",
     "text": [
      "Epoch 59/100\n",
      "109188/109188 [==============================] - 1s 12us/step - loss: 0.0358 - acc: 0.9908 - val_loss: 0.0282 - val_acc: 0.9927\n",
      "Epoch 60/100\n",
      "109188/109188 [==============================] - 1s 12us/step - loss: 0.0356 - acc: 0.9906 - val_loss: 0.0278 - val_acc: 0.9928\n",
      "Epoch 61/100\n",
      "109188/109188 [==============================] - 1s 12us/step - loss: 0.0356 - acc: 0.9906 - val_loss: 0.0277 - val_acc: 0.9928\n",
      "Epoch 62/100\n",
      "109188/109188 [==============================] - 1s 12us/step - loss: 0.0363 - acc: 0.9903 - val_loss: 0.0275 - val_acc: 0.9930\n",
      "Epoch 63/100\n",
      "109188/109188 [==============================] - 1s 12us/step - loss: 0.0344 - acc: 0.9910 - val_loss: 0.0274 - val_acc: 0.9929\n",
      "Epoch 00063: early stopping\n",
      "Training finished...Loading the best model\n",
      "\n"
     ]
    }
   ],
   "source": [
    "checkpointer = ModelCheckpoint(filepath=\".\\multi_cnn.hdf5\", verbose=0, save_best_only=True) # save best model\n",
    "input_shape = (1, x_train_tf.shape[2], 1)\n",
    "activation_func = ['relu', 'tanh']\n",
    "optimizer_func = ['adam', 'sgd']\n",
    "\n",
    "for i in range(2):\n",
    "    for j in range(2):\n",
    "        #Build network\n",
    "        printmd(\"**Activation** = {}  **Optimizer** = {} \".format(activation_func[i], optimizer_func[j]))\n",
    "        model = Sequential()\n",
    "\n",
    "        model.add(Conv2D(32, kernel_size=(1, 3), strides=(1, 1), padding='valid',\n",
    "                     activation=activation_func[i],\n",
    "                     input_shape=input_shape))\n",
    "        model.add(Conv2D(64, (1, 3), activation=activation_func[i]))\n",
    "        model.add(MaxPooling2D(pool_size=(1, 2), strides=None))\n",
    "        model.add(Dropout(0.25)) \n",
    "        model.add(Flatten())\n",
    "        model.add(Dense(128, activation=activation_func[i]))\n",
    "        model.add(Dropout(0.5))\n",
    "        model.add(Dense(y_train_tf.shape[1], activation='softmax'))\n",
    "\n",
    "        model.compile(loss=\"categorical_crossentropy\", optimizer=optimizer_func[j], metrics=['accuracy'])\n",
    "\n",
    "        monitor = EarlyStopping(monitor='val_loss', min_delta=1e-3, patience=5, verbose=1, mode='auto')\n",
    "\n",
    "        model.fit(x_train_tf,y_train_tf, validation_data=(x_test_tf,y_test_tf), callbacks=[monitor,checkpointer],verbose=1,epochs=100, batch_size=512, shuffle=True)    # Verbosity mode. 0 = silent, 1 = progress bar, 2 = one line per epoch.\n",
    "    \n",
    "    \n",
    "print('Training finished...Loading the best model')  \n",
    "print()\n",
    "model.load_weights('.\\multi_cnn.hdf5') # load weights from best model"
   ]
  },
  {
   "cell_type": "code",
   "execution_count": 87,
   "metadata": {},
   "outputs": [
    {
     "name": "stdout",
     "output_type": "stream",
     "text": [
      "_________________________________________________________________\n",
      "Layer (type)                 Output Shape              Param #   \n",
      "=================================================================\n",
      "conv2d_15 (Conv2D)           (None, 1, 37, 32)         128       \n",
      "_________________________________________________________________\n",
      "conv2d_16 (Conv2D)           (None, 1, 35, 64)         6208      \n",
      "_________________________________________________________________\n",
      "max_pooling2d_8 (MaxPooling2 (None, 1, 17, 64)         0         \n",
      "_________________________________________________________________\n",
      "dropout_31 (Dropout)         (None, 1, 17, 64)         0         \n",
      "_________________________________________________________________\n",
      "flatten_8 (Flatten)          (None, 1088)              0         \n",
      "_________________________________________________________________\n",
      "dense_47 (Dense)             (None, 128)               139392    \n",
      "_________________________________________________________________\n",
      "dropout_32 (Dropout)         (None, 128)               0         \n",
      "_________________________________________________________________\n",
      "dense_48 (Dense)             (None, 23)                2967      \n",
      "=================================================================\n",
      "Total params: 148,695\n",
      "Trainable params: 148,695\n",
      "Non-trainable params: 0\n",
      "_________________________________________________________________\n"
     ]
    }
   ],
   "source": [
    "model.summary()"
   ]
  },
  {
   "cell_type": "code",
   "execution_count": 88,
   "metadata": {},
   "outputs": [
    {
     "data": {
      "text/markdown": [
       "-----------------**Convolutional Neural Network Report**---------------"
      ],
      "text/plain": [
       "<IPython.core.display.Markdown object>"
      ]
     },
     "metadata": {},
     "output_type": "display_data"
    },
    {
     "name": "stdout",
     "output_type": "stream",
     "text": [
      "F1 score: 0.9973971565148655\n",
      "Confusion matrix: \n",
      " [[  265     0     0     0     0     0     0     0     0     0     0     3\n",
      "      0     0     0     0     0     0     0     0     0     0     0]\n",
      " [    0     6     0     0     0     0     0     0     0     0     0     2\n",
      "      0     0     0     0     0     0     0     0     0     0     0]\n",
      " [    0     0     1     0     0     0     0     0     0     0     0     0\n",
      "      0     0     0     0     0     0     0     0     0     0     0]\n",
      " [    0     0     0     7     0     0     0     0     0     0     0     0\n",
      "      0     0     0     0     0     0     0     0     0     0     0]\n",
      " [    0     0     0     0     2     0     0     0     0     0     0     0\n",
      "      0     0     0     0     0     0     0     0     0     0     1]\n",
      " [    0     0     0     0     0   143     0     0     0     0     2     3\n",
      "      0     0     0     0     0     0     0     0     0     0     0]\n",
      " [    0     0     0     0     0     0     6     0     0     0     0     0\n",
      "      0     0     0     0     0     0     0     0     0     0     0]\n",
      " [    0     1     0     0     0     0     0     1     0     0     0     0\n",
      "      0     0     0     0     0     0     0     0     0     0     0]\n",
      " [    0     0     0     0     0     0     0     0     0     0     0     1\n",
      "      0     0     0     0     0     0     0     0     0     0     1]\n",
      " [    0     0     0     0     0     0     0     0     0 13015     0     2\n",
      "      0     0     0     0     0     0     0     0     0     0     0]\n",
      " [    0     0     0     0     0     2     0     0     0     0    33    10\n",
      "      0     0     0     0     0     0     0     0     0     0     0]\n",
      " [    2     0     0     0     0     5     0     0     0     1     0 21835\n",
      "      0     0     0     0     0     1     0     0     0    17     1]\n",
      " [    0     0     0     0     0     0     0     0     0     0     0     0\n",
      "      1     0     0     0     0     0     0     0     0     0     0]\n",
      " [    0     0     0     0     0     0     0     0     0     0     0     1\n",
      "      0     1     0     0     0     0     0     0     0     0     0]\n",
      " [    0     0     0     0     0     0     0     0     0     0     0     2\n",
      "      0     0    54     0     0     0     0     0     0     0     0]\n",
      " [    0     0     0     0     0     0     0     0     0     0     0     4\n",
      "      0     0     0   113     0     1     0     0     0     0     0]\n",
      " [    0     0     0     0     0     0     0     0     0     0     0     2\n",
      "      0     0     0     0     1     0     0     0     0     0     0]\n",
      " [    0     0     0     0     0     0     0     0     0     0     0     3\n",
      "      0     0     0     0     0   227     0     0     0     0     0]\n",
      " [    0     0     0     0     0     0     0     0     0     0     0     3\n",
      "      0     0     0     0     0     0   152     0     0     0     0]\n",
      " [    0     0     0     0     0     0     0     0     0     0     0     1\n",
      "      0     0     0     0     0     0     0     0     0     0     0]\n",
      " [    0     0     0     0     0     0     0     0     0     0     0     0\n",
      "      0     0     0     0     0     0     0     0   240     0     0]\n",
      " [    0     0     0     0     0     0     0     0     0     0     0    19\n",
      "      0     0     0     0     0     0     0     0     0   197     0]\n",
      " [    0     0     0     0     0     0     0     0     1     0     0     0\n",
      "      0     0     0     0     0     0     0     0     0     0     5]]\n",
      "Plotting confusion matrix\n"
     ]
    },
    {
     "data": {
      "image/png": "[encoded data removed]",
      "text/plain": [
       "<Figure size 432x288 with 2 Axes>"
      ]
     },
     "metadata": {
      "needs_background": "light"
     },
     "output_type": "display_data"
    },
    {
     "name": "stdout",
     "output_type": "stream",
     "text": [
      "                  precision    recall  f1-score   support\n",
      "\n",
      "           back.       0.99      0.99      0.99       268\n",
      "buffer_overflow.       0.86      0.75      0.80         8\n",
      "      ftp_write.       1.00      1.00      1.00         1\n",
      "   guess_passwd.       1.00      1.00      1.00         7\n",
      "           imap.       1.00      0.67      0.80         3\n",
      "        ipsweep.       0.95      0.97      0.96       148\n",
      "           land.       1.00      1.00      1.00         6\n",
      "     loadmodule.       1.00      0.50      0.67         2\n",
      "       multihop.       0.00      0.00      0.00         2\n",
      "        neptune.       1.00      1.00      1.00     13017\n",
      "           nmap.       0.94      0.73      0.83        45\n",
      "         normal.       1.00      1.00      1.00     21862\n",
      "           perl.       1.00      1.00      1.00         1\n",
      "            phf.       1.00      0.50      0.67         2\n",
      "            pod.       1.00      0.96      0.98        56\n",
      "      portsweep.       1.00      0.96      0.98       118\n",
      "        rootkit.       1.00      0.33      0.50         3\n",
      "          satan.       0.99      0.99      0.99       230\n",
      "          smurf.       1.00      0.98      0.99       155\n",
      "            spy.       0.00      0.00      0.00         1\n",
      "       teardrop.       1.00      1.00      1.00       240\n",
      "    warezclient.       0.92      0.91      0.92       216\n",
      "    warezmaster.       0.62      0.83      0.71         6\n",
      "\n",
      "       micro avg       1.00      1.00      1.00     36397\n",
      "       macro avg       0.88      0.79      0.82     36397\n",
      "    weighted avg       1.00      1.00      1.00     36397\n",
      "\n"
     ]
    }
   ],
   "source": [
    "cnn_pred = model.predict(x_test_tf)\n",
    "cnn_pred = np.argmax(cnn_pred,axis=1)\n",
    "y_true = np.argmax(y_test_tf,axis=1)\n",
    "\n",
    "cnn_f1 = metrics.f1_score(y_true, cnn_pred, average= \"weighted\")\n",
    "cnn_cm = confusion_matrix(y_true, cnn_pred)\n",
    "printmd(\"-----------------**Convolutional Neural Network Report**---------------\")\n",
    "print(\"F1 score: {}\".format(cnn_f1))\n",
    "print(\"Confusion matrix: \\n\", cnn_cm)\n",
    "print('Plotting confusion matrix')\n",
    "\n",
    "plt.figure()\n",
    "plot_confusion_matrix(cnn_cm, original_outcome)\n",
    "plt.show()\n",
    "\n",
    "print(classification_report(y_true, cnn_pred, target_names=original_outcome))\n"
   ]
  },
  {
   "cell_type": "code",
   "execution_count": 89,
   "metadata": {},
   "outputs": [
    {
     "data": {
      "image/png": "[encoded data removed]",
      "text/plain": [
       "<Figure size 432x288 with 1 Axes>"
      ]
     },
     "metadata": {
      "needs_background": "light"
     },
     "output_type": "display_data"
    }
   ],
   "source": [
    "labels = ('CNN', 'NN', 'SVM', 'Log Regression', 'KNN', 'GNB')\n",
    "y_pos = np.arange(len(labels))\n",
    "measurement = [cnn_f1, nn_f1, svc_f1, logistic_f1, knn_f1, gnb_f1]\n",
    "\n",
    "plt.bar(y_pos, measurement, align='center', alpha=0.5)\n",
    "plt.xticks(y_pos, labels)\n",
    "plt.ylabel('F1')\n",
    "plt.title('F1 Comparision between Classification models')\n",
    "\n",
    "plt.show()"
   ]
  },
  {
   "cell_type": "code",
   "execution_count": null,
   "metadata": {},
   "outputs": [],
   "source": []
  }
 ],
 "metadata": {
  "kernelspec": {
   "display_name": "TensorFlow-GPU",
   "language": "python",
   "name": "tf-gpu"
  },
  "language_info": {
   "codemirror_mode": {
    "name": "ipython",
    "version": 3
   },
   "file_extension": ".py",
   "mimetype": "text/x-python",
   "name": "python",
   "nbconvert_exporter": "python",
   "pygments_lexer": "ipython3",
   "version": "3.6.8"
  }
 },
 "nbformat": 4,
 "nbformat_minor": 2
}
