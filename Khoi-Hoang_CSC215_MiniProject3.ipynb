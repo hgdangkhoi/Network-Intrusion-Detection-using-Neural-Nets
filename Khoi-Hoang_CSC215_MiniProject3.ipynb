{
 "cells": [
  {
   "cell_type": "markdown",
   "metadata": {},
   "source": [
    "# CSC 215 - MiniProject 3\n",
    "## Khoi Hoang"
   ]
  },
  {
   "cell_type": "code",
   "execution_count": 115,
   "metadata": {},
   "outputs": [],
   "source": [
    "import os\n",
    "import csv\n",
    "import json\n",
    "import numpy as np\n",
    "import pandas as pd\n",
    "import matplotlib.pyplot as plt\n",
    "import collections\n",
    "import sklearn.feature_extraction.text as sk_text\n",
    "import scipy as sp\n",
    "import math\n",
    "from scipy.stats import zscore\n",
    "from sklearn import preprocessing\n",
    "from sklearn.model_selection import train_test_split\n",
    "from sklearn import metrics\n",
    "from sklearn.metrics import roc_curve, auc\n",
    "from sklearn import svm, datasets\n",
    "from sklearn.metrics import confusion_matrix, classification_report\n",
    "from matplotlib.pyplot import figure, show\n",
    "from IPython.display import Markdown, display\n",
    "from sklearn import metrics\n",
    "\n",
    "%matplotlib inline"
   ]
  },
  {
   "cell_type": "code",
   "execution_count": 151,
   "metadata": {},
   "outputs": [],
   "source": [
    "# Encode text values to dummy variables(i.e. [1,0,0],[0,1,0],[0,0,1] for red,green,blue)\n",
    "def encode_text_dummy(df, name):\n",
    "    dummies = pd.get_dummies(df[name])\n",
    "    for x in dummies.columns:\n",
    "        dummy_name = \"{}-{}\".format(name, x)\n",
    "        df[dummy_name] = dummies[x]\n",
    "    df.drop(name, axis=1, inplace=True)\n",
    "\n",
    "# Encode text values to indexes(i.e. [1],[2],[3] for red,green,blue).\n",
    "def encode_text_index(df, name):\n",
    "    le = preprocessing.LabelEncoder()\n",
    "    df[name] = le.fit_transform(df[name])\n",
    "    return le.classes_\n",
    "\n",
    "# Encode a numeric column as zscores\n",
    "def encode_numeric_zscore(df, name, mean=None, sd=None):\n",
    "    if mean is None:\n",
    "        mean = df[name].mean()\n",
    "\n",
    "    if sd is None:\n",
    "        sd = df[name].std()\n",
    "\n",
    "    df[name] = (df[name] - mean) / sd\n",
    "    \n",
    "# Convert all missing values in the specified column to the median\n",
    "def missing_median(df, name):\n",
    "    med = df[name].median()\n",
    "    df[name] = df[name].fillna(med)    \n",
    "\n",
    "# Regression chart.\n",
    "def chart_regression(pred,y,sort=True):\n",
    "    t = pd.DataFrame({'pred' : pred, 'y' : y.flatten()})\n",
    "    if sort:\n",
    "        t.sort_values(by=['y'],inplace=True)\n",
    "    a = plt.plot(t['y'].tolist(),label='expected')\n",
    "    b = plt.plot(t['pred'].tolist(),label='prediction')\n",
    "    plt.ylabel('output')\n",
    "    plt.legend()\n",
    "    plt.show()    \n",
    "    \n",
    "# Convert a Pandas dataframe to the x,y inputs that TensorFlow needs\n",
    "def to_xy(df, target):\n",
    "    result = []\n",
    "    for x in df.columns:\n",
    "        if x != target:\n",
    "            result.append(x)\n",
    "    # find out the type of the target column. \n",
    "    target_type = df[target].dtypes\n",
    "    target_type = target_type[0] if isinstance(target_type, collections.Sequence) else target_type\n",
    "    # Encode to int for classification, float otherwise. TensorFlow likes 32 bits.\n",
    "    if target_type in (np.int64, np.int32):\n",
    "        # Classification\n",
    "        dummies = pd.get_dummies(df[target])\n",
    "        return df[result].values.astype(np.float32), dummies.values.astype(np.float32)\n",
    "    else:\n",
    "        # Regression\n",
    "        return df[result].values.astype(np.float32), df[target].values.astype(np.float32)\n",
    "\n",
    "# Plot a confusion matrix.\n",
    "# cm is the confusion matrix, names are the names of the classes.\n",
    "def plot_confusion_matrix(cm, names, title='Confusion matrix', cmap=plt.cm.Blues):\n",
    "    plt.imshow(cm, interpolation='nearest', cmap=cmap)\n",
    "    plt.title(title)\n",
    "    plt.colorbar()\n",
    "    tick_marks = np.arange(len(names))\n",
    "    plt.xticks(tick_marks, names, rotation=45)\n",
    "    plt.yticks(tick_marks, names)\n",
    "    plt.tight_layout()\n",
    "    plt.ylabel('True label')\n",
    "    plt.xlabel('Predicted label')\n",
    "    \n",
    "\n",
    "# Plot an ROC. pred - the predictions, y - the expected output.\n",
    "def plot_roc(pred,y):\n",
    "    fpr, tpr, thresholds = roc_curve(y, pred)\n",
    "    roc_auc = auc(fpr, tpr)\n",
    "\n",
    "    plt.figure()\n",
    "    plt.plot(fpr, tpr, label='ROC curve (area = %0.2f)' % roc_auc)\n",
    "    plt.plot([0, 1], [0, 1], 'k--')\n",
    "    plt.xlim([0.0, 1.0])\n",
    "    plt.ylim([0.0, 1.05])\n",
    "    plt.xlabel('False Positive Rate')\n",
    "    plt.ylabel('True Positive Rate')\n",
    "    plt.title('Receiver Operating Characteristic (ROC)')\n",
    "    plt.legend(loc=\"lower right\")\n",
    "    plt.show()\n",
    "    \n",
    "# Print markdown style\n",
    "def printmd(string):\n",
    "    display(Markdown(string))\n",
    "    \n",
    "# feature rank\n",
    "def perturbation_rank(model, x, y, names, regression):\n",
    "    errors = []\n",
    "\n",
    "    for i in range(x.shape[1]):\n",
    "        hold = np.array(x[:, i])\n",
    "        np.random.shuffle(x[:, i])\n",
    "        \n",
    "        if regression:\n",
    "            pred = model.predict(x)\n",
    "            error = metrics.mean_squared_error(y, pred)\n",
    "        else:\n",
    "            pred = model.predict_proba(x)\n",
    "            error = metrics.log_loss(y, pred)\n",
    "            \n",
    "        errors.append(error)\n",
    "        x[:, i] = hold\n",
    "        \n",
    "    max_error = np.max(errors)\n",
    "    importance = [e/max_error for e in errors]\n",
    "\n",
    "    data = {'name':names,'error':errors,'importance':importance}\n",
    "    result = pd.DataFrame(data, columns = ['name','error','importance'])\n",
    "    result.sort_values(by=['importance'], ascending=[0], inplace=True)\n",
    "    result.reset_index(inplace=True, drop=True)\n",
    "    return result"
   ]
  },
  {
   "cell_type": "code",
   "execution_count": 3,
   "metadata": {},
   "outputs": [],
   "source": [
    "df = pd.read_csv('network_intrusion_data.csv')\n",
    "df.columns = [\n",
    " 'duration',\n",
    " 'protocol_type',\n",
    " 'service',\n",
    " 'flag',\n",
    " 'src_bytes',\n",
    " 'dst_bytes',\n",
    " 'land',\n",
    " 'wrong_fragment',\n",
    " 'urgent',\n",
    " 'hot',\n",
    " 'num_failed_logins',\n",
    " 'logged_in',\n",
    " 'num_compromised',\n",
    " 'root_shell',\n",
    " 'su_attempted',\n",
    " 'num_root',\n",
    " 'num_file_creations',\n",
    " 'num_shells',\n",
    " 'num_access_files',\n",
    " 'num_outbound_cmds',\n",
    " 'is_host_login',\n",
    " 'is_guest_login',\n",
    " 'count',\n",
    " 'srv_count',\n",
    " 'serror_rate',\n",
    " 'srv_serror_rate',\n",
    " 'rerror_rate',\n",
    " 'srv_rerror_rate',\n",
    " 'same_srv_rate',\n",
    " 'diff_srv_rate',\n",
    " 'srv_diff_host_rate',\n",
    " 'dst_host_count',\n",
    " 'dst_host_srv_count',\n",
    " 'dst_host_same_srv_rate',\n",
    " 'dst_host_diff_srv_rate',\n",
    " 'dst_host_same_src_port_rate',\n",
    " 'dst_host_srv_diff_host_rate',\n",
    " 'dst_host_serror_rate',\n",
    " 'dst_host_srv_serror_rate',\n",
    " 'dst_host_rerror_rate',\n",
    " 'dst_host_srv_rerror_rate',\n",
    " 'outcome'\n",
    "]"
   ]
  },
  {
   "cell_type": "code",
   "execution_count": 4,
   "metadata": {},
   "outputs": [
    {
     "data": {
      "text/html": [
       "<div>\n",
       "<style scoped>\n",
       "    .dataframe tbody tr th:only-of-type {\n",
       "        vertical-align: middle;\n",
       "    }\n",
       "\n",
       "    .dataframe tbody tr th {\n",
       "        vertical-align: top;\n",
       "    }\n",
       "\n",
       "    .dataframe thead th {\n",
       "        text-align: right;\n",
       "    }\n",
       "</style>\n",
       "<table border=\"1\" class=\"dataframe\">\n",
       "  <thead>\n",
       "    <tr style=\"text-align: right;\">\n",
       "      <th></th>\n",
       "      <th>duration</th>\n",
       "      <th>protocol_type</th>\n",
       "      <th>service</th>\n",
       "      <th>flag</th>\n",
       "      <th>src_bytes</th>\n",
       "      <th>dst_bytes</th>\n",
       "      <th>land</th>\n",
       "      <th>wrong_fragment</th>\n",
       "      <th>urgent</th>\n",
       "      <th>hot</th>\n",
       "      <th>...</th>\n",
       "      <th>dst_host_srv_count</th>\n",
       "      <th>dst_host_same_srv_rate</th>\n",
       "      <th>dst_host_diff_srv_rate</th>\n",
       "      <th>dst_host_same_src_port_rate</th>\n",
       "      <th>dst_host_srv_diff_host_rate</th>\n",
       "      <th>dst_host_serror_rate</th>\n",
       "      <th>dst_host_srv_serror_rate</th>\n",
       "      <th>dst_host_rerror_rate</th>\n",
       "      <th>dst_host_srv_rerror_rate</th>\n",
       "      <th>outcome</th>\n",
       "    </tr>\n",
       "  </thead>\n",
       "  <tbody>\n",
       "    <tr>\n",
       "      <th>0</th>\n",
       "      <td>0</td>\n",
       "      <td>tcp</td>\n",
       "      <td>http</td>\n",
       "      <td>SF</td>\n",
       "      <td>239</td>\n",
       "      <td>486</td>\n",
       "      <td>0</td>\n",
       "      <td>0</td>\n",
       "      <td>0</td>\n",
       "      <td>0</td>\n",
       "      <td>...</td>\n",
       "      <td>19</td>\n",
       "      <td>1.0</td>\n",
       "      <td>0.0</td>\n",
       "      <td>0.05</td>\n",
       "      <td>0.0</td>\n",
       "      <td>0.0</td>\n",
       "      <td>0.0</td>\n",
       "      <td>0.0</td>\n",
       "      <td>0.0</td>\n",
       "      <td>normal.</td>\n",
       "    </tr>\n",
       "    <tr>\n",
       "      <th>1</th>\n",
       "      <td>0</td>\n",
       "      <td>tcp</td>\n",
       "      <td>http</td>\n",
       "      <td>SF</td>\n",
       "      <td>235</td>\n",
       "      <td>1337</td>\n",
       "      <td>0</td>\n",
       "      <td>0</td>\n",
       "      <td>0</td>\n",
       "      <td>0</td>\n",
       "      <td>...</td>\n",
       "      <td>29</td>\n",
       "      <td>1.0</td>\n",
       "      <td>0.0</td>\n",
       "      <td>0.03</td>\n",
       "      <td>0.0</td>\n",
       "      <td>0.0</td>\n",
       "      <td>0.0</td>\n",
       "      <td>0.0</td>\n",
       "      <td>0.0</td>\n",
       "      <td>normal.</td>\n",
       "    </tr>\n",
       "    <tr>\n",
       "      <th>2</th>\n",
       "      <td>0</td>\n",
       "      <td>tcp</td>\n",
       "      <td>http</td>\n",
       "      <td>SF</td>\n",
       "      <td>219</td>\n",
       "      <td>1337</td>\n",
       "      <td>0</td>\n",
       "      <td>0</td>\n",
       "      <td>0</td>\n",
       "      <td>0</td>\n",
       "      <td>...</td>\n",
       "      <td>39</td>\n",
       "      <td>1.0</td>\n",
       "      <td>0.0</td>\n",
       "      <td>0.03</td>\n",
       "      <td>0.0</td>\n",
       "      <td>0.0</td>\n",
       "      <td>0.0</td>\n",
       "      <td>0.0</td>\n",
       "      <td>0.0</td>\n",
       "      <td>normal.</td>\n",
       "    </tr>\n",
       "    <tr>\n",
       "      <th>3</th>\n",
       "      <td>0</td>\n",
       "      <td>tcp</td>\n",
       "      <td>http</td>\n",
       "      <td>SF</td>\n",
       "      <td>217</td>\n",
       "      <td>2032</td>\n",
       "      <td>0</td>\n",
       "      <td>0</td>\n",
       "      <td>0</td>\n",
       "      <td>0</td>\n",
       "      <td>...</td>\n",
       "      <td>49</td>\n",
       "      <td>1.0</td>\n",
       "      <td>0.0</td>\n",
       "      <td>0.02</td>\n",
       "      <td>0.0</td>\n",
       "      <td>0.0</td>\n",
       "      <td>0.0</td>\n",
       "      <td>0.0</td>\n",
       "      <td>0.0</td>\n",
       "      <td>normal.</td>\n",
       "    </tr>\n",
       "    <tr>\n",
       "      <th>4</th>\n",
       "      <td>0</td>\n",
       "      <td>tcp</td>\n",
       "      <td>http</td>\n",
       "      <td>SF</td>\n",
       "      <td>217</td>\n",
       "      <td>2032</td>\n",
       "      <td>0</td>\n",
       "      <td>0</td>\n",
       "      <td>0</td>\n",
       "      <td>0</td>\n",
       "      <td>...</td>\n",
       "      <td>59</td>\n",
       "      <td>1.0</td>\n",
       "      <td>0.0</td>\n",
       "      <td>0.02</td>\n",
       "      <td>0.0</td>\n",
       "      <td>0.0</td>\n",
       "      <td>0.0</td>\n",
       "      <td>0.0</td>\n",
       "      <td>0.0</td>\n",
       "      <td>normal.</td>\n",
       "    </tr>\n",
       "  </tbody>\n",
       "</table>\n",
       "<p>5 rows × 42 columns</p>\n",
       "</div>"
      ],
      "text/plain": [
       "   duration protocol_type service flag  src_bytes  dst_bytes  land  \\\n",
       "0         0           tcp    http   SF        239        486     0   \n",
       "1         0           tcp    http   SF        235       1337     0   \n",
       "2         0           tcp    http   SF        219       1337     0   \n",
       "3         0           tcp    http   SF        217       2032     0   \n",
       "4         0           tcp    http   SF        217       2032     0   \n",
       "\n",
       "   wrong_fragment  urgent  hot  ...  dst_host_srv_count  \\\n",
       "0               0       0    0  ...                  19   \n",
       "1               0       0    0  ...                  29   \n",
       "2               0       0    0  ...                  39   \n",
       "3               0       0    0  ...                  49   \n",
       "4               0       0    0  ...                  59   \n",
       "\n",
       "   dst_host_same_srv_rate  dst_host_diff_srv_rate  \\\n",
       "0                     1.0                     0.0   \n",
       "1                     1.0                     0.0   \n",
       "2                     1.0                     0.0   \n",
       "3                     1.0                     0.0   \n",
       "4                     1.0                     0.0   \n",
       "\n",
       "   dst_host_same_src_port_rate  dst_host_srv_diff_host_rate  \\\n",
       "0                         0.05                          0.0   \n",
       "1                         0.03                          0.0   \n",
       "2                         0.03                          0.0   \n",
       "3                         0.02                          0.0   \n",
       "4                         0.02                          0.0   \n",
       "\n",
       "   dst_host_serror_rate  dst_host_srv_serror_rate  dst_host_rerror_rate  \\\n",
       "0                   0.0                       0.0                   0.0   \n",
       "1                   0.0                       0.0                   0.0   \n",
       "2                   0.0                       0.0                   0.0   \n",
       "3                   0.0                       0.0                   0.0   \n",
       "4                   0.0                       0.0                   0.0   \n",
       "\n",
       "   dst_host_srv_rerror_rate  outcome  \n",
       "0                       0.0  normal.  \n",
       "1                       0.0  normal.  \n",
       "2                       0.0  normal.  \n",
       "3                       0.0  normal.  \n",
       "4                       0.0  normal.  \n",
       "\n",
       "[5 rows x 42 columns]"
      ]
     },
     "execution_count": 4,
     "metadata": {},
     "output_type": "execute_result"
    }
   ],
   "source": [
    "df.head()"
   ]
  },
  {
   "cell_type": "code",
   "execution_count": 5,
   "metadata": {},
   "outputs": [
    {
     "data": {
      "text/plain": [
       "(494020, 42)"
      ]
     },
     "execution_count": 5,
     "metadata": {},
     "output_type": "execute_result"
    }
   ],
   "source": [
    "df.shape"
   ]
  },
  {
   "cell_type": "code",
   "execution_count": 6,
   "metadata": {},
   "outputs": [],
   "source": [
    "# df = df.loc[:, (df != 0).any(axis=0)] #drop columns with all 0\n",
    "unique_val = df.apply(pd.Series.nunique)\n",
    "cols_to_drop = unique_val[unique_val==1].index\n",
    "df = df.drop(cols_to_drop, axis=1)"
   ]
  },
  {
   "cell_type": "code",
   "execution_count": 7,
   "metadata": {},
   "outputs": [
    {
     "data": {
      "text/plain": [
       "(494020, 40)"
      ]
     },
     "execution_count": 7,
     "metadata": {},
     "output_type": "execute_result"
    }
   ],
   "source": [
    "df.shape"
   ]
  },
  {
   "cell_type": "code",
   "execution_count": 8,
   "metadata": {},
   "outputs": [
    {
     "data": {
      "text/plain": [
       "(array(['back.', 'buffer_overflow.', 'ftp_write.', 'guess_passwd.',\n",
       "        'imap.', 'ipsweep.', 'land.', 'loadmodule.', 'multihop.',\n",
       "        'neptune.', 'nmap.', 'normal.', 'perl.', 'phf.', 'pod.',\n",
       "        'portsweep.', 'rootkit.', 'satan.', 'smurf.', 'spy.', 'teardrop.',\n",
       "        'warezclient.', 'warezmaster.'], dtype=object),\n",
       " array([  2203,     30,      8,     53,     12,   1247,     21,      9,\n",
       "             7, 107201,    231,  97277,      3,      4,    264,   1040,\n",
       "            10,   1589, 280790,      2,    979,   1020,     20],\n",
       "       dtype=int64))"
      ]
     },
     "execution_count": 8,
     "metadata": {},
     "output_type": "execute_result"
    }
   ],
   "source": [
    "np.unique(df['outcome'].values,return_counts=True)"
   ]
  },
  {
   "cell_type": "code",
   "execution_count": 9,
   "metadata": {},
   "outputs": [],
   "source": [
    "# binary encode the outcome, 0 is good/normal and 1 is an attack\n",
    "df['outcome'] = df['outcome'].apply(lambda x: '0' if x == 'normal.' else '1')"
   ]
  },
  {
   "cell_type": "code",
   "execution_count": 10,
   "metadata": {},
   "outputs": [
    {
     "data": {
      "text/plain": [
       "(array(['0', '1'], dtype=object), array([ 97277, 396743], dtype=int64))"
      ]
     },
     "execution_count": 10,
     "metadata": {},
     "output_type": "execute_result"
    }
   ],
   "source": [
    "np.unique(df['outcome'].values,return_counts=True)"
   ]
  },
  {
   "cell_type": "code",
   "execution_count": 11,
   "metadata": {},
   "outputs": [
    {
     "data": {
      "text/html": [
       "<div>\n",
       "<style scoped>\n",
       "    .dataframe tbody tr th:only-of-type {\n",
       "        vertical-align: middle;\n",
       "    }\n",
       "\n",
       "    .dataframe tbody tr th {\n",
       "        vertical-align: top;\n",
       "    }\n",
       "\n",
       "    .dataframe thead th {\n",
       "        text-align: right;\n",
       "    }\n",
       "</style>\n",
       "<table border=\"1\" class=\"dataframe\">\n",
       "  <thead>\n",
       "    <tr style=\"text-align: right;\">\n",
       "      <th></th>\n",
       "      <th>duration</th>\n",
       "      <th>protocol_type</th>\n",
       "      <th>service</th>\n",
       "      <th>flag</th>\n",
       "      <th>src_bytes</th>\n",
       "      <th>dst_bytes</th>\n",
       "      <th>land</th>\n",
       "      <th>wrong_fragment</th>\n",
       "      <th>urgent</th>\n",
       "      <th>hot</th>\n",
       "      <th>...</th>\n",
       "      <th>dst_host_srv_count</th>\n",
       "      <th>dst_host_same_srv_rate</th>\n",
       "      <th>dst_host_diff_srv_rate</th>\n",
       "      <th>dst_host_same_src_port_rate</th>\n",
       "      <th>dst_host_srv_diff_host_rate</th>\n",
       "      <th>dst_host_serror_rate</th>\n",
       "      <th>dst_host_srv_serror_rate</th>\n",
       "      <th>dst_host_rerror_rate</th>\n",
       "      <th>dst_host_srv_rerror_rate</th>\n",
       "      <th>outcome</th>\n",
       "    </tr>\n",
       "  </thead>\n",
       "  <tbody>\n",
       "    <tr>\n",
       "      <th>0</th>\n",
       "      <td>0</td>\n",
       "      <td>tcp</td>\n",
       "      <td>http</td>\n",
       "      <td>SF</td>\n",
       "      <td>239</td>\n",
       "      <td>486</td>\n",
       "      <td>0</td>\n",
       "      <td>0</td>\n",
       "      <td>0</td>\n",
       "      <td>0</td>\n",
       "      <td>...</td>\n",
       "      <td>19</td>\n",
       "      <td>1.0</td>\n",
       "      <td>0.0</td>\n",
       "      <td>0.05</td>\n",
       "      <td>0.0</td>\n",
       "      <td>0.0</td>\n",
       "      <td>0.0</td>\n",
       "      <td>0.0</td>\n",
       "      <td>0.0</td>\n",
       "      <td>0</td>\n",
       "    </tr>\n",
       "    <tr>\n",
       "      <th>1</th>\n",
       "      <td>0</td>\n",
       "      <td>tcp</td>\n",
       "      <td>http</td>\n",
       "      <td>SF</td>\n",
       "      <td>235</td>\n",
       "      <td>1337</td>\n",
       "      <td>0</td>\n",
       "      <td>0</td>\n",
       "      <td>0</td>\n",
       "      <td>0</td>\n",
       "      <td>...</td>\n",
       "      <td>29</td>\n",
       "      <td>1.0</td>\n",
       "      <td>0.0</td>\n",
       "      <td>0.03</td>\n",
       "      <td>0.0</td>\n",
       "      <td>0.0</td>\n",
       "      <td>0.0</td>\n",
       "      <td>0.0</td>\n",
       "      <td>0.0</td>\n",
       "      <td>0</td>\n",
       "    </tr>\n",
       "    <tr>\n",
       "      <th>2</th>\n",
       "      <td>0</td>\n",
       "      <td>tcp</td>\n",
       "      <td>http</td>\n",
       "      <td>SF</td>\n",
       "      <td>219</td>\n",
       "      <td>1337</td>\n",
       "      <td>0</td>\n",
       "      <td>0</td>\n",
       "      <td>0</td>\n",
       "      <td>0</td>\n",
       "      <td>...</td>\n",
       "      <td>39</td>\n",
       "      <td>1.0</td>\n",
       "      <td>0.0</td>\n",
       "      <td>0.03</td>\n",
       "      <td>0.0</td>\n",
       "      <td>0.0</td>\n",
       "      <td>0.0</td>\n",
       "      <td>0.0</td>\n",
       "      <td>0.0</td>\n",
       "      <td>0</td>\n",
       "    </tr>\n",
       "    <tr>\n",
       "      <th>3</th>\n",
       "      <td>0</td>\n",
       "      <td>tcp</td>\n",
       "      <td>http</td>\n",
       "      <td>SF</td>\n",
       "      <td>217</td>\n",
       "      <td>2032</td>\n",
       "      <td>0</td>\n",
       "      <td>0</td>\n",
       "      <td>0</td>\n",
       "      <td>0</td>\n",
       "      <td>...</td>\n",
       "      <td>49</td>\n",
       "      <td>1.0</td>\n",
       "      <td>0.0</td>\n",
       "      <td>0.02</td>\n",
       "      <td>0.0</td>\n",
       "      <td>0.0</td>\n",
       "      <td>0.0</td>\n",
       "      <td>0.0</td>\n",
       "      <td>0.0</td>\n",
       "      <td>0</td>\n",
       "    </tr>\n",
       "    <tr>\n",
       "      <th>4</th>\n",
       "      <td>0</td>\n",
       "      <td>tcp</td>\n",
       "      <td>http</td>\n",
       "      <td>SF</td>\n",
       "      <td>217</td>\n",
       "      <td>2032</td>\n",
       "      <td>0</td>\n",
       "      <td>0</td>\n",
       "      <td>0</td>\n",
       "      <td>0</td>\n",
       "      <td>...</td>\n",
       "      <td>59</td>\n",
       "      <td>1.0</td>\n",
       "      <td>0.0</td>\n",
       "      <td>0.02</td>\n",
       "      <td>0.0</td>\n",
       "      <td>0.0</td>\n",
       "      <td>0.0</td>\n",
       "      <td>0.0</td>\n",
       "      <td>0.0</td>\n",
       "      <td>0</td>\n",
       "    </tr>\n",
       "  </tbody>\n",
       "</table>\n",
       "<p>5 rows × 40 columns</p>\n",
       "</div>"
      ],
      "text/plain": [
       "   duration protocol_type service flag  src_bytes  dst_bytes  land  \\\n",
       "0         0           tcp    http   SF        239        486     0   \n",
       "1         0           tcp    http   SF        235       1337     0   \n",
       "2         0           tcp    http   SF        219       1337     0   \n",
       "3         0           tcp    http   SF        217       2032     0   \n",
       "4         0           tcp    http   SF        217       2032     0   \n",
       "\n",
       "   wrong_fragment  urgent  hot  ...  dst_host_srv_count  \\\n",
       "0               0       0    0  ...                  19   \n",
       "1               0       0    0  ...                  29   \n",
       "2               0       0    0  ...                  39   \n",
       "3               0       0    0  ...                  49   \n",
       "4               0       0    0  ...                  59   \n",
       "\n",
       "   dst_host_same_srv_rate  dst_host_diff_srv_rate  \\\n",
       "0                     1.0                     0.0   \n",
       "1                     1.0                     0.0   \n",
       "2                     1.0                     0.0   \n",
       "3                     1.0                     0.0   \n",
       "4                     1.0                     0.0   \n",
       "\n",
       "   dst_host_same_src_port_rate  dst_host_srv_diff_host_rate  \\\n",
       "0                         0.05                          0.0   \n",
       "1                         0.03                          0.0   \n",
       "2                         0.03                          0.0   \n",
       "3                         0.02                          0.0   \n",
       "4                         0.02                          0.0   \n",
       "\n",
       "   dst_host_serror_rate  dst_host_srv_serror_rate  dst_host_rerror_rate  \\\n",
       "0                   0.0                       0.0                   0.0   \n",
       "1                   0.0                       0.0                   0.0   \n",
       "2                   0.0                       0.0                   0.0   \n",
       "3                   0.0                       0.0                   0.0   \n",
       "4                   0.0                       0.0                   0.0   \n",
       "\n",
       "   dst_host_srv_rerror_rate  outcome  \n",
       "0                       0.0        0  \n",
       "1                       0.0        0  \n",
       "2                       0.0        0  \n",
       "3                       0.0        0  \n",
       "4                       0.0        0  \n",
       "\n",
       "[5 rows x 40 columns]"
      ]
     },
     "execution_count": 11,
     "metadata": {},
     "output_type": "execute_result"
    }
   ],
   "source": [
    "df.head()"
   ]
  },
  {
   "cell_type": "code",
   "execution_count": 12,
   "metadata": {},
   "outputs": [],
   "source": [
    "df.drop_duplicates(keep='first', inplace=True)"
   ]
  },
  {
   "cell_type": "code",
   "execution_count": 13,
   "metadata": {},
   "outputs": [
    {
     "data": {
      "text/plain": [
       "(145584, 40)"
      ]
     },
     "execution_count": 13,
     "metadata": {},
     "output_type": "execute_result"
    }
   ],
   "source": [
    "df.shape"
   ]
  },
  {
   "cell_type": "code",
   "execution_count": 14,
   "metadata": {},
   "outputs": [
    {
     "data": {
      "text/plain": [
       "(array(['0', '1'], dtype=object), array([87831, 57753], dtype=int64))"
      ]
     },
     "execution_count": 14,
     "metadata": {},
     "output_type": "execute_result"
    }
   ],
   "source": [
    "np.unique(df['outcome'].values,return_counts=True)\n",
    "#df.dtypes"
   ]
  },
  {
   "cell_type": "code",
   "execution_count": 15,
   "metadata": {},
   "outputs": [
    {
     "name": "stderr",
     "output_type": "stream",
     "text": [
      "C:\\Users\\hgdan\\Anaconda3\\envs\\tf-gpu\\lib\\site-packages\\sklearn\\preprocessing\\data.py:625: DataConversionWarning: Data with input dtype int64, float64 were all converted to float64 by StandardScaler.\n",
      "  return self.partial_fit(X, y)\n",
      "C:\\Users\\hgdan\\Anaconda3\\envs\\tf-gpu\\lib\\site-packages\\sklearn\\base.py:462: DataConversionWarning: Data with input dtype int64, float64 were all converted to float64 by StandardScaler.\n",
      "  return self.fit(X, **fit_params).transform(X)\n"
     ]
    }
   ],
   "source": [
    "#from sklearn.preprocessing import StandardScaler\n",
    "\n",
    "scaler = preprocessing.StandardScaler()\n",
    "\n",
    "cols_to_normalize = df.select_dtypes(include=['int64', 'float64']).columns\n",
    "numeric_features = scaler.fit_transform(df.select_dtypes(include=['float64','int64']))\n",
    "\n",
    "numeric_features = pd.DataFrame(numeric_features, columns=cols_to_normalize)"
   ]
  },
  {
   "cell_type": "code",
   "execution_count": 16,
   "metadata": {},
   "outputs": [
    {
     "data": {
      "text/plain": [
       "(145584, 36)"
      ]
     },
     "execution_count": 16,
     "metadata": {},
     "output_type": "execute_result"
    }
   ],
   "source": [
    "numeric_features.shape"
   ]
  },
  {
   "cell_type": "code",
   "execution_count": 17,
   "metadata": {},
   "outputs": [],
   "source": [
    "scaler = preprocessing.LabelEncoder()\n",
    "\n",
    "cols_to_encode = df.select_dtypes(include=['object']).columns\n",
    "label_features = df.select_dtypes(include=['object']).apply(scaler.fit_transform)\n",
    "\n",
    "label_features = pd.DataFrame(label_features, columns=cols_to_encode)"
   ]
  },
  {
   "cell_type": "code",
   "execution_count": 18,
   "metadata": {},
   "outputs": [
    {
     "data": {
      "text/html": [
       "<div>\n",
       "<style scoped>\n",
       "    .dataframe tbody tr th:only-of-type {\n",
       "        vertical-align: middle;\n",
       "    }\n",
       "\n",
       "    .dataframe tbody tr th {\n",
       "        vertical-align: top;\n",
       "    }\n",
       "\n",
       "    .dataframe thead th {\n",
       "        text-align: right;\n",
       "    }\n",
       "</style>\n",
       "<table border=\"1\" class=\"dataframe\">\n",
       "  <thead>\n",
       "    <tr style=\"text-align: right;\">\n",
       "      <th></th>\n",
       "      <th>protocol_type</th>\n",
       "      <th>service</th>\n",
       "      <th>flag</th>\n",
       "      <th>outcome</th>\n",
       "    </tr>\n",
       "  </thead>\n",
       "  <tbody>\n",
       "    <tr>\n",
       "      <th>0</th>\n",
       "      <td>1</td>\n",
       "      <td>22</td>\n",
       "      <td>9</td>\n",
       "      <td>0</td>\n",
       "    </tr>\n",
       "    <tr>\n",
       "      <th>1</th>\n",
       "      <td>1</td>\n",
       "      <td>22</td>\n",
       "      <td>9</td>\n",
       "      <td>0</td>\n",
       "    </tr>\n",
       "    <tr>\n",
       "      <th>2</th>\n",
       "      <td>1</td>\n",
       "      <td>22</td>\n",
       "      <td>9</td>\n",
       "      <td>0</td>\n",
       "    </tr>\n",
       "    <tr>\n",
       "      <th>3</th>\n",
       "      <td>1</td>\n",
       "      <td>22</td>\n",
       "      <td>9</td>\n",
       "      <td>0</td>\n",
       "    </tr>\n",
       "    <tr>\n",
       "      <th>4</th>\n",
       "      <td>1</td>\n",
       "      <td>22</td>\n",
       "      <td>9</td>\n",
       "      <td>0</td>\n",
       "    </tr>\n",
       "  </tbody>\n",
       "</table>\n",
       "</div>"
      ],
      "text/plain": [
       "   protocol_type  service  flag  outcome\n",
       "0              1       22     9        0\n",
       "1              1       22     9        0\n",
       "2              1       22     9        0\n",
       "3              1       22     9        0\n",
       "4              1       22     9        0"
      ]
     },
     "execution_count": 18,
     "metadata": {},
     "output_type": "execute_result"
    }
   ],
   "source": [
    "label_features.head()"
   ]
  },
  {
   "cell_type": "code",
   "execution_count": 19,
   "metadata": {},
   "outputs": [],
   "source": [
    "label_features.drop(columns=['outcome'], inplace=True)"
   ]
  },
  {
   "cell_type": "code",
   "execution_count": 20,
   "metadata": {},
   "outputs": [
    {
     "data": {
      "text/plain": [
       "(145584, 3)"
      ]
     },
     "execution_count": 20,
     "metadata": {},
     "output_type": "execute_result"
    }
   ],
   "source": [
    "label_features.shape"
   ]
  },
  {
   "cell_type": "code",
   "execution_count": 21,
   "metadata": {},
   "outputs": [
    {
     "data": {
      "text/plain": [
       "(145584, 39)"
      ]
     },
     "execution_count": 21,
     "metadata": {},
     "output_type": "execute_result"
    }
   ],
   "source": [
    "numeric_features.reset_index(drop=True, inplace=True)\n",
    "label_features.reset_index(drop=True, inplace=True)\n",
    "input_data = pd.concat([numeric_features, label_features], axis=1)\n",
    "input_data.shape"
   ]
  },
  {
   "cell_type": "code",
   "execution_count": 22,
   "metadata": {},
   "outputs": [
    {
     "data": {
      "text/plain": [
       "(145584,)"
      ]
     },
     "execution_count": 22,
     "metadata": {},
     "output_type": "execute_result"
    }
   ],
   "source": [
    "output_data = df['outcome']\n",
    "output_data.shape"
   ]
  },
  {
   "cell_type": "markdown",
   "metadata": {},
   "source": [
    "# Sklearn models"
   ]
  },
  {
   "cell_type": "code",
   "execution_count": 34,
   "metadata": {},
   "outputs": [],
   "source": [
    "x_train, x_test, y_train, y_test = train_test_split(input_data, output_data, test_size=0.25, random_state=43)"
   ]
  },
  {
   "cell_type": "code",
   "execution_count": 35,
   "metadata": {},
   "outputs": [
    {
     "name": "stderr",
     "output_type": "stream",
     "text": [
      "C:\\Users\\hgdan\\Anaconda3\\envs\\tf-gpu\\lib\\site-packages\\sklearn\\linear_model\\logistic.py:433: FutureWarning: Default solver will be changed to 'lbfgs' in 0.22. Specify a solver to silence this warning.\n",
      "  FutureWarning)\n"
     ]
    },
    {
     "data": {
      "text/plain": [
       "GaussianNB(priors=None, var_smoothing=1e-09)"
      ]
     },
     "execution_count": 35,
     "metadata": {},
     "output_type": "execute_result"
    }
   ],
   "source": [
    "from sklearn.linear_model import LogisticRegression\n",
    "from sklearn.svm import LinearSVC\n",
    "from sklearn.neighbors import KNeighborsClassifier\n",
    "from sklearn.naive_bayes import GaussianNB\n",
    "\n",
    "# Initiate and train all the models\n",
    "logreg = LogisticRegression()\n",
    "logreg.fit(x_train, y_train)\n",
    "\n",
    "svc = LinearSVC(dual=False)\n",
    "svc.fit(x_train, y_train)\n",
    "\n",
    "knn = KNeighborsClassifier(n_neighbors=10)\n",
    "knn.fit(x_train, y_train)\n",
    "\n",
    "gnb = GaussianNB()\n",
    "gnb.fit(x_train, y_train)"
   ]
  },
  {
   "cell_type": "code",
   "execution_count": 40,
   "metadata": {},
   "outputs": [
    {
     "data": {
      "text/markdown": [
       "-----------------**Logistic Regression Report**---------------"
      ],
      "text/plain": [
       "<IPython.core.display.Markdown object>"
      ]
     },
     "metadata": {},
     "output_type": "display_data"
    },
    {
     "name": "stdout",
     "output_type": "stream",
     "text": [
      "F1 score: 0.9879291734906172\n",
      "Confusion matrix: \n",
      " [[21785   157]\n",
      " [  282 14172]]\n",
      "Plotting confusion matrix\n"
     ]
    },
    {
     "data": {
      "image/png": "[encoded data removed]",
      "text/plain": [
       "<Figure size 432x288 with 2 Axes>"
      ]
     },
     "metadata": {
      "needs_background": "light"
     },
     "output_type": "display_data"
    },
    {
     "name": "stdout",
     "output_type": "stream",
     "text": [
      "              precision    recall  f1-score   support\n",
      "\n",
      "           0       0.99      0.99      0.99     21942\n",
      "           1       0.99      0.98      0.98     14454\n",
      "\n",
      "   micro avg       0.99      0.99      0.99     36396\n",
      "   macro avg       0.99      0.99      0.99     36396\n",
      "weighted avg       0.99      0.99      0.99     36396\n",
      "\n"
     ]
    },
    {
     "data": {
      "image/png": "[encoded data removed]",
      "text/plain": [
       "<Figure size 432x288 with 1 Axes>"
      ]
     },
     "metadata": {
      "needs_background": "light"
     },
     "output_type": "display_data"
    }
   ],
   "source": [
    "y_pred_Logistic = logreg.predict(x_test)\n",
    "logistic_f1 = metrics.f1_score(y_test, y_pred_Logistic, average= \"weighted\")\n",
    "logistic_cm = confusion_matrix(y_test, y_pred_Logistic)\n",
    "printmd(\"-----------------**Logistic Regression Report**---------------\")\n",
    "print(\"F1 score: {}\".format(logistic_f1))\n",
    "print(\"Confusion matrix: \\n\", logistic_cm)\n",
    "print('Plotting confusion matrix')\n",
    "\n",
    "plt.figure()\n",
    "plot_confusion_matrix(logistic_cm, ['Normal', 'Attack'])\n",
    "plt.show()\n",
    "\n",
    "print(classification_report(y_test, y_pred_Logistic))\n",
    "\n",
    "plot_roc(y_pred_Logistic.astype(np.int), y_test.astype(np.int))"
   ]
  },
  {
   "cell_type": "code",
   "execution_count": 39,
   "metadata": {},
   "outputs": [
    {
     "data": {
      "text/plain": [
       "array([1, 0, 0, ..., 0, 1, 0])"
      ]
     },
     "execution_count": 39,
     "metadata": {},
     "output_type": "execute_result"
    }
   ],
   "source": [
    "y_pred_Logistic.astype(np.int)"
   ]
  },
  {
   "cell_type": "code",
   "execution_count": 41,
   "metadata": {},
   "outputs": [
    {
     "data": {
      "text/markdown": [
       "-----------------**SVM Report**---------------"
      ],
      "text/plain": [
       "<IPython.core.display.Markdown object>"
      ]
     },
     "metadata": {},
     "output_type": "display_data"
    },
    {
     "name": "stdout",
     "output_type": "stream",
     "text": [
      "F1 score: 0.9845662371075575\n",
      "Confusion matrix: \n",
      " [[21768   174]\n",
      " [  387 14067]]\n",
      "Plotting confusion matrix\n"
     ]
    },
    {
     "data": {
      "image/png": "[encoded data removed]",
      "text/plain": [
       "<Figure size 432x288 with 2 Axes>"
      ]
     },
     "metadata": {
      "needs_background": "light"
     },
     "output_type": "display_data"
    },
    {
     "name": "stdout",
     "output_type": "stream",
     "text": [
      "              precision    recall  f1-score   support\n",
      "\n",
      "           0       0.98      0.99      0.99     21942\n",
      "           1       0.99      0.97      0.98     14454\n",
      "\n",
      "   micro avg       0.98      0.98      0.98     36396\n",
      "   macro avg       0.99      0.98      0.98     36396\n",
      "weighted avg       0.98      0.98      0.98     36396\n",
      "\n"
     ]
    },
    {
     "data": {
      "image/png": "[encoded data removed]",
      "text/plain": [
       "<Figure size 432x288 with 1 Axes>"
      ]
     },
     "metadata": {
      "needs_background": "light"
     },
     "output_type": "display_data"
    }
   ],
   "source": [
    "y_pred_svc = svc.predict(x_test)\n",
    "svc_f1 = metrics.f1_score(y_test, y_pred_svc, average= \"weighted\")\n",
    "svc_cm = confusion_matrix(y_test, y_pred_svc)\n",
    "printmd(\"-----------------**SVM Report**---------------\")\n",
    "print(\"F1 score: {}\".format(svc_f1))\n",
    "print(\"Confusion matrix: \\n\", svc_cm)\n",
    "print('Plotting confusion matrix')\n",
    "\n",
    "plt.figure()\n",
    "plot_confusion_matrix(svc_cm, ['Normal', 'Attack'])\n",
    "plt.show()\n",
    "\n",
    "print(classification_report(y_test, y_pred_svc))\n",
    "\n",
    "plot_roc(y_pred_svc.astype(np.int), y_test.astype(np.int))"
   ]
  },
  {
   "cell_type": "code",
   "execution_count": 43,
   "metadata": {},
   "outputs": [
    {
     "data": {
      "text/markdown": [
       "-----------------**KNN Report**---------------"
      ],
      "text/plain": [
       "<IPython.core.display.Markdown object>"
      ]
     },
     "metadata": {},
     "output_type": "display_data"
    },
    {
     "name": "stdout",
     "output_type": "stream",
     "text": [
      "F1 score: 0.9976089597579206\n",
      "Confusion matrix: \n",
      " [[21922    20]\n",
      " [   67 14387]]\n",
      "Plotting confusion matrix\n"
     ]
    },
    {
     "data": {
      "image/png": "[encoded data removed]",
      "text/plain": [
       "<Figure size 432x288 with 2 Axes>"
      ]
     },
     "metadata": {
      "needs_background": "light"
     },
     "output_type": "display_data"
    },
    {
     "name": "stdout",
     "output_type": "stream",
     "text": [
      "              precision    recall  f1-score   support\n",
      "\n",
      "           0       1.00      1.00      1.00     21942\n",
      "           1       1.00      1.00      1.00     14454\n",
      "\n",
      "   micro avg       1.00      1.00      1.00     36396\n",
      "   macro avg       1.00      1.00      1.00     36396\n",
      "weighted avg       1.00      1.00      1.00     36396\n",
      "\n"
     ]
    },
    {
     "data": {
      "image/png": "[encoded data removed]",
      "text/plain": [
       "<Figure size 432x288 with 1 Axes>"
      ]
     },
     "metadata": {
      "needs_background": "light"
     },
     "output_type": "display_data"
    }
   ],
   "source": [
    "y_pred_knn = knn.predict(x_test)\n",
    "knn_f1 = metrics.f1_score(y_test, y_pred_knn, average= \"weighted\")\n",
    "knn_cm = confusion_matrix(y_test, y_pred_knn)\n",
    "printmd(\"-----------------**KNN Report**---------------\")\n",
    "print(\"F1 score: {}\".format(knn_f1))\n",
    "print(\"Confusion matrix: \\n\", knn_cm)\n",
    "print('Plotting confusion matrix')\n",
    "\n",
    "plt.figure()\n",
    "plot_confusion_matrix(knn_cm, ['Normal', 'Attack'])\n",
    "plt.show()\n",
    "\n",
    "print(classification_report(y_test, y_pred_knn))\n",
    "\n",
    "plot_roc(y_pred_knn.astype(np.int), y_test.astype(np.int))"
   ]
  },
  {
   "cell_type": "code",
   "execution_count": 44,
   "metadata": {},
   "outputs": [
    {
     "data": {
      "text/markdown": [
       "-----------------**Gaussian Naive Bayes Report**---------------"
      ],
      "text/plain": [
       "<IPython.core.display.Markdown object>"
      ]
     },
     "metadata": {},
     "output_type": "display_data"
    },
    {
     "name": "stdout",
     "output_type": "stream",
     "text": [
      "F1 score: 0.9745197538076749\n",
      "Confusion matrix: \n",
      " [[21685   257]\n",
      " [  668 13786]]\n",
      "Plotting confusion matrix\n"
     ]
    },
    {
     "data": {
      "image/png": "[encoded data removed]",
      "text/plain": [
       "<Figure size 432x288 with 2 Axes>"
      ]
     },
     "metadata": {
      "needs_background": "light"
     },
     "output_type": "display_data"
    },
    {
     "name": "stdout",
     "output_type": "stream",
     "text": [
      "              precision    recall  f1-score   support\n",
      "\n",
      "           0       0.97      0.99      0.98     21942\n",
      "           1       0.98      0.95      0.97     14454\n",
      "\n",
      "   micro avg       0.97      0.97      0.97     36396\n",
      "   macro avg       0.98      0.97      0.97     36396\n",
      "weighted avg       0.97      0.97      0.97     36396\n",
      "\n"
     ]
    },
    {
     "data": {
      "image/png": "[encoded data removed]",
      "text/plain": [
       "<Figure size 432x288 with 1 Axes>"
      ]
     },
     "metadata": {
      "needs_background": "light"
     },
     "output_type": "display_data"
    }
   ],
   "source": [
    "y_pred_gnb = gnb.predict(x_test)\n",
    "gnb_f1 = metrics.f1_score(y_test, y_pred_gnb, average= \"weighted\")\n",
    "gnb_cm = confusion_matrix(y_test, y_pred_gnb)\n",
    "printmd(\"-----------------**Gaussian Naive Bayes Report**---------------\")\n",
    "print(\"F1 score: {}\".format(gnb_f1))\n",
    "print(\"Confusion matrix: \\n\", gnb_cm)\n",
    "print('Plotting confusion matrix')\n",
    "\n",
    "plt.figure()\n",
    "plot_confusion_matrix(gnb_cm, ['Normal', 'Attack'])\n",
    "plt.show()\n",
    "\n",
    "print(classification_report(y_test, y_pred_gnb))\n",
    "\n",
    "plot_roc(y_pred_gnb.astype(np.int), y_test.astype(np.int))"
   ]
  },
  {
   "cell_type": "code",
   "execution_count": 148,
   "metadata": {},
   "outputs": [
    {
     "ename": "AttributeError",
     "evalue": "'LinearSVC' object has no attribute 'predict_proba'",
     "output_type": "error",
     "traceback": [
      "\u001b[1;31m---------------------------------------------------------------------------\u001b[0m",
      "\u001b[1;31mAttributeError\u001b[0m                            Traceback (most recent call last)",
      "\u001b[1;32m<ipython-input-148-242d73be718b>\u001b[0m in \u001b[0;36m<module>\u001b[1;34m\u001b[0m\n\u001b[1;32m----> 1\u001b[1;33m \u001b[0mrank\u001b[0m \u001b[1;33m=\u001b[0m \u001b[0mperturbation_rank\u001b[0m\u001b[1;33m(\u001b[0m\u001b[0msvc\u001b[0m\u001b[1;33m,\u001b[0m \u001b[0mx_test\u001b[0m\u001b[1;33m,\u001b[0m \u001b[0my_test\u001b[0m\u001b[1;33m,\u001b[0m \u001b[0mnames\u001b[0m\u001b[1;33m,\u001b[0m \u001b[1;32mFalse\u001b[0m\u001b[1;33m)\u001b[0m\u001b[1;33m\u001b[0m\u001b[1;33m\u001b[0m\u001b[0m\n\u001b[0m\u001b[0;32m      2\u001b[0m \u001b[0mrank\u001b[0m\u001b[1;33m\u001b[0m\u001b[1;33m\u001b[0m\u001b[0m\n\u001b[0;32m      3\u001b[0m \u001b[1;31m#x_test.shape\u001b[0m\u001b[1;33m\u001b[0m\u001b[1;33m\u001b[0m\u001b[1;33m\u001b[0m\u001b[0m\n",
      "\u001b[1;32m<ipython-input-147-2e817832fd45>\u001b[0m in \u001b[0;36mperturbation_rank\u001b[1;34m(model, x, y, names, regression)\u001b[0m\n\u001b[0;32m    103\u001b[0m             \u001b[0merror\u001b[0m \u001b[1;33m=\u001b[0m \u001b[0mmetrics\u001b[0m\u001b[1;33m.\u001b[0m\u001b[0mmean_squared_error\u001b[0m\u001b[1;33m(\u001b[0m\u001b[0my\u001b[0m\u001b[1;33m,\u001b[0m \u001b[0mpred\u001b[0m\u001b[1;33m)\u001b[0m\u001b[1;33m\u001b[0m\u001b[1;33m\u001b[0m\u001b[0m\n\u001b[0;32m    104\u001b[0m         \u001b[1;32melse\u001b[0m\u001b[1;33m:\u001b[0m\u001b[1;33m\u001b[0m\u001b[1;33m\u001b[0m\u001b[0m\n\u001b[1;32m--> 105\u001b[1;33m             \u001b[0mpred\u001b[0m \u001b[1;33m=\u001b[0m \u001b[0mmodel\u001b[0m\u001b[1;33m.\u001b[0m\u001b[0mpredict_proba\u001b[0m\u001b[1;33m(\u001b[0m\u001b[0mx\u001b[0m\u001b[1;33m)\u001b[0m\u001b[1;33m\u001b[0m\u001b[1;33m\u001b[0m\u001b[0m\n\u001b[0m\u001b[0;32m    106\u001b[0m             \u001b[0merror\u001b[0m \u001b[1;33m=\u001b[0m \u001b[0mmetrics\u001b[0m\u001b[1;33m.\u001b[0m\u001b[0mlog_loss\u001b[0m\u001b[1;33m(\u001b[0m\u001b[0my\u001b[0m\u001b[1;33m,\u001b[0m \u001b[0mpred\u001b[0m\u001b[1;33m)\u001b[0m\u001b[1;33m\u001b[0m\u001b[1;33m\u001b[0m\u001b[0m\n\u001b[0;32m    107\u001b[0m \u001b[1;33m\u001b[0m\u001b[0m\n",
      "\u001b[1;31mAttributeError\u001b[0m: 'LinearSVC' object has no attribute 'predict_proba'"
     ]
    }
   ],
   "source": [
    "rank = perturbation_rank(svc, x_test, y_test, names, False)\n",
    "rank\n",
    "#x_test.shape"
   ]
  },
  {
   "cell_type": "code",
   "execution_count": 142,
   "metadata": {},
   "outputs": [
    {
     "ename": "TypeError",
     "evalue": "'(slice(None, None, None), slice(None, None, None))' is an invalid key",
     "output_type": "error",
     "traceback": [
      "\u001b[1;31m---------------------------------------------------------------------------\u001b[0m",
      "\u001b[1;31mTypeError\u001b[0m                                 Traceback (most recent call last)",
      "\u001b[1;32m<ipython-input-142-321e66bc2e4f>\u001b[0m in \u001b[0;36m<module>\u001b[1;34m\u001b[0m\n\u001b[1;32m----> 1\u001b[1;33m \u001b[0mx_test\u001b[0m\u001b[1;33m[\u001b[0m\u001b[1;33m:\u001b[0m\u001b[1;33m,\u001b[0m\u001b[1;33m:\u001b[0m\u001b[1;33m]\u001b[0m\u001b[1;33m\u001b[0m\u001b[1;33m\u001b[0m\u001b[0m\n\u001b[0m",
      "\u001b[1;32m~\\Anaconda3\\envs\\tf-gpu\\lib\\site-packages\\pandas\\core\\frame.py\u001b[0m in \u001b[0;36m__getitem__\u001b[1;34m(self, key)\u001b[0m\n\u001b[0;32m   2925\u001b[0m             \u001b[1;32mif\u001b[0m \u001b[0mself\u001b[0m\u001b[1;33m.\u001b[0m\u001b[0mcolumns\u001b[0m\u001b[1;33m.\u001b[0m\u001b[0mnlevels\u001b[0m \u001b[1;33m>\u001b[0m \u001b[1;36m1\u001b[0m\u001b[1;33m:\u001b[0m\u001b[1;33m\u001b[0m\u001b[1;33m\u001b[0m\u001b[0m\n\u001b[0;32m   2926\u001b[0m                 \u001b[1;32mreturn\u001b[0m \u001b[0mself\u001b[0m\u001b[1;33m.\u001b[0m\u001b[0m_getitem_multilevel\u001b[0m\u001b[1;33m(\u001b[0m\u001b[0mkey\u001b[0m\u001b[1;33m)\u001b[0m\u001b[1;33m\u001b[0m\u001b[1;33m\u001b[0m\u001b[0m\n\u001b[1;32m-> 2927\u001b[1;33m             \u001b[0mindexer\u001b[0m \u001b[1;33m=\u001b[0m \u001b[0mself\u001b[0m\u001b[1;33m.\u001b[0m\u001b[0mcolumns\u001b[0m\u001b[1;33m.\u001b[0m\u001b[0mget_loc\u001b[0m\u001b[1;33m(\u001b[0m\u001b[0mkey\u001b[0m\u001b[1;33m)\u001b[0m\u001b[1;33m\u001b[0m\u001b[1;33m\u001b[0m\u001b[0m\n\u001b[0m\u001b[0;32m   2928\u001b[0m             \u001b[1;32mif\u001b[0m \u001b[0mis_integer\u001b[0m\u001b[1;33m(\u001b[0m\u001b[0mindexer\u001b[0m\u001b[1;33m)\u001b[0m\u001b[1;33m:\u001b[0m\u001b[1;33m\u001b[0m\u001b[1;33m\u001b[0m\u001b[0m\n\u001b[0;32m   2929\u001b[0m                 \u001b[0mindexer\u001b[0m \u001b[1;33m=\u001b[0m \u001b[1;33m[\u001b[0m\u001b[0mindexer\u001b[0m\u001b[1;33m]\u001b[0m\u001b[1;33m\u001b[0m\u001b[1;33m\u001b[0m\u001b[0m\n",
      "\u001b[1;32m~\\Anaconda3\\envs\\tf-gpu\\lib\\site-packages\\pandas\\core\\indexes\\base.py\u001b[0m in \u001b[0;36mget_loc\u001b[1;34m(self, key, method, tolerance)\u001b[0m\n\u001b[0;32m   2654\u001b[0m                                  'backfill or nearest lookups')\n\u001b[0;32m   2655\u001b[0m             \u001b[1;32mtry\u001b[0m\u001b[1;33m:\u001b[0m\u001b[1;33m\u001b[0m\u001b[1;33m\u001b[0m\u001b[0m\n\u001b[1;32m-> 2656\u001b[1;33m                 \u001b[1;32mreturn\u001b[0m \u001b[0mself\u001b[0m\u001b[1;33m.\u001b[0m\u001b[0m_engine\u001b[0m\u001b[1;33m.\u001b[0m\u001b[0mget_loc\u001b[0m\u001b[1;33m(\u001b[0m\u001b[0mkey\u001b[0m\u001b[1;33m)\u001b[0m\u001b[1;33m\u001b[0m\u001b[1;33m\u001b[0m\u001b[0m\n\u001b[0m\u001b[0;32m   2657\u001b[0m             \u001b[1;32mexcept\u001b[0m \u001b[0mKeyError\u001b[0m\u001b[1;33m:\u001b[0m\u001b[1;33m\u001b[0m\u001b[1;33m\u001b[0m\u001b[0m\n\u001b[0;32m   2658\u001b[0m                 \u001b[1;32mreturn\u001b[0m \u001b[0mself\u001b[0m\u001b[1;33m.\u001b[0m\u001b[0m_engine\u001b[0m\u001b[1;33m.\u001b[0m\u001b[0mget_loc\u001b[0m\u001b[1;33m(\u001b[0m\u001b[0mself\u001b[0m\u001b[1;33m.\u001b[0m\u001b[0m_maybe_cast_indexer\u001b[0m\u001b[1;33m(\u001b[0m\u001b[0mkey\u001b[0m\u001b[1;33m)\u001b[0m\u001b[1;33m)\u001b[0m\u001b[1;33m\u001b[0m\u001b[1;33m\u001b[0m\u001b[0m\n",
      "\u001b[1;32mpandas\\_libs\\index.pyx\u001b[0m in \u001b[0;36mpandas._libs.index.IndexEngine.get_loc\u001b[1;34m()\u001b[0m\n",
      "\u001b[1;32mpandas\\_libs\\index.pyx\u001b[0m in \u001b[0;36mpandas._libs.index.IndexEngine.get_loc\u001b[1;34m()\u001b[0m\n",
      "\u001b[1;31mTypeError\u001b[0m: '(slice(None, None, None), slice(None, None, None))' is an invalid key"
     ]
    }
   ],
   "source": [
    "x_test[:,:]"
   ]
  },
  {
   "cell_type": "markdown",
   "metadata": {},
   "source": [
    "# Fully Connected Neural Network model"
   ]
  },
  {
   "cell_type": "code",
   "execution_count": 153,
   "metadata": {},
   "outputs": [
    {
     "data": {
      "text/plain": [
       "array([0, 0, 0, ..., 0, 0, 0])"
      ]
     },
     "execution_count": 153,
     "metadata": {},
     "output_type": "execute_result"
    }
   ],
   "source": [
    "scaler = preprocessing.LabelEncoder()\n",
    "output_tf = scaler.fit_transform(df['outcome'])\n",
    "output_tf"
   ]
  },
  {
   "cell_type": "code",
   "execution_count": 154,
   "metadata": {},
   "outputs": [
    {
     "data": {
      "text/plain": [
       "(145584,)"
      ]
     },
     "execution_count": 154,
     "metadata": {},
     "output_type": "execute_result"
    }
   ],
   "source": [
    "output_tf.shape"
   ]
  },
  {
   "cell_type": "code",
   "execution_count": 155,
   "metadata": {},
   "outputs": [
    {
     "data": {
      "text/plain": [
       "(145584, 40)"
      ]
     },
     "execution_count": 155,
     "metadata": {},
     "output_type": "execute_result"
    }
   ],
   "source": [
    "tf_data = input_data.copy()\n",
    "tf_data['outcome'] = output_tf\n",
    "tf_data.shape"
   ]
  },
  {
   "cell_type": "code",
   "execution_count": 156,
   "metadata": {},
   "outputs": [],
   "source": [
    "x, y = to_xy(tf_data, 'outcome')"
   ]
  },
  {
   "cell_type": "code",
   "execution_count": 157,
   "metadata": {},
   "outputs": [],
   "source": [
    "x_train_tf, x_test_tf, y_train_tf, y_test_tf = train_test_split(x, y, test_size=0.25, random_state=43)"
   ]
  },
  {
   "cell_type": "code",
   "execution_count": 158,
   "metadata": {},
   "outputs": [],
   "source": [
    "from keras.models import Sequential\n",
    "from keras.layers import Dense, Dropout, Flatten\n",
    "from keras.layers import Conv2D, MaxPooling2D\n",
    "from keras.callbacks import EarlyStopping\n",
    "from keras.callbacks import ModelCheckpoint\n",
    "from keras import optimizers\n",
    "from tensorflow import keras"
   ]
  },
  {
   "cell_type": "code",
   "execution_count": 161,
   "metadata": {},
   "outputs": [
    {
     "data": {
      "text/markdown": [
       "**Activation** = relu  **Optimizer** = adam "
      ],
      "text/plain": [
       "<IPython.core.display.Markdown object>"
      ]
     },
     "metadata": {},
     "output_type": "display_data"
    },
    {
     "name": "stdout",
     "output_type": "stream",
     "text": [
      "Train on 109188 samples, validate on 36396 samples\n",
      "Epoch 1/1000\n",
      "109188/109188 [==============================] - 3s 29us/step - loss: 0.1759 - acc: 0.9428 - val_loss: 0.0541 - val_acc: 0.9859\n",
      "Epoch 2/1000\n",
      "109188/109188 [==============================] - 1s 11us/step - loss: 0.0515 - acc: 0.9847 - val_loss: 0.0251 - val_acc: 0.9911\n",
      "Epoch 3/1000\n",
      "109188/109188 [==============================] - 1s 11us/step - loss: 0.0297 - acc: 0.9901 - val_loss: 0.0169 - val_acc: 0.9954\n",
      "Epoch 4/1000\n",
      "109188/109188 [==============================] - 1s 11us/step - loss: 0.0230 - acc: 0.9931 - val_loss: 0.0139 - val_acc: 0.9959\n",
      "Epoch 5/1000\n",
      "109188/109188 [==============================] - 1s 11us/step - loss: 0.0188 - acc: 0.9948 - val_loss: 0.0126 - val_acc: 0.9962\n",
      "Epoch 6/1000\n",
      "109188/109188 [==============================] - 1s 11us/step - loss: 0.0175 - acc: 0.9949 - val_loss: 0.0127 - val_acc: 0.9960\n",
      "Epoch 7/1000\n",
      "109188/109188 [==============================] - 1s 12us/step - loss: 0.0147 - acc: 0.9960 - val_loss: 0.0114 - val_acc: 0.9968\n",
      "Epoch 8/1000\n",
      "109188/109188 [==============================] - 1s 12us/step - loss: 0.0136 - acc: 0.9961 - val_loss: 0.0104 - val_acc: 0.9970\n",
      "Epoch 9/1000\n",
      "109188/109188 [==============================] - 1s 12us/step - loss: 0.0130 - acc: 0.9963 - val_loss: 0.0106 - val_acc: 0.9971\n",
      "Epoch 10/1000\n",
      "109188/109188 [==============================] - 1s 11us/step - loss: 0.0123 - acc: 0.9968 - val_loss: 0.0105 - val_acc: 0.9971\n",
      "Epoch 11/1000\n",
      "109188/109188 [==============================] - 1s 11us/step - loss: 0.0121 - acc: 0.9967 - val_loss: 0.0104 - val_acc: 0.9970\n",
      "Epoch 12/1000\n",
      "109188/109188 [==============================] - 1s 11us/step - loss: 0.0113 - acc: 0.9970 - val_loss: 0.0091 - val_acc: 0.9974\n",
      "Epoch 13/1000\n",
      "109188/109188 [==============================] - 1s 11us/step - loss: 0.0105 - acc: 0.9972 - val_loss: 0.0093 - val_acc: 0.9973\n",
      "Epoch 14/1000\n",
      "109188/109188 [==============================] - 1s 11us/step - loss: 0.0102 - acc: 0.9971 - val_loss: 0.0091 - val_acc: 0.9971\n",
      "Epoch 15/1000\n",
      "109188/109188 [==============================] - 1s 12us/step - loss: 0.0104 - acc: 0.9972 - val_loss: 0.0086 - val_acc: 0.9976\n",
      "Epoch 16/1000\n",
      "109188/109188 [==============================] - 1s 12us/step - loss: 0.0102 - acc: 0.9973 - val_loss: 0.0084 - val_acc: 0.9976\n",
      "Epoch 17/1000\n",
      "109188/109188 [==============================] - 1s 12us/step - loss: 0.0096 - acc: 0.9975 - val_loss: 0.0083 - val_acc: 0.9975\n",
      "Epoch 00017: early stopping\n"
     ]
    },
    {
     "data": {
      "text/markdown": [
       "**Activation** = tanh  **Optimizer** = sgd "
      ],
      "text/plain": [
       "<IPython.core.display.Markdown object>"
      ]
     },
     "metadata": {},
     "output_type": "display_data"
    },
    {
     "name": "stdout",
     "output_type": "stream",
     "text": [
      "Train on 109188 samples, validate on 36396 samples\n",
      "Epoch 1/1000\n",
      "109188/109188 [==============================] - 3s 27us/step - loss: 0.2365 - acc: 0.9188 - val_loss: 0.1074 - val_acc: 0.9716\n",
      "Epoch 2/1000\n",
      "109188/109188 [==============================] - 1s 10us/step - loss: 0.1187 - acc: 0.9692 - val_loss: 0.0912 - val_acc: 0.9760\n",
      "Epoch 3/1000\n",
      "109188/109188 [==============================] - 1s 10us/step - loss: 0.0971 - acc: 0.9740 - val_loss: 0.0815 - val_acc: 0.9794\n",
      "Epoch 4/1000\n",
      "109188/109188 [==============================] - 1s 10us/step - loss: 0.0879 - acc: 0.9761 - val_loss: 0.0774 - val_acc: 0.9802\n",
      "Epoch 5/1000\n",
      "109188/109188 [==============================] - 1s 10us/step - loss: 0.0816 - acc: 0.9780 - val_loss: 0.0698 - val_acc: 0.9823\n",
      "Epoch 6/1000\n",
      "109188/109188 [==============================] - 1s 10us/step - loss: 0.0767 - acc: 0.9792 - val_loss: 0.0698 - val_acc: 0.9823\n",
      "Epoch 7/1000\n",
      "109188/109188 [==============================] - 1s 10us/step - loss: 0.0735 - acc: 0.9801 - val_loss: 0.0635 - val_acc: 0.9835\n",
      "Epoch 8/1000\n",
      "109188/109188 [==============================] - 1s 11us/step - loss: 0.0707 - acc: 0.9805 - val_loss: 0.0654 - val_acc: 0.9833\n",
      "Epoch 9/1000\n",
      "109188/109188 [==============================] - 1s 10us/step - loss: 0.0700 - acc: 0.9809 - val_loss: 0.0679 - val_acc: 0.9827\n",
      "Epoch 10/1000\n",
      "109188/109188 [==============================] - 1s 11us/step - loss: 0.0669 - acc: 0.9819 - val_loss: 0.0645 - val_acc: 0.9833\n",
      "Epoch 11/1000\n",
      "109188/109188 [==============================] - 1s 11us/step - loss: 0.0661 - acc: 0.9815 - val_loss: 0.0623 - val_acc: 0.9839\n",
      "Epoch 12/1000\n",
      "109188/109188 [==============================] - 1s 10us/step - loss: 0.0640 - acc: 0.9821 - val_loss: 0.0611 - val_acc: 0.9840\n",
      "Epoch 13/1000\n",
      "109188/109188 [==============================] - 1s 10us/step - loss: 0.0629 - acc: 0.9827 - val_loss: 0.0568 - val_acc: 0.9855\n",
      "Epoch 14/1000\n",
      "109188/109188 [==============================] - 1s 10us/step - loss: 0.0614 - acc: 0.9830 - val_loss: 0.0592 - val_acc: 0.9851\n",
      "Epoch 15/1000\n",
      "109188/109188 [==============================] - 1s 10us/step - loss: 0.0613 - acc: 0.9830 - val_loss: 0.0561 - val_acc: 0.9857\n",
      "Epoch 16/1000\n",
      "109188/109188 [==============================] - 1s 10us/step - loss: 0.0600 - acc: 0.9832 - val_loss: 0.0558 - val_acc: 0.9858\n",
      "Epoch 17/1000\n",
      "109188/109188 [==============================] - 1s 10us/step - loss: 0.0582 - acc: 0.9835 - val_loss: 0.0545 - val_acc: 0.9861\n",
      "Epoch 18/1000\n",
      "109188/109188 [==============================] - 1s 10us/step - loss: 0.0574 - acc: 0.9836 - val_loss: 0.0539 - val_acc: 0.9859\n",
      "Epoch 19/1000\n",
      "109188/109188 [==============================] - 1s 11us/step - loss: 0.0561 - acc: 0.9837 - val_loss: 0.0518 - val_acc: 0.9862\n",
      "Epoch 20/1000\n",
      "109188/109188 [==============================] - 1s 11us/step - loss: 0.0548 - acc: 0.9842 - val_loss: 0.0481 - val_acc: 0.9864\n",
      "Epoch 21/1000\n",
      "109188/109188 [==============================] - 1s 11us/step - loss: 0.0544 - acc: 0.9839 - val_loss: 0.0454 - val_acc: 0.9865\n",
      "Epoch 22/1000\n",
      "109188/109188 [==============================] - 1s 11us/step - loss: 0.0524 - acc: 0.9842 - val_loss: 0.0482 - val_acc: 0.9867\n",
      "Epoch 23/1000\n",
      "109188/109188 [==============================] - 1s 11us/step - loss: 0.0503 - acc: 0.9847 - val_loss: 0.0407 - val_acc: 0.9866\n",
      "Epoch 24/1000\n",
      "109188/109188 [==============================] - 1s 11us/step - loss: 0.0488 - acc: 0.9845 - val_loss: 0.0421 - val_acc: 0.9869\n",
      "Epoch 25/1000\n",
      "109188/109188 [==============================] - 1s 11us/step - loss: 0.0482 - acc: 0.9850 - val_loss: 0.0485 - val_acc: 0.9857\n",
      "Epoch 26/1000\n",
      "109188/109188 [==============================] - 1s 10us/step - loss: 0.0465 - acc: 0.9853 - val_loss: 0.0387 - val_acc: 0.9873\n",
      "Epoch 27/1000\n",
      "109188/109188 [==============================] - 1s 10us/step - loss: 0.0442 - acc: 0.9857 - val_loss: 0.0360 - val_acc: 0.9877\n",
      "Epoch 28/1000\n",
      "109188/109188 [==============================] - 1s 10us/step - loss: 0.0433 - acc: 0.9855 - val_loss: 0.0288 - val_acc: 0.9898\n",
      "Epoch 29/1000\n",
      "109188/109188 [==============================] - 1s 11us/step - loss: 0.0427 - acc: 0.9862 - val_loss: 0.0360 - val_acc: 0.9877\n",
      "Epoch 30/1000\n",
      "109188/109188 [==============================] - 1s 10us/step - loss: 0.0401 - acc: 0.9867 - val_loss: 0.0293 - val_acc: 0.9903\n",
      "Epoch 31/1000\n",
      "109188/109188 [==============================] - 1s 10us/step - loss: 0.0388 - acc: 0.9871 - val_loss: 0.0275 - val_acc: 0.9909\n",
      "Epoch 32/1000\n",
      "109188/109188 [==============================] - 1s 10us/step - loss: 0.0383 - acc: 0.9873 - val_loss: 0.0339 - val_acc: 0.9883\n",
      "Epoch 33/1000\n",
      "109188/109188 [==============================] - 1s 11us/step - loss: 0.0373 - acc: 0.9874 - val_loss: 0.0232 - val_acc: 0.9924\n",
      "Epoch 34/1000\n",
      "109188/109188 [==============================] - 1s 11us/step - loss: 0.0355 - acc: 0.9882 - val_loss: 0.0288 - val_acc: 0.9907\n",
      "Epoch 35/1000\n",
      "109188/109188 [==============================] - 1s 10us/step - loss: 0.0344 - acc: 0.9884 - val_loss: 0.0226 - val_acc: 0.9932\n",
      "Epoch 36/1000\n",
      "109188/109188 [==============================] - 1s 11us/step - loss: 0.0341 - acc: 0.9888 - val_loss: 0.0241 - val_acc: 0.9926\n",
      "Epoch 37/1000\n",
      "109188/109188 [==============================] - 1s 10us/step - loss: 0.0331 - acc: 0.9892 - val_loss: 0.0260 - val_acc: 0.9920\n",
      "Epoch 38/1000\n",
      "109188/109188 [==============================] - 1s 10us/step - loss: 0.0329 - acc: 0.9889 - val_loss: 0.0216 - val_acc: 0.9946\n",
      "Epoch 39/1000\n",
      "109188/109188 [==============================] - 1s 11us/step - loss: 0.0327 - acc: 0.9892 - val_loss: 0.0212 - val_acc: 0.9947\n",
      "Epoch 40/1000\n",
      "109188/109188 [==============================] - 1s 10us/step - loss: 0.0326 - acc: 0.9896 - val_loss: 0.0247 - val_acc: 0.9923\n",
      "Epoch 41/1000\n",
      "109188/109188 [==============================] - 1s 10us/step - loss: 0.0308 - acc: 0.9903 - val_loss: 0.0211 - val_acc: 0.9948\n",
      "Epoch 42/1000\n",
      "109188/109188 [==============================] - 1s 11us/step - loss: 0.0307 - acc: 0.9901 - val_loss: 0.0208 - val_acc: 0.9949\n",
      "Epoch 43/1000\n",
      "109188/109188 [==============================] - 1s 11us/step - loss: 0.0302 - acc: 0.9906 - val_loss: 0.0225 - val_acc: 0.9945\n",
      "Epoch 00043: early stopping\n",
      "Training finished...Loading the best model\n",
      "\n"
     ]
    }
   ],
   "source": [
    "checkpointer = ModelCheckpoint(filepath=\".\\classification.hdf5\", verbose=0, save_best_only=True) # save best model\n",
    "activation_func = ['relu', 'tanh']\n",
    "optimizer_func = ['adam', 'sgd']\n",
    "\n",
    "for i in range(2):\n",
    "    for j in range(2):\n",
    "        printmd(\"**Activation** = {}  **Optimizer** = {} \".format(activation_func[i], optimizer_func[j]))\n",
    "        #Build network\n",
    "        model = Sequential()\n",
    "\n",
    "        model.add(Dense(128, input_dim=x_train_tf.shape[1], activation=activation_func[i])) # Hidden 1     #  why input_dim=x.shape[1]?  \n",
    "        model.add(Dropout(0.27))\n",
    "        model.add(Dense(64, activation=activation_func[i])) # Hidden 2\n",
    "        model.add(Dropout(0.27))\n",
    "        model.add(Dense(32, activation=activation_func[i])) # Hidden 4\n",
    "        model.add(Dense(y_train_tf.shape[1], activation='softmax')) # Output\n",
    "\n",
    "        model.compile(loss='categorical_crossentropy', optimizer=optimizer_func[j], metrics=['accuracy'])\n",
    "\n",
    "        monitor = EarlyStopping(monitor='val_loss', min_delta=1e-3, patience=5, verbose=1, mode='auto')\n",
    "\n",
    "        model.fit(x_train_tf,y_train_tf, validation_data=(x_test_tf,y_test_tf), callbacks=[monitor,checkpointer],verbose=1,epochs=1000, batch_size=512, shuffle=True)    # Verbosity mode. 0 = silent, 1 = progress bar, 2 = one line per epoch.\n",
    "    \n",
    "    \n",
    "print('Training finished...Loading the best model')  \n",
    "print()\n",
    "model.load_weights('.\\classification.hdf5') # load weights from best model"
   ]
  },
  {
   "cell_type": "code",
   "execution_count": 162,
   "metadata": {},
   "outputs": [
    {
     "name": "stdout",
     "output_type": "stream",
     "text": [
      "_________________________________________________________________\n",
      "Layer (type)                 Output Shape              Param #   \n",
      "=================================================================\n",
      "dense_105 (Dense)            (None, 128)               5120      \n",
      "_________________________________________________________________\n",
      "dropout_75 (Dropout)         (None, 128)               0         \n",
      "_________________________________________________________________\n",
      "dense_106 (Dense)            (None, 64)                8256      \n",
      "_________________________________________________________________\n",
      "dropout_76 (Dropout)         (None, 64)                0         \n",
      "_________________________________________________________________\n",
      "dense_107 (Dense)            (None, 32)                2080      \n",
      "_________________________________________________________________\n",
      "dense_108 (Dense)            (None, 2)                 66        \n",
      "=================================================================\n",
      "Total params: 15,522\n",
      "Trainable params: 15,522\n",
      "Non-trainable params: 0\n",
      "_________________________________________________________________\n"
     ]
    }
   ],
   "source": [
    "model.summary()"
   ]
  },
  {
   "cell_type": "code",
   "execution_count": 163,
   "metadata": {},
   "outputs": [
    {
     "data": {
      "text/markdown": [
       "-----------------**Fully-Connected Neural Network Report**---------------"
      ],
      "text/plain": [
       "<IPython.core.display.Markdown object>"
      ]
     },
     "metadata": {},
     "output_type": "display_data"
    },
    {
     "name": "stdout",
     "output_type": "stream",
     "text": [
      "F1 score: 0.9585460941156094\n",
      "Confusion matrix: \n",
      " [[20465  1477]\n",
      " [   42 14412]]\n",
      "Plotting confusion matrix\n"
     ]
    },
    {
     "data": {
      "image/png": "[encoded data removed]",
      "text/plain": [
       "<Figure size 792x288 with 2 Axes>"
      ]
     },
     "metadata": {
      "needs_background": "light"
     },
     "output_type": "display_data"
    },
    {
     "name": "stdout",
     "output_type": "stream",
     "text": [
      "              precision    recall  f1-score   support\n",
      "\n",
      "           0       1.00      0.93      0.96     21942\n",
      "           1       0.91      1.00      0.95     14454\n",
      "\n",
      "   micro avg       0.96      0.96      0.96     36396\n",
      "   macro avg       0.95      0.96      0.96     36396\n",
      "weighted avg       0.96      0.96      0.96     36396\n",
      "\n"
     ]
    },
    {
     "data": {
      "image/png": "[encoded data removed]",
      "text/plain": [
       "<Figure size 792x288 with 1 Axes>"
      ]
     },
     "metadata": {
      "needs_background": "light"
     },
     "output_type": "display_data"
    }
   ],
   "source": [
    "nn_pred = model.predict(x_test_tf)\n",
    "nn_pred = np.argmax(nn_pred,axis=1)\n",
    "y_true = np.argmax(y_test_tf,axis=1)\n",
    "\n",
    "nn_f1 = metrics.f1_score(y_true, nn_pred, average= \"weighted\")\n",
    "nn_cm = confusion_matrix(y_true, nn_pred)\n",
    "printmd(\"-----------------**Fully-Connected Neural Network Report**---------------\")\n",
    "print(\"F1 score: {}\".format(nn_f1))\n",
    "print(\"Confusion matrix: \\n\", nn_cm)\n",
    "print('Plotting confusion matrix')\n",
    "\n",
    "plt.figure()\n",
    "plot_confusion_matrix(nn_cm, ['Normal', 'Attack'])\n",
    "plt.show()\n",
    "\n",
    "print(classification_report(y_true, nn_pred))\n",
    "\n",
    "nn_pred = model.predict(x_test_tf)\n",
    "nn_pred = nn_pred[:,1] # Only positive class (1)\n",
    "plot_roc(nn_pred,y_true)"
   ]
  },
  {
   "cell_type": "code",
   "execution_count": 164,
   "metadata": {},
   "outputs": [
    {
     "data": {
      "text/html": [
       "<div>\n",
       "<style scoped>\n",
       "    .dataframe tbody tr th:only-of-type {\n",
       "        vertical-align: middle;\n",
       "    }\n",
       "\n",
       "    .dataframe tbody tr th {\n",
       "        vertical-align: top;\n",
       "    }\n",
       "\n",
       "    .dataframe thead th {\n",
       "        text-align: right;\n",
       "    }\n",
       "</style>\n",
       "<table border=\"1\" class=\"dataframe\">\n",
       "  <thead>\n",
       "    <tr style=\"text-align: right;\">\n",
       "      <th></th>\n",
       "      <th>name</th>\n",
       "      <th>error</th>\n",
       "      <th>importance</th>\n",
       "    </tr>\n",
       "  </thead>\n",
       "  <tbody>\n",
       "    <tr>\n",
       "      <th>0</th>\n",
       "      <td>same_srv_rate</td>\n",
       "      <td>0.206381</td>\n",
       "      <td>1.000000</td>\n",
       "    </tr>\n",
       "    <tr>\n",
       "      <th>1</th>\n",
       "      <td>diff_srv_rate</td>\n",
       "      <td>0.204620</td>\n",
       "      <td>0.991463</td>\n",
       "    </tr>\n",
       "    <tr>\n",
       "      <th>2</th>\n",
       "      <td>num_shells</td>\n",
       "      <td>0.202002</td>\n",
       "      <td>0.978782</td>\n",
       "    </tr>\n",
       "    <tr>\n",
       "      <th>3</th>\n",
       "      <td>srv_serror_rate</td>\n",
       "      <td>0.182529</td>\n",
       "      <td>0.884424</td>\n",
       "    </tr>\n",
       "    <tr>\n",
       "      <th>4</th>\n",
       "      <td>dst_host_srv_diff_host_rate</td>\n",
       "      <td>0.168855</td>\n",
       "      <td>0.818171</td>\n",
       "    </tr>\n",
       "    <tr>\n",
       "      <th>5</th>\n",
       "      <td>dst_host_count</td>\n",
       "      <td>0.165370</td>\n",
       "      <td>0.801283</td>\n",
       "    </tr>\n",
       "    <tr>\n",
       "      <th>6</th>\n",
       "      <td>duration</td>\n",
       "      <td>0.163056</td>\n",
       "      <td>0.790071</td>\n",
       "    </tr>\n",
       "    <tr>\n",
       "      <th>7</th>\n",
       "      <td>land</td>\n",
       "      <td>0.156302</td>\n",
       "      <td>0.757344</td>\n",
       "    </tr>\n",
       "    <tr>\n",
       "      <th>8</th>\n",
       "      <td>dst_host_same_src_port_rate</td>\n",
       "      <td>0.155100</td>\n",
       "      <td>0.751523</td>\n",
       "    </tr>\n",
       "    <tr>\n",
       "      <th>9</th>\n",
       "      <td>src_bytes</td>\n",
       "      <td>0.148623</td>\n",
       "      <td>0.720137</td>\n",
       "    </tr>\n",
       "    <tr>\n",
       "      <th>10</th>\n",
       "      <td>dst_host_diff_srv_rate</td>\n",
       "      <td>0.145805</td>\n",
       "      <td>0.706482</td>\n",
       "    </tr>\n",
       "    <tr>\n",
       "      <th>11</th>\n",
       "      <td>is_guest_login</td>\n",
       "      <td>0.145550</td>\n",
       "      <td>0.705246</td>\n",
       "    </tr>\n",
       "    <tr>\n",
       "      <th>12</th>\n",
       "      <td>dst_host_srv_rerror_rate</td>\n",
       "      <td>0.144583</td>\n",
       "      <td>0.700563</td>\n",
       "    </tr>\n",
       "    <tr>\n",
       "      <th>13</th>\n",
       "      <td>count</td>\n",
       "      <td>0.141395</td>\n",
       "      <td>0.685116</td>\n",
       "    </tr>\n",
       "    <tr>\n",
       "      <th>14</th>\n",
       "      <td>dst_host_rerror_rate</td>\n",
       "      <td>0.138639</td>\n",
       "      <td>0.671760</td>\n",
       "    </tr>\n",
       "    <tr>\n",
       "      <th>15</th>\n",
       "      <td>serror_rate</td>\n",
       "      <td>0.137621</td>\n",
       "      <td>0.666827</td>\n",
       "    </tr>\n",
       "    <tr>\n",
       "      <th>16</th>\n",
       "      <td>dst_host_same_srv_rate</td>\n",
       "      <td>0.130600</td>\n",
       "      <td>0.632808</td>\n",
       "    </tr>\n",
       "    <tr>\n",
       "      <th>17</th>\n",
       "      <td>srv_diff_host_rate</td>\n",
       "      <td>0.128318</td>\n",
       "      <td>0.621753</td>\n",
       "    </tr>\n",
       "    <tr>\n",
       "      <th>18</th>\n",
       "      <td>srv_count</td>\n",
       "      <td>0.123980</td>\n",
       "      <td>0.600733</td>\n",
       "    </tr>\n",
       "    <tr>\n",
       "      <th>19</th>\n",
       "      <td>dst_host_srv_count</td>\n",
       "      <td>0.123411</td>\n",
       "      <td>0.597973</td>\n",
       "    </tr>\n",
       "    <tr>\n",
       "      <th>20</th>\n",
       "      <td>num_file_creations</td>\n",
       "      <td>0.121743</td>\n",
       "      <td>0.589896</td>\n",
       "    </tr>\n",
       "    <tr>\n",
       "      <th>21</th>\n",
       "      <td>dst_host_serror_rate</td>\n",
       "      <td>0.120899</td>\n",
       "      <td>0.585804</td>\n",
       "    </tr>\n",
       "    <tr>\n",
       "      <th>22</th>\n",
       "      <td>rerror_rate</td>\n",
       "      <td>0.120641</td>\n",
       "      <td>0.584552</td>\n",
       "    </tr>\n",
       "    <tr>\n",
       "      <th>23</th>\n",
       "      <td>num_access_files</td>\n",
       "      <td>0.116989</td>\n",
       "      <td>0.566857</td>\n",
       "    </tr>\n",
       "    <tr>\n",
       "      <th>24</th>\n",
       "      <td>dst_host_srv_serror_rate</td>\n",
       "      <td>0.115686</td>\n",
       "      <td>0.560545</td>\n",
       "    </tr>\n",
       "    <tr>\n",
       "      <th>25</th>\n",
       "      <td>hot</td>\n",
       "      <td>0.112407</td>\n",
       "      <td>0.544658</td>\n",
       "    </tr>\n",
       "    <tr>\n",
       "      <th>26</th>\n",
       "      <td>srv_rerror_rate</td>\n",
       "      <td>0.112363</td>\n",
       "      <td>0.544445</td>\n",
       "    </tr>\n",
       "    <tr>\n",
       "      <th>27</th>\n",
       "      <td>wrong_fragment</td>\n",
       "      <td>0.111967</td>\n",
       "      <td>0.542524</td>\n",
       "    </tr>\n",
       "    <tr>\n",
       "      <th>28</th>\n",
       "      <td>flag</td>\n",
       "      <td>0.111786</td>\n",
       "      <td>0.541647</td>\n",
       "    </tr>\n",
       "    <tr>\n",
       "      <th>29</th>\n",
       "      <td>su_attempted</td>\n",
       "      <td>0.111754</td>\n",
       "      <td>0.541494</td>\n",
       "    </tr>\n",
       "    <tr>\n",
       "      <th>30</th>\n",
       "      <td>logged_in</td>\n",
       "      <td>0.111750</td>\n",
       "      <td>0.541473</td>\n",
       "    </tr>\n",
       "    <tr>\n",
       "      <th>31</th>\n",
       "      <td>num_compromised</td>\n",
       "      <td>0.111675</td>\n",
       "      <td>0.541112</td>\n",
       "    </tr>\n",
       "    <tr>\n",
       "      <th>32</th>\n",
       "      <td>num_failed_logins</td>\n",
       "      <td>0.111553</td>\n",
       "      <td>0.540519</td>\n",
       "    </tr>\n",
       "    <tr>\n",
       "      <th>33</th>\n",
       "      <td>protocol_type</td>\n",
       "      <td>0.111343</td>\n",
       "      <td>0.539503</td>\n",
       "    </tr>\n",
       "    <tr>\n",
       "      <th>34</th>\n",
       "      <td>dst_bytes</td>\n",
       "      <td>0.111214</td>\n",
       "      <td>0.538878</td>\n",
       "    </tr>\n",
       "    <tr>\n",
       "      <th>35</th>\n",
       "      <td>root_shell</td>\n",
       "      <td>0.111199</td>\n",
       "      <td>0.538802</td>\n",
       "    </tr>\n",
       "    <tr>\n",
       "      <th>36</th>\n",
       "      <td>num_root</td>\n",
       "      <td>0.111184</td>\n",
       "      <td>0.538732</td>\n",
       "    </tr>\n",
       "    <tr>\n",
       "      <th>37</th>\n",
       "      <td>service</td>\n",
       "      <td>0.110992</td>\n",
       "      <td>0.537800</td>\n",
       "    </tr>\n",
       "    <tr>\n",
       "      <th>38</th>\n",
       "      <td>urgent</td>\n",
       "      <td>0.096793</td>\n",
       "      <td>0.468999</td>\n",
       "    </tr>\n",
       "  </tbody>\n",
       "</table>\n",
       "</div>"
      ],
      "text/plain": [
       "                           name     error  importance\n",
       "0                 same_srv_rate  0.206381    1.000000\n",
       "1                 diff_srv_rate  0.204620    0.991463\n",
       "2                    num_shells  0.202002    0.978782\n",
       "3               srv_serror_rate  0.182529    0.884424\n",
       "4   dst_host_srv_diff_host_rate  0.168855    0.818171\n",
       "5                dst_host_count  0.165370    0.801283\n",
       "6                      duration  0.163056    0.790071\n",
       "7                          land  0.156302    0.757344\n",
       "8   dst_host_same_src_port_rate  0.155100    0.751523\n",
       "9                     src_bytes  0.148623    0.720137\n",
       "10       dst_host_diff_srv_rate  0.145805    0.706482\n",
       "11               is_guest_login  0.145550    0.705246\n",
       "12     dst_host_srv_rerror_rate  0.144583    0.700563\n",
       "13                        count  0.141395    0.685116\n",
       "14         dst_host_rerror_rate  0.138639    0.671760\n",
       "15                  serror_rate  0.137621    0.666827\n",
       "16       dst_host_same_srv_rate  0.130600    0.632808\n",
       "17           srv_diff_host_rate  0.128318    0.621753\n",
       "18                    srv_count  0.123980    0.600733\n",
       "19           dst_host_srv_count  0.123411    0.597973\n",
       "20           num_file_creations  0.121743    0.589896\n",
       "21         dst_host_serror_rate  0.120899    0.585804\n",
       "22                  rerror_rate  0.120641    0.584552\n",
       "23             num_access_files  0.116989    0.566857\n",
       "24     dst_host_srv_serror_rate  0.115686    0.560545\n",
       "25                          hot  0.112407    0.544658\n",
       "26              srv_rerror_rate  0.112363    0.544445\n",
       "27               wrong_fragment  0.111967    0.542524\n",
       "28                         flag  0.111786    0.541647\n",
       "29                 su_attempted  0.111754    0.541494\n",
       "30                    logged_in  0.111750    0.541473\n",
       "31              num_compromised  0.111675    0.541112\n",
       "32            num_failed_logins  0.111553    0.540519\n",
       "33                protocol_type  0.111343    0.539503\n",
       "34                    dst_bytes  0.111214    0.538878\n",
       "35                   root_shell  0.111199    0.538802\n",
       "36                     num_root  0.111184    0.538732\n",
       "37                      service  0.110992    0.537800\n",
       "38                       urgent  0.096793    0.468999"
      ]
     },
     "execution_count": 164,
     "metadata": {},
     "output_type": "execute_result"
    }
   ],
   "source": [
    "names = list(df.columns) # x+y column names\n",
    "names.remove(\"outcome\") # remove the target(y)\n",
    "rank = perturbation_rank(model, x_test_tf, y_test_tf, names, False)\n",
    "rank"
   ]
  },
  {
   "cell_type": "markdown",
   "metadata": {},
   "source": [
    "# CNN model"
   ]
  },
  {
   "cell_type": "code",
   "execution_count": 62,
   "metadata": {},
   "outputs": [],
   "source": [
    "x_train_tf, x_test_tf, y_train_tf, y_test_tf = train_test_split(x, y, test_size=0.25, random_state=43)"
   ]
  },
  {
   "cell_type": "code",
   "execution_count": 63,
   "metadata": {},
   "outputs": [],
   "source": [
    "# reshape the input into 4D array\n",
    "x_train_tf = x_train_tf.reshape(x_train_tf.shape[0], 1, x_train_tf.shape[1], 1)\n",
    "x_test_tf = x_test_tf.reshape(x_test_tf.shape[0], 1, x_test_tf.shape[1], 1)"
   ]
  },
  {
   "cell_type": "code",
   "execution_count": 64,
   "metadata": {},
   "outputs": [
    {
     "name": "stdout",
     "output_type": "stream",
     "text": [
      "(109188, 1, 39, 1)\n",
      "(36396, 1, 39, 1)\n"
     ]
    }
   ],
   "source": [
    "print(x_train_tf.shape)\n",
    "print(x_test_tf.shape)"
   ]
  },
  {
   "cell_type": "code",
   "execution_count": 67,
   "metadata": {},
   "outputs": [
    {
     "data": {
      "text/plain": [
       "((109188, 2), (36396, 2))"
      ]
     },
     "execution_count": 67,
     "metadata": {},
     "output_type": "execute_result"
    }
   ],
   "source": [
    "y_train_tf.shape, y_test_tf.shape"
   ]
  },
  {
   "cell_type": "code",
   "execution_count": 104,
   "metadata": {},
   "outputs": [
    {
     "data": {
      "text/plain": [
       "dtype('float32')"
      ]
     },
     "execution_count": 104,
     "metadata": {},
     "output_type": "execute_result"
    }
   ],
   "source": [
    "y_test_tf.dtype"
   ]
  },
  {
   "cell_type": "code",
   "execution_count": 110,
   "metadata": {},
   "outputs": [
    {
     "data": {
      "text/markdown": [
       "**Activation** = relu  **Optimizer** = adam "
      ],
      "text/plain": [
       "<IPython.core.display.Markdown object>"
      ]
     },
     "metadata": {},
     "output_type": "display_data"
    },
    {
     "name": "stdout",
     "output_type": "stream",
     "text": [
      "Train on 109188 samples, validate on 36396 samples\n",
      "Epoch 1/100\n",
      "109188/109188 [==============================] - 4s 32us/step - loss: 0.0719 - acc: 0.9760 - val_loss: 0.0264 - val_acc: 0.9937\n",
      "Epoch 2/100\n",
      "109188/109188 [==============================] - 2s 18us/step - loss: 0.0248 - acc: 0.9935 - val_loss: 0.0200 - val_acc: 0.9950\n",
      "Epoch 3/100\n",
      "109188/109188 [==============================] - 2s 18us/step - loss: 0.0223 - acc: 0.9942 - val_loss: 0.0179 - val_acc: 0.9960\n",
      "Epoch 4/100\n",
      "109188/109188 [==============================] - 2s 17us/step - loss: 0.0191 - acc: 0.9952 - val_loss: 0.0176 - val_acc: 0.9958\n",
      "Epoch 5/100\n",
      "109188/109188 [==============================] - 2s 18us/step - loss: 0.0160 - acc: 0.9959 - val_loss: 0.0146 - val_acc: 0.9962\n",
      "Epoch 6/100\n",
      "109188/109188 [==============================] - 2s 16us/step - loss: 0.0150 - acc: 0.9960 - val_loss: 0.0160 - val_acc: 0.9960\n",
      "Epoch 7/100\n",
      "109188/109188 [==============================] - 2s 17us/step - loss: 0.0142 - acc: 0.9963 - val_loss: 0.0116 - val_acc: 0.9963\n",
      "Epoch 8/100\n",
      "109188/109188 [==============================] - 2s 17us/step - loss: 0.0125 - acc: 0.9966 - val_loss: 0.0098 - val_acc: 0.9971\n",
      "Epoch 9/100\n",
      "109188/109188 [==============================] - 2s 19us/step - loss: 0.0123 - acc: 0.9968 - val_loss: 0.0111 - val_acc: 0.9971\n",
      "Epoch 10/100\n",
      "109188/109188 [==============================] - 2s 16us/step - loss: 0.0123 - acc: 0.9966 - val_loss: 0.0108 - val_acc: 0.9966\n",
      "Epoch 11/100\n",
      "109188/109188 [==============================] - 2s 16us/step - loss: 0.0109 - acc: 0.9970 - val_loss: 0.0085 - val_acc: 0.9976\n",
      "Epoch 12/100\n",
      "109188/109188 [==============================] - 2s 16us/step - loss: 0.0106 - acc: 0.9972 - val_loss: 0.0081 - val_acc: 0.9974\n",
      "Epoch 13/100\n",
      "109188/109188 [==============================] - 2s 16us/step - loss: 0.0101 - acc: 0.9971 - val_loss: 0.0081 - val_acc: 0.9976\n",
      "Epoch 14/100\n",
      "109188/109188 [==============================] - 2s 16us/step - loss: 0.0099 - acc: 0.9971 - val_loss: 0.0085 - val_acc: 0.9973\n",
      "Epoch 15/100\n",
      "109188/109188 [==============================] - 2s 16us/step - loss: 0.0095 - acc: 0.9972 - val_loss: 0.0080 - val_acc: 0.9975\n",
      "Epoch 16/100\n",
      "109188/109188 [==============================] - 2s 16us/step - loss: 0.0095 - acc: 0.9975 - val_loss: 0.0073 - val_acc: 0.9976\n",
      "Epoch 17/100\n",
      "109188/109188 [==============================] - 2s 16us/step - loss: 0.0089 - acc: 0.9974 - val_loss: 0.0090 - val_acc: 0.9971\n",
      "Epoch 18/100\n",
      "109188/109188 [==============================] - 2s 16us/step - loss: 0.0094 - acc: 0.9974 - val_loss: 0.0084 - val_acc: 0.9974\n",
      "Epoch 19/100\n",
      "109188/109188 [==============================] - 2s 17us/step - loss: 0.0090 - acc: 0.9975 - val_loss: 0.0070 - val_acc: 0.9976\n",
      "Epoch 20/100\n",
      "109188/109188 [==============================] - 2s 16us/step - loss: 0.0084 - acc: 0.9976 - val_loss: 0.0073 - val_acc: 0.9976\n",
      "Epoch 21/100\n",
      "109188/109188 [==============================] - 2s 16us/step - loss: 0.0078 - acc: 0.9977 - val_loss: 0.0072 - val_acc: 0.9978\n",
      "Epoch 00021: early stopping\n"
     ]
    },
    {
     "data": {
      "text/markdown": [
       "**Activation** = relu  **Optimizer** = sgd "
      ],
      "text/plain": [
       "<IPython.core.display.Markdown object>"
      ]
     },
     "metadata": {},
     "output_type": "display_data"
    },
    {
     "name": "stdout",
     "output_type": "stream",
     "text": [
      "Train on 109188 samples, validate on 36396 samples\n",
      "Epoch 1/100\n",
      "109188/109188 [==============================] - 3s 31us/step - loss: 0.3609 - acc: 0.8664 - val_loss: 0.1244 - val_acc: 0.9653\n",
      "Epoch 2/100\n",
      "109188/109188 [==============================] - 2s 16us/step - loss: 0.1353 - acc: 0.9614 - val_loss: 0.0892 - val_acc: 0.9753\n",
      "Epoch 3/100\n",
      "109188/109188 [==============================] - 2s 15us/step - loss: 0.1069 - acc: 0.9703 - val_loss: 0.0775 - val_acc: 0.9779\n",
      "Epoch 4/100\n",
      "109188/109188 [==============================] - 2s 16us/step - loss: 0.0933 - acc: 0.9749 - val_loss: 0.0715 - val_acc: 0.9790\n",
      "Epoch 5/100\n",
      "109188/109188 [==============================] - 2s 16us/step - loss: 0.0866 - acc: 0.9764 - val_loss: 0.0668 - val_acc: 0.9801\n",
      "Epoch 6/100\n",
      "109188/109188 [==============================] - 2s 15us/step - loss: 0.0804 - acc: 0.9777 - val_loss: 0.0637 - val_acc: 0.9804\n",
      "Epoch 7/100\n",
      "109188/109188 [==============================] - 2s 15us/step - loss: 0.0778 - acc: 0.9786 - val_loss: 0.0608 - val_acc: 0.9810\n",
      "Epoch 8/100\n",
      "109188/109188 [==============================] - 2s 16us/step - loss: 0.0728 - acc: 0.9795 - val_loss: 0.0583 - val_acc: 0.9818\n",
      "Epoch 9/100\n",
      "109188/109188 [==============================] - 2s 15us/step - loss: 0.0705 - acc: 0.9799 - val_loss: 0.0555 - val_acc: 0.9825\n",
      "Epoch 10/100\n",
      "109188/109188 [==============================] - 2s 15us/step - loss: 0.0666 - acc: 0.9806 - val_loss: 0.0529 - val_acc: 0.9832\n",
      "Epoch 11/100\n",
      "109188/109188 [==============================] - 2s 16us/step - loss: 0.0648 - acc: 0.9808 - val_loss: 0.0507 - val_acc: 0.9834\n",
      "Epoch 12/100\n",
      "109188/109188 [==============================] - 2s 16us/step - loss: 0.0614 - acc: 0.9813 - val_loss: 0.0479 - val_acc: 0.9844\n",
      "Epoch 13/100\n",
      "109188/109188 [==============================] - 2s 15us/step - loss: 0.0598 - acc: 0.9819 - val_loss: 0.0459 - val_acc: 0.9843\n",
      "Epoch 14/100\n",
      "109188/109188 [==============================] - 2s 16us/step - loss: 0.0569 - acc: 0.9824 - val_loss: 0.0437 - val_acc: 0.9846\n",
      "Epoch 15/100\n",
      "109188/109188 [==============================] - 2s 17us/step - loss: 0.0547 - acc: 0.9825 - val_loss: 0.0414 - val_acc: 0.9851\n",
      "Epoch 16/100\n",
      "109188/109188 [==============================] - 2s 16us/step - loss: 0.0523 - acc: 0.9829 - val_loss: 0.0391 - val_acc: 0.9854\n",
      "Epoch 17/100\n",
      "109188/109188 [==============================] - 2s 17us/step - loss: 0.0514 - acc: 0.9829 - val_loss: 0.0370 - val_acc: 0.9856\n",
      "Epoch 18/100\n",
      "109188/109188 [==============================] - 2s 16us/step - loss: 0.0486 - acc: 0.9835 - val_loss: 0.0354 - val_acc: 0.9861\n",
      "Epoch 19/100\n",
      "109188/109188 [==============================] - 2s 15us/step - loss: 0.0462 - acc: 0.9839 - val_loss: 0.0331 - val_acc: 0.9868\n",
      "Epoch 20/100\n",
      "109188/109188 [==============================] - 2s 15us/step - loss: 0.0450 - acc: 0.9843 - val_loss: 0.0314 - val_acc: 0.9870\n",
      "Epoch 21/100\n",
      "109188/109188 [==============================] - 2s 16us/step - loss: 0.0446 - acc: 0.9845 - val_loss: 0.0302 - val_acc: 0.9876\n",
      "Epoch 22/100\n",
      "109188/109188 [==============================] - 2s 15us/step - loss: 0.0427 - acc: 0.9852 - val_loss: 0.0297 - val_acc: 0.9878\n",
      "Epoch 23/100\n",
      "109188/109188 [==============================] - 2s 15us/step - loss: 0.0422 - acc: 0.9853 - val_loss: 0.0282 - val_acc: 0.9897\n",
      "Epoch 24/100\n",
      "109188/109188 [==============================] - 2s 15us/step - loss: 0.0398 - acc: 0.9860 - val_loss: 0.0274 - val_acc: 0.9906\n",
      "Epoch 25/100\n",
      "109188/109188 [==============================] - 2s 15us/step - loss: 0.0388 - acc: 0.9870 - val_loss: 0.0258 - val_acc: 0.9919\n",
      "Epoch 26/100\n",
      "109188/109188 [==============================] - 2s 15us/step - loss: 0.0384 - acc: 0.9871 - val_loss: 0.0254 - val_acc: 0.9925\n",
      "Epoch 27/100\n",
      "109188/109188 [==============================] - 2s 15us/step - loss: 0.0378 - acc: 0.9874 - val_loss: 0.0246 - val_acc: 0.9928\n",
      "Epoch 28/100\n",
      "109188/109188 [==============================] - 2s 15us/step - loss: 0.0366 - acc: 0.9879 - val_loss: 0.0241 - val_acc: 0.9936\n",
      "Epoch 29/100\n",
      "109188/109188 [==============================] - 2s 16us/step - loss: 0.0363 - acc: 0.9883 - val_loss: 0.0237 - val_acc: 0.9938\n",
      "Epoch 30/100\n",
      "109188/109188 [==============================] - 2s 16us/step - loss: 0.0354 - acc: 0.9886 - val_loss: 0.0231 - val_acc: 0.9944\n",
      "Epoch 31/100\n",
      "109188/109188 [==============================] - 2s 18us/step - loss: 0.0350 - acc: 0.9888 - val_loss: 0.0231 - val_acc: 0.9943\n",
      "Epoch 32/100\n",
      "109188/109188 [==============================] - 2s 16us/step - loss: 0.0335 - acc: 0.9893 - val_loss: 0.0222 - val_acc: 0.9945\n",
      "Epoch 33/100\n",
      "109188/109188 [==============================] - 2s 16us/step - loss: 0.0329 - acc: 0.9895 - val_loss: 0.0219 - val_acc: 0.9945\n",
      "Epoch 34/100\n",
      "109188/109188 [==============================] - 2s 16us/step - loss: 0.0327 - acc: 0.9896 - val_loss: 0.0214 - val_acc: 0.9945\n",
      "Epoch 35/100\n",
      "109188/109188 [==============================] - 2s 15us/step - loss: 0.0321 - acc: 0.9901 - val_loss: 0.0210 - val_acc: 0.9945\n",
      "Epoch 36/100\n",
      "109188/109188 [==============================] - 2s 15us/step - loss: 0.0318 - acc: 0.9904 - val_loss: 0.0208 - val_acc: 0.9947\n",
      "Epoch 37/100\n",
      "109188/109188 [==============================] - 2s 15us/step - loss: 0.0311 - acc: 0.9905 - val_loss: 0.0214 - val_acc: 0.9945\n",
      "Epoch 38/100\n",
      "109188/109188 [==============================] - 2s 15us/step - loss: 0.0311 - acc: 0.9903 - val_loss: 0.0207 - val_acc: 0.9947\n",
      "Epoch 39/100\n",
      "109188/109188 [==============================] - 2s 15us/step - loss: 0.0312 - acc: 0.9912 - val_loss: 0.0203 - val_acc: 0.9946\n",
      "Epoch 40/100\n",
      "109188/109188 [==============================] - 2s 15us/step - loss: 0.0307 - acc: 0.9906 - val_loss: 0.0200 - val_acc: 0.9946\n",
      "Epoch 41/100\n",
      "109188/109188 [==============================] - 2s 15us/step - loss: 0.0300 - acc: 0.9909 - val_loss: 0.0198 - val_acc: 0.9947\n",
      "Epoch 42/100\n",
      "109188/109188 [==============================] - 2s 15us/step - loss: 0.0292 - acc: 0.9914 - val_loss: 0.0195 - val_acc: 0.9948\n",
      "Epoch 43/100\n",
      "109188/109188 [==============================] - 2s 15us/step - loss: 0.0296 - acc: 0.9911 - val_loss: 0.0197 - val_acc: 0.9947\n",
      "Epoch 44/100\n",
      "109188/109188 [==============================] - 2s 15us/step - loss: 0.0287 - acc: 0.9915 - val_loss: 0.0199 - val_acc: 0.9946\n",
      "Epoch 45/100\n",
      "109188/109188 [==============================] - 2s 16us/step - loss: 0.0293 - acc: 0.9913 - val_loss: 0.0193 - val_acc: 0.9948\n",
      "Epoch 46/100\n",
      "109188/109188 [==============================] - 2s 15us/step - loss: 0.0281 - acc: 0.9917 - val_loss: 0.0190 - val_acc: 0.9949\n",
      "Epoch 00046: early stopping\n"
     ]
    },
    {
     "data": {
      "text/markdown": [
       "**Activation** = tanh  **Optimizer** = adam "
      ],
      "text/plain": [
       "<IPython.core.display.Markdown object>"
      ]
     },
     "metadata": {},
     "output_type": "display_data"
    },
    {
     "name": "stdout",
     "output_type": "stream",
     "text": [
      "Train on 109188 samples, validate on 36396 samples\n",
      "Epoch 1/100\n",
      "109188/109188 [==============================] - 4s 33us/step - loss: 0.0544 - acc: 0.9818 - val_loss: 0.0209 - val_acc: 0.9927\n",
      "Epoch 2/100\n",
      "109188/109188 [==============================] - 2s 16us/step - loss: 0.0240 - acc: 0.9927 - val_loss: 0.0169 - val_acc: 0.9951\n",
      "Epoch 3/100\n",
      "109188/109188 [==============================] - 2s 16us/step - loss: 0.0198 - acc: 0.9938 - val_loss: 0.0179 - val_acc: 0.9934\n",
      "Epoch 4/100\n",
      "109188/109188 [==============================] - 2s 16us/step - loss: 0.0188 - acc: 0.9944 - val_loss: 0.0144 - val_acc: 0.9957\n",
      "Epoch 5/100\n",
      "109188/109188 [==============================] - 2s 16us/step - loss: 0.0170 - acc: 0.9946 - val_loss: 0.0142 - val_acc: 0.9959\n",
      "Epoch 6/100\n",
      "109188/109188 [==============================] - 2s 17us/step - loss: 0.0164 - acc: 0.9949 - val_loss: 0.0120 - val_acc: 0.9962\n",
      "Epoch 7/100\n",
      "109188/109188 [==============================] - 2s 18us/step - loss: 0.0140 - acc: 0.9959 - val_loss: 0.0112 - val_acc: 0.9967\n",
      "Epoch 8/100\n",
      "109188/109188 [==============================] - 2s 17us/step - loss: 0.0131 - acc: 0.9960 - val_loss: 0.0104 - val_acc: 0.9968\n",
      "Epoch 9/100\n",
      "109188/109188 [==============================] - 2s 16us/step - loss: 0.0122 - acc: 0.9964 - val_loss: 0.0104 - val_acc: 0.9970\n",
      "Epoch 10/100\n",
      "109188/109188 [==============================] - 2s 16us/step - loss: 0.0118 - acc: 0.9965 - val_loss: 0.0101 - val_acc: 0.9968\n",
      "Epoch 11/100\n",
      "109188/109188 [==============================] - 2s 16us/step - loss: 0.0107 - acc: 0.9967 - val_loss: 0.0101 - val_acc: 0.9971\n",
      "Epoch 12/100\n",
      "109188/109188 [==============================] - 2s 16us/step - loss: 0.0113 - acc: 0.9966 - val_loss: 0.0097 - val_acc: 0.9970\n",
      "Epoch 13/100\n",
      "109188/109188 [==============================] - 2s 16us/step - loss: 0.0106 - acc: 0.9967 - val_loss: 0.0087 - val_acc: 0.9976\n",
      "Epoch 14/100\n",
      "109188/109188 [==============================] - 2s 16us/step - loss: 0.0106 - acc: 0.9967 - val_loss: 0.0095 - val_acc: 0.9971\n",
      "Epoch 15/100\n",
      "109188/109188 [==============================] - 2s 17us/step - loss: 0.0100 - acc: 0.9970 - val_loss: 0.0089 - val_acc: 0.9973\n",
      "Epoch 16/100\n",
      "109188/109188 [==============================] - 2s 17us/step - loss: 0.0099 - acc: 0.9970 - val_loss: 0.0085 - val_acc: 0.9974\n",
      "Epoch 17/100\n",
      "109188/109188 [==============================] - 2s 16us/step - loss: 0.0099 - acc: 0.9969 - val_loss: 0.0086 - val_acc: 0.9975\n",
      "Epoch 18/100\n",
      "109188/109188 [==============================] - 2s 17us/step - loss: 0.0089 - acc: 0.9974 - val_loss: 0.0091 - val_acc: 0.9971\n",
      "Epoch 00018: early stopping\n"
     ]
    },
    {
     "data": {
      "text/markdown": [
       "**Activation** = tanh  **Optimizer** = sgd "
      ],
      "text/plain": [
       "<IPython.core.display.Markdown object>"
      ]
     },
     "metadata": {},
     "output_type": "display_data"
    },
    {
     "name": "stdout",
     "output_type": "stream",
     "text": [
      "Train on 109188 samples, validate on 36396 samples\n",
      "Epoch 1/100\n",
      "109188/109188 [==============================] - 4s 33us/step - loss: 0.1577 - acc: 0.9563 - val_loss: 0.0978 - val_acc: 0.9739\n",
      "Epoch 2/100\n",
      "109188/109188 [==============================] - 2s 17us/step - loss: 0.0970 - acc: 0.9723 - val_loss: 0.0862 - val_acc: 0.9751\n",
      "Epoch 3/100\n",
      "109188/109188 [==============================] - 2s 16us/step - loss: 0.0876 - acc: 0.9743 - val_loss: 0.0795 - val_acc: 0.9760\n",
      "Epoch 4/100\n",
      "109188/109188 [==============================] - 2s 16us/step - loss: 0.0809 - acc: 0.9752 - val_loss: 0.0745 - val_acc: 0.9768\n",
      "Epoch 5/100\n",
      "109188/109188 [==============================] - 2s 16us/step - loss: 0.0763 - acc: 0.9766 - val_loss: 0.0701 - val_acc: 0.9776\n",
      "Epoch 6/100\n",
      "109188/109188 [==============================] - 2s 16us/step - loss: 0.0716 - acc: 0.9776 - val_loss: 0.0659 - val_acc: 0.9786\n",
      "Epoch 7/100\n",
      "109188/109188 [==============================] - 2s 17us/step - loss: 0.0680 - acc: 0.9785 - val_loss: 0.0618 - val_acc: 0.9798\n",
      "Epoch 8/100\n",
      "109188/109188 [==============================] - 2s 16us/step - loss: 0.0647 - acc: 0.9789 - val_loss: 0.0583 - val_acc: 0.9803\n",
      "Epoch 9/100\n",
      "109188/109188 [==============================] - 2s 16us/step - loss: 0.0604 - acc: 0.9794 - val_loss: 0.0549 - val_acc: 0.9808\n",
      "Epoch 10/100\n",
      "109188/109188 [==============================] - 2s 16us/step - loss: 0.0582 - acc: 0.9801 - val_loss: 0.0515 - val_acc: 0.9811\n",
      "Epoch 11/100\n",
      "109188/109188 [==============================] - 2s 16us/step - loss: 0.0548 - acc: 0.9810 - val_loss: 0.0484 - val_acc: 0.9814\n",
      "Epoch 12/100\n",
      "109188/109188 [==============================] - 2s 16us/step - loss: 0.0522 - acc: 0.9810 - val_loss: 0.0456 - val_acc: 0.9818\n",
      "Epoch 13/100\n",
      "109188/109188 [==============================] - 2s 15us/step - loss: 0.0490 - acc: 0.9822 - val_loss: 0.0425 - val_acc: 0.9829\n",
      "Epoch 14/100\n",
      "109188/109188 [==============================] - 2s 15us/step - loss: 0.0469 - acc: 0.9827 - val_loss: 0.0401 - val_acc: 0.9835\n",
      "Epoch 15/100\n",
      "109188/109188 [==============================] - 2s 15us/step - loss: 0.0453 - acc: 0.9829 - val_loss: 0.0377 - val_acc: 0.9848\n",
      "Epoch 16/100\n",
      "109188/109188 [==============================] - 2s 16us/step - loss: 0.0431 - acc: 0.9843 - val_loss: 0.0357 - val_acc: 0.9857\n",
      "Epoch 17/100\n",
      "109188/109188 [==============================] - 2s 16us/step - loss: 0.0411 - acc: 0.9847 - val_loss: 0.0339 - val_acc: 0.9868\n",
      "Epoch 18/100\n",
      "109188/109188 [==============================] - 2s 16us/step - loss: 0.0395 - acc: 0.9858 - val_loss: 0.0323 - val_acc: 0.9882\n",
      "Epoch 19/100\n",
      "109188/109188 [==============================] - 2s 15us/step - loss: 0.0382 - acc: 0.9863 - val_loss: 0.0308 - val_acc: 0.9894\n",
      "Epoch 20/100\n",
      "109188/109188 [==============================] - 2s 15us/step - loss: 0.0377 - acc: 0.9865 - val_loss: 0.0296 - val_acc: 0.9901\n",
      "Epoch 21/100\n",
      "109188/109188 [==============================] - 2s 15us/step - loss: 0.0363 - acc: 0.9872 - val_loss: 0.0285 - val_acc: 0.9912\n",
      "Epoch 22/100\n",
      "109188/109188 [==============================] - 2s 15us/step - loss: 0.0352 - acc: 0.9873 - val_loss: 0.0278 - val_acc: 0.9916\n",
      "Epoch 23/100\n",
      "109188/109188 [==============================] - 2s 16us/step - loss: 0.0351 - acc: 0.9877 - val_loss: 0.0269 - val_acc: 0.9924\n",
      "Epoch 24/100\n",
      "109188/109188 [==============================] - 2s 16us/step - loss: 0.0336 - acc: 0.9881 - val_loss: 0.0264 - val_acc: 0.9925\n",
      "Epoch 25/100\n",
      "109188/109188 [==============================] - 2s 16us/step - loss: 0.0327 - acc: 0.9887 - val_loss: 0.0254 - val_acc: 0.9932\n",
      "Epoch 26/100\n",
      "109188/109188 [==============================] - 2s 16us/step - loss: 0.0317 - acc: 0.9892 - val_loss: 0.0249 - val_acc: 0.9932\n",
      "Epoch 27/100\n",
      "109188/109188 [==============================] - 2s 16us/step - loss: 0.0317 - acc: 0.9893 - val_loss: 0.0244 - val_acc: 0.9932\n",
      "Epoch 28/100\n",
      "109188/109188 [==============================] - 2s 16us/step - loss: 0.0314 - acc: 0.9893 - val_loss: 0.0240 - val_acc: 0.9934\n",
      "Epoch 29/100\n",
      "109188/109188 [==============================] - 2s 16us/step - loss: 0.0304 - acc: 0.9897 - val_loss: 0.0238 - val_acc: 0.9932\n",
      "Epoch 30/100\n",
      "109188/109188 [==============================] - 2s 17us/step - loss: 0.0304 - acc: 0.9899 - val_loss: 0.0233 - val_acc: 0.9935\n",
      "Epoch 31/100\n",
      "109188/109188 [==============================] - 2s 16us/step - loss: 0.0299 - acc: 0.9902 - val_loss: 0.0230 - val_acc: 0.9936\n",
      "Epoch 32/100\n",
      "109188/109188 [==============================] - 2s 16us/step - loss: 0.0297 - acc: 0.9900 - val_loss: 0.0227 - val_acc: 0.9936\n",
      "Epoch 33/100\n",
      "109188/109188 [==============================] - 2s 16us/step - loss: 0.0292 - acc: 0.9899 - val_loss: 0.0223 - val_acc: 0.9937\n",
      "Epoch 34/100\n",
      "109188/109188 [==============================] - 2s 16us/step - loss: 0.0285 - acc: 0.9904 - val_loss: 0.0220 - val_acc: 0.9937\n",
      "Epoch 35/100\n",
      "109188/109188 [==============================] - 2s 15us/step - loss: 0.0292 - acc: 0.9903 - val_loss: 0.0220 - val_acc: 0.9938\n",
      "Epoch 36/100\n",
      "109188/109188 [==============================] - 2s 16us/step - loss: 0.0283 - acc: 0.9909 - val_loss: 0.0218 - val_acc: 0.9938\n",
      "Epoch 37/100\n",
      "109188/109188 [==============================] - 2s 15us/step - loss: 0.0280 - acc: 0.9907 - val_loss: 0.0214 - val_acc: 0.9939\n",
      "Epoch 38/100\n",
      "109188/109188 [==============================] - 2s 16us/step - loss: 0.0280 - acc: 0.9907 - val_loss: 0.0214 - val_acc: 0.9939\n",
      "Epoch 39/100\n",
      "109188/109188 [==============================] - 2s 16us/step - loss: 0.0277 - acc: 0.9911 - val_loss: 0.0212 - val_acc: 0.9940\n",
      "Epoch 40/100\n",
      "109188/109188 [==============================] - 2s 16us/step - loss: 0.0272 - acc: 0.9912 - val_loss: 0.0209 - val_acc: 0.9938\n",
      "Epoch 41/100\n",
      "109188/109188 [==============================] - 2s 16us/step - loss: 0.0274 - acc: 0.9909 - val_loss: 0.0208 - val_acc: 0.9939\n",
      "Epoch 00041: early stopping\n",
      "Training finished...Loading the best model\n",
      "\n"
     ]
    }
   ],
   "source": [
    "checkpointer = ModelCheckpoint(filepath=\".\\cnn.hdf5\", verbose=0, save_best_only=True) # save best model\n",
    "input_shape = (1, x_train_tf.shape[2], 1)\n",
    "activation_func = ['relu', 'tanh']\n",
    "optimizer_func = ['adam', 'sgd']\n",
    "\n",
    "for i in range(2):\n",
    "    for j in range(2):\n",
    "        #Build network\n",
    "        printmd(\"**Activation** = {}  **Optimizer** = {} \".format(activation_func[i], optimizer_func[j]))\n",
    "        model = Sequential()\n",
    "\n",
    "        model.add(Conv2D(32, kernel_size=(1, 3), strides=(1, 1), padding='valid',\n",
    "                     activation=activation_func[i],\n",
    "                     input_shape=input_shape))\n",
    "        model.add(Conv2D(64, (1, 3), activation=activation_func[i]))\n",
    "        model.add(MaxPooling2D(pool_size=(1, 2), strides=None))\n",
    "        model.add(Dropout(0.25)) \n",
    "        model.add(Flatten())\n",
    "        model.add(Dense(128, activation=activation_func[i]))\n",
    "        model.add(Dropout(0.5))\n",
    "        model.add(Dense(y_train_tf.shape[1], activation='softmax'))\n",
    "\n",
    "        model.compile(loss=\"categorical_crossentropy\", optimizer=optimizer_func[j], metrics=['accuracy'])\n",
    "\n",
    "        monitor = EarlyStopping(monitor='val_loss', min_delta=1e-3, patience=5, verbose=1, mode='auto')\n",
    "\n",
    "        model.fit(x_train_tf,y_train_tf, validation_data=(x_test_tf,y_test_tf), callbacks=[monitor,checkpointer],verbose=1,epochs=100, batch_size=512, shuffle=True)    # Verbosity mode. 0 = silent, 1 = progress bar, 2 = one line per epoch.\n",
    "    \n",
    "    \n",
    "print('Training finished...Loading the best model')  \n",
    "print()\n",
    "model.load_weights('.\\cnn.hdf5') # load weights from best model"
   ]
  },
  {
   "cell_type": "code",
   "execution_count": 111,
   "metadata": {},
   "outputs": [
    {
     "name": "stdout",
     "output_type": "stream",
     "text": [
      "_________________________________________________________________\n",
      "Layer (type)                 Output Shape              Param #   \n",
      "=================================================================\n",
      "conv2d_64 (Conv2D)           (None, 1, 37, 32)         128       \n",
      "_________________________________________________________________\n",
      "conv2d_65 (Conv2D)           (None, 1, 35, 64)         6208      \n",
      "_________________________________________________________________\n",
      "max_pooling2d_32 (MaxPooling (None, 1, 17, 64)         0         \n",
      "_________________________________________________________________\n",
      "dropout_63 (Dropout)         (None, 1, 17, 64)         0         \n",
      "_________________________________________________________________\n",
      "flatten_32 (Flatten)         (None, 1088)              0         \n",
      "_________________________________________________________________\n",
      "dense_83 (Dense)             (None, 128)               139392    \n",
      "_________________________________________________________________\n",
      "dropout_64 (Dropout)         (None, 128)               0         \n",
      "_________________________________________________________________\n",
      "dense_84 (Dense)             (None, 2)                 258       \n",
      "=================================================================\n",
      "Total params: 145,986\n",
      "Trainable params: 145,986\n",
      "Non-trainable params: 0\n",
      "_________________________________________________________________\n"
     ]
    }
   ],
   "source": [
    "model.summary()"
   ]
  },
  {
   "cell_type": "code",
   "execution_count": 113,
   "metadata": {},
   "outputs": [
    {
     "data": {
      "text/markdown": [
       "-----------------**Convolutional Neural Network Report**---------------"
      ],
      "text/plain": [
       "<IPython.core.display.Markdown object>"
      ]
     },
     "metadata": {},
     "output_type": "display_data"
    },
    {
     "name": "stdout",
     "output_type": "stream",
     "text": [
      "F1 score: 0.9773216786333887\n",
      "Confusion matrix: \n",
      " [[21937     5]\n",
      " [  816 13638]]\n",
      "Plotting confusion matrix\n"
     ]
    },
    {
     "data": {
      "image/png": "[encoded data removed]",
      "text/plain": [
       "<Figure size 432x288 with 2 Axes>"
      ]
     },
     "metadata": {
      "needs_background": "light"
     },
     "output_type": "display_data"
    },
    {
     "name": "stdout",
     "output_type": "stream",
     "text": [
      "              precision    recall  f1-score   support\n",
      "\n",
      "           0       0.96      1.00      0.98     21942\n",
      "           1       1.00      0.94      0.97     14454\n",
      "\n",
      "   micro avg       0.98      0.98      0.98     36396\n",
      "   macro avg       0.98      0.97      0.98     36396\n",
      "weighted avg       0.98      0.98      0.98     36396\n",
      "\n"
     ]
    },
    {
     "data": {
      "image/png": "[encoded data removed]",
      "text/plain": [
       "<Figure size 432x288 with 1 Axes>"
      ]
     },
     "metadata": {
      "needs_background": "light"
     },
     "output_type": "display_data"
    }
   ],
   "source": [
    "cnn_pred = model.predict(x_test_tf)\n",
    "cnn_pred = np.argmax(cnn_pred,axis=1)\n",
    "y_true = np.argmax(y_test_tf,axis=1)\n",
    "\n",
    "cnn_f1 = metrics.f1_score(y_true, cnn_pred, average= \"weighted\")\n",
    "cnn_cm = confusion_matrix(y_true, cnn_pred)\n",
    "printmd(\"-----------------**Convolutional Neural Network Report**---------------\")\n",
    "print(\"F1 score: {}\".format(cnn_f1))\n",
    "print(\"Confusion matrix: \\n\", cnn_cm)\n",
    "print('Plotting confusion matrix')\n",
    "\n",
    "plt.figure()\n",
    "plot_confusion_matrix(cnn_cm, ['Normal', 'Attack'])\n",
    "plt.show()\n",
    "\n",
    "print(classification_report(y_true, cnn_pred))\n",
    "\n",
    "cnn_pred = model.predict(x_test_tf)\n",
    "cnn_pred = cnn_pred[:,1] # Only positive class (1)\n",
    "plot_roc(cnn_pred,y_true)"
   ]
  },
  {
   "cell_type": "code",
   "execution_count": 131,
   "metadata": {},
   "outputs": [],
   "source": [
    "def perturbation_rank_cnn(model, x, y, names, regression):\n",
    "    errors = []\n",
    "\n",
    "    for i in range(x.shape[2]):\n",
    "        hold = np.array(x[:,:,i,:])\n",
    "        np.random.shuffle(x[:,:,i,:])\n",
    "        \n",
    "        if regression:\n",
    "            pred = model.predict(x)\n",
    "            error = metrics.mean_squared_error(y, pred)\n",
    "        else:\n",
    "            pred = model.predict_proba(x)\n",
    "            error = metrics.log_loss(y, pred)\n",
    "            \n",
    "        errors.append(error)\n",
    "        x[:,:,i,:] = hold\n",
    "        \n",
    "    max_error = np.max(errors)\n",
    "    importance = [e/max_error for e in errors]\n",
    "\n",
    "    data = {'name':names,'error':errors,'importance':importance}\n",
    "    result = pd.DataFrame(data, columns = ['name','error','importance'])\n",
    "    result.sort_values(by=['importance'], ascending=[0], inplace=True)\n",
    "    result.reset_index(inplace=True, drop=True)\n",
    "    return result"
   ]
  },
  {
   "cell_type": "code",
   "execution_count": 132,
   "metadata": {},
   "outputs": [
    {
     "data": {
      "text/html": [
       "<div>\n",
       "<style scoped>\n",
       "    .dataframe tbody tr th:only-of-type {\n",
       "        vertical-align: middle;\n",
       "    }\n",
       "\n",
       "    .dataframe tbody tr th {\n",
       "        vertical-align: top;\n",
       "    }\n",
       "\n",
       "    .dataframe thead th {\n",
       "        text-align: right;\n",
       "    }\n",
       "</style>\n",
       "<table border=\"1\" class=\"dataframe\">\n",
       "  <thead>\n",
       "    <tr style=\"text-align: right;\">\n",
       "      <th></th>\n",
       "      <th>name</th>\n",
       "      <th>error</th>\n",
       "      <th>importance</th>\n",
       "    </tr>\n",
       "  </thead>\n",
       "  <tbody>\n",
       "    <tr>\n",
       "      <th>0</th>\n",
       "      <td>land</td>\n",
       "      <td>0.388850</td>\n",
       "      <td>1.000000</td>\n",
       "    </tr>\n",
       "    <tr>\n",
       "      <th>1</th>\n",
       "      <td>dst_host_srv_count</td>\n",
       "      <td>0.361948</td>\n",
       "      <td>0.930816</td>\n",
       "    </tr>\n",
       "    <tr>\n",
       "      <th>2</th>\n",
       "      <td>urgent</td>\n",
       "      <td>0.338932</td>\n",
       "      <td>0.871626</td>\n",
       "    </tr>\n",
       "    <tr>\n",
       "      <th>3</th>\n",
       "      <td>src_bytes</td>\n",
       "      <td>0.325124</td>\n",
       "      <td>0.836116</td>\n",
       "    </tr>\n",
       "    <tr>\n",
       "      <th>4</th>\n",
       "      <td>dst_host_srv_diff_host_rate</td>\n",
       "      <td>0.292677</td>\n",
       "      <td>0.752672</td>\n",
       "    </tr>\n",
       "    <tr>\n",
       "      <th>5</th>\n",
       "      <td>diff_srv_rate</td>\n",
       "      <td>0.279420</td>\n",
       "      <td>0.718581</td>\n",
       "    </tr>\n",
       "    <tr>\n",
       "      <th>6</th>\n",
       "      <td>srv_diff_host_rate</td>\n",
       "      <td>0.266334</td>\n",
       "      <td>0.684926</td>\n",
       "    </tr>\n",
       "    <tr>\n",
       "      <th>7</th>\n",
       "      <td>srv_rerror_rate</td>\n",
       "      <td>0.265522</td>\n",
       "      <td>0.682838</td>\n",
       "    </tr>\n",
       "    <tr>\n",
       "      <th>8</th>\n",
       "      <td>hot</td>\n",
       "      <td>0.264240</td>\n",
       "      <td>0.679543</td>\n",
       "    </tr>\n",
       "    <tr>\n",
       "      <th>9</th>\n",
       "      <td>dst_host_same_src_port_rate</td>\n",
       "      <td>0.262615</td>\n",
       "      <td>0.675363</td>\n",
       "    </tr>\n",
       "    <tr>\n",
       "      <th>10</th>\n",
       "      <td>num_access_files</td>\n",
       "      <td>0.261902</td>\n",
       "      <td>0.673530</td>\n",
       "    </tr>\n",
       "    <tr>\n",
       "      <th>11</th>\n",
       "      <td>srv_count</td>\n",
       "      <td>0.259768</td>\n",
       "      <td>0.668041</td>\n",
       "    </tr>\n",
       "    <tr>\n",
       "      <th>12</th>\n",
       "      <td>dst_host_srv_serror_rate</td>\n",
       "      <td>0.257861</td>\n",
       "      <td>0.663137</td>\n",
       "    </tr>\n",
       "    <tr>\n",
       "      <th>13</th>\n",
       "      <td>same_srv_rate</td>\n",
       "      <td>0.256748</td>\n",
       "      <td>0.660276</td>\n",
       "    </tr>\n",
       "    <tr>\n",
       "      <th>14</th>\n",
       "      <td>dst_host_count</td>\n",
       "      <td>0.255011</td>\n",
       "      <td>0.655808</td>\n",
       "    </tr>\n",
       "    <tr>\n",
       "      <th>15</th>\n",
       "      <td>wrong_fragment</td>\n",
       "      <td>0.252967</td>\n",
       "      <td>0.650550</td>\n",
       "    </tr>\n",
       "    <tr>\n",
       "      <th>16</th>\n",
       "      <td>service</td>\n",
       "      <td>0.251660</td>\n",
       "      <td>0.647189</td>\n",
       "    </tr>\n",
       "    <tr>\n",
       "      <th>17</th>\n",
       "      <td>num_failed_logins</td>\n",
       "      <td>0.251246</td>\n",
       "      <td>0.646126</td>\n",
       "    </tr>\n",
       "    <tr>\n",
       "      <th>18</th>\n",
       "      <td>protocol_type</td>\n",
       "      <td>0.251182</td>\n",
       "      <td>0.645960</td>\n",
       "    </tr>\n",
       "    <tr>\n",
       "      <th>19</th>\n",
       "      <td>flag</td>\n",
       "      <td>0.250983</td>\n",
       "      <td>0.645450</td>\n",
       "    </tr>\n",
       "    <tr>\n",
       "      <th>20</th>\n",
       "      <td>num_root</td>\n",
       "      <td>0.250755</td>\n",
       "      <td>0.644862</td>\n",
       "    </tr>\n",
       "    <tr>\n",
       "      <th>21</th>\n",
       "      <td>duration</td>\n",
       "      <td>0.250751</td>\n",
       "      <td>0.644854</td>\n",
       "    </tr>\n",
       "    <tr>\n",
       "      <th>22</th>\n",
       "      <td>num_compromised</td>\n",
       "      <td>0.250725</td>\n",
       "      <td>0.644786</td>\n",
       "    </tr>\n",
       "    <tr>\n",
       "      <th>23</th>\n",
       "      <td>root_shell</td>\n",
       "      <td>0.250650</td>\n",
       "      <td>0.644592</td>\n",
       "    </tr>\n",
       "    <tr>\n",
       "      <th>24</th>\n",
       "      <td>logged_in</td>\n",
       "      <td>0.250608</td>\n",
       "      <td>0.644484</td>\n",
       "    </tr>\n",
       "    <tr>\n",
       "      <th>25</th>\n",
       "      <td>su_attempted</td>\n",
       "      <td>0.250598</td>\n",
       "      <td>0.644460</td>\n",
       "    </tr>\n",
       "    <tr>\n",
       "      <th>26</th>\n",
       "      <td>dst_host_srv_rerror_rate</td>\n",
       "      <td>0.250546</td>\n",
       "      <td>0.644325</td>\n",
       "    </tr>\n",
       "    <tr>\n",
       "      <th>27</th>\n",
       "      <td>dst_bytes</td>\n",
       "      <td>0.250546</td>\n",
       "      <td>0.644325</td>\n",
       "    </tr>\n",
       "    <tr>\n",
       "      <th>28</th>\n",
       "      <td>dst_host_rerror_rate</td>\n",
       "      <td>0.250543</td>\n",
       "      <td>0.644318</td>\n",
       "    </tr>\n",
       "    <tr>\n",
       "      <th>29</th>\n",
       "      <td>rerror_rate</td>\n",
       "      <td>0.250319</td>\n",
       "      <td>0.643742</td>\n",
       "    </tr>\n",
       "    <tr>\n",
       "      <th>30</th>\n",
       "      <td>dst_host_serror_rate</td>\n",
       "      <td>0.247175</td>\n",
       "      <td>0.635656</td>\n",
       "    </tr>\n",
       "    <tr>\n",
       "      <th>31</th>\n",
       "      <td>num_shells</td>\n",
       "      <td>0.246117</td>\n",
       "      <td>0.632934</td>\n",
       "    </tr>\n",
       "    <tr>\n",
       "      <th>32</th>\n",
       "      <td>dst_host_diff_srv_rate</td>\n",
       "      <td>0.245472</td>\n",
       "      <td>0.631276</td>\n",
       "    </tr>\n",
       "    <tr>\n",
       "      <th>33</th>\n",
       "      <td>num_file_creations</td>\n",
       "      <td>0.244985</td>\n",
       "      <td>0.630025</td>\n",
       "    </tr>\n",
       "    <tr>\n",
       "      <th>34</th>\n",
       "      <td>serror_rate</td>\n",
       "      <td>0.243973</td>\n",
       "      <td>0.627421</td>\n",
       "    </tr>\n",
       "    <tr>\n",
       "      <th>35</th>\n",
       "      <td>srv_serror_rate</td>\n",
       "      <td>0.239193</td>\n",
       "      <td>0.615129</td>\n",
       "    </tr>\n",
       "    <tr>\n",
       "      <th>36</th>\n",
       "      <td>is_guest_login</td>\n",
       "      <td>0.232190</td>\n",
       "      <td>0.597119</td>\n",
       "    </tr>\n",
       "    <tr>\n",
       "      <th>37</th>\n",
       "      <td>count</td>\n",
       "      <td>0.230276</td>\n",
       "      <td>0.592198</td>\n",
       "    </tr>\n",
       "    <tr>\n",
       "      <th>38</th>\n",
       "      <td>dst_host_same_srv_rate</td>\n",
       "      <td>0.224652</td>\n",
       "      <td>0.577735</td>\n",
       "    </tr>\n",
       "  </tbody>\n",
       "</table>\n",
       "</div>"
      ],
      "text/plain": [
       "                           name     error  importance\n",
       "0                          land  0.388850    1.000000\n",
       "1            dst_host_srv_count  0.361948    0.930816\n",
       "2                        urgent  0.338932    0.871626\n",
       "3                     src_bytes  0.325124    0.836116\n",
       "4   dst_host_srv_diff_host_rate  0.292677    0.752672\n",
       "5                 diff_srv_rate  0.279420    0.718581\n",
       "6            srv_diff_host_rate  0.266334    0.684926\n",
       "7               srv_rerror_rate  0.265522    0.682838\n",
       "8                           hot  0.264240    0.679543\n",
       "9   dst_host_same_src_port_rate  0.262615    0.675363\n",
       "10             num_access_files  0.261902    0.673530\n",
       "11                    srv_count  0.259768    0.668041\n",
       "12     dst_host_srv_serror_rate  0.257861    0.663137\n",
       "13                same_srv_rate  0.256748    0.660276\n",
       "14               dst_host_count  0.255011    0.655808\n",
       "15               wrong_fragment  0.252967    0.650550\n",
       "16                      service  0.251660    0.647189\n",
       "17            num_failed_logins  0.251246    0.646126\n",
       "18                protocol_type  0.251182    0.645960\n",
       "19                         flag  0.250983    0.645450\n",
       "20                     num_root  0.250755    0.644862\n",
       "21                     duration  0.250751    0.644854\n",
       "22              num_compromised  0.250725    0.644786\n",
       "23                   root_shell  0.250650    0.644592\n",
       "24                    logged_in  0.250608    0.644484\n",
       "25                 su_attempted  0.250598    0.644460\n",
       "26     dst_host_srv_rerror_rate  0.250546    0.644325\n",
       "27                    dst_bytes  0.250546    0.644325\n",
       "28         dst_host_rerror_rate  0.250543    0.644318\n",
       "29                  rerror_rate  0.250319    0.643742\n",
       "30         dst_host_serror_rate  0.247175    0.635656\n",
       "31                   num_shells  0.246117    0.632934\n",
       "32       dst_host_diff_srv_rate  0.245472    0.631276\n",
       "33           num_file_creations  0.244985    0.630025\n",
       "34                  serror_rate  0.243973    0.627421\n",
       "35              srv_serror_rate  0.239193    0.615129\n",
       "36               is_guest_login  0.232190    0.597119\n",
       "37                        count  0.230276    0.592198\n",
       "38       dst_host_same_srv_rate  0.224652    0.577735"
      ]
     },
     "execution_count": 132,
     "metadata": {},
     "output_type": "execute_result"
    }
   ],
   "source": [
    "names = list(df.columns)\n",
    "names.remove('outcome')\n",
    "rank = perturbation_rank_cnn(model, x_test_tf, y_test_tf, names, False)\n",
    "rank\n",
    "#print(x_test_tf.shape[2])"
   ]
  },
  {
   "cell_type": "code",
   "execution_count": 130,
   "metadata": {},
   "outputs": [],
   "source": []
  },
  {
   "cell_type": "code",
   "execution_count": 149,
   "metadata": {},
   "outputs": [
    {
     "name": "stderr",
     "output_type": "stream",
     "text": [
      "C:\\Users\\hgdan\\Anaconda3\\envs\\tf-gpu\\lib\\site-packages\\sklearn\\ensemble\\forest.py:246: FutureWarning: The default value of n_estimators will change from 10 in version 0.20 to 100 in 0.22.\n",
      "  \"10 in version 0.20 to 100 in 0.22.\", FutureWarning)\n"
     ]
    }
   ],
   "source": [
    "from sklearn.ensemble import RandomForestClassifier\n",
    "rfc = RandomForestClassifier();\n",
    "\n",
    "rfc.fit(x_train, y_train)\n",
    "importances = pd.DataFrame(rfc.feature_importances_, index = x_train.columns, columns=['importance']).sort_values('importance', ascending=False)"
   ]
  },
  {
   "cell_type": "code",
   "execution_count": 150,
   "metadata": {},
   "outputs": [
    {
     "data": {
      "text/html": [
       "<div>\n",
       "<style scoped>\n",
       "    .dataframe tbody tr th:only-of-type {\n",
       "        vertical-align: middle;\n",
       "    }\n",
       "\n",
       "    .dataframe tbody tr th {\n",
       "        vertical-align: top;\n",
       "    }\n",
       "\n",
       "    .dataframe thead th {\n",
       "        text-align: right;\n",
       "    }\n",
       "</style>\n",
       "<table border=\"1\" class=\"dataframe\">\n",
       "  <thead>\n",
       "    <tr style=\"text-align: right;\">\n",
       "      <th></th>\n",
       "      <th>importance</th>\n",
       "    </tr>\n",
       "  </thead>\n",
       "  <tbody>\n",
       "    <tr>\n",
       "      <th>same_srv_rate</th>\n",
       "      <td>0.171768</td>\n",
       "    </tr>\n",
       "    <tr>\n",
       "      <th>flag</th>\n",
       "      <td>0.152846</td>\n",
       "    </tr>\n",
       "    <tr>\n",
       "      <th>diff_srv_rate</th>\n",
       "      <td>0.118957</td>\n",
       "    </tr>\n",
       "    <tr>\n",
       "      <th>src_bytes</th>\n",
       "      <td>0.116678</td>\n",
       "    </tr>\n",
       "    <tr>\n",
       "      <th>logged_in</th>\n",
       "      <td>0.104555</td>\n",
       "    </tr>\n",
       "    <tr>\n",
       "      <th>serror_rate</th>\n",
       "      <td>0.064338</td>\n",
       "    </tr>\n",
       "    <tr>\n",
       "      <th>srv_serror_rate</th>\n",
       "      <td>0.062040</td>\n",
       "    </tr>\n",
       "    <tr>\n",
       "      <th>count</th>\n",
       "      <td>0.047982</td>\n",
       "    </tr>\n",
       "    <tr>\n",
       "      <th>dst_host_serror_rate</th>\n",
       "      <td>0.029720</td>\n",
       "    </tr>\n",
       "    <tr>\n",
       "      <th>dst_host_diff_srv_rate</th>\n",
       "      <td>0.016172</td>\n",
       "    </tr>\n",
       "    <tr>\n",
       "      <th>dst_host_srv_rerror_rate</th>\n",
       "      <td>0.011209</td>\n",
       "    </tr>\n",
       "    <tr>\n",
       "      <th>dst_host_count</th>\n",
       "      <td>0.010077</td>\n",
       "    </tr>\n",
       "    <tr>\n",
       "      <th>dst_bytes</th>\n",
       "      <td>0.009966</td>\n",
       "    </tr>\n",
       "    <tr>\n",
       "      <th>wrong_fragment</th>\n",
       "      <td>0.009511</td>\n",
       "    </tr>\n",
       "    <tr>\n",
       "      <th>dst_host_srv_diff_host_rate</th>\n",
       "      <td>0.009501</td>\n",
       "    </tr>\n",
       "    <tr>\n",
       "      <th>protocol_type</th>\n",
       "      <td>0.008433</td>\n",
       "    </tr>\n",
       "    <tr>\n",
       "      <th>service</th>\n",
       "      <td>0.007734</td>\n",
       "    </tr>\n",
       "    <tr>\n",
       "      <th>srv_count</th>\n",
       "      <td>0.007542</td>\n",
       "    </tr>\n",
       "    <tr>\n",
       "      <th>hot</th>\n",
       "      <td>0.007428</td>\n",
       "    </tr>\n",
       "    <tr>\n",
       "      <th>dst_host_same_srv_rate</th>\n",
       "      <td>0.007300</td>\n",
       "    </tr>\n",
       "    <tr>\n",
       "      <th>dst_host_srv_count</th>\n",
       "      <td>0.006935</td>\n",
       "    </tr>\n",
       "    <tr>\n",
       "      <th>dst_host_same_src_port_rate</th>\n",
       "      <td>0.006453</td>\n",
       "    </tr>\n",
       "    <tr>\n",
       "      <th>num_compromised</th>\n",
       "      <td>0.003655</td>\n",
       "    </tr>\n",
       "    <tr>\n",
       "      <th>duration</th>\n",
       "      <td>0.001991</td>\n",
       "    </tr>\n",
       "    <tr>\n",
       "      <th>dst_host_rerror_rate</th>\n",
       "      <td>0.001832</td>\n",
       "    </tr>\n",
       "    <tr>\n",
       "      <th>is_guest_login</th>\n",
       "      <td>0.001559</td>\n",
       "    </tr>\n",
       "    <tr>\n",
       "      <th>rerror_rate</th>\n",
       "      <td>0.001141</td>\n",
       "    </tr>\n",
       "    <tr>\n",
       "      <th>srv_diff_host_rate</th>\n",
       "      <td>0.001128</td>\n",
       "    </tr>\n",
       "    <tr>\n",
       "      <th>dst_host_srv_serror_rate</th>\n",
       "      <td>0.000570</td>\n",
       "    </tr>\n",
       "    <tr>\n",
       "      <th>srv_rerror_rate</th>\n",
       "      <td>0.000456</td>\n",
       "    </tr>\n",
       "    <tr>\n",
       "      <th>num_root</th>\n",
       "      <td>0.000130</td>\n",
       "    </tr>\n",
       "    <tr>\n",
       "      <th>num_file_creations</th>\n",
       "      <td>0.000112</td>\n",
       "    </tr>\n",
       "    <tr>\n",
       "      <th>root_shell</th>\n",
       "      <td>0.000102</td>\n",
       "    </tr>\n",
       "    <tr>\n",
       "      <th>num_access_files</th>\n",
       "      <td>0.000052</td>\n",
       "    </tr>\n",
       "    <tr>\n",
       "      <th>num_shells</th>\n",
       "      <td>0.000045</td>\n",
       "    </tr>\n",
       "    <tr>\n",
       "      <th>num_failed_logins</th>\n",
       "      <td>0.000030</td>\n",
       "    </tr>\n",
       "    <tr>\n",
       "      <th>land</th>\n",
       "      <td>0.000024</td>\n",
       "    </tr>\n",
       "    <tr>\n",
       "      <th>urgent</th>\n",
       "      <td>0.000021</td>\n",
       "    </tr>\n",
       "    <tr>\n",
       "      <th>su_attempted</th>\n",
       "      <td>0.000010</td>\n",
       "    </tr>\n",
       "  </tbody>\n",
       "</table>\n",
       "</div>"
      ],
      "text/plain": [
       "                             importance\n",
       "same_srv_rate                  0.171768\n",
       "flag                           0.152846\n",
       "diff_srv_rate                  0.118957\n",
       "src_bytes                      0.116678\n",
       "logged_in                      0.104555\n",
       "serror_rate                    0.064338\n",
       "srv_serror_rate                0.062040\n",
       "count                          0.047982\n",
       "dst_host_serror_rate           0.029720\n",
       "dst_host_diff_srv_rate         0.016172\n",
       "dst_host_srv_rerror_rate       0.011209\n",
       "dst_host_count                 0.010077\n",
       "dst_bytes                      0.009966\n",
       "wrong_fragment                 0.009511\n",
       "dst_host_srv_diff_host_rate    0.009501\n",
       "protocol_type                  0.008433\n",
       "service                        0.007734\n",
       "srv_count                      0.007542\n",
       "hot                            0.007428\n",
       "dst_host_same_srv_rate         0.007300\n",
       "dst_host_srv_count             0.006935\n",
       "dst_host_same_src_port_rate    0.006453\n",
       "num_compromised                0.003655\n",
       "duration                       0.001991\n",
       "dst_host_rerror_rate           0.001832\n",
       "is_guest_login                 0.001559\n",
       "rerror_rate                    0.001141\n",
       "srv_diff_host_rate             0.001128\n",
       "dst_host_srv_serror_rate       0.000570\n",
       "srv_rerror_rate                0.000456\n",
       "num_root                       0.000130\n",
       "num_file_creations             0.000112\n",
       "root_shell                     0.000102\n",
       "num_access_files               0.000052\n",
       "num_shells                     0.000045\n",
       "num_failed_logins              0.000030\n",
       "land                           0.000024\n",
       "urgent                         0.000021\n",
       "su_attempted                   0.000010"
      ]
     },
     "execution_count": 150,
     "metadata": {},
     "output_type": "execute_result"
    }
   ],
   "source": [
    "importances"
   ]
  },
  {
   "cell_type": "code",
   "execution_count": null,
   "metadata": {},
   "outputs": [],
   "source": []
  }
 ],
 "metadata": {
  "kernelspec": {
   "display_name": "TensorFlow-GPU",
   "language": "python",
   "name": "tf-gpu"
  },
  "language_info": {
   "codemirror_mode": {
    "name": "ipython",
    "version": 3
   },
   "file_extension": ".py",
   "mimetype": "text/x-python",
   "name": "python",
   "nbconvert_exporter": "python",
   "pygments_lexer": "ipython3",
   "version": "3.6.8"
  }
 },
 "nbformat": 4,
 "nbformat_minor": 2
}
